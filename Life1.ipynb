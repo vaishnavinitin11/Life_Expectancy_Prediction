{
 "cells": [
  {
   "cell_type": "code",
   "execution_count": 67,
   "metadata": {},
   "outputs": [],
   "source": [
    "import pandas as pd\n",
    "import numpy as np"
   ]
  },
  {
   "cell_type": "code",
   "execution_count": 68,
   "metadata": {},
   "outputs": [],
   "source": [
    "life=pd.read_csv('/Users/vaishnaviuttarkar/Life Expectany/Life_Expectancy_Model/CleanedLifeExpectancy.csv')"
   ]
  },
  {
   "cell_type": "code",
   "execution_count": 69,
   "metadata": {},
   "outputs": [
    {
     "name": "stdout",
     "output_type": "stream",
     "text": [
      "<class 'pandas.core.frame.DataFrame'>\n",
      "RangeIndex: 2938 entries, 0 to 2937\n",
      "Data columns (total 23 columns):\n",
      " #   Column                        Non-Null Count  Dtype  \n",
      "---  ------                        --------------  -----  \n",
      " 0   Unnamed: 0                    2938 non-null   int64  \n",
      " 1   Country                       2938 non-null   object \n",
      " 2   Year                          2938 non-null   int64  \n",
      " 3   Status                        2938 non-null   object \n",
      " 4   Lifeexpectancy                2938 non-null   float64\n",
      " 5   AdultMortality                2938 non-null   int64  \n",
      " 6   infantdeaths                  2938 non-null   int64  \n",
      " 7   Alcohol                       2938 non-null   float64\n",
      " 8   percentageexpenditure         2938 non-null   float64\n",
      " 9   HepatitisB                    2938 non-null   int64  \n",
      " 10  Measles                       2938 non-null   int64  \n",
      " 11  BMI                           2938 non-null   float64\n",
      " 12  under-fivedeaths              2938 non-null   int64  \n",
      " 13  Polio                         2938 non-null   int64  \n",
      " 14  Totalexpenditure              2938 non-null   float64\n",
      " 15  Diphtheria                    2938 non-null   int64  \n",
      " 16  HIV/AIDS                      2938 non-null   float64\n",
      " 17  GDP                           2938 non-null   int64  \n",
      " 18  Population                    2938 non-null   int64  \n",
      " 19  thinness1-19years             2938 non-null   float64\n",
      " 20  thinness5-9years              2938 non-null   float64\n",
      " 21  Incomecompositionofresources  2938 non-null   float64\n",
      " 22  Schooling                     2938 non-null   float64\n",
      "dtypes: float64(10), int64(11), object(2)\n",
      "memory usage: 528.0+ KB\n"
     ]
    }
   ],
   "source": [
    "life.info()"
   ]
  },
  {
   "cell_type": "code",
   "execution_count": 70,
   "metadata": {},
   "outputs": [],
   "source": [
    "life.drop('Unnamed: 0',inplace=True,axis=1)"
   ]
  },
  {
   "cell_type": "code",
   "execution_count": 71,
   "metadata": {},
   "outputs": [
    {
     "name": "stdout",
     "output_type": "stream",
     "text": [
      "<class 'pandas.core.frame.DataFrame'>\n",
      "RangeIndex: 2938 entries, 0 to 2937\n",
      "Data columns (total 22 columns):\n",
      " #   Column                        Non-Null Count  Dtype  \n",
      "---  ------                        --------------  -----  \n",
      " 0   Country                       2938 non-null   object \n",
      " 1   Year                          2938 non-null   int64  \n",
      " 2   Status                        2938 non-null   object \n",
      " 3   Lifeexpectancy                2938 non-null   float64\n",
      " 4   AdultMortality                2938 non-null   int64  \n",
      " 5   infantdeaths                  2938 non-null   int64  \n",
      " 6   Alcohol                       2938 non-null   float64\n",
      " 7   percentageexpenditure         2938 non-null   float64\n",
      " 8   HepatitisB                    2938 non-null   int64  \n",
      " 9   Measles                       2938 non-null   int64  \n",
      " 10  BMI                           2938 non-null   float64\n",
      " 11  under-fivedeaths              2938 non-null   int64  \n",
      " 12  Polio                         2938 non-null   int64  \n",
      " 13  Totalexpenditure              2938 non-null   float64\n",
      " 14  Diphtheria                    2938 non-null   int64  \n",
      " 15  HIV/AIDS                      2938 non-null   float64\n",
      " 16  GDP                           2938 non-null   int64  \n",
      " 17  Population                    2938 non-null   int64  \n",
      " 18  thinness1-19years             2938 non-null   float64\n",
      " 19  thinness5-9years              2938 non-null   float64\n",
      " 20  Incomecompositionofresources  2938 non-null   float64\n",
      " 21  Schooling                     2938 non-null   float64\n",
      "dtypes: float64(10), int64(10), object(2)\n",
      "memory usage: 505.1+ KB\n"
     ]
    }
   ],
   "source": [
    "life.info()"
   ]
  },
  {
   "cell_type": "markdown",
   "metadata": {},
   "source": [
    "Label Encoding"
   ]
  },
  {
   "cell_type": "code",
   "execution_count": 72,
   "metadata": {},
   "outputs": [],
   "source": [
    "from sklearn.preprocessing import LabelEncoder\n",
    "le=LabelEncoder()\n",
    "a= life.select_dtypes(include='object').columns\n",
    "for i in a:\n",
    "    life[i] = le.fit_transform(life[i])"
   ]
  },
  {
   "cell_type": "code",
   "execution_count": null,
   "metadata": {},
   "outputs": [],
   "source": []
  },
  {
   "cell_type": "markdown",
   "metadata": {},
   "source": []
  },
  {
   "cell_type": "code",
   "execution_count": 73,
   "metadata": {},
   "outputs": [
    {
     "data": {
      "text/plain": [
       "Country                           int64\n",
       "Year                              int64\n",
       "Status                            int64\n",
       "Lifeexpectancy                  float64\n",
       "AdultMortality                    int64\n",
       "infantdeaths                      int64\n",
       "Alcohol                         float64\n",
       "percentageexpenditure           float64\n",
       "HepatitisB                        int64\n",
       "Measles                           int64\n",
       "BMI                             float64\n",
       "under-fivedeaths                  int64\n",
       "Polio                             int64\n",
       "Totalexpenditure                float64\n",
       "Diphtheria                        int64\n",
       "HIV/AIDS                        float64\n",
       "GDP                               int64\n",
       "Population                        int64\n",
       "thinness1-19years               float64\n",
       "thinness5-9years                float64\n",
       "Incomecompositionofresources    float64\n",
       "Schooling                       float64\n",
       "dtype: object"
      ]
     },
     "execution_count": 73,
     "metadata": {},
     "output_type": "execute_result"
    }
   ],
   "source": [
    "life.dtypes"
   ]
  },
  {
   "cell_type": "markdown",
   "metadata": {},
   "source": [
    "Separating dependent and independent variables"
   ]
  },
  {
   "cell_type": "code",
   "execution_count": 74,
   "metadata": {},
   "outputs": [
    {
     "data": {
      "text/plain": [
       "(2938, 22)"
      ]
     },
     "execution_count": 74,
     "metadata": {},
     "output_type": "execute_result"
    }
   ],
   "source": [
    "life.shape"
   ]
  },
  {
   "cell_type": "code",
   "execution_count": 75,
   "metadata": {},
   "outputs": [],
   "source": [
    "X=life.drop(columns='Lifeexpectancy')\n",
    "y=life['Lifeexpectancy']"
   ]
  },
  {
   "cell_type": "markdown",
   "metadata": {},
   "source": [
    "Performing train-test split\n"
   ]
  },
  {
   "cell_type": "code",
   "execution_count": 76,
   "metadata": {},
   "outputs": [],
   "source": [
    "from sklearn.model_selection import train_test_split\n",
    "X_train,X_test,y_train,y_test=train_test_split(X,y,test_size=0.2,random_state=42)"
   ]
  },
  {
   "cell_type": "markdown",
   "metadata": {},
   "source": [
    "Trying out several algorithms"
   ]
  },
  {
   "cell_type": "code",
   "execution_count": 78,
   "metadata": {},
   "outputs": [],
   "source": [
    "from sklearn.linear_model import LinearRegression,Ridge,Lasso\n",
    "from sklearn.tree import DecisionTreeRegressor\n",
    "from sklearn.ensemble import RandomForestRegressor\n",
    "from xgboost import XGBRegressor\n",
    "from sklearn.neighbors import KNeighborsRegressor\n",
    "from sklearn.metrics import mean_squared_error\n",
    "from math import sqrt"
   ]
  },
  {
   "cell_type": "code",
   "execution_count": 79,
   "metadata": {},
   "outputs": [],
   "source": [
    "alg=[LinearRegression(),Ridge(),Lasso(),DecisionTreeRegressor(),RandomForestRegressor(),XGBRegressor(),KNeighborsRegressor()]\n",
    "\n",
    "names=['linearregression','ridgeregression','lassoregression','decisiontreeregressor','randomforestregressor','xgboostregressor','kneighborsregressor']"
   ]
  },
  {
   "cell_type": "code",
   "execution_count": 80,
   "metadata": {},
   "outputs": [
    {
     "name": "stderr",
     "output_type": "stream",
     "text": [
      "/Library/Frameworks/Python.framework/Versions/3.10/lib/python3.10/site-packages/sklearn/linear_model/_ridge.py:212: LinAlgWarning: Ill-conditioned matrix (rcond=5.23045e-18): result may not be accurate.\n",
      "  return linalg.solve(A, Xy, assume_a=\"pos\", overwrite_a=True).T\n",
      "/Library/Frameworks/Python.framework/Versions/3.10/lib/python3.10/site-packages/sklearn/linear_model/_coordinate_descent.py:648: ConvergenceWarning: Objective did not converge. You might want to increase the number of iterations, check the scale of the features or consider increasing regularisation. Duality gap: 2.088e+04, tolerance: 2.145e+01\n",
      "  model = cd_fast.enet_coordinate_descent(\n"
     ]
    }
   ],
   "source": [
    "l1=[]\n",
    "for i in alg:\n",
    "    model=i\n",
    "    model.fit(X_train,y_train)\n",
    "    y_hat=model.predict(X_test)\n",
    "    mse=mean_squared_error(y_test,y_hat)\n",
    "    rmse=sqrt(mse)\n",
    "    l1.append(rmse)"
   ]
  },
  {
   "cell_type": "code",
   "execution_count": 81,
   "metadata": {},
   "outputs": [],
   "source": [
    "eval=pd.DataFrame({'Model':names,\n",
    "                  'RMSE':l1})"
   ]
  },
  {
   "cell_type": "code",
   "execution_count": 82,
   "metadata": {},
   "outputs": [
    {
     "data": {
      "text/html": [
       "<div>\n",
       "<style scoped>\n",
       "    .dataframe tbody tr th:only-of-type {\n",
       "        vertical-align: middle;\n",
       "    }\n",
       "\n",
       "    .dataframe tbody tr th {\n",
       "        vertical-align: top;\n",
       "    }\n",
       "\n",
       "    .dataframe thead th {\n",
       "        text-align: right;\n",
       "    }\n",
       "</style>\n",
       "<table border=\"1\" class=\"dataframe\">\n",
       "  <thead>\n",
       "    <tr style=\"text-align: right;\">\n",
       "      <th></th>\n",
       "      <th>Model</th>\n",
       "      <th>RMSE</th>\n",
       "    </tr>\n",
       "  </thead>\n",
       "  <tbody>\n",
       "    <tr>\n",
       "      <th>0</th>\n",
       "      <td>linearregression</td>\n",
       "      <td>3.889173</td>\n",
       "    </tr>\n",
       "    <tr>\n",
       "      <th>1</th>\n",
       "      <td>ridgeregression</td>\n",
       "      <td>3.886908</td>\n",
       "    </tr>\n",
       "    <tr>\n",
       "      <th>2</th>\n",
       "      <td>lassoregression</td>\n",
       "      <td>3.964915</td>\n",
       "    </tr>\n",
       "    <tr>\n",
       "      <th>3</th>\n",
       "      <td>decisiontreeregressor</td>\n",
       "      <td>2.659397</td>\n",
       "    </tr>\n",
       "    <tr>\n",
       "      <th>4</th>\n",
       "      <td>randomforestregressor</td>\n",
       "      <td>1.653958</td>\n",
       "    </tr>\n",
       "    <tr>\n",
       "      <th>5</th>\n",
       "      <td>xgboostregressor</td>\n",
       "      <td>1.777019</td>\n",
       "    </tr>\n",
       "    <tr>\n",
       "      <th>6</th>\n",
       "      <td>kneighborsregressor</td>\n",
       "      <td>9.156520</td>\n",
       "    </tr>\n",
       "  </tbody>\n",
       "</table>\n",
       "</div>"
      ],
      "text/plain": [
       "                   Model      RMSE\n",
       "0       linearregression  3.889173\n",
       "1        ridgeregression  3.886908\n",
       "2        lassoregression  3.964915\n",
       "3  decisiontreeregressor  2.659397\n",
       "4  randomforestregressor  1.653958\n",
       "5       xgboostregressor  1.777019\n",
       "6    kneighborsregressor  9.156520"
      ]
     },
     "execution_count": 82,
     "metadata": {},
     "output_type": "execute_result"
    }
   ],
   "source": [
    "eval"
   ]
  },
  {
   "cell_type": "markdown",
   "metadata": {},
   "source": [
    "Conclusion: Random forest gives the best accuracy"
   ]
  },
  {
   "cell_type": "code",
   "execution_count": 83,
   "metadata": {},
   "outputs": [],
   "source": [
    "from sklearn.ensemble import RandomForestRegressor\n",
    "\n",
    "rr=RandomForestRegressor ()\n",
    "\n",
    "rr.fit(X_train,y_train)\n",
    "\n",
    "y_hat=rr.predict(X_test)"
   ]
  },
  {
   "cell_type": "code",
   "execution_count": 84,
   "metadata": {},
   "outputs": [
    {
     "data": {
      "text/plain": [
       "array([72.923     , 75.994     , 74.929     , 76.127     , 52.696     ,\n",
       "       51.634     , 66.324     , 73.943     , 76.647     , 55.955     ,\n",
       "       52.064     , 52.093     , 57.221     , 74.129     , 69.57249863,\n",
       "       61.868     , 58.03      , 78.998     , 70.182     , 79.036     ,\n",
       "       80.964     , 84.398     , 72.607     , 69.03324932, 71.39224658,\n",
       "       67.961     , 55.872     , 65.291     , 82.125     , 74.019     ,\n",
       "       67.474     , 74.254     , 74.122     , 71.825     , 78.774     ,\n",
       "       48.876     , 60.609     , 72.40924932, 63.748     , 73.693     ,\n",
       "       54.614     , 60.585     , 75.425     , 81.304     , 76.657     ,\n",
       "       49.84      , 79.893     , 74.699     , 60.692     , 71.716     ,\n",
       "       53.992     , 70.943     , 82.636     , 80.931     , 74.435     ,\n",
       "       58.053     , 72.995     , 75.273     , 63.247     , 69.468     ,\n",
       "       78.311     , 54.534     , 74.373     , 72.379     , 53.118     ,\n",
       "       54.071     , 52.467     , 76.901     , 58.839     , 72.088     ,\n",
       "       81.918     , 77.894     , 73.762     , 52.221     , 54.964     ,\n",
       "       67.597     , 64.135     , 75.946     , 57.656     , 62.642     ,\n",
       "       63.682     , 63.049     , 63.968     , 64.753     , 66.18      ,\n",
       "       79.722     , 73.142     , 67.062     , 73.382     , 80.113     ,\n",
       "       73.101     , 53.243     , 73.356     , 76.47      , 75.599     ,\n",
       "       68.847     , 79.067     , 71.093     , 66.773     , 63.328     ,\n",
       "       81.867     , 53.814     , 74.338     , 53.223     , 75.182     ,\n",
       "       81.839     , 69.03974249, 67.327     , 61.108     , 61.651     ,\n",
       "       64.368     , 61.969     , 53.503     , 67.449     , 64.329     ,\n",
       "       77.41      , 56.01      , 52.749     , 59.048     , 63.85      ,\n",
       "       64.785     , 72.88124932, 82.162     , 56.318     , 58.913     ,\n",
       "       65.902     , 73.412     , 62.666     , 73.30549863, 72.70624932,\n",
       "       74.511     , 82.204     , 72.068     , 66.522     , 51.695     ,\n",
       "       67.318     , 75.799     , 78.591     , 75.818     , 75.248     ,\n",
       "       72.325     , 66.576     , 62.294     , 59.015     , 48.768     ,\n",
       "       64.695     , 72.64124932, 73.509     , 62.013     , 78.04      ,\n",
       "       75.195     , 82.985     , 67.58724932, 59.294     , 82.984     ,\n",
       "       77.394     , 82.32      , 73.259     , 78.635     , 82.174     ,\n",
       "       73.611     , 82.588     , 67.989     , 81.203     , 72.999     ,\n",
       "       64.66524932, 61.978     , 83.206     , 77.414     , 72.149     ,\n",
       "       81.854     , 73.581     , 71.815     , 59.149     , 74.926     ,\n",
       "       65.898     , 73.518     , 63.348     , 53.46      , 73.177     ,\n",
       "       82.729     , 69.37      , 78.911     , 74.447     , 80.153     ,\n",
       "       44.646     , 64.563     , 51.773     , 71.056     , 72.54824932,\n",
       "       60.831     , 68.78024932, 80.562     , 62.776     , 77.909     ,\n",
       "       68.279     , 74.416     , 70.15824932, 80.883     , 72.348     ,\n",
       "       74.80924932, 57.185     , 75.397     , 70.18374795, 65.67      ,\n",
       "       51.328     , 74.504     , 68.53324932, 73.008     , 82.026     ,\n",
       "       61.285     , 51.865     , 74.29299727, 52.467     , 59.039     ,\n",
       "       62.18      , 65.846     , 76.246     , 59.452     , 67.09324932,\n",
       "       77.788     , 74.584     , 78.227     , 78.883     , 75.004     ,\n",
       "       49.963     , 50.911     , 74.674     , 54.685     , 63.107     ,\n",
       "       71.944     , 75.267     , 65.3       , 74.631     , 72.57524932,\n",
       "       52.126     , 77.61      , 79.084     , 52.27      , 75.817     ,\n",
       "       74.36724932, 72.31      , 73.28024932, 71.2024877 , 60.813     ,\n",
       "       53.697     , 82.881     , 73.574     , 75.648     , 63.308     ,\n",
       "       67.925     , 79.87      , 58.061     , 83.501     , 73.81      ,\n",
       "       69.252     , 58.324     , 81.01024932, 57.579     , 53.799     ,\n",
       "       66.502     , 67.228     , 60.488     , 52.643     , 73.055     ,\n",
       "       80.843     , 68.77124932, 78.431     , 50.107     , 53.137     ,\n",
       "       57.95      , 52.957     , 73.28724932, 74.287     , 46.824     ,\n",
       "       72.613     , 59.394     , 72.8       , 63.636     , 63.961     ,\n",
       "       65.621     , 79.04024932, 58.658     , 73.894     , 75.933     ,\n",
       "       63.068     , 73.499     , 45.203     , 62.375     , 74.908     ,\n",
       "       65.386     , 73.939     , 64.479     , 75.327     , 76.135     ,\n",
       "       64.496     , 77.066     , 73.463     , 48.271     , 72.228     ,\n",
       "       76.3       , 74.635     , 72.96      , 74.69      , 79.926     ,\n",
       "       49.269     , 52.796     , 53.464     , 73.448     , 77.809     ,\n",
       "       70.711     , 56.493     , 73.428     , 62.198     , 67.473     ,\n",
       "       65.045     , 49.691     , 72.68      , 57.745     , 81.836     ,\n",
       "       54.266     , 79.419     , 53.814     , 72.84224932, 69.0154959 ,\n",
       "       77.195     , 74.453     , 71.88524932, 74.243     , 81.649     ,\n",
       "       70.047     , 67.604     , 62.748     , 67.348     , 74.725     ,\n",
       "       83.894     , 68.418     , 74.384     , 72.534     , 72.345     ,\n",
       "       64.877     , 74.077     , 74.189     , 72.014     , 72.822     ,\n",
       "       54.271     , 58.439     , 74.557     , 72.125     , 76.258     ,\n",
       "       63.526     , 69.429     , 61.785     , 56.456     , 74.566     ,\n",
       "       82.394     , 67.151     , 69.36798087, 72.858     , 76.295     ,\n",
       "       55.209     , 72.697     , 76.962     , 66.539     , 69.658     ,\n",
       "       61.922     , 57.945     , 75.863     , 61.37      , 74.916     ,\n",
       "       73.53449863, 57.717     , 72.63      , 75.487     , 73.561     ,\n",
       "       74.994     , 57.042     , 71.95324932, 73.439     , 66.747     ,\n",
       "       51.511     , 82.274     , 81.098     , 82.628     , 63.252     ,\n",
       "       54.645     , 73.05      , 56.553     , 68.132     , 74.222     ,\n",
       "       53.542     , 78.262     , 74.15549863, 82.277     , 64.216     ,\n",
       "       65.457     , 81.971     , 72.74324932, 84.814     , 73.605     ,\n",
       "       53.019     , 78.526     , 53.342     , 68.36      , 63.721     ,\n",
       "       58.964     , 70.693     , 72.151     , 68.799     , 73.383     ,\n",
       "       73.344     , 82.298     , 83.602     , 73.18      , 67.881     ,\n",
       "       69.291     , 63.134     , 73.20449863, 71.345     , 69.81449863,\n",
       "       63.865     , 56.828     , 66.266     , 72.367     , 73.63624932,\n",
       "       76.404     , 55.507     , 60.616     , 70.551     , 69.571     ,\n",
       "       49.36      , 75.877     , 71.718     , 67.845     , 44.954     ,\n",
       "       57.021     , 53.911     , 66.346     , 68.19      , 75.558     ,\n",
       "       73.865     , 70.75199727, 73.66924932, 78.538     , 82.245     ,\n",
       "       68.087     , 76.782     , 80.421     , 78.787     , 55.964     ,\n",
       "       83.672     , 60.088     , 69.3199918 , 74.18124932, 52.99      ,\n",
       "       82.398     , 82.354     , 52.759     , 68.283     , 73.588     ,\n",
       "       72.451     , 59.174     , 63.178     , 62.392     , 61.525     ,\n",
       "       55.472     , 82.561     , 70.181     , 83.01      , 68.584     ,\n",
       "       73.922     , 75.533     , 72.034     , 72.634     , 82.156     ,\n",
       "       69.565     , 63.439     , 66.979     , 80.52      , 75.631     ,\n",
       "       76.766     , 68.855     , 73.245     , 73.31      , 67.132     ,\n",
       "       80.025     , 75.015     , 81.974     , 71.853     , 75.906     ,\n",
       "       73.18724932, 72.275     , 52.409     , 66.759     , 70.042     ,\n",
       "       63.819     , 84.405     , 73.295     , 62.841     , 72.003     ,\n",
       "       74.566     , 56.501     , 82.325     , 72.697     , 75.505     ,\n",
       "       82.317     , 73.077     , 80.585     , 75.181     , 74.22      ,\n",
       "       63.334     , 72.003     , 70.917     , 70.27349863, 52.273     ,\n",
       "       63.301     , 61.113     , 62.443     , 69.797     , 56.663     ,\n",
       "       71.034     , 83.437     , 68.887     , 74.725     , 68.502     ,\n",
       "       63.96      , 62.654     , 71.302     , 77.863     , 82.654     ,\n",
       "       55.801     , 74.481     , 73.434     , 80.995     , 72.355     ,\n",
       "       82.648     , 72.7       , 75.284     , 83.856     , 81.341     ,\n",
       "       76.975     , 53.074     , 56.877     , 68.977     , 74.696     ,\n",
       "       63.607     , 69.691     , 58.061     , 53.666     , 72.695     ,\n",
       "       74.694     , 56.96      , 83.26      , 55.852     , 74.25      ,\n",
       "       70.114     , 77.111     , 67.82524932, 75.93      , 79.695     ,\n",
       "       58.769     , 82.575     , 82.542     , 74.86      , 49.539     ,\n",
       "       74.746     , 79.615     , 83.013     , 53.979     , 72.615     ,\n",
       "       73.964     , 62.74      , 77.698     , 72.129     , 73.711     ,\n",
       "       68.218     , 72.05524932, 70.344     , 53.101     , 74.147     ,\n",
       "       57.251     , 79.012     , 79.826     , 57.564     , 73.543     ,\n",
       "       64.811     , 70.37724932, 73.901     ])"
      ]
     },
     "execution_count": 84,
     "metadata": {},
     "output_type": "execute_result"
    }
   ],
   "source": [
    "y_hat"
   ]
  },
  {
   "cell_type": "code",
   "execution_count": 85,
   "metadata": {},
   "outputs": [
    {
     "data": {
      "text/plain": [
       "0.9677318025348988"
      ]
     },
     "execution_count": 85,
     "metadata": {},
     "output_type": "execute_result"
    }
   ],
   "source": [
    "from sklearn.metrics import r2_score\n",
    "r2_score(y_hat,y_test)"
   ]
  },
  {
   "cell_type": "code",
   "execution_count": 86,
   "metadata": {},
   "outputs": [
    {
     "data": {
      "text/plain": [
       "Index(['Country', 'Year', 'Status', 'Lifeexpectancy', 'AdultMortality',\n",
       "       'infantdeaths', 'Alcohol', 'percentageexpenditure', 'HepatitisB',\n",
       "       'Measles', 'BMI', 'under-fivedeaths', 'Polio', 'Totalexpenditure',\n",
       "       'Diphtheria', 'HIV/AIDS', 'GDP', 'Population', 'thinness1-19years',\n",
       "       'thinness5-9years', 'Incomecompositionofresources', 'Schooling'],\n",
       "      dtype='object')"
      ]
     },
     "execution_count": 86,
     "metadata": {},
     "output_type": "execute_result"
    }
   ],
   "source": [
    "life.columns"
   ]
  },
  {
   "cell_type": "code",
   "execution_count": 87,
   "metadata": {},
   "outputs": [
    {
     "name": "stdout",
     "output_type": "stream",
     "text": [
      "<class 'pandas.core.frame.DataFrame'>\n",
      "RangeIndex: 2938 entries, 0 to 2937\n",
      "Data columns (total 22 columns):\n",
      " #   Column                        Non-Null Count  Dtype  \n",
      "---  ------                        --------------  -----  \n",
      " 0   Country                       2938 non-null   int64  \n",
      " 1   Year                          2938 non-null   int64  \n",
      " 2   Status                        2938 non-null   int64  \n",
      " 3   Lifeexpectancy                2938 non-null   float64\n",
      " 4   AdultMortality                2938 non-null   int64  \n",
      " 5   infantdeaths                  2938 non-null   int64  \n",
      " 6   Alcohol                       2938 non-null   float64\n",
      " 7   percentageexpenditure         2938 non-null   float64\n",
      " 8   HepatitisB                    2938 non-null   int64  \n",
      " 9   Measles                       2938 non-null   int64  \n",
      " 10  BMI                           2938 non-null   float64\n",
      " 11  under-fivedeaths              2938 non-null   int64  \n",
      " 12  Polio                         2938 non-null   int64  \n",
      " 13  Totalexpenditure              2938 non-null   float64\n",
      " 14  Diphtheria                    2938 non-null   int64  \n",
      " 15  HIV/AIDS                      2938 non-null   float64\n",
      " 16  GDP                           2938 non-null   int64  \n",
      " 17  Population                    2938 non-null   int64  \n",
      " 18  thinness1-19years             2938 non-null   float64\n",
      " 19  thinness5-9years              2938 non-null   float64\n",
      " 20  Incomecompositionofresources  2938 non-null   float64\n",
      " 21  Schooling                     2938 non-null   float64\n",
      "dtypes: float64(10), int64(12)\n",
      "memory usage: 505.1 KB\n"
     ]
    }
   ],
   "source": [
    "life.info()"
   ]
  },
  {
   "cell_type": "code",
   "execution_count": 88,
   "metadata": {},
   "outputs": [],
   "source": [
    "inputfeatures=[15,2016,1,100,1000,3.4,56.6,80,8000,19.1,800,90,5.9,90,0.3,1500.1,13245172,20.1,26.5,0.643,11.1]"
   ]
  },
  {
   "cell_type": "code",
   "execution_count": 89,
   "metadata": {},
   "outputs": [],
   "source": [
    "#input_features=sc.fit_transform([inputfeatures])"
   ]
  },
  {
   "cell_type": "code",
   "execution_count": 90,
   "metadata": {},
   "outputs": [],
   "source": [
    "#rr.predict(input_features)"
   ]
  },
  {
   "cell_type": "code",
   "execution_count": 91,
   "metadata": {},
   "outputs": [
    {
     "name": "stderr",
     "output_type": "stream",
     "text": [
      "/Library/Frameworks/Python.framework/Versions/3.10/lib/python3.10/site-packages/sklearn/base.py:450: UserWarning: X does not have valid feature names, but RandomForestRegressor was fitted with feature names\n",
      "  warnings.warn(\n"
     ]
    },
    {
     "data": {
      "text/plain": [
       "array([66.62])"
      ]
     },
     "execution_count": 91,
     "metadata": {},
     "output_type": "execute_result"
    }
   ],
   "source": [
    "rr.predict([[20,2017,0,100,1000,4.4,57.6,80,9000,18.1,700,80,6.9,80,0.4,2500.1,132451723,21.1,25.5,0.463,12.1]])"
   ]
  },
  {
   "cell_type": "markdown",
   "metadata": {},
   "source": [
    "- Testing training data as an input\n",
    "\n",
    "Expected = 79.7"
   ]
  },
  {
   "cell_type": "code",
   "execution_count": 92,
   "metadata": {},
   "outputs": [
    {
     "name": "stderr",
     "output_type": "stream",
     "text": [
      "/Library/Frameworks/Python.framework/Versions/3.10/lib/python3.10/site-packages/sklearn/base.py:450: UserWarning: X does not have valid feature names, but RandomForestRegressor was fitted with feature names\n",
      "  warnings.warn(\n"
     ]
    },
    {
     "data": {
      "text/plain": [
       "array([79.737])"
      ]
     },
     "execution_count": 92,
     "metadata": {},
     "output_type": "execute_result"
    }
   ],
   "source": [
    "# Iceland-2000 (79.7)\n",
    "inputfeatures=[75,2000,0,74,0,6.17,5809.122,80,0,54.2,0,98,9.28,98,0.1,74,28125,1,0.9,0.847,16.8]\n",
    "\n",
    "rr.predict([inputfeatures])"
   ]
  },
  {
   "cell_type": "code",
   "execution_count": 93,
   "metadata": {},
   "outputs": [
    {
     "name": "stderr",
     "output_type": "stream",
     "text": [
      "/Library/Frameworks/Python.framework/Versions/3.10/lib/python3.10/site-packages/sklearn/base.py:450: UserWarning: X does not have valid feature names, but RandomForestRegressor was fitted with feature names\n",
      "  warnings.warn(\n"
     ]
    },
    {
     "data": {
      "text/plain": [
       "array([70.15824932])"
      ]
     },
     "execution_count": 93,
     "metadata": {},
     "output_type": "execute_result"
    }
   ],
   "source": [
    "# Iraq-2015 (68.9)\n",
    "inputfeatures=[79,2015,1,182,32,4.602861,0,56,1433,59.1,38,63,5.93819,58,0.1,182,36115649,5.3,5.1,0.649,10.1]\n",
    "#input_features=sc.fit_transform([inputfeatures])\n",
    "rr.predict([inputfeatures])"
   ]
  },
  {
   "cell_type": "code",
   "execution_count": 94,
   "metadata": {},
   "outputs": [
    {
     "name": "stderr",
     "output_type": "stream",
     "text": [
      "/Library/Frameworks/Python.framework/Versions/3.10/lib/python3.10/site-packages/sklearn/base.py:450: UserWarning: X does not have valid feature names, but RandomForestRegressor was fitted with feature names\n",
      "  warnings.warn(\n"
     ]
    },
    {
     "data": {
      "text/plain": [
       "array([86.07])"
      ]
     },
     "execution_count": 94,
     "metadata": {},
     "output_type": "execute_result"
    }
   ],
   "source": [
    "# Greece-2014 (88)\n",
    "inputfeatures=[66,2014,1,73,0,7.53,2163.043,96,1,66,0,99,8.8,99,0.1,73,1892413,0.8,0.7,0.862,17.2]\n",
    "\n",
    "rr.predict([inputfeatures])"
   ]
  },
  {
   "cell_type": "code",
   "execution_count": 95,
   "metadata": {},
   "outputs": [
    {
     "name": "stderr",
     "output_type": "stream",
     "text": [
      "/Library/Frameworks/Python.framework/Versions/3.10/lib/python3.10/site-packages/sklearn/base.py:450: UserWarning: X does not have valid feature names, but RandomForestRegressor was fitted with feature names\n",
      "  warnings.warn(\n"
     ]
    },
    {
     "data": {
      "text/plain": [
       "array([83.675])"
      ]
     },
     "execution_count": 95,
     "metadata": {},
     "output_type": "execute_result"
    }
   ],
   "source": [
    "# Cyprus-2015 (85)\n",
    "inputfeatures=[43,2015,0,52,0,4.602861,0,97,0,6.3,0,97,5.93819,97,0.1,52,116985,1,1,0.854,14.3]\n",
    "\n",
    "rr.predict([inputfeatures])"
   ]
  },
  {
   "cell_type": "code",
   "execution_count": 96,
   "metadata": {},
   "outputs": [
    {
     "name": "stderr",
     "output_type": "stream",
     "text": [
      "/Library/Frameworks/Python.framework/Versions/3.10/lib/python3.10/site-packages/sklearn/base.py:450: UserWarning: X does not have valid feature names, but RandomForestRegressor was fitted with feature names\n",
      "  warnings.warn(\n"
     ]
    },
    {
     "data": {
      "text/plain": [
       "array([70.15824932])"
      ]
     },
     "execution_count": 96,
     "metadata": {},
     "output_type": "execute_result"
    }
   ],
   "source": [
    "# Hungary-2011 (74.8)\n",
    "inputfeatures=[79,2015,1,182,32,4.602861,0,56,1433,59.1,38,63,5.93819,58,0.1,182,36115649,5.3,5.1,0.649,10.1]\n",
    "\n",
    "rr.predict([inputfeatures])"
   ]
  },
  {
   "cell_type": "code",
   "execution_count": 97,
   "metadata": {},
   "outputs": [
    {
     "name": "stderr",
     "output_type": "stream",
     "text": [
      "/Library/Frameworks/Python.framework/Versions/3.10/lib/python3.10/site-packages/sklearn/base.py:450: UserWarning: X does not have valid feature names, but RandomForestRegressor was fitted with feature names\n",
      "  warnings.warn(\n"
     ]
    },
    {
     "data": {
      "text/plain": [
       "array([73.574])"
      ]
     },
     "execution_count": 97,
     "metadata": {},
     "output_type": "execute_result"
    }
   ],
   "source": [
    "# Latvia-2007 (78)\n",
    "inputfeatures=[92,2007,0,221,0,12.12,170.9884,91,0,57.7,0,94,7.1,94,0.1,221,22325,2.4,2.4,0.814,16.2]\n",
    "\n",
    "rr.predict([inputfeatures])"
   ]
  },
  {
   "cell_type": "code",
   "execution_count": 98,
   "metadata": {},
   "outputs": [
    {
     "name": "stderr",
     "output_type": "stream",
     "text": [
      "/Library/Frameworks/Python.framework/Versions/3.10/lib/python3.10/site-packages/sklearn/base.py:450: UserWarning: X does not have valid feature names, but RandomForestRegressor was fitted with feature names\n",
      "  warnings.warn(\n"
     ]
    },
    {
     "data": {
      "text/plain": [
       "array([52.501])"
      ]
     },
     "execution_count": 98,
     "metadata": {},
     "output_type": "execute_result"
    }
   ],
   "source": [
    "# Malawi-2010 (52.9)\n",
    "inputfeatures=[100,2010,1,462,35,1.08,9.728005,93,118712,17.6,54,86,1.5,93,13.7,462,1516795,6.8,6.7,0.43,10.2]\n",
    "\n",
    "rr.predict([inputfeatures])"
   ]
  },
  {
   "cell_type": "code",
   "execution_count": 99,
   "metadata": {},
   "outputs": [
    {
     "name": "stderr",
     "output_type": "stream",
     "text": [
      "/Library/Frameworks/Python.framework/Versions/3.10/lib/python3.10/site-packages/sklearn/base.py:450: UserWarning: X does not have valid feature names, but RandomForestRegressor was fitted with feature names\n",
      "  warnings.warn(\n"
     ]
    },
    {
     "data": {
      "text/plain": [
       "array([63.027])"
      ]
     },
     "execution_count": 99,
     "metadata": {},
     "output_type": "execute_result"
    }
   ],
   "source": [
    "# Nepal-2002 (63.1)\n",
    "inputfeatures=[118,2002,1,238,40,0.19,23.18395,80,6749,12.4,54,72,5.6,72,0.1,238,24566342,18.2,18.8,0.447,8.6]\n",
    "\n",
    "rr.predict([inputfeatures])"
   ]
  },
  {
   "cell_type": "code",
   "execution_count": 100,
   "metadata": {},
   "outputs": [],
   "source": [
    "# # Nepal-2002 (63.1)\n",
    "# inputfeatures=[118,2002,1,238,40,0.19,23.18395,80,6749,12.4,54,72,5.6,72,0.1,238,24566342,18.2,18.8,0.447,8.6]\n",
    "# input_features=sc.fit_transform([inputfeatures])\n",
    "# rr.predict(input_features)"
   ]
  },
  {
   "cell_type": "code",
   "execution_count": 101,
   "metadata": {},
   "outputs": [],
   "source": [
    "import pickle"
   ]
  },
  {
   "cell_type": "code",
   "execution_count": 102,
   "metadata": {},
   "outputs": [],
   "source": [
    "pickle.dump(rr,open('RandomRegressionModel.pkl','wb'))"
   ]
  },
  {
   "cell_type": "code",
   "execution_count": null,
   "metadata": {},
   "outputs": [],
   "source": []
  }
 ],
 "metadata": {
  "kernelspec": {
   "display_name": "Python 3.10.6 64-bit",
   "language": "python",
   "name": "python3"
  },
  "language_info": {
   "codemirror_mode": {
    "name": "ipython",
    "version": 3
   },
   "file_extension": ".py",
   "mimetype": "text/x-python",
   "name": "python",
   "nbconvert_exporter": "python",
   "pygments_lexer": "ipython3",
   "version": "3.10.6"
  },
  "orig_nbformat": 4,
  "vscode": {
   "interpreter": {
    "hash": "aee8b7b246df8f9039afb4144a1f6fd8d2ca17a180786b69acc140d282b71a49"
   }
  }
 },
 "nbformat": 4,
 "nbformat_minor": 2
}
