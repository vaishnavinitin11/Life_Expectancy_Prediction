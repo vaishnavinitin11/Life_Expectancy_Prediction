{
 "cells": [
  {
   "cell_type": "code",
   "execution_count": 36,
   "metadata": {},
   "outputs": [],
   "source": [
    "import pandas as pd\n",
    "import numpy as np"
   ]
  },
  {
   "cell_type": "code",
   "execution_count": 37,
   "metadata": {},
   "outputs": [],
   "source": [
    "life=pd.read_csv('/Users/vaishnaviuttarkar/Life Expectany/Life_Expectancy_Model/CleanedLifeExpectancy.csv')"
   ]
  },
  {
   "cell_type": "code",
   "execution_count": 38,
   "metadata": {},
   "outputs": [
    {
     "name": "stdout",
     "output_type": "stream",
     "text": [
      "<class 'pandas.core.frame.DataFrame'>\n",
      "RangeIndex: 2938 entries, 0 to 2937\n",
      "Data columns (total 23 columns):\n",
      " #   Column                        Non-Null Count  Dtype  \n",
      "---  ------                        --------------  -----  \n",
      " 0   Unnamed: 0                    2938 non-null   int64  \n",
      " 1   Country                       2938 non-null   object \n",
      " 2   Year                          2938 non-null   int64  \n",
      " 3   Status                        2938 non-null   object \n",
      " 4   Lifeexpectancy                2938 non-null   float64\n",
      " 5   AdultMortality                2938 non-null   int64  \n",
      " 6   infantdeaths                  2938 non-null   int64  \n",
      " 7   Alcohol                       2938 non-null   float64\n",
      " 8   percentageexpenditure         2938 non-null   float64\n",
      " 9   HepatitisB                    2938 non-null   int64  \n",
      " 10  Measles                       2938 non-null   int64  \n",
      " 11  BMI                           2938 non-null   float64\n",
      " 12  under-fivedeaths              2938 non-null   int64  \n",
      " 13  Polio                         2938 non-null   int64  \n",
      " 14  Totalexpenditure              2938 non-null   float64\n",
      " 15  Diphtheria                    2938 non-null   int64  \n",
      " 16  HIV/AIDS                      2938 non-null   float64\n",
      " 17  GDP                           2938 non-null   int64  \n",
      " 18  Population                    2938 non-null   int64  \n",
      " 19  thinness1-19years             2938 non-null   float64\n",
      " 20  thinness5-9years              2938 non-null   float64\n",
      " 21  Incomecompositionofresources  2938 non-null   float64\n",
      " 22  Schooling                     2938 non-null   float64\n",
      "dtypes: float64(10), int64(11), object(2)\n",
      "memory usage: 528.0+ KB\n"
     ]
    }
   ],
   "source": [
    "life.info()"
   ]
  },
  {
   "cell_type": "code",
   "execution_count": 39,
   "metadata": {},
   "outputs": [],
   "source": [
    "life.drop('Unnamed: 0',inplace=True,axis=1)"
   ]
  },
  {
   "cell_type": "code",
   "execution_count": 40,
   "metadata": {},
   "outputs": [
    {
     "name": "stdout",
     "output_type": "stream",
     "text": [
      "<class 'pandas.core.frame.DataFrame'>\n",
      "RangeIndex: 2938 entries, 0 to 2937\n",
      "Data columns (total 22 columns):\n",
      " #   Column                        Non-Null Count  Dtype  \n",
      "---  ------                        --------------  -----  \n",
      " 0   Country                       2938 non-null   object \n",
      " 1   Year                          2938 non-null   int64  \n",
      " 2   Status                        2938 non-null   object \n",
      " 3   Lifeexpectancy                2938 non-null   float64\n",
      " 4   AdultMortality                2938 non-null   int64  \n",
      " 5   infantdeaths                  2938 non-null   int64  \n",
      " 6   Alcohol                       2938 non-null   float64\n",
      " 7   percentageexpenditure         2938 non-null   float64\n",
      " 8   HepatitisB                    2938 non-null   int64  \n",
      " 9   Measles                       2938 non-null   int64  \n",
      " 10  BMI                           2938 non-null   float64\n",
      " 11  under-fivedeaths              2938 non-null   int64  \n",
      " 12  Polio                         2938 non-null   int64  \n",
      " 13  Totalexpenditure              2938 non-null   float64\n",
      " 14  Diphtheria                    2938 non-null   int64  \n",
      " 15  HIV/AIDS                      2938 non-null   float64\n",
      " 16  GDP                           2938 non-null   int64  \n",
      " 17  Population                    2938 non-null   int64  \n",
      " 18  thinness1-19years             2938 non-null   float64\n",
      " 19  thinness5-9years              2938 non-null   float64\n",
      " 20  Incomecompositionofresources  2938 non-null   float64\n",
      " 21  Schooling                     2938 non-null   float64\n",
      "dtypes: float64(10), int64(10), object(2)\n",
      "memory usage: 505.1+ KB\n"
     ]
    }
   ],
   "source": [
    "life.info()"
   ]
  },
  {
   "cell_type": "markdown",
   "metadata": {},
   "source": [
    "Label Encoding"
   ]
  },
  {
   "cell_type": "code",
   "execution_count": 41,
   "metadata": {},
   "outputs": [],
   "source": [
    "from sklearn.preprocessing import LabelEncoder\n",
    "le=LabelEncoder()\n",
    "a= life.select_dtypes(include='object').columns\n",
    "for i in a:\n",
    "    life[i] = le.fit_transform(life[i])"
   ]
  },
  {
   "cell_type": "code",
   "execution_count": null,
   "metadata": {},
   "outputs": [],
   "source": []
  },
  {
   "cell_type": "markdown",
   "metadata": {},
   "source": []
  },
  {
   "cell_type": "code",
   "execution_count": 42,
   "metadata": {},
   "outputs": [
    {
     "data": {
      "text/plain": [
       "Country                           int64\n",
       "Year                              int64\n",
       "Status                            int64\n",
       "Lifeexpectancy                  float64\n",
       "AdultMortality                    int64\n",
       "infantdeaths                      int64\n",
       "Alcohol                         float64\n",
       "percentageexpenditure           float64\n",
       "HepatitisB                        int64\n",
       "Measles                           int64\n",
       "BMI                             float64\n",
       "under-fivedeaths                  int64\n",
       "Polio                             int64\n",
       "Totalexpenditure                float64\n",
       "Diphtheria                        int64\n",
       "HIV/AIDS                        float64\n",
       "GDP                               int64\n",
       "Population                        int64\n",
       "thinness1-19years               float64\n",
       "thinness5-9years                float64\n",
       "Incomecompositionofresources    float64\n",
       "Schooling                       float64\n",
       "dtype: object"
      ]
     },
     "execution_count": 42,
     "metadata": {},
     "output_type": "execute_result"
    }
   ],
   "source": [
    "life.dtypes"
   ]
  },
  {
   "cell_type": "markdown",
   "metadata": {},
   "source": [
    "Separating dependent and independent variables"
   ]
  },
  {
   "cell_type": "code",
   "execution_count": 43,
   "metadata": {},
   "outputs": [
    {
     "data": {
      "text/plain": [
       "(2938, 22)"
      ]
     },
     "execution_count": 43,
     "metadata": {},
     "output_type": "execute_result"
    }
   ],
   "source": [
    "life.shape"
   ]
  },
  {
   "cell_type": "code",
   "execution_count": 44,
   "metadata": {},
   "outputs": [],
   "source": [
    "X=life.drop(columns='Lifeexpectancy')\n",
    "y=life['Lifeexpectancy']"
   ]
  },
  {
   "cell_type": "markdown",
   "metadata": {},
   "source": [
    "Performing train-test split\n"
   ]
  },
  {
   "cell_type": "code",
   "execution_count": 45,
   "metadata": {},
   "outputs": [],
   "source": [
    "from sklearn.model_selection import train_test_split\n",
    "X_train,X_test,y_train,y_test=train_test_split(X,y,test_size=0.2,random_state=42)"
   ]
  },
  {
   "cell_type": "markdown",
   "metadata": {},
   "source": [
    "Feature scaling"
   ]
  },
  {
   "cell_type": "code",
   "execution_count": 46,
   "metadata": {},
   "outputs": [],
   "source": [
    "from sklearn.preprocessing import StandardScaler\n",
    "sc=StandardScaler()\n",
    "X_train=sc.fit_transform(X_train)\n",
    "X_test=sc.fit_transform(X_test)"
   ]
  },
  {
   "cell_type": "markdown",
   "metadata": {},
   "source": [
    "Trying out several algorithms"
   ]
  },
  {
   "cell_type": "code",
   "execution_count": 47,
   "metadata": {},
   "outputs": [],
   "source": [
    "from sklearn.linear_model import LinearRegression,Ridge,Lasso\n",
    "from sklearn.tree import DecisionTreeRegressor\n",
    "from sklearn.ensemble import RandomForestRegressor\n",
    "from xgboost import XGBRegressor\n",
    "from sklearn.neighbors import KNeighborsRegressor\n",
    "from sklearn.metrics import mean_squared_error\n",
    "from math import sqrt"
   ]
  },
  {
   "cell_type": "code",
   "execution_count": 48,
   "metadata": {},
   "outputs": [],
   "source": [
    "alg=[LinearRegression(),Ridge(),Lasso(),DecisionTreeRegressor(),RandomForestRegressor(),XGBRegressor(),KNeighborsRegressor()]\n",
    "\n",
    "names=['linearregression','ridgeregression','lassoregression','decisiontreeregressor','randomforestregressor','xgboostregressor','kneighborsregressor']"
   ]
  },
  {
   "cell_type": "code",
   "execution_count": 49,
   "metadata": {},
   "outputs": [],
   "source": [
    "l1=[]\n",
    "for i in alg:\n",
    "    model=i\n",
    "    model.fit(X_train,y_train)\n",
    "    y_hat=model.predict(X_test)\n",
    "    mse=mean_squared_error(y_test,y_hat)\n",
    "    rmse=sqrt(mse)\n",
    "    l1.append(rmse)"
   ]
  },
  {
   "cell_type": "code",
   "execution_count": 50,
   "metadata": {},
   "outputs": [],
   "source": [
    "eval=pd.DataFrame({'Model':names,\n",
    "                  'RMSE':l1})"
   ]
  },
  {
   "cell_type": "code",
   "execution_count": 51,
   "metadata": {},
   "outputs": [
    {
     "data": {
      "text/html": [
       "<div>\n",
       "<style scoped>\n",
       "    .dataframe tbody tr th:only-of-type {\n",
       "        vertical-align: middle;\n",
       "    }\n",
       "\n",
       "    .dataframe tbody tr th {\n",
       "        vertical-align: top;\n",
       "    }\n",
       "\n",
       "    .dataframe thead th {\n",
       "        text-align: right;\n",
       "    }\n",
       "</style>\n",
       "<table border=\"1\" class=\"dataframe\">\n",
       "  <thead>\n",
       "    <tr style=\"text-align: right;\">\n",
       "      <th></th>\n",
       "      <th>Model</th>\n",
       "      <th>RMSE</th>\n",
       "    </tr>\n",
       "  </thead>\n",
       "  <tbody>\n",
       "    <tr>\n",
       "      <th>0</th>\n",
       "      <td>linearregression</td>\n",
       "      <td>3.924507</td>\n",
       "    </tr>\n",
       "    <tr>\n",
       "      <th>1</th>\n",
       "      <td>ridgeregression</td>\n",
       "      <td>3.932514</td>\n",
       "    </tr>\n",
       "    <tr>\n",
       "      <th>2</th>\n",
       "      <td>lassoregression</td>\n",
       "      <td>4.350379</td>\n",
       "    </tr>\n",
       "    <tr>\n",
       "      <th>3</th>\n",
       "      <td>decisiontreeregressor</td>\n",
       "      <td>3.068850</td>\n",
       "    </tr>\n",
       "    <tr>\n",
       "      <th>4</th>\n",
       "      <td>randomforestregressor</td>\n",
       "      <td>1.846823</td>\n",
       "    </tr>\n",
       "    <tr>\n",
       "      <th>5</th>\n",
       "      <td>xgboostregressor</td>\n",
       "      <td>2.026021</td>\n",
       "    </tr>\n",
       "    <tr>\n",
       "      <th>6</th>\n",
       "      <td>kneighborsregressor</td>\n",
       "      <td>2.510073</td>\n",
       "    </tr>\n",
       "  </tbody>\n",
       "</table>\n",
       "</div>"
      ],
      "text/plain": [
       "                   Model      RMSE\n",
       "0       linearregression  3.924507\n",
       "1        ridgeregression  3.932514\n",
       "2        lassoregression  4.350379\n",
       "3  decisiontreeregressor  3.068850\n",
       "4  randomforestregressor  1.846823\n",
       "5       xgboostregressor  2.026021\n",
       "6    kneighborsregressor  2.510073"
      ]
     },
     "execution_count": 51,
     "metadata": {},
     "output_type": "execute_result"
    }
   ],
   "source": [
    "eval"
   ]
  },
  {
   "cell_type": "markdown",
   "metadata": {},
   "source": [
    "Conclusion: Random forest gives the best accuracy"
   ]
  },
  {
   "cell_type": "code",
   "execution_count": 52,
   "metadata": {},
   "outputs": [],
   "source": [
    "from sklearn.ensemble import RandomForestRegressor\n",
    "\n",
    "rr=RandomForestRegressor ()\n",
    "\n",
    "rr.fit(X_train,y_train)\n",
    "\n",
    "y_hat=rr.predict(X_test)"
   ]
  },
  {
   "cell_type": "code",
   "execution_count": 53,
   "metadata": {},
   "outputs": [
    {
     "data": {
      "text/plain": [
       "array([73.147     , 75.913     , 74.658     , 76.435     , 52.352     ,\n",
       "       51.965     , 65.427     , 74.073     , 76.522     , 54.534     ,\n",
       "       52.07      , 55.157     , 58.317     , 74.814     , 70.31574795,\n",
       "       62.085     , 58.051     , 79.234     , 69.246     , 78.988     ,\n",
       "       81.        , 84.348     , 71.80774795, 68.783     , 71.29399727,\n",
       "       67.268     , 55.342     , 65.397     , 82.61      , 74.19649863,\n",
       "       67.442     , 73.91      , 74.097     , 71.722     , 78.573     ,\n",
       "       48.887     , 59.281     , 72.91074522, 64.111     , 73.895     ,\n",
       "       55.017     , 60.818     , 75.615     , 80.96      , 76.38      ,\n",
       "       50.469     , 80.293     , 75.188     , 59.899     , 72.115     ,\n",
       "       55.888     , 71.002     , 81.845     , 79.366     , 74.883     ,\n",
       "       57.636     , 72.852     , 75.187     , 64.427     , 70.726     ,\n",
       "       77.413     , 54.777     , 74.643     , 72.651     , 53.34      ,\n",
       "       54.013     , 52.123     , 76.971     , 58.584     , 72.496     ,\n",
       "       82.855     , 77.974     , 73.796     , 52.02      , 54.742     ,\n",
       "       68.052     , 64.51724932, 75.721     , 58.468     , 62.603     ,\n",
       "       63.221     , 62.6       , 63.492     , 64.858     , 68.161     ,\n",
       "       79.76      , 73.289     , 67.389     , 72.665     , 79.922     ,\n",
       "       73.219     , 54.098     , 74.092     , 76.662     , 75.599     ,\n",
       "       68.107     , 79.869     , 71.29      , 66.583     , 62.97      ,\n",
       "       81.399     , 53.635     , 74.414     , 53.856     , 75.369     ,\n",
       "       80.911     , 71.45999454, 66.517     , 58.159     , 62.441     ,\n",
       "       65.304     , 62.72      , 53.412     , 69.105     , 64.602     ,\n",
       "       77.624     , 55.468     , 54.094     , 60.564     , 64.40524932,\n",
       "       64.74      , 72.846     , 81.873     , 55.85      , 59.303     ,\n",
       "       64.832     , 72.62574795, 62.41      , 72.9224959 , 72.62224932,\n",
       "       74.17824932, 83.08      , 72.413     , 66.288     , 51.808     ,\n",
       "       67.625     , 75.779     , 78.696     , 76.033     , 74.877     ,\n",
       "       72.83424932, 66.564     , 62.884     , 57.202     , 51.233     ,\n",
       "       64.487     , 72.725     , 73.71024932, 61.592     , 78.113     ,\n",
       "       75.549     , 82.35      , 68.23974795, 62.099     , 81.812     ,\n",
       "       76.173     , 82.54      , 73.114     , 79.069     , 82.13      ,\n",
       "       73.21824932, 82.087     , 68.431     , 80.529     , 73.529     ,\n",
       "       65.247     , 58.992     , 82.47      , 78.234     , 72.733     ,\n",
       "       82.116     , 73.705     , 70.273     , 58.38      , 73.223     ,\n",
       "       65.258     , 72.66824932, 64.303     , 53.536     , 73.8       ,\n",
       "       82.491     , 68.483     , 78.97      , 74.363     , 80.095     ,\n",
       "       45.188     , 65.221     , 51.875     , 72.16      , 72.53174522,\n",
       "       61.429     , 68.763     , 81.378     , 61.063     , 76.685     ,\n",
       "       68.094     , 74.496     , 69.003     , 81.025     , 73.017     ,\n",
       "       73.471     , 56.979     , 74.724     , 70.62      , 65.909     ,\n",
       "       50.661     , 74.562     , 68.65      , 73.085     , 82.142     ,\n",
       "       61.986     , 54.713     , 73.59449863, 52.624     , 59.577     ,\n",
       "       62.257     , 66.665     , 76.14      , 60.98      , 68.32399727,\n",
       "       76.546     , 74.438     , 77.752     , 79.131     , 75.145     ,\n",
       "       49.718     , 52.057     , 75.148     , 55.091     , 62.22      ,\n",
       "       72.128     , 74.874     , 65.213     , 74.436     , 73.24074522,\n",
       "       50.832     , 79.345     , 79.081     , 51.709     , 75.123     ,\n",
       "       74.56      , 71.412     , 73.18674795, 72.36499454, 59.734     ,\n",
       "       54.049     , 83.048     , 72.866     , 75.721     , 64.436     ,\n",
       "       67.902     , 78.783     , 58.356     , 83.81      , 74.468     ,\n",
       "       68.438     , 57.304     , 81.564     , 57.466     , 53.228     ,\n",
       "       66.462     , 67.345     , 61.628     , 52.301     , 73.094     ,\n",
       "       81.489     , 68.964     , 78.484     , 50.496     , 56.94      ,\n",
       "       58.044     , 51.991     , 73.29      , 74.223     , 48.69      ,\n",
       "       72.445     , 59.542     , 73.332     , 64.01424932, 64.229     ,\n",
       "       66.454     , 79.014     , 57.886     , 74.155     , 76.292     ,\n",
       "       63.706     , 73.672     , 45.977     , 63.747     , 74.817     ,\n",
       "       64.79      , 73.58524932, 64.577     , 75.252     , 76.284     ,\n",
       "       63.457     , 77.122     , 72.769     , 48.334     , 72.5       ,\n",
       "       76.156     , 74.764     , 73.22524932, 74.937     , 78.54      ,\n",
       "       50.448     , 56.086     , 54.025     , 72.34249863, 78.177     ,\n",
       "       75.138     , 57.326     , 73.329     , 63.633     , 68.627     ,\n",
       "       64.794     , 48.83      , 72.991     , 56.96      , 80.055     ,\n",
       "       53.981     , 78.969     , 54.201     , 72.564     , 69.29373975,\n",
       "       77.86      , 74.994     , 71.91624932, 73.945     , 82.167     ,\n",
       "       71.474     , 69.36024932, 65.761     , 67.22      , 75.974     ,\n",
       "       84.004     , 68.493     , 74.567     , 72.917     , 72.263     ,\n",
       "       65.103     , 74.098     , 74.652     , 72.231     , 72.89624932,\n",
       "       53.375     , 58.368     , 74.549     , 71.804     , 76.141     ,\n",
       "       60.319     , 69.725     , 63.081     , 57.091     , 74.909     ,\n",
       "       81.762     , 67.288     , 69.20222746, 73.244     , 76.733     ,\n",
       "       55.457     , 73.022     , 76.802     , 66.911     , 69.676     ,\n",
       "       62.866     , 58.58      , 75.912     , 62.365     , 75.309     ,\n",
       "       73.18624932, 56.819     , 73.        , 76.226     , 73.502     ,\n",
       "       72.65474795, 59.53      , 72.512     , 72.914     , 67.336     ,\n",
       "       52.574     , 82.27      , 80.918     , 82.843     , 63.387     ,\n",
       "       54.828     , 72.996     , 58.495     , 68.418     , 74.293     ,\n",
       "       54.586     , 78.586     , 73.976     , 80.632     , 65.061     ,\n",
       "       66.473     , 81.576     , 72.98974795, 85.177     , 73.927     ,\n",
       "       52.739     , 78.465     , 52.572     , 69.915     , 64.077     ,\n",
       "       59.784     , 70.938     , 72.359     , 69.01124932, 73.357     ,\n",
       "       73.581     , 82.186     , 81.496     , 72.864     , 67.726     ,\n",
       "       69.451     , 63.262     , 72.81699727, 71.049     , 70.051     ,\n",
       "       64.669     , 59.735     , 66.476     , 72.914     , 73.36099727,\n",
       "       76.275     , 56.761     , 62.015     , 71.55      , 69.947     ,\n",
       "       48.451     , 76.014     , 71.809     , 67.939     , 45.811     ,\n",
       "       56.011     , 54.049     , 66.445     , 69.34174795, 76.32      ,\n",
       "       74.509     , 71.14799727, 73.17874795, 78.405     , 81.4       ,\n",
       "       68.088     , 76.195     , 80.419     , 78.868     , 56.493     ,\n",
       "       83.402     , 61.262     , 69.55198907, 73.93449863, 52.955     ,\n",
       "       80.42      , 82.173     , 51.957     , 68.003     , 73.63324932,\n",
       "       72.551     , 60.656     , 62.742     , 64.675     , 61.837     ,\n",
       "       56.299     , 82.078     , 71.75      , 82.436     , 68.36924932,\n",
       "       73.751     , 75.518     , 71.914     , 72.60524932, 82.464     ,\n",
       "       68.279     , 63.468     , 67.372     , 80.542     , 77.184     ,\n",
       "       76.642     , 70.492     , 73.415     , 72.691     , 67.069     ,\n",
       "       79.526     , 75.234     , 81.699     , 71.99849863, 75.993     ,\n",
       "       72.52424932, 71.572     , 52.577     , 66.79      , 69.834     ,\n",
       "       63.97      , 83.889     , 73.614     , 63.072     , 71.841     ,\n",
       "       74.873     , 57.224     , 81.858     , 72.56824932, 75.791     ,\n",
       "       81.984     , 72.838     , 81.071     , 75.515     , 74.348     ,\n",
       "       63.133     , 69.634     , 71.37824932, 70.33799727, 52.422     ,\n",
       "       63.269     , 61.515     , 63.117     , 69.633     , 59.173     ,\n",
       "       70.697     , 83.208     , 69.05      , 75.09      , 68.851     ,\n",
       "       64.338     , 63.958     , 71.247     , 76.786     , 82.417     ,\n",
       "       54.826     , 72.356     , 74.235     , 80.053     , 72.432     ,\n",
       "       82.811     , 72.506     , 75.314     , 83.635     , 81.194     ,\n",
       "       77.263     , 52.641     , 56.46      , 69.81624932, 74.904     ,\n",
       "       63.288     , 71.65324932, 57.734     , 56.455     , 72.719     ,\n",
       "       74.944     , 58.132     , 83.497     , 55.954     , 74.672     ,\n",
       "       69.58924932, 77.655     , 68.891     , 76.022     , 79.169     ,\n",
       "       59.574     , 82.369     , 82.519     , 74.952     , 49.252     ,\n",
       "       74.955     , 79.686     , 84.269     , 54.296     , 72.727     ,\n",
       "       74.114     , 63.461     , 78.315     , 72.394     , 73.31724932,\n",
       "       67.71      , 72.7664959 , 70.651     , 57.11      , 74.366     ,\n",
       "       56.06      , 78.045     , 79.858     , 58.594     , 73.843     ,\n",
       "       63.377     , 70.951     , 73.894     ])"
      ]
     },
     "execution_count": 53,
     "metadata": {},
     "output_type": "execute_result"
    }
   ],
   "source": [
    "y_hat"
   ]
  },
  {
   "cell_type": "code",
   "execution_count": 54,
   "metadata": {},
   "outputs": [
    {
     "data": {
      "text/plain": [
       "0.9578055032310973"
      ]
     },
     "execution_count": 54,
     "metadata": {},
     "output_type": "execute_result"
    }
   ],
   "source": [
    "from sklearn.metrics import r2_score\n",
    "r2_score(y_hat,y_test)"
   ]
  },
  {
   "cell_type": "code",
   "execution_count": 55,
   "metadata": {},
   "outputs": [
    {
     "data": {
      "text/plain": [
       "Index(['Country', 'Year', 'Status', 'Lifeexpectancy', 'AdultMortality',\n",
       "       'infantdeaths', 'Alcohol', 'percentageexpenditure', 'HepatitisB',\n",
       "       'Measles', 'BMI', 'under-fivedeaths', 'Polio', 'Totalexpenditure',\n",
       "       'Diphtheria', 'HIV/AIDS', 'GDP', 'Population', 'thinness1-19years',\n",
       "       'thinness5-9years', 'Incomecompositionofresources', 'Schooling'],\n",
       "      dtype='object')"
      ]
     },
     "execution_count": 55,
     "metadata": {},
     "output_type": "execute_result"
    }
   ],
   "source": [
    "life.columns"
   ]
  },
  {
   "cell_type": "code",
   "execution_count": 56,
   "metadata": {},
   "outputs": [
    {
     "data": {
      "text/plain": [
       "array([48.849])"
      ]
     },
     "execution_count": 56,
     "metadata": {},
     "output_type": "execute_result"
    }
   ],
   "source": [
    "rr.predict([[15,2016,1,100,1000,3.4,56.6,80,8000,19.1,800,90,5.9,90,0.3,1500.1,13245172,20.1,26.5,0.643,11.1]])"
   ]
  },
  {
   "cell_type": "code",
   "execution_count": 57,
   "metadata": {},
   "outputs": [
    {
     "data": {
      "text/plain": [
       "array([48.894])"
      ]
     },
     "execution_count": 57,
     "metadata": {},
     "output_type": "execute_result"
    }
   ],
   "source": [
    "rr.predict([[20,2017,0,100,1000,4.4,57.6,80,9000,18.1,700,80,6.9,80,0.4,2500.1,132451723,21.1,25.5,0.463,12.1]])"
   ]
  },
  {
   "cell_type": "markdown",
   "metadata": {},
   "source": [
    "- Testing training data as an input\n",
    "\n",
    "Expected = 79.7"
   ]
  },
  {
   "cell_type": "code",
   "execution_count": 58,
   "metadata": {},
   "outputs": [
    {
     "data": {
      "text/plain": [
       "array([49.822])"
      ]
     },
     "execution_count": 58,
     "metadata": {},
     "output_type": "execute_result"
    }
   ],
   "source": [
    "# Iceland-2000 (79.7)\n",
    "rr.predict([[75,2000,0,74,0,6.17,5809.122,80,0,54.2,0,98,9.28,98,0.1,74,28125,1,0.9,0.847,16.8]])"
   ]
  },
  {
   "cell_type": "code",
   "execution_count": 59,
   "metadata": {},
   "outputs": [
    {
     "data": {
      "text/plain": [
       "array([49.829])"
      ]
     },
     "execution_count": 59,
     "metadata": {},
     "output_type": "execute_result"
    }
   ],
   "source": [
    "# Iraq-2015 (68.9)\n",
    "rr.predict([[79,2015,1,182,32,4.602861,0,56,1433,59.1,38,63,5.93819,58,0.1,182,36115649,5.3,5.1,0.649,10.1]])"
   ]
  },
  {
   "cell_type": "code",
   "execution_count": 60,
   "metadata": {},
   "outputs": [
    {
     "data": {
      "text/plain": [
       "array([49.788])"
      ]
     },
     "execution_count": 60,
     "metadata": {},
     "output_type": "execute_result"
    }
   ],
   "source": [
    "# Greece-2014 (88)\n",
    "rr.predict([[66,2014,1,73,0,7.53,2163.043,96,1,66,0,99,8.8,99,0.1,73,1892413,0.8,0.7,0.862,17.2]])"
   ]
  },
  {
   "cell_type": "code",
   "execution_count": 62,
   "metadata": {},
   "outputs": [
    {
     "data": {
      "text/plain": [
       "array([49.822])"
      ]
     },
     "execution_count": 62,
     "metadata": {},
     "output_type": "execute_result"
    }
   ],
   "source": [
    "# Cyprus-2015 (85)\n",
    "rr.predict([[43,2015,0,52,0,4.602861,0,97,0,6.3,0,97,5.93819,97,0.1,52,116985,1,1,0.854,14.3]])"
   ]
  },
  {
   "cell_type": "code",
   "execution_count": 63,
   "metadata": {},
   "outputs": [
    {
     "data": {
      "text/plain": [
       "array([49.718])"
      ]
     },
     "execution_count": 63,
     "metadata": {},
     "output_type": "execute_result"
    }
   ],
   "source": [
    "# Hungary-2011 (74.8)\n",
    "rr.predict([[74,2011,0,15,0,11.51,17.82122,80,5,62.4,1,99,7.84,99,0.1,15,9971727,1.7,1.7,0.821,15.4]])"
   ]
  },
  {
   "cell_type": "code",
   "execution_count": 64,
   "metadata": {},
   "outputs": [
    {
     "data": {
      "text/plain": [
       "array([50.008])"
      ]
     },
     "execution_count": 64,
     "metadata": {},
     "output_type": "execute_result"
    }
   ],
   "source": [
    "# Latvia-2007 (78)\n",
    "rr.predict([[92,2007,0,221,0,12.12,170.9884,91,0,57.7,0,94,7.1,94,0.1,221,22325,2.4,2.4,0.814,16.2]])"
   ]
  },
  {
   "cell_type": "code",
   "execution_count": 65,
   "metadata": {},
   "outputs": [
    {
     "data": {
      "text/plain": [
       "array([49.952])"
      ]
     },
     "execution_count": 65,
     "metadata": {},
     "output_type": "execute_result"
    }
   ],
   "source": [
    "# Malawi-2010 (52.9)\n",
    "rr.predict([[100,2010,1,462,35,1.08,9.728005,93,118712,17.6,54,86,1.5,93,13.7,462,1516795,6.8,6.7,0.43,10.2]])"
   ]
  },
  {
   "cell_type": "code",
   "execution_count": 66,
   "metadata": {},
   "outputs": [
    {
     "data": {
      "text/plain": [
       "array([49.837])"
      ]
     },
     "execution_count": 66,
     "metadata": {},
     "output_type": "execute_result"
    }
   ],
   "source": [
    "# Nepal-2002 (63.1)\n",
    "rr.predict([[118,2002,1,238,40,0.19,23.18395,80,6749,12.4,54,72,5.6,72,0.1,238,24566342,18.2,18.8,0.447,8.6]])"
   ]
  },
  {
   "cell_type": "code",
   "execution_count": null,
   "metadata": {},
   "outputs": [],
   "source": []
  },
  {
   "cell_type": "code",
   "execution_count": null,
   "metadata": {},
   "outputs": [],
   "source": []
  }
 ],
 "metadata": {
  "kernelspec": {
   "display_name": "Python 3.10.6 64-bit",
   "language": "python",
   "name": "python3"
  },
  "language_info": {
   "codemirror_mode": {
    "name": "ipython",
    "version": 3
   },
   "file_extension": ".py",
   "mimetype": "text/x-python",
   "name": "python",
   "nbconvert_exporter": "python",
   "pygments_lexer": "ipython3",
   "version": "3.10.6"
  },
  "orig_nbformat": 4,
  "vscode": {
   "interpreter": {
    "hash": "aee8b7b246df8f9039afb4144a1f6fd8d2ca17a180786b69acc140d282b71a49"
   }
  }
 },
 "nbformat": 4,
 "nbformat_minor": 2
}
