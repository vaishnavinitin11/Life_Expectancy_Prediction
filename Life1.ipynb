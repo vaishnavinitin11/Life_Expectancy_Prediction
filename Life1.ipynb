{
 "cells": [
  {
   "cell_type": "code",
   "execution_count": 29,
   "metadata": {},
   "outputs": [],
   "source": [
    "import pandas as pd\n",
    "import numpy as np"
   ]
  },
  {
   "cell_type": "code",
   "execution_count": 30,
   "metadata": {},
   "outputs": [],
   "source": [
    "life=pd.read_csv('/Users/vaishnaviuttarkar/Life Expectany/Life_Expectancy_Model/CleanedLifeExpectancy.csv')"
   ]
  },
  {
   "cell_type": "code",
   "execution_count": 31,
   "metadata": {},
   "outputs": [
    {
     "name": "stdout",
     "output_type": "stream",
     "text": [
      "<class 'pandas.core.frame.DataFrame'>\n",
      "RangeIndex: 2938 entries, 0 to 2937\n",
      "Data columns (total 23 columns):\n",
      " #   Column                        Non-Null Count  Dtype  \n",
      "---  ------                        --------------  -----  \n",
      " 0   Unnamed: 0                    2938 non-null   int64  \n",
      " 1   Country                       2938 non-null   object \n",
      " 2   Year                          2938 non-null   int64  \n",
      " 3   Status                        2938 non-null   object \n",
      " 4   Lifeexpectancy                2938 non-null   float64\n",
      " 5   AdultMortality                2938 non-null   int64  \n",
      " 6   infantdeaths                  2938 non-null   int64  \n",
      " 7   Alcohol                       2938 non-null   float64\n",
      " 8   percentageexpenditure         2938 non-null   float64\n",
      " 9   HepatitisB                    2938 non-null   int64  \n",
      " 10  Measles                       2938 non-null   int64  \n",
      " 11  BMI                           2938 non-null   float64\n",
      " 12  under-fivedeaths              2938 non-null   int64  \n",
      " 13  Polio                         2938 non-null   int64  \n",
      " 14  Totalexpenditure              2938 non-null   float64\n",
      " 15  Diphtheria                    2938 non-null   int64  \n",
      " 16  HIV/AIDS                      2938 non-null   float64\n",
      " 17  GDP                           2938 non-null   int64  \n",
      " 18  Population                    2938 non-null   int64  \n",
      " 19  thinness1-19years             2938 non-null   float64\n",
      " 20  thinness5-9years              2938 non-null   float64\n",
      " 21  Incomecompositionofresources  2938 non-null   float64\n",
      " 22  Schooling                     2938 non-null   float64\n",
      "dtypes: float64(10), int64(11), object(2)\n",
      "memory usage: 528.0+ KB\n"
     ]
    }
   ],
   "source": [
    "life.info()"
   ]
  },
  {
   "cell_type": "code",
   "execution_count": 32,
   "metadata": {},
   "outputs": [],
   "source": [
    "life.drop('Unnamed: 0',inplace=True,axis=1)"
   ]
  },
  {
   "cell_type": "code",
   "execution_count": 33,
   "metadata": {},
   "outputs": [
    {
     "name": "stdout",
     "output_type": "stream",
     "text": [
      "<class 'pandas.core.frame.DataFrame'>\n",
      "RangeIndex: 2938 entries, 0 to 2937\n",
      "Data columns (total 22 columns):\n",
      " #   Column                        Non-Null Count  Dtype  \n",
      "---  ------                        --------------  -----  \n",
      " 0   Country                       2938 non-null   object \n",
      " 1   Year                          2938 non-null   int64  \n",
      " 2   Status                        2938 non-null   object \n",
      " 3   Lifeexpectancy                2938 non-null   float64\n",
      " 4   AdultMortality                2938 non-null   int64  \n",
      " 5   infantdeaths                  2938 non-null   int64  \n",
      " 6   Alcohol                       2938 non-null   float64\n",
      " 7   percentageexpenditure         2938 non-null   float64\n",
      " 8   HepatitisB                    2938 non-null   int64  \n",
      " 9   Measles                       2938 non-null   int64  \n",
      " 10  BMI                           2938 non-null   float64\n",
      " 11  under-fivedeaths              2938 non-null   int64  \n",
      " 12  Polio                         2938 non-null   int64  \n",
      " 13  Totalexpenditure              2938 non-null   float64\n",
      " 14  Diphtheria                    2938 non-null   int64  \n",
      " 15  HIV/AIDS                      2938 non-null   float64\n",
      " 16  GDP                           2938 non-null   int64  \n",
      " 17  Population                    2938 non-null   int64  \n",
      " 18  thinness1-19years             2938 non-null   float64\n",
      " 19  thinness5-9years              2938 non-null   float64\n",
      " 20  Incomecompositionofresources  2938 non-null   float64\n",
      " 21  Schooling                     2938 non-null   float64\n",
      "dtypes: float64(10), int64(10), object(2)\n",
      "memory usage: 505.1+ KB\n"
     ]
    }
   ],
   "source": [
    "life.info()"
   ]
  },
  {
   "cell_type": "markdown",
   "metadata": {},
   "source": [
    "Label Encoding"
   ]
  },
  {
   "cell_type": "code",
   "execution_count": 34,
   "metadata": {},
   "outputs": [],
   "source": [
    "from sklearn.preprocessing import LabelEncoder\n",
    "le=LabelEncoder()\n",
    "a= life.select_dtypes(include='object').columns\n",
    "for i in a:\n",
    "    life[i] = le.fit_transform(life[i])"
   ]
  },
  {
   "cell_type": "code",
   "execution_count": null,
   "metadata": {},
   "outputs": [],
   "source": []
  },
  {
   "cell_type": "markdown",
   "metadata": {},
   "source": []
  },
  {
   "cell_type": "code",
   "execution_count": 35,
   "metadata": {},
   "outputs": [
    {
     "data": {
      "text/plain": [
       "Country                           int64\n",
       "Year                              int64\n",
       "Status                            int64\n",
       "Lifeexpectancy                  float64\n",
       "AdultMortality                    int64\n",
       "infantdeaths                      int64\n",
       "Alcohol                         float64\n",
       "percentageexpenditure           float64\n",
       "HepatitisB                        int64\n",
       "Measles                           int64\n",
       "BMI                             float64\n",
       "under-fivedeaths                  int64\n",
       "Polio                             int64\n",
       "Totalexpenditure                float64\n",
       "Diphtheria                        int64\n",
       "HIV/AIDS                        float64\n",
       "GDP                               int64\n",
       "Population                        int64\n",
       "thinness1-19years               float64\n",
       "thinness5-9years                float64\n",
       "Incomecompositionofresources    float64\n",
       "Schooling                       float64\n",
       "dtype: object"
      ]
     },
     "execution_count": 35,
     "metadata": {},
     "output_type": "execute_result"
    }
   ],
   "source": [
    "life.dtypes"
   ]
  },
  {
   "cell_type": "markdown",
   "metadata": {},
   "source": [
    "Separating dependent and independent variables"
   ]
  },
  {
   "cell_type": "code",
   "execution_count": 36,
   "metadata": {},
   "outputs": [
    {
     "data": {
      "text/plain": [
       "(2938, 22)"
      ]
     },
     "execution_count": 36,
     "metadata": {},
     "output_type": "execute_result"
    }
   ],
   "source": [
    "life.shape"
   ]
  },
  {
   "cell_type": "code",
   "execution_count": 37,
   "metadata": {},
   "outputs": [],
   "source": [
    "X=life.drop(columns='Lifeexpectancy')\n",
    "y=life['Lifeexpectancy']"
   ]
  },
  {
   "cell_type": "markdown",
   "metadata": {},
   "source": [
    "Performing train-test split\n"
   ]
  },
  {
   "cell_type": "code",
   "execution_count": 38,
   "metadata": {},
   "outputs": [],
   "source": [
    "from sklearn.model_selection import train_test_split\n",
    "X_train,X_test,y_train,y_test=train_test_split(X,y,test_size=0.2,random_state=42)"
   ]
  },
  {
   "cell_type": "markdown",
   "metadata": {},
   "source": [
    "Feature scaling"
   ]
  },
  {
   "cell_type": "code",
   "execution_count": 39,
   "metadata": {},
   "outputs": [],
   "source": [
    "# from sklearn.preprocessing import StandardScaler\n",
    "# sc=StandardScaler()\n",
    "# X_train=sc.fit_transform(X_train)\n",
    "# X_test=sc.fit_transform(X_test)"
   ]
  },
  {
   "cell_type": "markdown",
   "metadata": {},
   "source": [
    "Trying out several algorithms"
   ]
  },
  {
   "cell_type": "code",
   "execution_count": 40,
   "metadata": {},
   "outputs": [],
   "source": [
    "from sklearn.linear_model import LinearRegression,Ridge,Lasso\n",
    "from sklearn.tree import DecisionTreeRegressor\n",
    "from sklearn.ensemble import RandomForestRegressor\n",
    "from xgboost import XGBRegressor\n",
    "from sklearn.neighbors import KNeighborsRegressor\n",
    "from sklearn.metrics import mean_squared_error\n",
    "from math import sqrt"
   ]
  },
  {
   "cell_type": "code",
   "execution_count": 41,
   "metadata": {},
   "outputs": [],
   "source": [
    "alg=[LinearRegression(),Ridge(),Lasso(),DecisionTreeRegressor(),RandomForestRegressor(),XGBRegressor(),KNeighborsRegressor()]\n",
    "\n",
    "names=['linearregression','ridgeregression','lassoregression','decisiontreeregressor','randomforestregressor','xgboostregressor','kneighborsregressor']"
   ]
  },
  {
   "cell_type": "code",
   "execution_count": 42,
   "metadata": {},
   "outputs": [
    {
     "name": "stderr",
     "output_type": "stream",
     "text": [
      "/Library/Frameworks/Python.framework/Versions/3.10/lib/python3.10/site-packages/sklearn/linear_model/_ridge.py:212: LinAlgWarning: Ill-conditioned matrix (rcond=5.23045e-18): result may not be accurate.\n",
      "  return linalg.solve(A, Xy, assume_a=\"pos\", overwrite_a=True).T\n",
      "/Library/Frameworks/Python.framework/Versions/3.10/lib/python3.10/site-packages/sklearn/linear_model/_coordinate_descent.py:648: ConvergenceWarning: Objective did not converge. You might want to increase the number of iterations, check the scale of the features or consider increasing regularisation. Duality gap: 2.088e+04, tolerance: 2.145e+01\n",
      "  model = cd_fast.enet_coordinate_descent(\n"
     ]
    }
   ],
   "source": [
    "l1=[]\n",
    "for i in alg:\n",
    "    model=i\n",
    "    model.fit(X_train,y_train)\n",
    "    y_hat=model.predict(X_test)\n",
    "    mse=mean_squared_error(y_test,y_hat)\n",
    "    rmse=sqrt(mse)\n",
    "    l1.append(rmse)"
   ]
  },
  {
   "cell_type": "code",
   "execution_count": 43,
   "metadata": {},
   "outputs": [],
   "source": [
    "eval=pd.DataFrame({'Model':names,\n",
    "                  'RMSE':l1})"
   ]
  },
  {
   "cell_type": "code",
   "execution_count": 44,
   "metadata": {},
   "outputs": [
    {
     "data": {
      "text/html": [
       "<div>\n",
       "<style scoped>\n",
       "    .dataframe tbody tr th:only-of-type {\n",
       "        vertical-align: middle;\n",
       "    }\n",
       "\n",
       "    .dataframe tbody tr th {\n",
       "        vertical-align: top;\n",
       "    }\n",
       "\n",
       "    .dataframe thead th {\n",
       "        text-align: right;\n",
       "    }\n",
       "</style>\n",
       "<table border=\"1\" class=\"dataframe\">\n",
       "  <thead>\n",
       "    <tr style=\"text-align: right;\">\n",
       "      <th></th>\n",
       "      <th>Model</th>\n",
       "      <th>RMSE</th>\n",
       "    </tr>\n",
       "  </thead>\n",
       "  <tbody>\n",
       "    <tr>\n",
       "      <th>0</th>\n",
       "      <td>linearregression</td>\n",
       "      <td>3.889173</td>\n",
       "    </tr>\n",
       "    <tr>\n",
       "      <th>1</th>\n",
       "      <td>ridgeregression</td>\n",
       "      <td>3.886908</td>\n",
       "    </tr>\n",
       "    <tr>\n",
       "      <th>2</th>\n",
       "      <td>lassoregression</td>\n",
       "      <td>3.964915</td>\n",
       "    </tr>\n",
       "    <tr>\n",
       "      <th>3</th>\n",
       "      <td>decisiontreeregressor</td>\n",
       "      <td>2.553618</td>\n",
       "    </tr>\n",
       "    <tr>\n",
       "      <th>4</th>\n",
       "      <td>randomforestregressor</td>\n",
       "      <td>1.633460</td>\n",
       "    </tr>\n",
       "    <tr>\n",
       "      <th>5</th>\n",
       "      <td>xgboostregressor</td>\n",
       "      <td>1.777019</td>\n",
       "    </tr>\n",
       "    <tr>\n",
       "      <th>6</th>\n",
       "      <td>kneighborsregressor</td>\n",
       "      <td>9.156520</td>\n",
       "    </tr>\n",
       "  </tbody>\n",
       "</table>\n",
       "</div>"
      ],
      "text/plain": [
       "                   Model      RMSE\n",
       "0       linearregression  3.889173\n",
       "1        ridgeregression  3.886908\n",
       "2        lassoregression  3.964915\n",
       "3  decisiontreeregressor  2.553618\n",
       "4  randomforestregressor  1.633460\n",
       "5       xgboostregressor  1.777019\n",
       "6    kneighborsregressor  9.156520"
      ]
     },
     "execution_count": 44,
     "metadata": {},
     "output_type": "execute_result"
    }
   ],
   "source": [
    "eval"
   ]
  },
  {
   "cell_type": "markdown",
   "metadata": {},
   "source": [
    "Conclusion: Random forest gives the best accuracy"
   ]
  },
  {
   "cell_type": "code",
   "execution_count": 45,
   "metadata": {},
   "outputs": [],
   "source": [
    "from sklearn.ensemble import RandomForestRegressor\n",
    "\n",
    "rr=RandomForestRegressor ()\n",
    "\n",
    "rr.fit(X_train,y_train)\n",
    "\n",
    "y_hat=rr.predict(X_test)"
   ]
  },
  {
   "cell_type": "code",
   "execution_count": 46,
   "metadata": {},
   "outputs": [
    {
     "data": {
      "text/plain": [
       "array([72.805     , 75.846     , 74.718     , 76.119     , 53.023     ,\n",
       "       51.492     , 65.85      , 73.711     , 76.702     , 54.768     ,\n",
       "       52.116     , 52.462     , 57.608     , 74.242     , 69.14574795,\n",
       "       62.352     , 58.32      , 79.143     , 69.295     , 79.075     ,\n",
       "       80.803     , 84.891     , 72.38      , 68.818     , 71.08124385,\n",
       "       68.307     , 55.366     , 65.522     , 82.353     , 73.393     ,\n",
       "       67.436     , 73.987     , 73.794     , 71.948     , 78.679     ,\n",
       "       49.337     , 59.886     , 72.74224932, 64.011     , 73.494     ,\n",
       "       54.505     , 60.33      , 75.613     , 81.282     , 76.747     ,\n",
       "       48.927     , 80.338     , 74.838     , 59.788     , 72.227     ,\n",
       "       54.391     , 70.904     , 82.466     , 80.673     , 74.42      ,\n",
       "       58.        , 73.13349863, 75.366     , 63.145     , 69.399     ,\n",
       "       78.192     , 54.327     , 74.34      , 72.148     , 53.02      ,\n",
       "       53.89      , 52.57      , 76.81      , 60.589     , 71.976     ,\n",
       "       82.582     , 78.01      , 73.717     , 51.904     , 54.881     ,\n",
       "       67.729     , 64.098     , 75.932     , 57.779     , 62.508     ,\n",
       "       63.611     , 62.979     , 64.096     , 64.924     , 67.709     ,\n",
       "       80.211     , 73.051     , 67.098     , 73.451     , 80.783     ,\n",
       "       72.721     , 52.855     , 73.325     , 76.045     , 75.328     ,\n",
       "       68.097     , 79.435     , 70.96149863, 66.787     , 63.671     ,\n",
       "       81.823     , 53.651     , 74.663     , 53.789     , 75.231     ,\n",
       "       81.721     , 69.19249044, 67.618     , 59.571     , 61.577     ,\n",
       "       64.675     , 61.849     , 53.414     , 68.563     , 64.208     ,\n",
       "       77.469     , 55.562     , 52.872     , 58.353     , 63.636     ,\n",
       "       64.8       , 72.379     , 82.467     , 55.907     , 59.119     ,\n",
       "       65.63      , 73.12749863, 62.871     , 73.15774795, 72.63324932,\n",
       "       74.465     , 81.962     , 72.603     , 66.79      , 52.339     ,\n",
       "       67.22224932, 75.644     , 78.603     , 75.911     , 75.235     ,\n",
       "       72.422     , 66.605     , 62.241     , 59.262     , 48.728     ,\n",
       "       64.589     , 72.779     , 73.558     , 62.56      , 78.269     ,\n",
       "       75.304     , 82.539     , 67.84924932, 59.663     , 82.98      ,\n",
       "       76.934     , 82.941     , 73.551     , 78.665     , 82.005     ,\n",
       "       73.475     , 82.13      , 67.29      , 80.87      , 72.973     ,\n",
       "       64.383     , 60.841     , 83.053     , 77.358     , 73.111     ,\n",
       "       82.026     , 73.559     , 71.215     , 58.452     , 74.656     ,\n",
       "       65.97824932, 73.031     , 63.592     , 53.249     , 73.067     ,\n",
       "       82.529     , 69.105     , 78.846     , 74.07      , 80.098     ,\n",
       "       44.804     , 64.726     , 52.091     , 70.934     , 72.58949863,\n",
       "       60.522     , 68.658     , 80.988     , 62.905     , 77.747     ,\n",
       "       68.321     , 74.425     , 69.798     , 81.372     , 72.819     ,\n",
       "       74.779     , 56.87      , 75.092     , 70.35499727, 65.431     ,\n",
       "       50.249     , 74.69      , 68.828     , 73.212     , 82.1       ,\n",
       "       61.549     , 51.795     , 74.56824932, 52.427     , 58.638     ,\n",
       "       62.099     , 65.938     , 76.068     , 59.305     , 67.207     ,\n",
       "       77.521     , 74.508     , 78.263     , 78.834     , 74.977     ,\n",
       "       49.467     , 50.562     , 74.868     , 55.291     , 61.922     ,\n",
       "       72.382     , 75.081     , 65.27      , 74.471     , 72.53724932,\n",
       "       51.821     , 77.754     , 78.97      , 52.075     , 75.575     ,\n",
       "       74.401     , 72.299     , 73.35774795, 71.38748497, 60.012     ,\n",
       "       53.987     , 82.75      , 73.742     , 75.597     , 63.69      ,\n",
       "       67.892     , 78.806     , 57.771     , 83.978     , 73.84      ,\n",
       "       69.19      , 58.087     , 81.173     , 57.713     , 53.977     ,\n",
       "       66.573     , 67.448     , 60.611     , 51.958     , 73.042     ,\n",
       "       81.252     , 68.62924932, 78.347     , 49.974     , 53.28      ,\n",
       "       59.045     , 53.759     , 73.45      , 74.272     , 46.827     ,\n",
       "       72.49849863, 59.754     , 72.811     , 63.677     , 64.073     ,\n",
       "       65.507     , 79.039     , 59.196     , 73.991     , 76.179     ,\n",
       "       63.285     , 73.326     , 45.228     , 62.071     , 74.679     ,\n",
       "       64.968     , 74.211     , 65.059     , 75.364     , 76.217     ,\n",
       "       62.946     , 77.134     , 73.439     , 48.536     , 72.444     ,\n",
       "       76.308     , 74.386     , 73.372     , 74.876     , 79.692     ,\n",
       "       49.313     , 52.804     , 53.528     , 73.159     , 78.211     ,\n",
       "       71.28      , 56.433     , 73.402     , 62.135     , 67.94      ,\n",
       "       65.004     , 49.875     , 72.844     , 58.675     , 81.676     ,\n",
       "       54.175     , 78.971     , 53.542     , 72.774     , 68.89874249,\n",
       "       77.096     , 74.293     , 71.856     , 74.32324932, 81.688     ,\n",
       "       70.168     , 67.767     , 63.337     , 67.575     , 75.018     ,\n",
       "       84.012     , 68.56      , 74.21      , 73.094     , 72.448     ,\n",
       "       64.875     , 74.143     , 74.379     , 72.126     , 73.531     ,\n",
       "       53.821     , 57.521     , 74.59      , 71.616     , 76.702     ,\n",
       "       63.973     , 69.04349863, 62.814     , 56.341     , 74.559     ,\n",
       "       82.627     , 67.308     , 69.33447951, 73.007     , 76.192     ,\n",
       "       55.319     , 72.952     , 76.969     , 66.562     , 69.81624932,\n",
       "       62.503     , 57.798     , 75.836     , 61.685     , 74.976     ,\n",
       "       73.681     , 57.878     , 72.519     , 75.309     , 73.194     ,\n",
       "       74.321     , 56.835     , 72.115     , 73.702     , 66.671     ,\n",
       "       51.272     , 82.159     , 80.891     , 82.831     , 63.677     ,\n",
       "       54.445     , 72.652     , 57.132     , 68.325     , 74.403     ,\n",
       "       53.823     , 78.194     , 73.82      , 82.352     , 64.332     ,\n",
       "       65.309     , 82.193     , 72.964     , 85.25      , 73.847     ,\n",
       "       53.041     , 78.673     , 53.533     , 68.257     , 63.58      ,\n",
       "       58.508     , 71.323     , 72.657     , 68.687     , 73.273     ,\n",
       "       72.989     , 82.252     , 83.396     , 73.473     , 67.741     ,\n",
       "       69.05224932, 62.914     , 73.0644959 , 71.204     , 70.479     ,\n",
       "       63.938     , 57.157     , 66.354     , 72.404     , 73.64      ,\n",
       "       76.532     , 55.496     , 61.549     , 70.514     , 69.328     ,\n",
       "       49.774     , 75.865     , 72.174     , 67.837     , 45.229     ,\n",
       "       55.804     , 54.128     , 66.528     , 68.12349863, 75.89      ,\n",
       "       73.715     , 70.47574522, 74.00324932, 78.458     , 82.807     ,\n",
       "       68.302     , 76.844     , 81.176     , 78.675     , 55.922     ,\n",
       "       83.976     , 58.647     , 69.25349044, 74.367     , 52.818     ,\n",
       "       82.04      , 82.559     , 52.888     , 67.944     , 73.719     ,\n",
       "       72.223     , 58.518     , 63.337     , 62.308     , 62.175     ,\n",
       "       55.967     , 82.57      , 70.191     , 82.971     , 68.657     ,\n",
       "       73.73      , 75.764     , 71.514     , 72.656     , 82.143     ,\n",
       "       68.244     , 63.257     , 67.037     , 80.374     , 76.666     ,\n",
       "       76.602     , 69.007     , 73.163     , 73.295     , 67.232     ,\n",
       "       79.773     , 75.011     , 82.134     , 71.72724932, 75.856     ,\n",
       "       72.987     , 72.094     , 52.061     , 66.759     , 70.06      ,\n",
       "       64.017     , 84.635     , 73.441     , 62.892     , 72.048     ,\n",
       "       74.657     , 56.283     , 82.149     , 72.63      , 75.197     ,\n",
       "       82.54      , 73.865     , 80.617     , 74.911     , 74.181     ,\n",
       "       63.658     , 71.93      , 71.286     , 70.5714959 , 51.858     ,\n",
       "       63.652     , 61.247     , 62.57      , 69.389     , 56.771     ,\n",
       "       70.858     , 83.247     , 69.222     , 74.68      , 68.765     ,\n",
       "       64.326     , 62.978     , 71.76      , 77.713     , 82.843     ,\n",
       "       55.536     , 74.686     , 73.354     , 80.559     , 72.34      ,\n",
       "       82.975     , 72.414     , 75.198     , 83.21      , 81.142     ,\n",
       "       77.208     , 53.076     , 56.463     , 69.289     , 74.803     ,\n",
       "       63.627     , 69.68874795, 57.509     , 54.458     , 72.804     ,\n",
       "       74.635     , 56.968     , 83.064     , 56.02      , 74.468     ,\n",
       "       69.443     , 77.049     , 67.85224932, 75.744     , 79.758     ,\n",
       "       59.317     , 82.506     , 82.534     , 75.059     , 49.029     ,\n",
       "       75.002     , 79.595     , 82.791     , 54.348     , 72.408     ,\n",
       "       74.036     , 62.538     , 77.635     , 72.109     , 73.43      ,\n",
       "       67.91824932, 72.80424932, 70.153     , 53.231     , 74.215     ,\n",
       "       57.557     , 78.88      , 79.783     , 58.601     , 73.576     ,\n",
       "       65.345     , 70.99      , 74.039     ])"
      ]
     },
     "execution_count": 46,
     "metadata": {},
     "output_type": "execute_result"
    }
   ],
   "source": [
    "y_hat"
   ]
  },
  {
   "cell_type": "code",
   "execution_count": 47,
   "metadata": {},
   "outputs": [
    {
     "data": {
      "text/plain": [
       "0.9679978469215219"
      ]
     },
     "execution_count": 47,
     "metadata": {},
     "output_type": "execute_result"
    }
   ],
   "source": [
    "from sklearn.metrics import r2_score\n",
    "r2_score(y_hat,y_test)"
   ]
  },
  {
   "cell_type": "code",
   "execution_count": 48,
   "metadata": {},
   "outputs": [
    {
     "data": {
      "text/plain": [
       "Index(['Country', 'Year', 'Status', 'Lifeexpectancy', 'AdultMortality',\n",
       "       'infantdeaths', 'Alcohol', 'percentageexpenditure', 'HepatitisB',\n",
       "       'Measles', 'BMI', 'under-fivedeaths', 'Polio', 'Totalexpenditure',\n",
       "       'Diphtheria', 'HIV/AIDS', 'GDP', 'Population', 'thinness1-19years',\n",
       "       'thinness5-9years', 'Incomecompositionofresources', 'Schooling'],\n",
       "      dtype='object')"
      ]
     },
     "execution_count": 48,
     "metadata": {},
     "output_type": "execute_result"
    }
   ],
   "source": [
    "life.columns"
   ]
  },
  {
   "cell_type": "code",
   "execution_count": 49,
   "metadata": {},
   "outputs": [
    {
     "name": "stdout",
     "output_type": "stream",
     "text": [
      "<class 'pandas.core.frame.DataFrame'>\n",
      "RangeIndex: 2938 entries, 0 to 2937\n",
      "Data columns (total 22 columns):\n",
      " #   Column                        Non-Null Count  Dtype  \n",
      "---  ------                        --------------  -----  \n",
      " 0   Country                       2938 non-null   int64  \n",
      " 1   Year                          2938 non-null   int64  \n",
      " 2   Status                        2938 non-null   int64  \n",
      " 3   Lifeexpectancy                2938 non-null   float64\n",
      " 4   AdultMortality                2938 non-null   int64  \n",
      " 5   infantdeaths                  2938 non-null   int64  \n",
      " 6   Alcohol                       2938 non-null   float64\n",
      " 7   percentageexpenditure         2938 non-null   float64\n",
      " 8   HepatitisB                    2938 non-null   int64  \n",
      " 9   Measles                       2938 non-null   int64  \n",
      " 10  BMI                           2938 non-null   float64\n",
      " 11  under-fivedeaths              2938 non-null   int64  \n",
      " 12  Polio                         2938 non-null   int64  \n",
      " 13  Totalexpenditure              2938 non-null   float64\n",
      " 14  Diphtheria                    2938 non-null   int64  \n",
      " 15  HIV/AIDS                      2938 non-null   float64\n",
      " 16  GDP                           2938 non-null   int64  \n",
      " 17  Population                    2938 non-null   int64  \n",
      " 18  thinness1-19years             2938 non-null   float64\n",
      " 19  thinness5-9years              2938 non-null   float64\n",
      " 20  Incomecompositionofresources  2938 non-null   float64\n",
      " 21  Schooling                     2938 non-null   float64\n",
      "dtypes: float64(10), int64(12)\n",
      "memory usage: 505.1 KB\n"
     ]
    }
   ],
   "source": [
    "life.info()"
   ]
  },
  {
   "cell_type": "code",
   "execution_count": 50,
   "metadata": {},
   "outputs": [],
   "source": [
    "inputfeatures=[15,2016,1,100,1000,3.4,56.6,80,8000,19.1,800,90,5.9,90,0.3,1500.1,13245172,20.1,26.5,0.643,11.1]"
   ]
  },
  {
   "cell_type": "code",
   "execution_count": 52,
   "metadata": {},
   "outputs": [],
   "source": [
    "#input_features=sc.fit_transform([inputfeatures])"
   ]
  },
  {
   "cell_type": "code",
   "execution_count": 54,
   "metadata": {},
   "outputs": [],
   "source": [
    "#rr.predict(input_features)"
   ]
  },
  {
   "cell_type": "code",
   "execution_count": 55,
   "metadata": {},
   "outputs": [
    {
     "name": "stderr",
     "output_type": "stream",
     "text": [
      "/Library/Frameworks/Python.framework/Versions/3.10/lib/python3.10/site-packages/sklearn/base.py:450: UserWarning: X does not have valid feature names, but RandomForestRegressor was fitted with feature names\n",
      "  warnings.warn(\n"
     ]
    },
    {
     "data": {
      "text/plain": [
       "array([65.941])"
      ]
     },
     "execution_count": 55,
     "metadata": {},
     "output_type": "execute_result"
    }
   ],
   "source": [
    "rr.predict([[20,2017,0,100,1000,4.4,57.6,80,9000,18.1,700,80,6.9,80,0.4,2500.1,132451723,21.1,25.5,0.463,12.1]])"
   ]
  },
  {
   "cell_type": "markdown",
   "metadata": {},
   "source": [
    "- Testing training data as an input\n",
    "\n",
    "Expected = 79.7"
   ]
  },
  {
   "cell_type": "code",
   "execution_count": 56,
   "metadata": {},
   "outputs": [
    {
     "name": "stderr",
     "output_type": "stream",
     "text": [
      "/Library/Frameworks/Python.framework/Versions/3.10/lib/python3.10/site-packages/sklearn/base.py:450: UserWarning: X does not have valid feature names, but RandomForestRegressor was fitted with feature names\n",
      "  warnings.warn(\n"
     ]
    },
    {
     "data": {
      "text/plain": [
       "array([80.153])"
      ]
     },
     "execution_count": 56,
     "metadata": {},
     "output_type": "execute_result"
    }
   ],
   "source": [
    "# Iceland-2000 (79.7)\n",
    "inputfeatures=[75,2000,0,74,0,6.17,5809.122,80,0,54.2,0,98,9.28,98,0.1,74,28125,1,0.9,0.847,16.8]\n",
    "\n",
    "rr.predict([inputfeatures])"
   ]
  },
  {
   "cell_type": "code",
   "execution_count": 57,
   "metadata": {},
   "outputs": [
    {
     "name": "stderr",
     "output_type": "stream",
     "text": [
      "/Library/Frameworks/Python.framework/Versions/3.10/lib/python3.10/site-packages/sklearn/base.py:450: UserWarning: X does not have valid feature names, but RandomForestRegressor was fitted with feature names\n",
      "  warnings.warn(\n"
     ]
    },
    {
     "data": {
      "text/plain": [
       "array([69.798])"
      ]
     },
     "execution_count": 57,
     "metadata": {},
     "output_type": "execute_result"
    }
   ],
   "source": [
    "# Iraq-2015 (68.9)\n",
    "inputfeatures=[79,2015,1,182,32,4.602861,0,56,1433,59.1,38,63,5.93819,58,0.1,182,36115649,5.3,5.1,0.649,10.1]\n",
    "#input_features=sc.fit_transform([inputfeatures])\n",
    "rr.predict([inputfeatures])"
   ]
  },
  {
   "cell_type": "code",
   "execution_count": 58,
   "metadata": {},
   "outputs": [
    {
     "name": "stderr",
     "output_type": "stream",
     "text": [
      "/Library/Frameworks/Python.framework/Versions/3.10/lib/python3.10/site-packages/sklearn/base.py:450: UserWarning: X does not have valid feature names, but RandomForestRegressor was fitted with feature names\n",
      "  warnings.warn(\n"
     ]
    },
    {
     "data": {
      "text/plain": [
       "array([86.65])"
      ]
     },
     "execution_count": 58,
     "metadata": {},
     "output_type": "execute_result"
    }
   ],
   "source": [
    "# Greece-2014 (88)\n",
    "inputfeatures=[66,2014,1,73,0,7.53,2163.043,96,1,66,0,99,8.8,99,0.1,73,1892413,0.8,0.7,0.862,17.2]\n",
    "\n",
    "rr.predict([inputfeatures])"
   ]
  },
  {
   "cell_type": "code",
   "execution_count": 59,
   "metadata": {},
   "outputs": [
    {
     "name": "stderr",
     "output_type": "stream",
     "text": [
      "/Library/Frameworks/Python.framework/Versions/3.10/lib/python3.10/site-packages/sklearn/base.py:450: UserWarning: X does not have valid feature names, but RandomForestRegressor was fitted with feature names\n",
      "  warnings.warn(\n"
     ]
    },
    {
     "data": {
      "text/plain": [
       "array([83.775])"
      ]
     },
     "execution_count": 59,
     "metadata": {},
     "output_type": "execute_result"
    }
   ],
   "source": [
    "# Cyprus-2015 (85)\n",
    "inputfeatures=[43,2015,0,52,0,4.602861,0,97,0,6.3,0,97,5.93819,97,0.1,52,116985,1,1,0.854,14.3]\n",
    "\n",
    "rr.predict([inputfeatures])"
   ]
  },
  {
   "cell_type": "code",
   "execution_count": 60,
   "metadata": {},
   "outputs": [
    {
     "name": "stderr",
     "output_type": "stream",
     "text": [
      "/Library/Frameworks/Python.framework/Versions/3.10/lib/python3.10/site-packages/sklearn/base.py:450: UserWarning: X does not have valid feature names, but RandomForestRegressor was fitted with feature names\n",
      "  warnings.warn(\n"
     ]
    },
    {
     "data": {
      "text/plain": [
       "array([69.798])"
      ]
     },
     "execution_count": 60,
     "metadata": {},
     "output_type": "execute_result"
    }
   ],
   "source": [
    "# Hungary-2011 (74.8)\n",
    "inputfeatures=[79,2015,1,182,32,4.602861,0,56,1433,59.1,38,63,5.93819,58,0.1,182,36115649,5.3,5.1,0.649,10.1]\n",
    "\n",
    "rr.predict([inputfeatures])"
   ]
  },
  {
   "cell_type": "code",
   "execution_count": 61,
   "metadata": {},
   "outputs": [
    {
     "name": "stderr",
     "output_type": "stream",
     "text": [
      "/Library/Frameworks/Python.framework/Versions/3.10/lib/python3.10/site-packages/sklearn/base.py:450: UserWarning: X does not have valid feature names, but RandomForestRegressor was fitted with feature names\n",
      "  warnings.warn(\n"
     ]
    },
    {
     "data": {
      "text/plain": [
       "array([73.742])"
      ]
     },
     "execution_count": 61,
     "metadata": {},
     "output_type": "execute_result"
    }
   ],
   "source": [
    "# Latvia-2007 (78)\n",
    "inputfeatures=[92,2007,0,221,0,12.12,170.9884,91,0,57.7,0,94,7.1,94,0.1,221,22325,2.4,2.4,0.814,16.2]\n",
    "\n",
    "rr.predict([inputfeatures])"
   ]
  },
  {
   "cell_type": "code",
   "execution_count": 62,
   "metadata": {},
   "outputs": [
    {
     "name": "stderr",
     "output_type": "stream",
     "text": [
      "/Library/Frameworks/Python.framework/Versions/3.10/lib/python3.10/site-packages/sklearn/base.py:450: UserWarning: X does not have valid feature names, but RandomForestRegressor was fitted with feature names\n",
      "  warnings.warn(\n"
     ]
    },
    {
     "data": {
      "text/plain": [
       "array([52.481])"
      ]
     },
     "execution_count": 62,
     "metadata": {},
     "output_type": "execute_result"
    }
   ],
   "source": [
    "# Malawi-2010 (52.9)\n",
    "inputfeatures=[100,2010,1,462,35,1.08,9.728005,93,118712,17.6,54,86,1.5,93,13.7,462,1516795,6.8,6.7,0.43,10.2]\n",
    "\n",
    "rr.predict([inputfeatures])"
   ]
  },
  {
   "cell_type": "code",
   "execution_count": 63,
   "metadata": {},
   "outputs": [
    {
     "name": "stderr",
     "output_type": "stream",
     "text": [
      "/Library/Frameworks/Python.framework/Versions/3.10/lib/python3.10/site-packages/sklearn/base.py:450: UserWarning: X does not have valid feature names, but RandomForestRegressor was fitted with feature names\n",
      "  warnings.warn(\n"
     ]
    },
    {
     "data": {
      "text/plain": [
       "array([63.028])"
      ]
     },
     "execution_count": 63,
     "metadata": {},
     "output_type": "execute_result"
    }
   ],
   "source": [
    "# Nepal-2002 (63.1)\n",
    "inputfeatures=[118,2002,1,238,40,0.19,23.18395,80,6749,12.4,54,72,5.6,72,0.1,238,24566342,18.2,18.8,0.447,8.6]\n",
    "\n",
    "rr.predict([inputfeatures])"
   ]
  },
  {
   "cell_type": "code",
   "execution_count": 64,
   "metadata": {},
   "outputs": [],
   "source": [
    "# # Nepal-2002 (63.1)\n",
    "# inputfeatures=[118,2002,1,238,40,0.19,23.18395,80,6749,12.4,54,72,5.6,72,0.1,238,24566342,18.2,18.8,0.447,8.6]\n",
    "# input_features=sc.fit_transform([inputfeatures])\n",
    "# rr.predict(input_features)"
   ]
  },
  {
   "cell_type": "code",
   "execution_count": null,
   "metadata": {},
   "outputs": [],
   "source": []
  },
  {
   "cell_type": "code",
   "execution_count": null,
   "metadata": {},
   "outputs": [],
   "source": []
  }
 ],
 "metadata": {
  "kernelspec": {
   "display_name": "Python 3.10.6 64-bit",
   "language": "python",
   "name": "python3"
  },
  "language_info": {
   "codemirror_mode": {
    "name": "ipython",
    "version": 3
   },
   "file_extension": ".py",
   "mimetype": "text/x-python",
   "name": "python",
   "nbconvert_exporter": "python",
   "pygments_lexer": "ipython3",
   "version": "3.10.6"
  },
  "orig_nbformat": 4,
  "vscode": {
   "interpreter": {
    "hash": "aee8b7b246df8f9039afb4144a1f6fd8d2ca17a180786b69acc140d282b71a49"
   }
  }
 },
 "nbformat": 4,
 "nbformat_minor": 2
}
