{
 "cells": [
  {
   "cell_type": "code",
   "execution_count": 64,
   "metadata": {},
   "outputs": [],
   "source": [
    "import pandas as pd\n",
    "import numpy as np"
   ]
  },
  {
   "cell_type": "code",
   "execution_count": 65,
   "metadata": {},
   "outputs": [],
   "source": [
    "life=pd.read_csv('/Users/vaishnaviuttarkar/Life Expectany/Life_Expectancy_Model/CleanedLifeExpectancy.csv')"
   ]
  },
  {
   "cell_type": "code",
   "execution_count": 66,
   "metadata": {},
   "outputs": [
    {
     "name": "stdout",
     "output_type": "stream",
     "text": [
      "<class 'pandas.core.frame.DataFrame'>\n",
      "RangeIndex: 2938 entries, 0 to 2937\n",
      "Data columns (total 23 columns):\n",
      " #   Column                        Non-Null Count  Dtype  \n",
      "---  ------                        --------------  -----  \n",
      " 0   Unnamed: 0                    2938 non-null   int64  \n",
      " 1   Country                       2938 non-null   object \n",
      " 2   Year                          2938 non-null   int64  \n",
      " 3   Status                        2938 non-null   object \n",
      " 4   Lifeexpectancy                2938 non-null   float64\n",
      " 5   AdultMortality                2938 non-null   int64  \n",
      " 6   infantdeaths                  2938 non-null   int64  \n",
      " 7   Alcohol                       2938 non-null   float64\n",
      " 8   percentageexpenditure         2938 non-null   float64\n",
      " 9   HepatitisB                    2938 non-null   int64  \n",
      " 10  Measles                       2938 non-null   int64  \n",
      " 11  BMI                           2938 non-null   float64\n",
      " 12  under-fivedeaths              2938 non-null   int64  \n",
      " 13  Polio                         2938 non-null   int64  \n",
      " 14  Totalexpenditure              2938 non-null   float64\n",
      " 15  Diphtheria                    2938 non-null   int64  \n",
      " 16  HIV/AIDS                      2938 non-null   float64\n",
      " 17  GDP                           2938 non-null   int64  \n",
      " 18  Population                    2938 non-null   int64  \n",
      " 19  thinness1-19years             2938 non-null   float64\n",
      " 20  thinness5-9years              2938 non-null   float64\n",
      " 21  Incomecompositionofresources  2938 non-null   float64\n",
      " 22  Schooling                     2938 non-null   float64\n",
      "dtypes: float64(10), int64(11), object(2)\n",
      "memory usage: 528.0+ KB\n"
     ]
    }
   ],
   "source": [
    "life.info()"
   ]
  },
  {
   "cell_type": "code",
   "execution_count": 67,
   "metadata": {},
   "outputs": [],
   "source": [
    "life.drop('Unnamed: 0',inplace=True,axis=1)"
   ]
  },
  {
   "cell_type": "code",
   "execution_count": 68,
   "metadata": {},
   "outputs": [
    {
     "name": "stdout",
     "output_type": "stream",
     "text": [
      "<class 'pandas.core.frame.DataFrame'>\n",
      "RangeIndex: 2938 entries, 0 to 2937\n",
      "Data columns (total 22 columns):\n",
      " #   Column                        Non-Null Count  Dtype  \n",
      "---  ------                        --------------  -----  \n",
      " 0   Country                       2938 non-null   object \n",
      " 1   Year                          2938 non-null   int64  \n",
      " 2   Status                        2938 non-null   object \n",
      " 3   Lifeexpectancy                2938 non-null   float64\n",
      " 4   AdultMortality                2938 non-null   int64  \n",
      " 5   infantdeaths                  2938 non-null   int64  \n",
      " 6   Alcohol                       2938 non-null   float64\n",
      " 7   percentageexpenditure         2938 non-null   float64\n",
      " 8   HepatitisB                    2938 non-null   int64  \n",
      " 9   Measles                       2938 non-null   int64  \n",
      " 10  BMI                           2938 non-null   float64\n",
      " 11  under-fivedeaths              2938 non-null   int64  \n",
      " 12  Polio                         2938 non-null   int64  \n",
      " 13  Totalexpenditure              2938 non-null   float64\n",
      " 14  Diphtheria                    2938 non-null   int64  \n",
      " 15  HIV/AIDS                      2938 non-null   float64\n",
      " 16  GDP                           2938 non-null   int64  \n",
      " 17  Population                    2938 non-null   int64  \n",
      " 18  thinness1-19years             2938 non-null   float64\n",
      " 19  thinness5-9years              2938 non-null   float64\n",
      " 20  Incomecompositionofresources  2938 non-null   float64\n",
      " 21  Schooling                     2938 non-null   float64\n",
      "dtypes: float64(10), int64(10), object(2)\n",
      "memory usage: 505.1+ KB\n"
     ]
    }
   ],
   "source": [
    "life.info()"
   ]
  },
  {
   "cell_type": "markdown",
   "metadata": {},
   "source": [
    "Label Encoding"
   ]
  },
  {
   "cell_type": "code",
   "execution_count": 69,
   "metadata": {},
   "outputs": [],
   "source": [
    "from sklearn.preprocessing import LabelEncoder\n",
    "le=LabelEncoder()\n",
    "a= life.select_dtypes(include='object').columns\n",
    "for i in a:\n",
    "    life[i] = le.fit_transform(life[i])"
   ]
  },
  {
   "cell_type": "code",
   "execution_count": null,
   "metadata": {},
   "outputs": [],
   "source": []
  },
  {
   "cell_type": "markdown",
   "metadata": {},
   "source": []
  },
  {
   "cell_type": "code",
   "execution_count": 70,
   "metadata": {},
   "outputs": [
    {
     "data": {
      "text/plain": [
       "Country                           int64\n",
       "Year                              int64\n",
       "Status                            int64\n",
       "Lifeexpectancy                  float64\n",
       "AdultMortality                    int64\n",
       "infantdeaths                      int64\n",
       "Alcohol                         float64\n",
       "percentageexpenditure           float64\n",
       "HepatitisB                        int64\n",
       "Measles                           int64\n",
       "BMI                             float64\n",
       "under-fivedeaths                  int64\n",
       "Polio                             int64\n",
       "Totalexpenditure                float64\n",
       "Diphtheria                        int64\n",
       "HIV/AIDS                        float64\n",
       "GDP                               int64\n",
       "Population                        int64\n",
       "thinness1-19years               float64\n",
       "thinness5-9years                float64\n",
       "Incomecompositionofresources    float64\n",
       "Schooling                       float64\n",
       "dtype: object"
      ]
     },
     "execution_count": 70,
     "metadata": {},
     "output_type": "execute_result"
    }
   ],
   "source": [
    "life.dtypes"
   ]
  },
  {
   "cell_type": "markdown",
   "metadata": {},
   "source": [
    "Separating dependent and independent variables"
   ]
  },
  {
   "cell_type": "code",
   "execution_count": 71,
   "metadata": {},
   "outputs": [
    {
     "data": {
      "text/plain": [
       "(2938, 22)"
      ]
     },
     "execution_count": 71,
     "metadata": {},
     "output_type": "execute_result"
    }
   ],
   "source": [
    "life.shape"
   ]
  },
  {
   "cell_type": "code",
   "execution_count": 72,
   "metadata": {},
   "outputs": [],
   "source": [
    "X=life.drop(columns='Lifeexpectancy')\n",
    "y=life['Lifeexpectancy']"
   ]
  },
  {
   "cell_type": "markdown",
   "metadata": {},
   "source": [
    "Performing train-test split\n"
   ]
  },
  {
   "cell_type": "code",
   "execution_count": 73,
   "metadata": {},
   "outputs": [],
   "source": [
    "from sklearn.model_selection import train_test_split\n",
    "X_train,X_test,y_train,y_test=train_test_split(X,y,test_size=0.2,random_state=42)"
   ]
  },
  {
   "cell_type": "markdown",
   "metadata": {},
   "source": [
    "Feature scaling"
   ]
  },
  {
   "cell_type": "code",
   "execution_count": 74,
   "metadata": {},
   "outputs": [],
   "source": [
    "from sklearn.preprocessing import StandardScaler\n",
    "sc=StandardScaler()\n",
    "X_train=sc.fit_transform(X_train)\n",
    "X_test=sc.fit_transform(X_test)"
   ]
  },
  {
   "cell_type": "markdown",
   "metadata": {},
   "source": [
    "Trying out several algorithms"
   ]
  },
  {
   "cell_type": "code",
   "execution_count": 75,
   "metadata": {},
   "outputs": [],
   "source": [
    "from sklearn.linear_model import LinearRegression,Ridge,Lasso\n",
    "from sklearn.tree import DecisionTreeRegressor\n",
    "from sklearn.ensemble import RandomForestRegressor\n",
    "from xgboost import XGBRegressor\n",
    "from sklearn.neighbors import KNeighborsRegressor\n",
    "from sklearn.metrics import mean_squared_error\n",
    "from math import sqrt"
   ]
  },
  {
   "cell_type": "code",
   "execution_count": 76,
   "metadata": {},
   "outputs": [],
   "source": [
    "alg=[LinearRegression(),Ridge(),Lasso(),DecisionTreeRegressor(),RandomForestRegressor(),XGBRegressor(),KNeighborsRegressor()]\n",
    "\n",
    "names=['linearregression','ridgeregression','lassoregression','decisiontreeregressor','randomforestregressor','xgboostregressor','kneighborsregressor']"
   ]
  },
  {
   "cell_type": "code",
   "execution_count": 77,
   "metadata": {},
   "outputs": [],
   "source": [
    "l1=[]\n",
    "for i in alg:\n",
    "    model=i\n",
    "    model.fit(X_train,y_train)\n",
    "    y_hat=model.predict(X_test)\n",
    "    mse=mean_squared_error(y_test,y_hat)\n",
    "    rmse=sqrt(mse)\n",
    "    l1.append(rmse)"
   ]
  },
  {
   "cell_type": "code",
   "execution_count": 78,
   "metadata": {},
   "outputs": [],
   "source": [
    "eval=pd.DataFrame({'Model':names,\n",
    "                  'RMSE':l1})"
   ]
  },
  {
   "cell_type": "code",
   "execution_count": 79,
   "metadata": {},
   "outputs": [
    {
     "data": {
      "text/html": [
       "<div>\n",
       "<style scoped>\n",
       "    .dataframe tbody tr th:only-of-type {\n",
       "        vertical-align: middle;\n",
       "    }\n",
       "\n",
       "    .dataframe tbody tr th {\n",
       "        vertical-align: top;\n",
       "    }\n",
       "\n",
       "    .dataframe thead th {\n",
       "        text-align: right;\n",
       "    }\n",
       "</style>\n",
       "<table border=\"1\" class=\"dataframe\">\n",
       "  <thead>\n",
       "    <tr style=\"text-align: right;\">\n",
       "      <th></th>\n",
       "      <th>Model</th>\n",
       "      <th>RMSE</th>\n",
       "    </tr>\n",
       "  </thead>\n",
       "  <tbody>\n",
       "    <tr>\n",
       "      <th>0</th>\n",
       "      <td>linearregression</td>\n",
       "      <td>3.924507</td>\n",
       "    </tr>\n",
       "    <tr>\n",
       "      <th>1</th>\n",
       "      <td>ridgeregression</td>\n",
       "      <td>3.932514</td>\n",
       "    </tr>\n",
       "    <tr>\n",
       "      <th>2</th>\n",
       "      <td>lassoregression</td>\n",
       "      <td>4.350379</td>\n",
       "    </tr>\n",
       "    <tr>\n",
       "      <th>3</th>\n",
       "      <td>decisiontreeregressor</td>\n",
       "      <td>3.066186</td>\n",
       "    </tr>\n",
       "    <tr>\n",
       "      <th>4</th>\n",
       "      <td>randomforestregressor</td>\n",
       "      <td>1.892419</td>\n",
       "    </tr>\n",
       "    <tr>\n",
       "      <th>5</th>\n",
       "      <td>xgboostregressor</td>\n",
       "      <td>2.026021</td>\n",
       "    </tr>\n",
       "    <tr>\n",
       "      <th>6</th>\n",
       "      <td>kneighborsregressor</td>\n",
       "      <td>2.510073</td>\n",
       "    </tr>\n",
       "  </tbody>\n",
       "</table>\n",
       "</div>"
      ],
      "text/plain": [
       "                   Model      RMSE\n",
       "0       linearregression  3.924507\n",
       "1        ridgeregression  3.932514\n",
       "2        lassoregression  4.350379\n",
       "3  decisiontreeregressor  3.066186\n",
       "4  randomforestregressor  1.892419\n",
       "5       xgboostregressor  2.026021\n",
       "6    kneighborsregressor  2.510073"
      ]
     },
     "execution_count": 79,
     "metadata": {},
     "output_type": "execute_result"
    }
   ],
   "source": [
    "eval"
   ]
  },
  {
   "cell_type": "markdown",
   "metadata": {},
   "source": [
    "Conclusion: Random forest gives the best accuracy"
   ]
  },
  {
   "cell_type": "code",
   "execution_count": 80,
   "metadata": {},
   "outputs": [],
   "source": [
    "from sklearn.ensemble import RandomForestRegressor\n",
    "\n",
    "rr=RandomForestRegressor ()\n",
    "\n",
    "rr.fit(X_train,y_train)\n",
    "\n",
    "y_hat=rr.predict(X_test)"
   ]
  },
  {
   "cell_type": "code",
   "execution_count": 81,
   "metadata": {},
   "outputs": [
    {
     "data": {
      "text/plain": [
       "array([73.464     , 75.917     , 74.669     , 76.446     , 51.323     ,\n",
       "       51.822     , 65.494     , 73.876     , 76.995     , 54.837     ,\n",
       "       52.232     , 54.767     , 58.568     , 75.05      , 70.77524385,\n",
       "       62.126     , 57.521     , 79.042     , 68.485     , 79.031     ,\n",
       "       80.528     , 83.438     , 70.91799727, 68.79524932, 71.32674522,\n",
       "       67.391     , 55.186     , 65.324     , 82.522     , 73.564     ,\n",
       "       67.103     , 73.94      , 73.795     , 71.954     , 78.679     ,\n",
       "       48.584     , 60.208     , 72.75774522, 64.002     , 74.199     ,\n",
       "       54.808     , 61.259     , 75.643     , 81.214     , 76.307     ,\n",
       "       50.183     , 79.922     , 75.353     , 60.164     , 72.24      ,\n",
       "       55.78      , 71.493     , 81.61      , 78.879     , 74.681     ,\n",
       "       57.588     , 73.043     , 75.061     , 64.114     , 70.983     ,\n",
       "       77.078     , 54.562     , 74.479     , 72.383     , 53.59      ,\n",
       "       54.622     , 52.517     , 76.925     , 57.711     , 72.773     ,\n",
       "       83.027     , 77.716     , 73.82524932, 51.69      , 55.401     ,\n",
       "       68.049     , 64.603     , 76.014     , 58.601     , 61.729     ,\n",
       "       63.666     , 62.706     , 64.033     , 65.448     , 64.677     ,\n",
       "       79.334     , 73.253     , 67.256     , 72.566     , 80.074     ,\n",
       "       73.265     , 54.34      , 73.627     , 76.199     , 75.546     ,\n",
       "       68.2       , 80.265     , 70.85224932, 66.774     , 62.534     ,\n",
       "       82.205     , 54.739     , 75.277     , 53.525     , 75.185     ,\n",
       "       81.075     , 71.23024658, 67.114     , 59.149     , 62.363     ,\n",
       "       65.298     , 62.49349863, 53.542     , 69.233     , 64.63      ,\n",
       "       77.446     , 55.871     , 53.991     , 61.67      , 64.45      ,\n",
       "       65.086     , 72.53624932, 82.073     , 56.454     , 59.424     ,\n",
       "       66.027     , 72.28949863, 62.647     , 72.66049317, 72.13549863,\n",
       "       74.234     , 83.271     , 71.811     , 66.413     , 52.415     ,\n",
       "       67.886     , 75.655     , 78.827     , 76.033     , 74.995     ,\n",
       "       71.97524932, 66.46324932, 62.616     , 57.346     , 50.759     ,\n",
       "       64.538     , 71.386     , 73.915     , 62.002     , 78.026     ,\n",
       "       75.622     , 82.536     , 68.28049863, 61.808     , 82.17      ,\n",
       "       76.046     , 82.377     , 73.294     , 78.818     , 82.539     ,\n",
       "       73.60124932, 81.677     , 67.782     , 80.795     , 73.767     ,\n",
       "       65.472     , 59.8       , 82.382     , 78.305     , 72.947     ,\n",
       "       82.074     , 73.77      , 71.848     , 58.662     , 74.298     ,\n",
       "       65.382     , 71.98674795, 64.014     , 53.29      , 73.53      ,\n",
       "       82.099     , 69.309     , 78.922     , 74.375     , 80.115     ,\n",
       "       45.975     , 65.076     , 51.866     , 71.74      , 72.4614959 ,\n",
       "       61.693     , 68.695     , 81.769     , 61.144     , 76.618     ,\n",
       "       68.332     , 74.464     , 70.233     , 81.212     , 73.723     ,\n",
       "       73.927     , 56.609     , 74.606     , 70.508     , 65.793     ,\n",
       "       50.923     , 74.196     , 68.731     , 73.222     , 82.272     ,\n",
       "       62.066     , 53.884     , 73.61974795, 52.721     , 59.956     ,\n",
       "       62.224     , 66.66024932, 76.212     , 60.656     , 67.78524932,\n",
       "       76.303     , 74.026     , 77.46      , 79.009     , 74.974     ,\n",
       "       48.995     , 51.528     , 75.338     , 55.458     , 62.867     ,\n",
       "       71.38049863, 74.774     , 64.853     , 74.454     , 72.66374522,\n",
       "       51.016     , 80.011     , 79.212     , 51.027     , 75.227     ,\n",
       "       74.468     , 70.805     , 73.0664959 , 72.15099727, 59.541     ,\n",
       "       53.651     , 82.994     , 73.084     , 75.655     , 64.516     ,\n",
       "       67.868     , 78.263     , 59.709     , 83.407     , 73.999     ,\n",
       "       68.484     , 56.767     , 81.828     , 58.022     , 53.569     ,\n",
       "       66.219     , 67.612     , 61.841     , 52.242     , 73.125     ,\n",
       "       81.725     , 68.354     , 78.642     , 50.394     , 57.535     ,\n",
       "       58.602     , 51.671     , 73.3       , 74.133     , 48.212     ,\n",
       "       72.78424932, 59.688     , 73.156     , 64.091     , 64.327     ,\n",
       "       66.48      , 79.573     , 57.577     , 73.926     , 76.597     ,\n",
       "       63.608     , 73.644     , 46.779     , 63.63749863, 74.874     ,\n",
       "       64.906     , 73.24      , 64.67      , 74.723     , 76.168     ,\n",
       "       63.449     , 77.169     , 73.064     , 46.865     , 72.833     ,\n",
       "       76.17      , 74.725     , 73.525     , 74.766     , 78.188     ,\n",
       "       50.833     , 56.053     , 53.863     , 71.75974795, 78.292     ,\n",
       "       75.171     , 58.41      , 73.553     , 64.282     , 69.595     ,\n",
       "       65.552     , 48.593     , 73.182     , 57.367     , 80.136     ,\n",
       "       54.408     , 78.909     , 54.667     , 72.715     , 69.10273702,\n",
       "       78.103     , 74.602     , 72.01624932, 73.68574795, 81.626     ,\n",
       "       73.237     , 70.414     , 65.154     , 67.248     , 75.89      ,\n",
       "       83.281     , 68.768     , 74.451     , 72.983     , 72.747     ,\n",
       "       64.945     , 74.09      , 74.506     , 73.097     , 72.747     ,\n",
       "       53.201     , 58.025     , 74.83      , 71.919     , 75.637     ,\n",
       "       60.686     , 69.25424932, 62.908     , 57.432     , 75.519     ,\n",
       "       81.708     , 67.493     , 69.79247951, 73.15224932, 76.157     ,\n",
       "       55.234     , 73.859     , 76.787     , 66.716     , 69.902     ,\n",
       "       62.755     , 58.661     , 75.829     , 62.6       , 75.169     ,\n",
       "       73.44424932, 57.086     , 73.162     , 76.059     , 73.193     ,\n",
       "       72.6524959 , 59.647     , 72.12024932, 73.058     , 67.327     ,\n",
       "       52.05      , 82.133     , 81.506     , 82.439     , 63.622     ,\n",
       "       54.85      , 73.569     , 58.905     , 68.249     , 74.198     ,\n",
       "       54.099     , 78.777     , 73.83224932, 80.419     , 65.105     ,\n",
       "       65.756     , 82.074     , 73.08924932, 85.448     , 73.895     ,\n",
       "       53.391     , 78.416     , 52.391     , 69.088     , 64.786     ,\n",
       "       59.923     , 70.941     , 72.483     , 68.81924932, 73.531     ,\n",
       "       73.884     , 82.171     , 81.121     , 73.147     , 67.781     ,\n",
       "       69.114     , 63.234     , 73.03249317, 70.679     , 69.924     ,\n",
       "       64.938     , 59.717     , 66.638     , 73.281     , 73.2344959 ,\n",
       "       75.797     , 56.423     , 62.067     , 72.181     , 70.64      ,\n",
       "       48.191     , 75.911     , 71.795     , 67.688     , 46.636     ,\n",
       "       55.503     , 53.62      , 66.528     , 69.37849863, 76.465     ,\n",
       "       74.456     , 70.90524385, 72.41074795, 78.55      , 81.81      ,\n",
       "       68.321     , 76.263     , 79.93      , 78.784     , 56.274     ,\n",
       "       82.797     , 61.822     , 69.38973702, 74.048     , 53.181     ,\n",
       "       80.569     , 82.438     , 51.763     , 67.635     , 73.652     ,\n",
       "       73.031     , 60.885     , 62.593     , 64.517     , 60.355     ,\n",
       "       56.503     , 82.488     , 71.61      , 81.763     , 68.484     ,\n",
       "       73.317     , 75.731     , 71.73      , 72.67649863, 82.808     ,\n",
       "       67.906     , 63.632     , 67.348     , 80.247     , 77.822     ,\n",
       "       76.494     , 69.169     , 73.444     , 72.844     , 67.01      ,\n",
       "       79.513     , 74.941     , 81.884     , 71.83574795, 75.883     ,\n",
       "       72.56424932, 71.767     , 52.991     , 66.798     , 70.041     ,\n",
       "       64.009     , 84.722     , 73.392     , 62.949     , 71.786     ,\n",
       "       75.12      , 57.113     , 82.242     , 73.029     , 75.608     ,\n",
       "       82.003     , 73.211     , 80.997     , 75.755     , 73.983     ,\n",
       "       62.723     , 71.24224932, 71.212     , 70.71849863, 52.812     ,\n",
       "       63.735     , 61.402     , 63.004     , 69.926     , 59.613     ,\n",
       "       70.819     , 83.661     , 69.142     , 74.841     , 68.349     ,\n",
       "       63.853     , 62.926     , 71.25949863, 76.747     , 82.915     ,\n",
       "       54.756     , 72.435     , 73.893     , 80.615     , 72.425     ,\n",
       "       83.062     , 72.53      , 75.604     , 84.049     , 81.504     ,\n",
       "       77.485     , 51.892     , 57.278     , 69.887     , 75.112     ,\n",
       "       63.112     , 70.363     , 57.456     , 55.761     , 72.381     ,\n",
       "       74.901     , 57.819     , 82.916     , 55.709     , 74.622     ,\n",
       "       69.97      , 78.257     , 68.168     , 75.83      , 79.156     ,\n",
       "       59.498     , 82.438     , 82.358     , 75.269     , 50.149     ,\n",
       "       75.105     , 79.65      , 83.296     , 54.814     , 72.743     ,\n",
       "       74.804     , 62.908     , 78.265     , 72.656     , 73.22349863,\n",
       "       67.537     , 72.99199727, 70.56949863, 57.515     , 74.274     ,\n",
       "       56.44      , 77.576     , 80.002     , 57.755     , 74.159     ,\n",
       "       63.671     , 70.90024932, 73.868     ])"
      ]
     },
     "execution_count": 81,
     "metadata": {},
     "output_type": "execute_result"
    }
   ],
   "source": [
    "y_hat"
   ]
  },
  {
   "cell_type": "code",
   "execution_count": 82,
   "metadata": {},
   "outputs": [
    {
     "data": {
      "text/plain": [
       "0.9556487152802403"
      ]
     },
     "execution_count": 82,
     "metadata": {},
     "output_type": "execute_result"
    }
   ],
   "source": [
    "from sklearn.metrics import r2_score\n",
    "r2_score(y_hat,y_test)"
   ]
  },
  {
   "cell_type": "code",
   "execution_count": 83,
   "metadata": {},
   "outputs": [
    {
     "data": {
      "text/plain": [
       "Index(['Country', 'Year', 'Status', 'Lifeexpectancy', 'AdultMortality',\n",
       "       'infantdeaths', 'Alcohol', 'percentageexpenditure', 'HepatitisB',\n",
       "       'Measles', 'BMI', 'under-fivedeaths', 'Polio', 'Totalexpenditure',\n",
       "       'Diphtheria', 'HIV/AIDS', 'GDP', 'Population', 'thinness1-19years',\n",
       "       'thinness5-9years', 'Incomecompositionofresources', 'Schooling'],\n",
       "      dtype='object')"
      ]
     },
     "execution_count": 83,
     "metadata": {},
     "output_type": "execute_result"
    }
   ],
   "source": [
    "life.columns"
   ]
  },
  {
   "cell_type": "code",
   "execution_count": 84,
   "metadata": {},
   "outputs": [
    {
     "name": "stdout",
     "output_type": "stream",
     "text": [
      "<class 'pandas.core.frame.DataFrame'>\n",
      "RangeIndex: 2938 entries, 0 to 2937\n",
      "Data columns (total 22 columns):\n",
      " #   Column                        Non-Null Count  Dtype  \n",
      "---  ------                        --------------  -----  \n",
      " 0   Country                       2938 non-null   int64  \n",
      " 1   Year                          2938 non-null   int64  \n",
      " 2   Status                        2938 non-null   int64  \n",
      " 3   Lifeexpectancy                2938 non-null   float64\n",
      " 4   AdultMortality                2938 non-null   int64  \n",
      " 5   infantdeaths                  2938 non-null   int64  \n",
      " 6   Alcohol                       2938 non-null   float64\n",
      " 7   percentageexpenditure         2938 non-null   float64\n",
      " 8   HepatitisB                    2938 non-null   int64  \n",
      " 9   Measles                       2938 non-null   int64  \n",
      " 10  BMI                           2938 non-null   float64\n",
      " 11  under-fivedeaths              2938 non-null   int64  \n",
      " 12  Polio                         2938 non-null   int64  \n",
      " 13  Totalexpenditure              2938 non-null   float64\n",
      " 14  Diphtheria                    2938 non-null   int64  \n",
      " 15  HIV/AIDS                      2938 non-null   float64\n",
      " 16  GDP                           2938 non-null   int64  \n",
      " 17  Population                    2938 non-null   int64  \n",
      " 18  thinness1-19years             2938 non-null   float64\n",
      " 19  thinness5-9years              2938 non-null   float64\n",
      " 20  Incomecompositionofresources  2938 non-null   float64\n",
      " 21  Schooling                     2938 non-null   float64\n",
      "dtypes: float64(10), int64(12)\n",
      "memory usage: 505.1 KB\n"
     ]
    }
   ],
   "source": [
    "life.info()"
   ]
  },
  {
   "cell_type": "code",
   "execution_count": 85,
   "metadata": {},
   "outputs": [],
   "source": [
    "inputfeatures=[15,2016,1,100,1000,3.4,56.6,80,8000,19.1,800,90,5.9,90,0.3,1500.1,13245172,20.1,26.5,0.643,11.1]"
   ]
  },
  {
   "cell_type": "code",
   "execution_count": 86,
   "metadata": {},
   "outputs": [],
   "source": [
    "input_features=sc.fit_transform([inputfeatures])"
   ]
  },
  {
   "cell_type": "code",
   "execution_count": 87,
   "metadata": {},
   "outputs": [
    {
     "data": {
      "text/plain": [
       "array([63.673])"
      ]
     },
     "execution_count": 87,
     "metadata": {},
     "output_type": "execute_result"
    }
   ],
   "source": [
    "rr.predict(input_features)"
   ]
  },
  {
   "cell_type": "code",
   "execution_count": 88,
   "metadata": {},
   "outputs": [
    {
     "data": {
      "text/plain": [
       "array([50.012])"
      ]
     },
     "execution_count": 88,
     "metadata": {},
     "output_type": "execute_result"
    }
   ],
   "source": [
    "rr.predict([[20,2017,0,100,1000,4.4,57.6,80,9000,18.1,700,80,6.9,80,0.4,2500.1,132451723,21.1,25.5,0.463,12.1]])"
   ]
  },
  {
   "cell_type": "markdown",
   "metadata": {},
   "source": [
    "- Testing training data as an input\n",
    "\n",
    "Expected = 79.7"
   ]
  },
  {
   "cell_type": "code",
   "execution_count": 89,
   "metadata": {},
   "outputs": [
    {
     "data": {
      "text/plain": [
       "array([63.673])"
      ]
     },
     "execution_count": 89,
     "metadata": {},
     "output_type": "execute_result"
    }
   ],
   "source": [
    "# Iceland-2000 (79.7)\n",
    "inputfeatures=[75,2000,0,74,0,6.17,5809.122,80,0,54.2,0,98,9.28,98,0.1,74,28125,1,0.9,0.847,16.8]\n",
    "input_features=sc.fit_transform([inputfeatures])\n",
    "rr.predict(input_features)"
   ]
  },
  {
   "cell_type": "code",
   "execution_count": 90,
   "metadata": {},
   "outputs": [
    {
     "data": {
      "text/plain": [
       "array([63.673])"
      ]
     },
     "execution_count": 90,
     "metadata": {},
     "output_type": "execute_result"
    }
   ],
   "source": [
    "# Iraq-2015 (68.9)\n",
    "inputfeatures=[79,2015,1,182,32,4.602861,0,56,1433,59.1,38,63,5.93819,58,0.1,182,36115649,5.3,5.1,0.649,10.1]\n",
    "input_features=sc.fit_transform([inputfeatures])\n",
    "rr.predict(input_features)"
   ]
  },
  {
   "cell_type": "code",
   "execution_count": 91,
   "metadata": {},
   "outputs": [
    {
     "data": {
      "text/plain": [
       "array([63.673])"
      ]
     },
     "execution_count": 91,
     "metadata": {},
     "output_type": "execute_result"
    }
   ],
   "source": [
    "# Greece-2014 (88)\n",
    "inputfeatures=[66,2014,1,73,0,7.53,2163.043,96,1,66,0,99,8.8,99,0.1,73,1892413,0.8,0.7,0.862,17.2]\n",
    "input_features=sc.fit_transform([inputfeatures])\n",
    "rr.predict(input_features)"
   ]
  },
  {
   "cell_type": "code",
   "execution_count": 92,
   "metadata": {},
   "outputs": [
    {
     "data": {
      "text/plain": [
       "array([63.673])"
      ]
     },
     "execution_count": 92,
     "metadata": {},
     "output_type": "execute_result"
    }
   ],
   "source": [
    "# Cyprus-2015 (85)\n",
    "inputfeatures=[43,2015,0,52,0,4.602861,0,97,0,6.3,0,97,5.93819,97,0.1,52,116985,1,1,0.854,14.3]\n",
    "input_features=sc.fit_transform([inputfeatures])\n",
    "rr.predict(input_features)"
   ]
  },
  {
   "cell_type": "code",
   "execution_count": 93,
   "metadata": {},
   "outputs": [
    {
     "data": {
      "text/plain": [
       "array([63.673])"
      ]
     },
     "execution_count": 93,
     "metadata": {},
     "output_type": "execute_result"
    }
   ],
   "source": [
    "# Hungary-2011 (74.8)\n",
    "inputfeatures=[79,2015,1,182,32,4.602861,0,56,1433,59.1,38,63,5.93819,58,0.1,182,36115649,5.3,5.1,0.649,10.1]\n",
    "input_features=sc.fit_transform([inputfeatures])\n",
    "rr.predict(input_features)"
   ]
  },
  {
   "cell_type": "code",
   "execution_count": 98,
   "metadata": {},
   "outputs": [
    {
     "data": {
      "text/plain": [
       "array([63.673])"
      ]
     },
     "execution_count": 98,
     "metadata": {},
     "output_type": "execute_result"
    }
   ],
   "source": [
    "# Latvia-2007 (78)\n",
    "inputfeatures=[92,2007,0,221,0,12.12,170.9884,91,0,57.7,0,94,7.1,94,0.1,221,22325,2.4,2.4,0.814,16.2]\n",
    "input_features=sc.fit_transform([inputfeatures])\n",
    "rr.predict(input_features)"
   ]
  },
  {
   "cell_type": "code",
   "execution_count": 99,
   "metadata": {},
   "outputs": [
    {
     "data": {
      "text/plain": [
       "array([63.673])"
      ]
     },
     "execution_count": 99,
     "metadata": {},
     "output_type": "execute_result"
    }
   ],
   "source": [
    "# Malawi-2010 (52.9)\n",
    "inputfeatures=[100,2010,1,462,35,1.08,9.728005,93,118712,17.6,54,86,1.5,93,13.7,462,1516795,6.8,6.7,0.43,10.2]\n",
    "input_features=sc.fit_transform([inputfeatures])\n",
    "rr.predict(input_features)"
   ]
  },
  {
   "cell_type": "code",
   "execution_count": 100,
   "metadata": {},
   "outputs": [
    {
     "data": {
      "text/plain": [
       "array([63.673])"
      ]
     },
     "execution_count": 100,
     "metadata": {},
     "output_type": "execute_result"
    }
   ],
   "source": [
    "# Nepal-2002 (63.1)\n",
    "inputfeatures=[118,2002,1,238,40,0.19,23.18395,80,6749,12.4,54,72,5.6,72,0.1,238,24566342,18.2,18.8,0.447,8.6]\n",
    "input_features=sc.fit_transform([inputfeatures])\n",
    "rr.predict(input_features)"
   ]
  },
  {
   "cell_type": "code",
   "execution_count": null,
   "metadata": {},
   "outputs": [],
   "source": []
  },
  {
   "cell_type": "code",
   "execution_count": null,
   "metadata": {},
   "outputs": [],
   "source": []
  },
  {
   "cell_type": "code",
   "execution_count": null,
   "metadata": {},
   "outputs": [],
   "source": []
  }
 ],
 "metadata": {
  "kernelspec": {
   "display_name": "Python 3.10.6 64-bit",
   "language": "python",
   "name": "python3"
  },
  "language_info": {
   "codemirror_mode": {
    "name": "ipython",
    "version": 3
   },
   "file_extension": ".py",
   "mimetype": "text/x-python",
   "name": "python",
   "nbconvert_exporter": "python",
   "pygments_lexer": "ipython3",
   "version": "3.10.6"
  },
  "orig_nbformat": 4,
  "vscode": {
   "interpreter": {
    "hash": "aee8b7b246df8f9039afb4144a1f6fd8d2ca17a180786b69acc140d282b71a49"
   }
  }
 },
 "nbformat": 4,
 "nbformat_minor": 2
}
