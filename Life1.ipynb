{
 "cells": [
  {
   "cell_type": "code",
   "execution_count": 1,
   "metadata": {},
   "outputs": [],
   "source": [
    "import pandas as pd\n",
    "import numpy as np"
   ]
  },
  {
   "cell_type": "code",
   "execution_count": 2,
   "metadata": {},
   "outputs": [],
   "source": [
    "life=pd.read_csv('/Users/vaishnaviuttarkar/Life Expectany/Life_Expectancy_Model/CleanedLifeExpectancy.csv')"
   ]
  },
  {
   "cell_type": "code",
   "execution_count": 3,
   "metadata": {},
   "outputs": [
    {
     "name": "stdout",
     "output_type": "stream",
     "text": [
      "<class 'pandas.core.frame.DataFrame'>\n",
      "RangeIndex: 2938 entries, 0 to 2937\n",
      "Data columns (total 23 columns):\n",
      " #   Column                        Non-Null Count  Dtype  \n",
      "---  ------                        --------------  -----  \n",
      " 0   Unnamed: 0                    2938 non-null   int64  \n",
      " 1   Country                       2938 non-null   object \n",
      " 2   Year                          2938 non-null   int64  \n",
      " 3   Status                        2938 non-null   object \n",
      " 4   Lifeexpectancy                2938 non-null   float64\n",
      " 5   AdultMortality                2938 non-null   int64  \n",
      " 6   infantdeaths                  2938 non-null   int64  \n",
      " 7   Alcohol                       2938 non-null   float64\n",
      " 8   percentageexpenditure         2938 non-null   float64\n",
      " 9   HepatitisB                    2938 non-null   int64  \n",
      " 10  Measles                       2938 non-null   int64  \n",
      " 11  BMI                           2938 non-null   float64\n",
      " 12  under-fivedeaths              2938 non-null   int64  \n",
      " 13  Polio                         2938 non-null   int64  \n",
      " 14  Totalexpenditure              2938 non-null   float64\n",
      " 15  Diphtheria                    2938 non-null   int64  \n",
      " 16  HIV/AIDS                      2938 non-null   float64\n",
      " 17  GDP                           2938 non-null   int64  \n",
      " 18  Population                    2938 non-null   int64  \n",
      " 19  thinness1-19years             2938 non-null   float64\n",
      " 20  thinness5-9years              2938 non-null   float64\n",
      " 21  Incomecompositionofresources  2938 non-null   float64\n",
      " 22  Schooling                     2938 non-null   float64\n",
      "dtypes: float64(10), int64(11), object(2)\n",
      "memory usage: 528.0+ KB\n"
     ]
    }
   ],
   "source": [
    "life.info()"
   ]
  },
  {
   "cell_type": "code",
   "execution_count": 4,
   "metadata": {},
   "outputs": [],
   "source": [
    "life.drop('Unnamed: 0',inplace=True,axis=1)"
   ]
  },
  {
   "cell_type": "code",
   "execution_count": 5,
   "metadata": {},
   "outputs": [
    {
     "name": "stdout",
     "output_type": "stream",
     "text": [
      "<class 'pandas.core.frame.DataFrame'>\n",
      "RangeIndex: 2938 entries, 0 to 2937\n",
      "Data columns (total 22 columns):\n",
      " #   Column                        Non-Null Count  Dtype  \n",
      "---  ------                        --------------  -----  \n",
      " 0   Country                       2938 non-null   object \n",
      " 1   Year                          2938 non-null   int64  \n",
      " 2   Status                        2938 non-null   object \n",
      " 3   Lifeexpectancy                2938 non-null   float64\n",
      " 4   AdultMortality                2938 non-null   int64  \n",
      " 5   infantdeaths                  2938 non-null   int64  \n",
      " 6   Alcohol                       2938 non-null   float64\n",
      " 7   percentageexpenditure         2938 non-null   float64\n",
      " 8   HepatitisB                    2938 non-null   int64  \n",
      " 9   Measles                       2938 non-null   int64  \n",
      " 10  BMI                           2938 non-null   float64\n",
      " 11  under-fivedeaths              2938 non-null   int64  \n",
      " 12  Polio                         2938 non-null   int64  \n",
      " 13  Totalexpenditure              2938 non-null   float64\n",
      " 14  Diphtheria                    2938 non-null   int64  \n",
      " 15  HIV/AIDS                      2938 non-null   float64\n",
      " 16  GDP                           2938 non-null   int64  \n",
      " 17  Population                    2938 non-null   int64  \n",
      " 18  thinness1-19years             2938 non-null   float64\n",
      " 19  thinness5-9years              2938 non-null   float64\n",
      " 20  Incomecompositionofresources  2938 non-null   float64\n",
      " 21  Schooling                     2938 non-null   float64\n",
      "dtypes: float64(10), int64(10), object(2)\n",
      "memory usage: 505.1+ KB\n"
     ]
    }
   ],
   "source": [
    "life.info()"
   ]
  },
  {
   "cell_type": "markdown",
   "metadata": {},
   "source": [
    "Label Encoding"
   ]
  },
  {
   "cell_type": "code",
   "execution_count": 6,
   "metadata": {},
   "outputs": [],
   "source": [
    "from sklearn.preprocessing import LabelEncoder\n",
    "le=LabelEncoder()\n",
    "a= life.select_dtypes(include='object').columns\n",
    "for i in a:\n",
    "    life[i] = le.fit_transform(life[i])"
   ]
  },
  {
   "cell_type": "code",
   "execution_count": null,
   "metadata": {},
   "outputs": [],
   "source": []
  },
  {
   "cell_type": "markdown",
   "metadata": {},
   "source": []
  },
  {
   "cell_type": "code",
   "execution_count": 7,
   "metadata": {},
   "outputs": [
    {
     "data": {
      "text/plain": [
       "Country                           int64\n",
       "Year                              int64\n",
       "Status                            int64\n",
       "Lifeexpectancy                  float64\n",
       "AdultMortality                    int64\n",
       "infantdeaths                      int64\n",
       "Alcohol                         float64\n",
       "percentageexpenditure           float64\n",
       "HepatitisB                        int64\n",
       "Measles                           int64\n",
       "BMI                             float64\n",
       "under-fivedeaths                  int64\n",
       "Polio                             int64\n",
       "Totalexpenditure                float64\n",
       "Diphtheria                        int64\n",
       "HIV/AIDS                        float64\n",
       "GDP                               int64\n",
       "Population                        int64\n",
       "thinness1-19years               float64\n",
       "thinness5-9years                float64\n",
       "Incomecompositionofresources    float64\n",
       "Schooling                       float64\n",
       "dtype: object"
      ]
     },
     "execution_count": 7,
     "metadata": {},
     "output_type": "execute_result"
    }
   ],
   "source": [
    "life.dtypes"
   ]
  },
  {
   "cell_type": "markdown",
   "metadata": {},
   "source": [
    "Separating dependent and independent variables"
   ]
  },
  {
   "cell_type": "code",
   "execution_count": 8,
   "metadata": {},
   "outputs": [
    {
     "data": {
      "text/plain": [
       "(2938, 22)"
      ]
     },
     "execution_count": 8,
     "metadata": {},
     "output_type": "execute_result"
    }
   ],
   "source": [
    "life.shape"
   ]
  },
  {
   "cell_type": "code",
   "execution_count": 9,
   "metadata": {},
   "outputs": [],
   "source": [
    "X=life.drop(columns='Lifeexpectancy')\n",
    "y=life['Lifeexpectancy']"
   ]
  },
  {
   "cell_type": "markdown",
   "metadata": {},
   "source": [
    "Performing train-test split\n"
   ]
  },
  {
   "cell_type": "code",
   "execution_count": 10,
   "metadata": {},
   "outputs": [],
   "source": [
    "from sklearn.model_selection import train_test_split\n",
    "X_train,X_test,y_train,y_test=train_test_split(X,y,test_size=0.2,random_state=42)"
   ]
  },
  {
   "cell_type": "markdown",
   "metadata": {},
   "source": [
    "Feature scaling"
   ]
  },
  {
   "cell_type": "code",
   "execution_count": 11,
   "metadata": {},
   "outputs": [],
   "source": [
    "from sklearn.preprocessing import StandardScaler\n",
    "sc=StandardScaler()\n",
    "X_train=sc.fit_transform(X_train)\n",
    "X_test=sc.fit_transform(X_test)"
   ]
  },
  {
   "cell_type": "markdown",
   "metadata": {},
   "source": [
    "Trying out several algorithms"
   ]
  },
  {
   "cell_type": "code",
   "execution_count": 12,
   "metadata": {},
   "outputs": [],
   "source": [
    "from sklearn.linear_model import LinearRegression,Ridge,Lasso\n",
    "from sklearn.tree import DecisionTreeRegressor\n",
    "from sklearn.ensemble import RandomForestRegressor\n",
    "from xgboost import XGBRegressor\n",
    "from sklearn.neighbors import KNeighborsRegressor\n",
    "from sklearn.metrics import mean_squared_error\n",
    "from math import sqrt"
   ]
  },
  {
   "cell_type": "code",
   "execution_count": 13,
   "metadata": {},
   "outputs": [],
   "source": [
    "alg=[LinearRegression(),Ridge(),Lasso(),DecisionTreeRegressor(),RandomForestRegressor(),XGBRegressor(),KNeighborsRegressor()]\n",
    "\n",
    "names=['linearregression','ridgeregression','lassoregression','decisiontreeregressor','randomforestregressor','xgboostregressor','kneighborsregressor']"
   ]
  },
  {
   "cell_type": "code",
   "execution_count": 14,
   "metadata": {},
   "outputs": [],
   "source": [
    "l1=[]\n",
    "for i in alg:\n",
    "    model=i\n",
    "    model.fit(X_train,y_train)\n",
    "    y_hat=model.predict(X_test)\n",
    "    mse=mean_squared_error(y_test,y_hat)\n",
    "    rmse=sqrt(mse)\n",
    "    l1.append(rmse)"
   ]
  },
  {
   "cell_type": "code",
   "execution_count": 15,
   "metadata": {},
   "outputs": [],
   "source": [
    "eval=pd.DataFrame({'Model':names,\n",
    "                  'RMSE':l1})"
   ]
  },
  {
   "cell_type": "code",
   "execution_count": 16,
   "metadata": {},
   "outputs": [
    {
     "data": {
      "text/html": [
       "<div>\n",
       "<style scoped>\n",
       "    .dataframe tbody tr th:only-of-type {\n",
       "        vertical-align: middle;\n",
       "    }\n",
       "\n",
       "    .dataframe tbody tr th {\n",
       "        vertical-align: top;\n",
       "    }\n",
       "\n",
       "    .dataframe thead th {\n",
       "        text-align: right;\n",
       "    }\n",
       "</style>\n",
       "<table border=\"1\" class=\"dataframe\">\n",
       "  <thead>\n",
       "    <tr style=\"text-align: right;\">\n",
       "      <th></th>\n",
       "      <th>Model</th>\n",
       "      <th>RMSE</th>\n",
       "    </tr>\n",
       "  </thead>\n",
       "  <tbody>\n",
       "    <tr>\n",
       "      <th>0</th>\n",
       "      <td>linearregression</td>\n",
       "      <td>3.924507</td>\n",
       "    </tr>\n",
       "    <tr>\n",
       "      <th>1</th>\n",
       "      <td>ridgeregression</td>\n",
       "      <td>3.932514</td>\n",
       "    </tr>\n",
       "    <tr>\n",
       "      <th>2</th>\n",
       "      <td>lassoregression</td>\n",
       "      <td>4.350379</td>\n",
       "    </tr>\n",
       "    <tr>\n",
       "      <th>3</th>\n",
       "      <td>decisiontreeregressor</td>\n",
       "      <td>3.045138</td>\n",
       "    </tr>\n",
       "    <tr>\n",
       "      <th>4</th>\n",
       "      <td>randomforestregressor</td>\n",
       "      <td>1.858330</td>\n",
       "    </tr>\n",
       "    <tr>\n",
       "      <th>5</th>\n",
       "      <td>xgboostregressor</td>\n",
       "      <td>2.026021</td>\n",
       "    </tr>\n",
       "    <tr>\n",
       "      <th>6</th>\n",
       "      <td>kneighborsregressor</td>\n",
       "      <td>2.510073</td>\n",
       "    </tr>\n",
       "  </tbody>\n",
       "</table>\n",
       "</div>"
      ],
      "text/plain": [
       "                   Model      RMSE\n",
       "0       linearregression  3.924507\n",
       "1        ridgeregression  3.932514\n",
       "2        lassoregression  4.350379\n",
       "3  decisiontreeregressor  3.045138\n",
       "4  randomforestregressor  1.858330\n",
       "5       xgboostregressor  2.026021\n",
       "6    kneighborsregressor  2.510073"
      ]
     },
     "execution_count": 16,
     "metadata": {},
     "output_type": "execute_result"
    }
   ],
   "source": [
    "eval"
   ]
  },
  {
   "cell_type": "markdown",
   "metadata": {},
   "source": [
    "Conclusion: Random forest gives the best accuracy"
   ]
  },
  {
   "cell_type": "code",
   "execution_count": 17,
   "metadata": {},
   "outputs": [],
   "source": [
    "from sklearn.ensemble import RandomForestRegressor\n",
    "\n",
    "rr=RandomForestRegressor ()\n",
    "\n",
    "rr.fit(X_train,y_train)\n",
    "\n",
    "y_hat=rr.predict(X_test)"
   ]
  },
  {
   "cell_type": "code",
   "execution_count": 18,
   "metadata": {},
   "outputs": [
    {
     "data": {
      "text/plain": [
       "array([73.326     , 76.016     , 74.507     , 76.563     , 51.403     ,\n",
       "       52.596     , 65.671     , 73.97      , 76.582     , 54.715     ,\n",
       "       52.388     , 54.76      , 58.308     , 74.908     , 70.24474795,\n",
       "       61.873     , 58.071     , 79.176     , 69.103     , 79.324     ,\n",
       "       80.786     , 83.461     , 71.48424932, 68.56424932, 71.27799454,\n",
       "       67.705     , 56.706     , 65.485     , 82.298     , 73.61624932,\n",
       "       67.21      , 74.392     , 74.056     , 71.853     , 78.796     ,\n",
       "       49.095     , 59.188     , 73.41924658, 64.089     , 73.982     ,\n",
       "       55.164     , 60.571     , 75.643     , 80.964     , 76.392     ,\n",
       "       49.911     , 80.392     , 75.331     , 60.786     , 71.569     ,\n",
       "       55.688     , 71.312     , 81.696     , 79.003     , 74.704     ,\n",
       "       57.025     , 72.767     , 75.111     , 64.149     , 70.23      ,\n",
       "       77.702     , 54.791     , 74.417     , 71.996     , 53.731     ,\n",
       "       54.292     , 52.718     , 76.941     , 58.369     , 71.81      ,\n",
       "       82.796     , 77.928     , 73.594     , 52.388     , 55.199     ,\n",
       "       68.176     , 64.101     , 76.112     , 58.142     , 61.475     ,\n",
       "       63.291     , 62.549     , 63.752     , 65.246     , 65.46      ,\n",
       "       79.587     , 73.299     , 66.782     , 72.854     , 79.642     ,\n",
       "       73.461     , 54.502     , 73.773     , 76.318     , 75.415     ,\n",
       "       68.03024932, 79.527     , 70.833     , 66.493     , 62.873     ,\n",
       "       81.908     , 53.702     , 74.635     , 53.979     , 74.972     ,\n",
       "       81.014     , 71.33699727, 66.907     , 59.082     , 62.247     ,\n",
       "       65.163     , 62.185     , 53.628     , 68.8       , 64.635     ,\n",
       "       77.704     , 55.196     , 54.088     , 60.892     , 63.911     ,\n",
       "       64.826     , 72.65924932, 82.161     , 56.088     , 59.365     ,\n",
       "       65.292     , 71.84524658, 62.731     , 72.68424385, 72.551     ,\n",
       "       74.263     , 82.809     , 71.342     , 66.717     , 51.578     ,\n",
       "       67.305     , 75.913     , 78.768     , 76.112     , 75.04      ,\n",
       "       72.46249863, 66.528     , 62.88      , 57.522     , 51.064     ,\n",
       "       64.444     , 71.841     , 73.911     , 62.27      , 78.186     ,\n",
       "       75.257     , 82.288     , 68.373     , 61.938     , 81.633     ,\n",
       "       75.946     , 82.459     , 73.614     , 79.228     , 82.534     ,\n",
       "       73.491     , 82.154     , 67.547     , 80.693     , 73.207     ,\n",
       "       64.744     , 60.147     , 82.186     , 78.303     , 73.178     ,\n",
       "       81.982     , 73.758     , 71.449     , 58.732     , 73.53524932,\n",
       "       65.046     , 71.555     , 63.794     , 53.018     , 73.519     ,\n",
       "       82.568     , 69.037     , 79.245     , 74.194     , 80.248     ,\n",
       "       44.959     , 65.123     , 51.818     , 71.215     , 72.6884959 ,\n",
       "       61.126     , 68.69349863, 81.003     , 61.324     , 76.626     ,\n",
       "       68.134     , 74.534     , 69.52524932, 81.008     , 73.391     ,\n",
       "       73.675     , 56.104     , 74.74      , 70.15949863, 65.709     ,\n",
       "       50.407     , 74.378     , 68.73749863, 72.836     , 82.107     ,\n",
       "       61.47      , 54.505     , 73.58049863, 52.804     , 59.654     ,\n",
       "       61.916     , 65.964     , 76.259     , 60.642     , 67.68      ,\n",
       "       76.295     , 74.539     , 77.248     , 78.927     , 74.979     ,\n",
       "       48.448     , 51.984     , 74.962     , 55.34      , 61.435     ,\n",
       "       71.513     , 74.881     , 64.37      , 74.563     , 73.11499727,\n",
       "       50.596     , 80.075     , 79.355     , 51.071     , 75.177     ,\n",
       "       74.561     , 71.294     , 72.97774795, 72.38374522, 60.278     ,\n",
       "       54.065     , 82.467     , 72.909     , 75.793     , 63.905     ,\n",
       "       67.617     , 78.809     , 58.741     , 84.207     , 73.967     ,\n",
       "       68.472     , 57.8       , 81.477     , 57.739     , 53.686     ,\n",
       "       66.625     , 67.774     , 61.694     , 53.268     , 72.952     ,\n",
       "       81.239     , 68.833     , 78.613     , 49.726     , 56.882     ,\n",
       "       58.533     , 52.028     , 73.53249863, 74.124     , 48.89      ,\n",
       "       72.475     , 59.772     , 73.098     , 63.837     , 64.305     ,\n",
       "       66.049     , 79.571     , 57.971     , 73.971     , 76.011     ,\n",
       "       63.813     , 73.9       , 46.068     , 62.908     , 74.744     ,\n",
       "       65.103     , 73.227     , 64.997     , 74.706     , 76.326     ,\n",
       "       62.174     , 77.206     , 72.701     , 48.097     , 72.363     ,\n",
       "       76.026     , 74.893     , 73.377     , 74.792     , 77.924     ,\n",
       "       51.067     , 56.196     , 54.188     , 71.90849863, 78.211     ,\n",
       "       75.597     , 58.111     , 73.464     , 64.469     , 68.433     ,\n",
       "       64.833     , 48.954     , 73.154     , 57.09      , 80.061     ,\n",
       "       54.28      , 79.026     , 54.226     , 72.622     , 69.1914877 ,\n",
       "       77.798     , 74.317     , 71.967     , 73.78724932, 81.694     ,\n",
       "       73.42449863, 70.15724932, 65.433     , 67.343     , 75.588     ,\n",
       "       83.499     , 68.914     , 74.436     , 72.846     , 72.88      ,\n",
       "       64.709     , 74.064     , 74.193     , 72.39      , 73.206     ,\n",
       "       53.396     , 58.398     , 74.687     , 71.985     , 75.72      ,\n",
       "       61.395     , 69.52124932, 63.168     , 57.058     , 74.84      ,\n",
       "       81.884     , 67.455     , 69.74673702, 73.466     , 76.538     ,\n",
       "       55.609     , 73.498     , 76.71      , 66.543     , 69.64      ,\n",
       "       63.167     , 58.486     , 75.995     , 62.827     , 75.177     ,\n",
       "       73.40224932, 56.773     , 72.942     , 75.802     , 73.839     ,\n",
       "       72.69124658, 59.563     , 72.362     , 72.90424932, 66.921     ,\n",
       "       52.511     , 82.213     , 81.087     , 82.726     , 63.65      ,\n",
       "       54.84      , 73.607     , 58.238     , 68.35      , 74.32      ,\n",
       "       54.393     , 78.564     , 73.725     , 80.748     , 64.718     ,\n",
       "       65.902     , 82.004     , 72.95524932, 84.799     , 74.165     ,\n",
       "       53.165     , 78.276     , 52.707     , 69.725     , 63.998     ,\n",
       "       60.513     , 71.97      , 72.815     , 69.034     , 73.125     ,\n",
       "       73.597     , 82.197     , 81.404     , 73.335     , 68.007     ,\n",
       "       69.334     , 63.24      , 72.96174795, 70.757     , 70.12724932,\n",
       "       64.12      , 59.663     , 66.338     , 72.822     , 73.6204959 ,\n",
       "       76.082     , 56.012     , 61.977     , 71.241     , 70.485     ,\n",
       "       48.834     , 75.986     , 72.332     , 67.735     , 45.771     ,\n",
       "       55.315     , 53.868     , 66.25      , 69.408     , 76.562     ,\n",
       "       74.283     , 71.53974522, 72.72674795, 78.55      , 81.536     ,\n",
       "       68.297     , 76.429     , 80.227     , 78.952     , 56.239     ,\n",
       "       82.981     , 60.968     , 69.23398361, 73.91424932, 53.312     ,\n",
       "       81.235     , 82.589     , 51.489     , 67.533     , 73.712     ,\n",
       "       72.492     , 60.926     , 62.788     , 64.507     , 61.47      ,\n",
       "       56.551     , 82.581     , 71.231     , 82.304     , 68.36      ,\n",
       "       73.825     , 75.855     , 71.648     , 72.948     , 82.94      ,\n",
       "       68.714     , 63.684     , 67.454     , 80.165     , 77.027     ,\n",
       "       76.557     , 69.558     , 73.297     , 72.883     , 67.332     ,\n",
       "       79.784     , 74.983     , 81.799     , 71.41749863, 75.909     ,\n",
       "       72.582     , 72.04      , 53.772     , 66.661     , 69.985     ,\n",
       "       63.81      , 84.176     , 73.53      , 62.288     , 71.798     ,\n",
       "       75.126     , 57.316     , 82.2       , 73.008     , 75.442     ,\n",
       "       82.141     , 73.06924932, 80.249     , 75.75      , 74.121     ,\n",
       "       63.039     , 70.761     , 71.25624932, 70.09124658, 53.322     ,\n",
       "       63.646     , 61.011     , 63.245     , 69.516     , 58.944     ,\n",
       "       70.924     , 83.371     , 69.021     , 74.906     , 68.818     ,\n",
       "       63.508     , 64.063     , 70.69424932, 76.97      , 82.198     ,\n",
       "       54.451     , 71.993     , 73.857     , 80.694     , 72.828     ,\n",
       "       82.991     , 72.095     , 75.135     , 84.057     , 81.231     ,\n",
       "       77.249     , 51.427     , 56.429     , 69.927     , 74.916     ,\n",
       "       63.289     , 71.21449863, 57.594     , 55.718     , 72.819     ,\n",
       "       74.847     , 58.229     , 82.781     , 56.513     , 74.995     ,\n",
       "       70.128     , 77.754     , 68.454     , 76.037     , 79.33      ,\n",
       "       59.464     , 82.455     , 82.402     , 75.129     , 49.885     ,\n",
       "       74.995     , 79.582     , 83.633     , 54.339     , 72.799     ,\n",
       "       74.731     , 63.151     , 78.016     , 72.218     , 73.07449863,\n",
       "       67.922     , 72.58974795, 70.60174795, 56.913     , 74.419     ,\n",
       "       55.925     , 78.253     , 79.801     , 58.512     , 73.95      ,\n",
       "       63.336     , 70.303     , 73.931     ])"
      ]
     },
     "execution_count": 18,
     "metadata": {},
     "output_type": "execute_result"
    }
   ],
   "source": [
    "y_hat"
   ]
  },
  {
   "cell_type": "code",
   "execution_count": 19,
   "metadata": {},
   "outputs": [
    {
     "data": {
      "text/plain": [
       "0.9558198503230277"
      ]
     },
     "execution_count": 19,
     "metadata": {},
     "output_type": "execute_result"
    }
   ],
   "source": [
    "from sklearn.metrics import r2_score\n",
    "r2_score(y_hat,y_test)"
   ]
  },
  {
   "cell_type": "code",
   "execution_count": 20,
   "metadata": {},
   "outputs": [
    {
     "data": {
      "text/plain": [
       "Index(['Country', 'Year', 'Status', 'Lifeexpectancy', 'AdultMortality',\n",
       "       'infantdeaths', 'Alcohol', 'percentageexpenditure', 'HepatitisB',\n",
       "       'Measles', 'BMI', 'under-fivedeaths', 'Polio', 'Totalexpenditure',\n",
       "       'Diphtheria', 'HIV/AIDS', 'GDP', 'Population', 'thinness1-19years',\n",
       "       'thinness5-9years', 'Incomecompositionofresources', 'Schooling'],\n",
       "      dtype='object')"
      ]
     },
     "execution_count": 20,
     "metadata": {},
     "output_type": "execute_result"
    }
   ],
   "source": [
    "life.columns"
   ]
  },
  {
   "cell_type": "code",
   "execution_count": 28,
   "metadata": {},
   "outputs": [
    {
     "data": {
      "text/plain": [
       "array([48.245])"
      ]
     },
     "execution_count": 28,
     "metadata": {},
     "output_type": "execute_result"
    }
   ],
   "source": [
    "rr.predict([[15,2016,1,100,1000,3.4,56.6,80,8000,19.1,800,90,5.9,90,0.3,1500.1,13245172,20.1,26.5,0.643,11.1]])"
   ]
  },
  {
   "cell_type": "code",
   "execution_count": 30,
   "metadata": {},
   "outputs": [
    {
     "data": {
      "text/plain": [
       "array([48.497])"
      ]
     },
     "execution_count": 30,
     "metadata": {},
     "output_type": "execute_result"
    }
   ],
   "source": [
    "rr.predict([[20,2017,0,100,1000,4.4,57.6,80,9000,18.1,700,80,6.9,80,0.4,2500.1,132451723,21.1,25.5,0.463,12.1]])"
   ]
  },
  {
   "cell_type": "code",
   "execution_count": null,
   "metadata": {},
   "outputs": [],
   "source": []
  },
  {
   "cell_type": "code",
   "execution_count": null,
   "metadata": {},
   "outputs": [],
   "source": []
  },
  {
   "cell_type": "code",
   "execution_count": null,
   "metadata": {},
   "outputs": [],
   "source": []
  }
 ],
 "metadata": {
  "kernelspec": {
   "display_name": "Python 3.10.6 64-bit",
   "language": "python",
   "name": "python3"
  },
  "language_info": {
   "codemirror_mode": {
    "name": "ipython",
    "version": 3
   },
   "file_extension": ".py",
   "mimetype": "text/x-python",
   "name": "python",
   "nbconvert_exporter": "python",
   "pygments_lexer": "ipython3",
   "version": "3.10.6"
  },
  "orig_nbformat": 4,
  "vscode": {
   "interpreter": {
    "hash": "aee8b7b246df8f9039afb4144a1f6fd8d2ca17a180786b69acc140d282b71a49"
   }
  }
 },
 "nbformat": 4,
 "nbformat_minor": 2
}
