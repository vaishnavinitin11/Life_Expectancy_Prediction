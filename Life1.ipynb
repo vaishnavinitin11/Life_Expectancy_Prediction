{
 "cells": [
  {
   "cell_type": "code",
   "execution_count": 176,
   "metadata": {},
   "outputs": [],
   "source": [
    "import pandas as pd\n",
    "import numpy as np"
   ]
  },
  {
   "cell_type": "code",
   "execution_count": 177,
   "metadata": {},
   "outputs": [],
   "source": [
    "life=pd.read_csv('/Users/vaishnaviuttarkar/Life Expectany/Life_Expectancy_Model/CleanedLifeExpectancy.csv')"
   ]
  },
  {
   "cell_type": "code",
   "execution_count": 178,
   "metadata": {},
   "outputs": [
    {
     "name": "stdout",
     "output_type": "stream",
     "text": [
      "<class 'pandas.core.frame.DataFrame'>\n",
      "RangeIndex: 2938 entries, 0 to 2937\n",
      "Data columns (total 22 columns):\n",
      " #   Column                        Non-Null Count  Dtype  \n",
      "---  ------                        --------------  -----  \n",
      " 0   Country                       2938 non-null   object \n",
      " 1   Year                          2938 non-null   int64  \n",
      " 2   Status                        2938 non-null   object \n",
      " 3   Lifeexpectancy                2938 non-null   float64\n",
      " 4   AdultMortality                2938 non-null   int64  \n",
      " 5   infantdeaths                  2938 non-null   int64  \n",
      " 6   Alcohol                       2938 non-null   float64\n",
      " 7   percentageexpenditure         2938 non-null   float64\n",
      " 8   HepatitisB                    2938 non-null   int64  \n",
      " 9   Measles                       2938 non-null   int64  \n",
      " 10  BMI                           2938 non-null   float64\n",
      " 11  under-fivedeaths              2938 non-null   int64  \n",
      " 12  Polio                         2938 non-null   int64  \n",
      " 13  Totalexpenditure              2938 non-null   float64\n",
      " 14  Diphtheria                    2938 non-null   int64  \n",
      " 15  HIV/AIDS                      2938 non-null   float64\n",
      " 16  GDP                           2938 non-null   int64  \n",
      " 17  Population                    2938 non-null   int64  \n",
      " 18  thinness1-19years             2938 non-null   float64\n",
      " 19  thinness5-9years              2938 non-null   float64\n",
      " 20  Incomecompositionofresources  2938 non-null   float64\n",
      " 21  Schooling                     2938 non-null   float64\n",
      "dtypes: float64(10), int64(10), object(2)\n",
      "memory usage: 505.1+ KB\n"
     ]
    }
   ],
   "source": [
    "life.info()"
   ]
  },
  {
   "cell_type": "code",
   "execution_count": 179,
   "metadata": {},
   "outputs": [
    {
     "name": "stdout",
     "output_type": "stream",
     "text": [
      "<class 'pandas.core.frame.DataFrame'>\n",
      "RangeIndex: 2938 entries, 0 to 2937\n",
      "Data columns (total 22 columns):\n",
      " #   Column                        Non-Null Count  Dtype  \n",
      "---  ------                        --------------  -----  \n",
      " 0   Country                       2938 non-null   object \n",
      " 1   Year                          2938 non-null   int64  \n",
      " 2   Status                        2938 non-null   object \n",
      " 3   Lifeexpectancy                2938 non-null   float64\n",
      " 4   AdultMortality                2938 non-null   int64  \n",
      " 5   infantdeaths                  2938 non-null   int64  \n",
      " 6   Alcohol                       2938 non-null   float64\n",
      " 7   percentageexpenditure         2938 non-null   float64\n",
      " 8   HepatitisB                    2938 non-null   int64  \n",
      " 9   Measles                       2938 non-null   int64  \n",
      " 10  BMI                           2938 non-null   float64\n",
      " 11  under-fivedeaths              2938 non-null   int64  \n",
      " 12  Polio                         2938 non-null   int64  \n",
      " 13  Totalexpenditure              2938 non-null   float64\n",
      " 14  Diphtheria                    2938 non-null   int64  \n",
      " 15  HIV/AIDS                      2938 non-null   float64\n",
      " 16  GDP                           2938 non-null   int64  \n",
      " 17  Population                    2938 non-null   int64  \n",
      " 18  thinness1-19years             2938 non-null   float64\n",
      " 19  thinness5-9years              2938 non-null   float64\n",
      " 20  Incomecompositionofresources  2938 non-null   float64\n",
      " 21  Schooling                     2938 non-null   float64\n",
      "dtypes: float64(10), int64(10), object(2)\n",
      "memory usage: 505.1+ KB\n"
     ]
    }
   ],
   "source": [
    "life.info()"
   ]
  },
  {
   "cell_type": "code",
   "execution_count": 180,
   "metadata": {},
   "outputs": [],
   "source": [
    "# life.to_csv('CleanedLifeExpectancy.csv',index=False)"
   ]
  },
  {
   "cell_type": "markdown",
   "metadata": {},
   "source": [
    "Label Encoding"
   ]
  },
  {
   "cell_type": "code",
   "execution_count": 181,
   "metadata": {},
   "outputs": [],
   "source": [
    "from sklearn.preprocessing import LabelEncoder\n",
    "le=LabelEncoder()\n",
    "a= life.select_dtypes(include='object').columns\n",
    "for i in a:\n",
    "    life[i] = le.fit_transform(life[i])"
   ]
  },
  {
   "cell_type": "code",
   "execution_count": null,
   "metadata": {},
   "outputs": [],
   "source": []
  },
  {
   "cell_type": "markdown",
   "metadata": {},
   "source": []
  },
  {
   "cell_type": "code",
   "execution_count": 182,
   "metadata": {},
   "outputs": [
    {
     "data": {
      "text/plain": [
       "Country                           int64\n",
       "Year                              int64\n",
       "Status                            int64\n",
       "Lifeexpectancy                  float64\n",
       "AdultMortality                    int64\n",
       "infantdeaths                      int64\n",
       "Alcohol                         float64\n",
       "percentageexpenditure           float64\n",
       "HepatitisB                        int64\n",
       "Measles                           int64\n",
       "BMI                             float64\n",
       "under-fivedeaths                  int64\n",
       "Polio                             int64\n",
       "Totalexpenditure                float64\n",
       "Diphtheria                        int64\n",
       "HIV/AIDS                        float64\n",
       "GDP                               int64\n",
       "Population                        int64\n",
       "thinness1-19years               float64\n",
       "thinness5-9years                float64\n",
       "Incomecompositionofresources    float64\n",
       "Schooling                       float64\n",
       "dtype: object"
      ]
     },
     "execution_count": 182,
     "metadata": {},
     "output_type": "execute_result"
    }
   ],
   "source": [
    "life.dtypes"
   ]
  },
  {
   "cell_type": "markdown",
   "metadata": {},
   "source": [
    "Separating dependent and independent variables"
   ]
  },
  {
   "cell_type": "code",
   "execution_count": 183,
   "metadata": {},
   "outputs": [
    {
     "data": {
      "text/plain": [
       "(2938, 22)"
      ]
     },
     "execution_count": 183,
     "metadata": {},
     "output_type": "execute_result"
    }
   ],
   "source": [
    "life.shape"
   ]
  },
  {
   "cell_type": "code",
   "execution_count": 184,
   "metadata": {},
   "outputs": [],
   "source": [
    "X=life.drop(columns='Lifeexpectancy')\n",
    "y=life['Lifeexpectancy']"
   ]
  },
  {
   "cell_type": "markdown",
   "metadata": {},
   "source": [
    "Performing train-test split\n"
   ]
  },
  {
   "cell_type": "code",
   "execution_count": 185,
   "metadata": {},
   "outputs": [],
   "source": [
    "from sklearn.model_selection import train_test_split\n",
    "X_train,X_test,y_train,y_test=train_test_split(X,y,test_size=0.2,random_state=42)"
   ]
  },
  {
   "cell_type": "markdown",
   "metadata": {},
   "source": [
    "Trying out several algorithms"
   ]
  },
  {
   "cell_type": "code",
   "execution_count": 186,
   "metadata": {},
   "outputs": [],
   "source": [
    "from sklearn.linear_model import LinearRegression,Ridge,Lasso\n",
    "from sklearn.tree import DecisionTreeRegressor\n",
    "from sklearn.ensemble import RandomForestRegressor\n",
    "from xgboost import XGBRegressor\n",
    "from sklearn.neighbors import KNeighborsRegressor\n",
    "from sklearn.metrics import mean_squared_error\n",
    "from math import sqrt"
   ]
  },
  {
   "cell_type": "code",
   "execution_count": 187,
   "metadata": {},
   "outputs": [],
   "source": [
    "alg=[LinearRegression(),Ridge(),Lasso(),DecisionTreeRegressor(),RandomForestRegressor(),XGBRegressor(),KNeighborsRegressor()]\n",
    "\n",
    "names=['linearregression','ridgeregression','lassoregression','decisiontreeregressor','randomforestregressor','xgboostregressor','kneighborsregressor']"
   ]
  },
  {
   "cell_type": "code",
   "execution_count": 188,
   "metadata": {},
   "outputs": [
    {
     "name": "stderr",
     "output_type": "stream",
     "text": [
      "/Library/Frameworks/Python.framework/Versions/3.10/lib/python3.10/site-packages/sklearn/linear_model/_ridge.py:212: LinAlgWarning: Ill-conditioned matrix (rcond=5.23045e-18): result may not be accurate.\n",
      "  return linalg.solve(A, Xy, assume_a=\"pos\", overwrite_a=True).T\n",
      "/Library/Frameworks/Python.framework/Versions/3.10/lib/python3.10/site-packages/sklearn/linear_model/_coordinate_descent.py:648: ConvergenceWarning: Objective did not converge. You might want to increase the number of iterations, check the scale of the features or consider increasing regularisation. Duality gap: 2.088e+04, tolerance: 2.145e+01\n",
      "  model = cd_fast.enet_coordinate_descent(\n"
     ]
    }
   ],
   "source": [
    "l1=[]\n",
    "for i in alg:\n",
    "    model=i\n",
    "    model.fit(X_train,y_train)\n",
    "    y_hat=model.predict(X_test)\n",
    "    mse=mean_squared_error(y_test,y_hat)\n",
    "    rmse=sqrt(mse)\n",
    "    l1.append(rmse)"
   ]
  },
  {
   "cell_type": "code",
   "execution_count": 189,
   "metadata": {},
   "outputs": [],
   "source": [
    "eval=pd.DataFrame({'Model':names,\n",
    "                  'RMSE':l1})"
   ]
  },
  {
   "cell_type": "code",
   "execution_count": 190,
   "metadata": {},
   "outputs": [
    {
     "data": {
      "text/html": [
       "<div>\n",
       "<style scoped>\n",
       "    .dataframe tbody tr th:only-of-type {\n",
       "        vertical-align: middle;\n",
       "    }\n",
       "\n",
       "    .dataframe tbody tr th {\n",
       "        vertical-align: top;\n",
       "    }\n",
       "\n",
       "    .dataframe thead th {\n",
       "        text-align: right;\n",
       "    }\n",
       "</style>\n",
       "<table border=\"1\" class=\"dataframe\">\n",
       "  <thead>\n",
       "    <tr style=\"text-align: right;\">\n",
       "      <th></th>\n",
       "      <th>Model</th>\n",
       "      <th>RMSE</th>\n",
       "    </tr>\n",
       "  </thead>\n",
       "  <tbody>\n",
       "    <tr>\n",
       "      <th>0</th>\n",
       "      <td>linearregression</td>\n",
       "      <td>3.889173</td>\n",
       "    </tr>\n",
       "    <tr>\n",
       "      <th>1</th>\n",
       "      <td>ridgeregression</td>\n",
       "      <td>3.886908</td>\n",
       "    </tr>\n",
       "    <tr>\n",
       "      <th>2</th>\n",
       "      <td>lassoregression</td>\n",
       "      <td>3.964915</td>\n",
       "    </tr>\n",
       "    <tr>\n",
       "      <th>3</th>\n",
       "      <td>decisiontreeregressor</td>\n",
       "      <td>2.623692</td>\n",
       "    </tr>\n",
       "    <tr>\n",
       "      <th>4</th>\n",
       "      <td>randomforestregressor</td>\n",
       "      <td>1.638980</td>\n",
       "    </tr>\n",
       "    <tr>\n",
       "      <th>5</th>\n",
       "      <td>xgboostregressor</td>\n",
       "      <td>1.777019</td>\n",
       "    </tr>\n",
       "    <tr>\n",
       "      <th>6</th>\n",
       "      <td>kneighborsregressor</td>\n",
       "      <td>9.156520</td>\n",
       "    </tr>\n",
       "  </tbody>\n",
       "</table>\n",
       "</div>"
      ],
      "text/plain": [
       "                   Model      RMSE\n",
       "0       linearregression  3.889173\n",
       "1        ridgeregression  3.886908\n",
       "2        lassoregression  3.964915\n",
       "3  decisiontreeregressor  2.623692\n",
       "4  randomforestregressor  1.638980\n",
       "5       xgboostregressor  1.777019\n",
       "6    kneighborsregressor  9.156520"
      ]
     },
     "execution_count": 190,
     "metadata": {},
     "output_type": "execute_result"
    }
   ],
   "source": [
    "eval"
   ]
  },
  {
   "cell_type": "markdown",
   "metadata": {},
   "source": [
    "Conclusion: Random forest gives the best accuracy"
   ]
  },
  {
   "cell_type": "code",
   "execution_count": 191,
   "metadata": {},
   "outputs": [],
   "source": [
    "from sklearn.ensemble import RandomForestRegressor\n",
    "\n",
    "rr=RandomForestRegressor ()\n",
    "\n",
    "rr.fit(X_train,y_train)\n",
    "\n",
    "y_hat=rr.predict(X_test)"
   ]
  },
  {
   "cell_type": "code",
   "execution_count": 192,
   "metadata": {},
   "outputs": [
    {
     "data": {
      "text/plain": [
       "array([73.074     , 75.637     , 74.869     , 76.249     , 52.79      ,\n",
       "       51.466     , 65.926     , 73.758     , 76.711     , 55.677     ,\n",
       "       51.845     , 52.903     , 57.12      , 74.092     , 69.48249863,\n",
       "       62.158     , 58.472     , 79.327     , 69.863     , 79.025     ,\n",
       "       80.823     , 84.833     , 72.68124932, 68.96024658, 70.8909918 ,\n",
       "       68.063     , 55.03      , 65.228     , 82.649     , 74.07      ,\n",
       "       67.449     , 74.454     , 74.377     , 71.77      , 78.725     ,\n",
       "       49.258     , 59.325     , 72.727     , 63.905     , 73.723     ,\n",
       "       54.699     , 61.269     , 75.295     , 81.71      , 76.671     ,\n",
       "       47.984     , 80.104     , 75.01      , 59.456     , 71.843     ,\n",
       "       54.064     , 71.653     , 82.112     , 81.324     , 74.474     ,\n",
       "       58.201     , 73.02249863, 75.742     , 63.256     , 69.079     ,\n",
       "       78.355     , 54.71      , 74.434     , 72.464     , 52.89      ,\n",
       "       54.101     , 52.5       , 76.652     , 59.983     , 71.313     ,\n",
       "       82.613     , 78.062     , 73.828     , 51.69      , 54.31      ,\n",
       "       67.835     , 63.994     , 76.159     , 57.982     , 62.498     ,\n",
       "       64.038     , 63.155     , 64.019     , 64.625     , 66.079     ,\n",
       "       79.859     , 73.118     , 67.061     , 73.393     , 79.836     ,\n",
       "       73.003     , 53.799     , 73.558     , 76.022     , 75.498     ,\n",
       "       68.15      , 79.201     , 70.51949863, 66.078     , 63.988     ,\n",
       "       82.27      , 53.184     , 74.587     , 53.086     , 75.301     ,\n",
       "       81.851     , 69.18473702, 67.516     , 60.051     , 61.89      ,\n",
       "       64.234     , 62.329     , 54.247     , 67.728     , 64.432     ,\n",
       "       77.518     , 55.246     , 53.295     , 59.37      , 63.435     ,\n",
       "       64.729     , 72.53924932, 82.387     , 56.33      , 59.204     ,\n",
       "       65.963     , 72.92024932, 62.887     , 73.30449863, 72.49924932,\n",
       "       74.46      , 82.272     , 72.615     , 66.724     , 51.704     ,\n",
       "       67.424     , 75.642     , 78.624     , 75.807     , 75.129     ,\n",
       "       72.66749863, 66.429     , 62.133     , 58.63      , 48.786     ,\n",
       "       64.726     , 72.439     , 73.63      , 61.921     , 78.203     ,\n",
       "       74.842     , 83.139     , 67.53124932, 58.795     , 82.025     ,\n",
       "       76.845     , 82.67      , 73.278     , 79.211     , 81.934     ,\n",
       "       73.769     , 81.842     , 67.892     , 80.434     , 73.178     ,\n",
       "       64.399     , 61.664     , 83.378     , 77.366     , 73.309     ,\n",
       "       81.975     , 73.425     , 71.301     , 58.537     , 74.609     ,\n",
       "       65.975     , 72.853     , 63.893     , 53.497     , 73.189     ,\n",
       "       82.571     , 69.441     , 79.178     , 74.179     , 80.089     ,\n",
       "       44.487     , 64.453     , 51.681     , 70.438     , 72.2974959 ,\n",
       "       60.971     , 68.753     , 80.507     , 62.755     , 77.623     ,\n",
       "       68.389     , 74.302     , 69.49      , 81.016     , 72.387     ,\n",
       "       74.566     , 57.679     , 75.4       , 70.14724932, 65.612     ,\n",
       "       50.006     , 74.481     , 68.691     , 73.203     , 81.971     ,\n",
       "       61.474     , 51.94      , 74.585     , 52.671     , 58.614     ,\n",
       "       62.22      , 65.953     , 76.12      , 59.671     , 67.372     ,\n",
       "       77.488     , 74.464     , 78.532     , 78.717     , 75.102     ,\n",
       "       50.311     , 49.139     , 74.79      , 54.789     , 63.508     ,\n",
       "       72.251     , 75.113     , 65.43124932, 74.565     , 72.563     ,\n",
       "       51.784     , 77.305     , 79.018     , 52.14      , 75.652     ,\n",
       "       74.433     , 72.43224932, 73.38024932, 71.52923566, 60.218     ,\n",
       "       54.024     , 82.915     , 73.694     , 75.473     , 63.093     ,\n",
       "       67.923     , 79.623     , 57.701     , 84.052     , 73.893     ,\n",
       "       69.293     , 58.203     , 81.351     , 57.89      , 53.943     ,\n",
       "       65.926     , 67.134     , 60.967     , 52.634     , 73.048     ,\n",
       "       81.296     , 68.497     , 78.38      , 50.482     , 53.503     ,\n",
       "       58.332     , 53.132     , 73.31924932, 74.199     , 46.464     ,\n",
       "       72.61824932, 59.711     , 72.885     , 63.803     , 64.19      ,\n",
       "       65.991     , 78.927     , 59.068     , 74.1       , 76.658     ,\n",
       "       63.087     , 73.043     , 45.111     , 63.302     , 74.794     ,\n",
       "       64.974     , 73.718     , 64.471     , 75.194     , 76.113     ,\n",
       "       64.25      , 77.177     , 73.39      , 48.559     , 71.979     ,\n",
       "       76.441     , 75.171     , 73.311     , 74.761     , 80.312     ,\n",
       "       49.573     , 52.732     , 53.739     , 73.283     , 78.265     ,\n",
       "       70.315     , 56.495     , 73.409     , 62.293     , 67.516     ,\n",
       "       64.78      , 49.123     , 72.763     , 58.576     , 81.799     ,\n",
       "       54.384     , 79.201     , 53.664     , 73.002     , 69.45724385,\n",
       "       77.14      , 74.352     , 72.02      , 74.28924932, 81.847     ,\n",
       "       70.841     , 67.609     , 63.345     , 67.544     , 74.718     ,\n",
       "       83.671     , 68.235     , 74.469     , 72.977     , 72.488     ,\n",
       "       64.655     , 74.226     , 74.307     , 71.907     , 72.122     ,\n",
       "       54.806     , 57.741     , 74.553     , 71.975     , 76.475     ,\n",
       "       64.103     , 69.21524932, 62.88      , 56.427     , 74.823     ,\n",
       "       81.925     , 67.37      , 69.40097268, 73.116     , 76.418     ,\n",
       "       55.205     , 72.498     , 76.894     , 66.493     , 70.048     ,\n",
       "       62.812     , 57.664     , 75.834     , 61.264     , 74.954     ,\n",
       "       73.847     , 57.887     , 72.716     , 75.387     , 73.319     ,\n",
       "       74.679     , 57.095     , 72.162     , 73.552     , 67.066     ,\n",
       "       51.66      , 82.127     , 81.046     , 82.408     , 63.57      ,\n",
       "       55.062     , 73.067     , 56.837     , 68.123     , 74.249     ,\n",
       "       53.486     , 78.417     , 74.251     , 82.192     , 64.47824932,\n",
       "       65.198     , 82.105     , 72.76      , 84.456     , 73.895     ,\n",
       "       52.977     , 78.413     , 53.882     , 68.212     , 63.064     ,\n",
       "       58.366     , 71.838     , 72.447     , 68.834     , 73.331     ,\n",
       "       72.861     , 82.443     , 83.767     , 73.09      , 67.958     ,\n",
       "       69.016     , 63.036     , 73.33824932, 71.34524932, 69.982     ,\n",
       "       64.01      , 57.816     , 65.861     , 72.141     , 73.61424932,\n",
       "       76.368     , 54.774     , 61.172     , 70.565     , 69.43      ,\n",
       "       49.748     , 76.04      , 71.126     , 68.095     , 44.948     ,\n",
       "       56.245     , 53.813     , 66.299     , 67.602     , 75.5       ,\n",
       "       73.812     , 70.46524385, 73.825     , 78.483     , 82.47      ,\n",
       "       68.016     , 76.736     , 80.57      , 78.76      , 56.023     ,\n",
       "       84.248     , 59.119     , 69.70098907, 74.264     , 52.569     ,\n",
       "       82.468     , 81.847     , 52.617     , 68.232     , 73.733     ,\n",
       "       71.633     , 57.812     , 63.071     , 62.674     , 61.257     ,\n",
       "       55.597     , 82.419     , 70.195     , 82.489     , 68.31924932,\n",
       "       73.991     , 75.742     , 71.595     , 72.713     , 82.426     ,\n",
       "       68.015     , 63.512     , 67.268     , 80.716     , 75.857     ,\n",
       "       76.809     , 68.41924932, 73.226     , 73.13      , 67.202     ,\n",
       "       79.57      , 75.155     , 81.523     , 71.81724932, 75.814     ,\n",
       "       72.725     , 72.021     , 52.424     , 66.379     , 69.866     ,\n",
       "       63.979     , 84.397     , 73.443     , 62.913     , 71.63      ,\n",
       "       75.065     , 56.147     , 82.259     , 72.955     , 75.238     ,\n",
       "       82.489     , 73.575     , 80.604     , 75.322     , 74.781     ,\n",
       "       63.506     , 71.362     , 71.298     , 70.10199727, 52.255     ,\n",
       "       63.435     , 61.417     , 62.239     , 69.584     , 57.012     ,\n",
       "       70.663     , 83.377     , 69.10649863, 74.97      , 68.05      ,\n",
       "       63.783     , 63.017     , 71.512     , 77.917     , 82.042     ,\n",
       "       55.367     , 74.45      , 73.379     , 80.215     , 72.741     ,\n",
       "       82.739     , 72.841     , 75.575     , 83.643     , 81.339     ,\n",
       "       77.091     , 52.931     , 56.872     , 69.17424932, 74.767     ,\n",
       "       63.213     , 70.60174795, 57.949     , 54.015     , 73.647     ,\n",
       "       74.939     , 56.748     , 82.852     , 55.652     , 74.142     ,\n",
       "       69.707     , 77.007     , 67.82      , 75.982     , 79.696     ,\n",
       "       59.866     , 82.439     , 82.358     , 75.071     , 49.575     ,\n",
       "       74.931     , 79.677     , 83.215     , 54.4       , 72.469     ,\n",
       "       74.186     , 62.793     , 77.631     , 72.303     , 73.508     ,\n",
       "       68.099     , 72.03674795, 70.30824932, 53.62      , 74.357     ,\n",
       "       56.962     , 78.867     , 80.168     , 57.806     , 73.802     ,\n",
       "       65.074     , 71.182     , 73.924     ])"
      ]
     },
     "execution_count": 192,
     "metadata": {},
     "output_type": "execute_result"
    }
   ],
   "source": [
    "y_hat"
   ]
  },
  {
   "cell_type": "code",
   "execution_count": 193,
   "metadata": {},
   "outputs": [
    {
     "data": {
      "text/plain": [
       "0.9692117607726335"
      ]
     },
     "execution_count": 193,
     "metadata": {},
     "output_type": "execute_result"
    }
   ],
   "source": [
    "from sklearn.metrics import r2_score\n",
    "r2_score(y_hat,y_test)"
   ]
  },
  {
   "cell_type": "code",
   "execution_count": 194,
   "metadata": {},
   "outputs": [
    {
     "data": {
      "text/plain": [
       "Index(['Country', 'Year', 'Status', 'Lifeexpectancy', 'AdultMortality',\n",
       "       'infantdeaths', 'Alcohol', 'percentageexpenditure', 'HepatitisB',\n",
       "       'Measles', 'BMI', 'under-fivedeaths', 'Polio', 'Totalexpenditure',\n",
       "       'Diphtheria', 'HIV/AIDS', 'GDP', 'Population', 'thinness1-19years',\n",
       "       'thinness5-9years', 'Incomecompositionofresources', 'Schooling'],\n",
       "      dtype='object')"
      ]
     },
     "execution_count": 194,
     "metadata": {},
     "output_type": "execute_result"
    }
   ],
   "source": [
    "life.columns"
   ]
  },
  {
   "cell_type": "code",
   "execution_count": 195,
   "metadata": {},
   "outputs": [
    {
     "name": "stdout",
     "output_type": "stream",
     "text": [
      "<class 'pandas.core.frame.DataFrame'>\n",
      "RangeIndex: 2938 entries, 0 to 2937\n",
      "Data columns (total 22 columns):\n",
      " #   Column                        Non-Null Count  Dtype  \n",
      "---  ------                        --------------  -----  \n",
      " 0   Country                       2938 non-null   int64  \n",
      " 1   Year                          2938 non-null   int64  \n",
      " 2   Status                        2938 non-null   int64  \n",
      " 3   Lifeexpectancy                2938 non-null   float64\n",
      " 4   AdultMortality                2938 non-null   int64  \n",
      " 5   infantdeaths                  2938 non-null   int64  \n",
      " 6   Alcohol                       2938 non-null   float64\n",
      " 7   percentageexpenditure         2938 non-null   float64\n",
      " 8   HepatitisB                    2938 non-null   int64  \n",
      " 9   Measles                       2938 non-null   int64  \n",
      " 10  BMI                           2938 non-null   float64\n",
      " 11  under-fivedeaths              2938 non-null   int64  \n",
      " 12  Polio                         2938 non-null   int64  \n",
      " 13  Totalexpenditure              2938 non-null   float64\n",
      " 14  Diphtheria                    2938 non-null   int64  \n",
      " 15  HIV/AIDS                      2938 non-null   float64\n",
      " 16  GDP                           2938 non-null   int64  \n",
      " 17  Population                    2938 non-null   int64  \n",
      " 18  thinness1-19years             2938 non-null   float64\n",
      " 19  thinness5-9years              2938 non-null   float64\n",
      " 20  Incomecompositionofresources  2938 non-null   float64\n",
      " 21  Schooling                     2938 non-null   float64\n",
      "dtypes: float64(10), int64(12)\n",
      "memory usage: 505.1 KB\n"
     ]
    }
   ],
   "source": [
    "life.info()"
   ]
  },
  {
   "cell_type": "code",
   "execution_count": 196,
   "metadata": {},
   "outputs": [],
   "source": [
    "inputfeatures=[15,2016,1,100,1000,3.4,56.6,80,8000,19.1,800,90,5.9,90,0.3,1500.1,13245172,20.1,26.5,0.643,11.1]"
   ]
  },
  {
   "cell_type": "code",
   "execution_count": 197,
   "metadata": {},
   "outputs": [],
   "source": [
    "#input_features=sc.fit_transform([inputfeatures])"
   ]
  },
  {
   "cell_type": "code",
   "execution_count": 198,
   "metadata": {},
   "outputs": [],
   "source": [
    "#rr.predict(input_features)"
   ]
  },
  {
   "cell_type": "code",
   "execution_count": 199,
   "metadata": {},
   "outputs": [
    {
     "name": "stderr",
     "output_type": "stream",
     "text": [
      "/Library/Frameworks/Python.framework/Versions/3.10/lib/python3.10/site-packages/sklearn/base.py:450: UserWarning: X does not have valid feature names, but RandomForestRegressor was fitted with feature names\n",
      "  warnings.warn(\n"
     ]
    },
    {
     "data": {
      "text/plain": [
       "array([66.868])"
      ]
     },
     "execution_count": 199,
     "metadata": {},
     "output_type": "execute_result"
    }
   ],
   "source": [
    "rr.predict([[20,2017,0,100,1000,4.4,57.6,80,9000,18.1,700,80,6.9,80,0.4,2500.1,132451723,21.1,25.5,0.463,12.1]])"
   ]
  },
  {
   "cell_type": "markdown",
   "metadata": {},
   "source": [
    "- Testing training data as an input\n",
    "\n",
    "Expected = 79.7"
   ]
  },
  {
   "cell_type": "code",
   "execution_count": 200,
   "metadata": {},
   "outputs": [
    {
     "name": "stderr",
     "output_type": "stream",
     "text": [
      "/Library/Frameworks/Python.framework/Versions/3.10/lib/python3.10/site-packages/sklearn/base.py:450: UserWarning: X does not have valid feature names, but RandomForestRegressor was fitted with feature names\n",
      "  warnings.warn(\n"
     ]
    },
    {
     "data": {
      "text/plain": [
       "array([80.038])"
      ]
     },
     "execution_count": 200,
     "metadata": {},
     "output_type": "execute_result"
    }
   ],
   "source": [
    "# Iceland-2000 (79.7)\n",
    "inputfeatures=[75,2000,0,74,0,6.17,5809.122,80,0,54.2,0,98,9.28,98,0.1,74,28125,1,0.9,0.847,16.8]\n",
    "\n",
    "rr.predict([inputfeatures])"
   ]
  },
  {
   "cell_type": "code",
   "execution_count": 201,
   "metadata": {},
   "outputs": [
    {
     "name": "stderr",
     "output_type": "stream",
     "text": [
      "/Library/Frameworks/Python.framework/Versions/3.10/lib/python3.10/site-packages/sklearn/base.py:450: UserWarning: X does not have valid feature names, but RandomForestRegressor was fitted with feature names\n",
      "  warnings.warn(\n"
     ]
    },
    {
     "data": {
      "text/plain": [
       "array([69.49])"
      ]
     },
     "execution_count": 201,
     "metadata": {},
     "output_type": "execute_result"
    }
   ],
   "source": [
    "# Iraq-2015 (68.9)\n",
    "inputfeatures=[79,2015,1,182,32,4.602861,0,56,1433,59.1,38,63,5.93819,58,0.1,182,36115649,5.3,5.1,0.649,10.1]\n",
    "#input_features=sc.fit_transform([inputfeatures])\n",
    "rr.predict([inputfeatures])"
   ]
  },
  {
   "cell_type": "code",
   "execution_count": 202,
   "metadata": {},
   "outputs": [
    {
     "name": "stderr",
     "output_type": "stream",
     "text": [
      "/Library/Frameworks/Python.framework/Versions/3.10/lib/python3.10/site-packages/sklearn/base.py:450: UserWarning: X does not have valid feature names, but RandomForestRegressor was fitted with feature names\n",
      "  warnings.warn(\n"
     ]
    },
    {
     "data": {
      "text/plain": [
       "array([86.504])"
      ]
     },
     "execution_count": 202,
     "metadata": {},
     "output_type": "execute_result"
    }
   ],
   "source": [
    "# Greece-2014 (88)\n",
    "inputfeatures=[66,2014,1,73,0,7.53,2163.043,96,1,66,0,99,8.8,99,0.1,73,1892413,0.8,0.7,0.862,17.2]\n",
    "\n",
    "rr.predict([inputfeatures])"
   ]
  },
  {
   "cell_type": "code",
   "execution_count": 203,
   "metadata": {},
   "outputs": [
    {
     "name": "stderr",
     "output_type": "stream",
     "text": [
      "/Library/Frameworks/Python.framework/Versions/3.10/lib/python3.10/site-packages/sklearn/base.py:450: UserWarning: X does not have valid feature names, but RandomForestRegressor was fitted with feature names\n",
      "  warnings.warn(\n"
     ]
    },
    {
     "data": {
      "text/plain": [
       "array([83.675])"
      ]
     },
     "execution_count": 203,
     "metadata": {},
     "output_type": "execute_result"
    }
   ],
   "source": [
    "# Cyprus-2015 (85)\n",
    "inputfeatures=[43,2015,0,52,0,4.602861,0,97,0,6.3,0,97,5.93819,97,0.1,52,116985,1,1,0.854,14.3]\n",
    "\n",
    "rr.predict([inputfeatures])"
   ]
  },
  {
   "cell_type": "code",
   "execution_count": 204,
   "metadata": {},
   "outputs": [
    {
     "name": "stderr",
     "output_type": "stream",
     "text": [
      "/Library/Frameworks/Python.framework/Versions/3.10/lib/python3.10/site-packages/sklearn/base.py:450: UserWarning: X does not have valid feature names, but RandomForestRegressor was fitted with feature names\n",
      "  warnings.warn(\n"
     ]
    },
    {
     "data": {
      "text/plain": [
       "array([69.49])"
      ]
     },
     "execution_count": 204,
     "metadata": {},
     "output_type": "execute_result"
    }
   ],
   "source": [
    "# Hungary-2011 (74.8)\n",
    "inputfeatures=[79,2015,1,182,32,4.602861,0,56,1433,59.1,38,63,5.93819,58,0.1,182,36115649,5.3,5.1,0.649,10.1]\n",
    "\n",
    "rr.predict([inputfeatures])"
   ]
  },
  {
   "cell_type": "code",
   "execution_count": 205,
   "metadata": {},
   "outputs": [
    {
     "name": "stderr",
     "output_type": "stream",
     "text": [
      "/Library/Frameworks/Python.framework/Versions/3.10/lib/python3.10/site-packages/sklearn/base.py:450: UserWarning: X does not have valid feature names, but RandomForestRegressor was fitted with feature names\n",
      "  warnings.warn(\n"
     ]
    },
    {
     "data": {
      "text/plain": [
       "array([73.694])"
      ]
     },
     "execution_count": 205,
     "metadata": {},
     "output_type": "execute_result"
    }
   ],
   "source": [
    "# Latvia-2007 (78)\n",
    "inputfeatures=[92,2007,0,221,0,12.12,170.9884,91,0,57.7,0,94,7.1,94,0.1,221,22325,2.4,2.4,0.814,16.2]\n",
    "\n",
    "rr.predict([inputfeatures])"
   ]
  },
  {
   "cell_type": "code",
   "execution_count": 206,
   "metadata": {},
   "outputs": [
    {
     "name": "stderr",
     "output_type": "stream",
     "text": [
      "/Library/Frameworks/Python.framework/Versions/3.10/lib/python3.10/site-packages/sklearn/base.py:450: UserWarning: X does not have valid feature names, but RandomForestRegressor was fitted with feature names\n",
      "  warnings.warn(\n"
     ]
    },
    {
     "data": {
      "text/plain": [
       "array([52.974])"
      ]
     },
     "execution_count": 206,
     "metadata": {},
     "output_type": "execute_result"
    }
   ],
   "source": [
    "# Malawi-2010 (52.9)\n",
    "inputfeatures=[100,2010,1,462,35,1.08,9.728005,93,118712,17.6,54,86,1.5,93,13.7,462,1516795,6.8,6.7,0.43,10.2]\n",
    "\n",
    "rr.predict([inputfeatures])"
   ]
  },
  {
   "cell_type": "code",
   "execution_count": 207,
   "metadata": {},
   "outputs": [
    {
     "name": "stderr",
     "output_type": "stream",
     "text": [
      "/Library/Frameworks/Python.framework/Versions/3.10/lib/python3.10/site-packages/sklearn/base.py:450: UserWarning: X does not have valid feature names, but RandomForestRegressor was fitted with feature names\n",
      "  warnings.warn(\n"
     ]
    },
    {
     "data": {
      "text/plain": [
       "array([63.128])"
      ]
     },
     "execution_count": 207,
     "metadata": {},
     "output_type": "execute_result"
    }
   ],
   "source": [
    "# Nepal-2002 (63.1)\n",
    "inputfeatures=[118,2002,1,238,40,0.19,23.18395,80,6749,12.4,54,72,5.6,72,0.1,238,24566342,18.2,18.8,0.447,8.6]\n",
    "\n",
    "rr.predict([inputfeatures])"
   ]
  },
  {
   "cell_type": "code",
   "execution_count": 208,
   "metadata": {},
   "outputs": [],
   "source": [
    "# # Nepal-2002 (63.1)\n",
    "# inputfeatures=[118,2002,1,238,40,0.19,23.18395,80,6749,12.4,54,72,5.6,72,0.1,238,24566342,18.2,18.8,0.447,8.6]\n",
    "# input_features=sc.fit_transform([inputfeatures])\n",
    "# rr.predict(input_features)"
   ]
  },
  {
   "cell_type": "code",
   "execution_count": 209,
   "metadata": {},
   "outputs": [],
   "source": [
    "import pickle"
   ]
  },
  {
   "cell_type": "code",
   "execution_count": 210,
   "metadata": {},
   "outputs": [],
   "source": [
    "pickle.dump(rr,open('RandomRegressionModel.pkl','wb'))"
   ]
  },
  {
   "cell_type": "code",
   "execution_count": 211,
   "metadata": {},
   "outputs": [
    {
     "name": "stdout",
     "output_type": "stream",
     "text": [
      "<class 'pandas.core.frame.DataFrame'>\n",
      "RangeIndex: 2938 entries, 0 to 2937\n",
      "Data columns (total 22 columns):\n",
      " #   Column                        Non-Null Count  Dtype  \n",
      "---  ------                        --------------  -----  \n",
      " 0   Country                       2938 non-null   int64  \n",
      " 1   Year                          2938 non-null   int64  \n",
      " 2   Status                        2938 non-null   int64  \n",
      " 3   Lifeexpectancy                2938 non-null   float64\n",
      " 4   AdultMortality                2938 non-null   int64  \n",
      " 5   infantdeaths                  2938 non-null   int64  \n",
      " 6   Alcohol                       2938 non-null   float64\n",
      " 7   percentageexpenditure         2938 non-null   float64\n",
      " 8   HepatitisB                    2938 non-null   int64  \n",
      " 9   Measles                       2938 non-null   int64  \n",
      " 10  BMI                           2938 non-null   float64\n",
      " 11  under-fivedeaths              2938 non-null   int64  \n",
      " 12  Polio                         2938 non-null   int64  \n",
      " 13  Totalexpenditure              2938 non-null   float64\n",
      " 14  Diphtheria                    2938 non-null   int64  \n",
      " 15  HIV/AIDS                      2938 non-null   float64\n",
      " 16  GDP                           2938 non-null   int64  \n",
      " 17  Population                    2938 non-null   int64  \n",
      " 18  thinness1-19years             2938 non-null   float64\n",
      " 19  thinness5-9years              2938 non-null   float64\n",
      " 20  Incomecompositionofresources  2938 non-null   float64\n",
      " 21  Schooling                     2938 non-null   float64\n",
      "dtypes: float64(10), int64(12)\n",
      "memory usage: 505.1 KB\n"
     ]
    }
   ],
   "source": [
    "# life.info()"
   ]
  },
  {
   "cell_type": "code",
   "execution_count": 212,
   "metadata": {},
   "outputs": [],
   "source": [
    "# life.to_csv('CleanedLifeExpectancyDataset.csv',index=False)"
   ]
  },
  {
   "cell_type": "code",
   "execution_count": null,
   "metadata": {},
   "outputs": [],
   "source": []
  }
 ],
 "metadata": {
  "kernelspec": {
   "display_name": "Python 3.10.6 64-bit",
   "language": "python",
   "name": "python3"
  },
  "language_info": {
   "codemirror_mode": {
    "name": "ipython",
    "version": 3
   },
   "file_extension": ".py",
   "mimetype": "text/x-python",
   "name": "python",
   "nbconvert_exporter": "python",
   "pygments_lexer": "ipython3",
   "version": "3.10.6"
  },
  "orig_nbformat": 4,
  "vscode": {
   "interpreter": {
    "hash": "aee8b7b246df8f9039afb4144a1f6fd8d2ca17a180786b69acc140d282b71a49"
   }
  }
 },
 "nbformat": 4,
 "nbformat_minor": 2
}
