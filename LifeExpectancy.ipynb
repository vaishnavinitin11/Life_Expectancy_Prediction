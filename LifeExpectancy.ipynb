{
  "cells": [
    {
      "cell_type": "code",
      "execution_count": 4,
      "metadata": {
        "trusted": true
      },
      "outputs": [],
      "source": [
        "import pandas as pd\n",
        "import numpy as np"
      ]
    },
    {
      "cell_type": "code",
      "execution_count": 5,
      "metadata": {
        "trusted": true
      },
      "outputs": [],
      "source": [
        "life=pd.read_csv('Life Expectancy Data.csv')"
      ]
    },
    {
      "cell_type": "code",
      "execution_count": 6,
      "metadata": {
        "trusted": true
      },
      "outputs": [
        {
          "data": {
            "text/html": [
              "<div>\n",
              "<style scoped>\n",
              "    .dataframe tbody tr th:only-of-type {\n",
              "        vertical-align: middle;\n",
              "    }\n",
              "\n",
              "    .dataframe tbody tr th {\n",
              "        vertical-align: top;\n",
              "    }\n",
              "\n",
              "    .dataframe thead th {\n",
              "        text-align: right;\n",
              "    }\n",
              "</style>\n",
              "<table border=\"1\" class=\"dataframe\">\n",
              "  <thead>\n",
              "    <tr style=\"text-align: right;\">\n",
              "      <th></th>\n",
              "      <th>Country</th>\n",
              "      <th>Year</th>\n",
              "      <th>Status</th>\n",
              "      <th>Life expectancy</th>\n",
              "      <th>Adult Mortality</th>\n",
              "      <th>infant deaths</th>\n",
              "      <th>Alcohol</th>\n",
              "      <th>percentage expenditure</th>\n",
              "      <th>Hepatitis B</th>\n",
              "      <th>Measles</th>\n",
              "      <th>...</th>\n",
              "      <th>Polio</th>\n",
              "      <th>Total expenditure</th>\n",
              "      <th>Diphtheria</th>\n",
              "      <th>HIV/AIDS</th>\n",
              "      <th>GDP</th>\n",
              "      <th>Population</th>\n",
              "      <th>thinness  1-19 years</th>\n",
              "      <th>thinness 5-9 years</th>\n",
              "      <th>Income composition of resources</th>\n",
              "      <th>Schooling</th>\n",
              "    </tr>\n",
              "  </thead>\n",
              "  <tbody>\n",
              "    <tr>\n",
              "      <th>0</th>\n",
              "      <td>Afghanistan</td>\n",
              "      <td>2015</td>\n",
              "      <td>Developing</td>\n",
              "      <td>65.0</td>\n",
              "      <td>263.0</td>\n",
              "      <td>62</td>\n",
              "      <td>0.01</td>\n",
              "      <td>71.279624</td>\n",
              "      <td>65.0</td>\n",
              "      <td>1154</td>\n",
              "      <td>...</td>\n",
              "      <td>6.0</td>\n",
              "      <td>8.16</td>\n",
              "      <td>65.0</td>\n",
              "      <td>0.1</td>\n",
              "      <td>584.259210</td>\n",
              "      <td>33736494.0</td>\n",
              "      <td>17.2</td>\n",
              "      <td>17.3</td>\n",
              "      <td>0.479</td>\n",
              "      <td>10.1</td>\n",
              "    </tr>\n",
              "    <tr>\n",
              "      <th>1</th>\n",
              "      <td>Afghanistan</td>\n",
              "      <td>2014</td>\n",
              "      <td>Developing</td>\n",
              "      <td>59.9</td>\n",
              "      <td>271.0</td>\n",
              "      <td>64</td>\n",
              "      <td>0.01</td>\n",
              "      <td>73.523582</td>\n",
              "      <td>62.0</td>\n",
              "      <td>492</td>\n",
              "      <td>...</td>\n",
              "      <td>58.0</td>\n",
              "      <td>8.18</td>\n",
              "      <td>62.0</td>\n",
              "      <td>0.1</td>\n",
              "      <td>612.696514</td>\n",
              "      <td>327582.0</td>\n",
              "      <td>17.5</td>\n",
              "      <td>17.5</td>\n",
              "      <td>0.476</td>\n",
              "      <td>10.0</td>\n",
              "    </tr>\n",
              "    <tr>\n",
              "      <th>2</th>\n",
              "      <td>Afghanistan</td>\n",
              "      <td>2013</td>\n",
              "      <td>Developing</td>\n",
              "      <td>59.9</td>\n",
              "      <td>268.0</td>\n",
              "      <td>66</td>\n",
              "      <td>0.01</td>\n",
              "      <td>73.219243</td>\n",
              "      <td>64.0</td>\n",
              "      <td>430</td>\n",
              "      <td>...</td>\n",
              "      <td>62.0</td>\n",
              "      <td>8.13</td>\n",
              "      <td>64.0</td>\n",
              "      <td>0.1</td>\n",
              "      <td>631.744976</td>\n",
              "      <td>31731688.0</td>\n",
              "      <td>17.7</td>\n",
              "      <td>17.7</td>\n",
              "      <td>0.470</td>\n",
              "      <td>9.9</td>\n",
              "    </tr>\n",
              "    <tr>\n",
              "      <th>3</th>\n",
              "      <td>Afghanistan</td>\n",
              "      <td>2012</td>\n",
              "      <td>Developing</td>\n",
              "      <td>59.5</td>\n",
              "      <td>272.0</td>\n",
              "      <td>69</td>\n",
              "      <td>0.01</td>\n",
              "      <td>78.184215</td>\n",
              "      <td>67.0</td>\n",
              "      <td>2787</td>\n",
              "      <td>...</td>\n",
              "      <td>67.0</td>\n",
              "      <td>8.52</td>\n",
              "      <td>67.0</td>\n",
              "      <td>0.1</td>\n",
              "      <td>669.959000</td>\n",
              "      <td>3696958.0</td>\n",
              "      <td>17.9</td>\n",
              "      <td>18.0</td>\n",
              "      <td>0.463</td>\n",
              "      <td>9.8</td>\n",
              "    </tr>\n",
              "    <tr>\n",
              "      <th>4</th>\n",
              "      <td>Afghanistan</td>\n",
              "      <td>2011</td>\n",
              "      <td>Developing</td>\n",
              "      <td>59.2</td>\n",
              "      <td>275.0</td>\n",
              "      <td>71</td>\n",
              "      <td>0.01</td>\n",
              "      <td>7.097109</td>\n",
              "      <td>68.0</td>\n",
              "      <td>3013</td>\n",
              "      <td>...</td>\n",
              "      <td>68.0</td>\n",
              "      <td>7.87</td>\n",
              "      <td>68.0</td>\n",
              "      <td>0.1</td>\n",
              "      <td>63.537231</td>\n",
              "      <td>2978599.0</td>\n",
              "      <td>18.2</td>\n",
              "      <td>18.2</td>\n",
              "      <td>0.454</td>\n",
              "      <td>9.5</td>\n",
              "    </tr>\n",
              "  </tbody>\n",
              "</table>\n",
              "<p>5 rows × 22 columns</p>\n",
              "</div>"
            ],
            "text/plain": [
              "       Country  Year      Status  Life expectancy   Adult Mortality  \\\n",
              "0  Afghanistan  2015  Developing              65.0            263.0   \n",
              "1  Afghanistan  2014  Developing              59.9            271.0   \n",
              "2  Afghanistan  2013  Developing              59.9            268.0   \n",
              "3  Afghanistan  2012  Developing              59.5            272.0   \n",
              "4  Afghanistan  2011  Developing              59.2            275.0   \n",
              "\n",
              "   infant deaths  Alcohol  percentage expenditure  Hepatitis B  Measles   ...  \\\n",
              "0             62     0.01               71.279624         65.0      1154  ...   \n",
              "1             64     0.01               73.523582         62.0       492  ...   \n",
              "2             66     0.01               73.219243         64.0       430  ...   \n",
              "3             69     0.01               78.184215         67.0      2787  ...   \n",
              "4             71     0.01                7.097109         68.0      3013  ...   \n",
              "\n",
              "   Polio  Total expenditure  Diphtheria    HIV/AIDS         GDP  Population  \\\n",
              "0    6.0               8.16         65.0        0.1  584.259210  33736494.0   \n",
              "1   58.0               8.18         62.0        0.1  612.696514    327582.0   \n",
              "2   62.0               8.13         64.0        0.1  631.744976  31731688.0   \n",
              "3   67.0               8.52         67.0        0.1  669.959000   3696958.0   \n",
              "4   68.0               7.87         68.0        0.1   63.537231   2978599.0   \n",
              "\n",
              "    thinness  1-19 years   thinness 5-9 years  \\\n",
              "0                   17.2                 17.3   \n",
              "1                   17.5                 17.5   \n",
              "2                   17.7                 17.7   \n",
              "3                   17.9                 18.0   \n",
              "4                   18.2                 18.2   \n",
              "\n",
              "   Income composition of resources  Schooling  \n",
              "0                            0.479       10.1  \n",
              "1                            0.476       10.0  \n",
              "2                            0.470        9.9  \n",
              "3                            0.463        9.8  \n",
              "4                            0.454        9.5  \n",
              "\n",
              "[5 rows x 22 columns]"
            ]
          },
          "execution_count": 6,
          "metadata": {},
          "output_type": "execute_result"
        }
      ],
      "source": [
        "life.head()"
      ]
    },
    {
      "cell_type": "code",
      "execution_count": 7,
      "metadata": {
        "trusted": true
      },
      "outputs": [
        {
          "data": {
            "text/plain": [
              "(2938, 22)"
            ]
          },
          "execution_count": 7,
          "metadata": {},
          "output_type": "execute_result"
        }
      ],
      "source": [
        "life.shape"
      ]
    },
    {
      "cell_type": "code",
      "execution_count": 8,
      "metadata": {
        "trusted": true
      },
      "outputs": [
        {
          "name": "stdout",
          "output_type": "stream",
          "text": [
            "<class 'pandas.core.frame.DataFrame'>\n",
            "RangeIndex: 2938 entries, 0 to 2937\n",
            "Data columns (total 22 columns):\n",
            " #   Column                           Non-Null Count  Dtype  \n",
            "---  ------                           --------------  -----  \n",
            " 0   Country                          2938 non-null   object \n",
            " 1   Year                             2938 non-null   int64  \n",
            " 2   Status                           2938 non-null   object \n",
            " 3   Life expectancy                  2928 non-null   float64\n",
            " 4   Adult Mortality                  2928 non-null   float64\n",
            " 5   infant deaths                    2938 non-null   int64  \n",
            " 6   Alcohol                          2744 non-null   float64\n",
            " 7   percentage expenditure           2938 non-null   float64\n",
            " 8   Hepatitis B                      2385 non-null   float64\n",
            " 9   Measles                          2938 non-null   int64  \n",
            " 10   BMI                             2904 non-null   float64\n",
            " 11  under-five deaths                2938 non-null   int64  \n",
            " 12  Polio                            2919 non-null   float64\n",
            " 13  Total expenditure                2712 non-null   float64\n",
            " 14  Diphtheria                       2919 non-null   float64\n",
            " 15   HIV/AIDS                        2938 non-null   float64\n",
            " 16  GDP                              2490 non-null   float64\n",
            " 17  Population                       2286 non-null   float64\n",
            " 18   thinness  1-19 years            2904 non-null   float64\n",
            " 19   thinness 5-9 years              2904 non-null   float64\n",
            " 20  Income composition of resources  2771 non-null   float64\n",
            " 21  Schooling                        2775 non-null   float64\n",
            "dtypes: float64(16), int64(4), object(2)\n",
            "memory usage: 505.1+ KB\n"
          ]
        }
      ],
      "source": [
        "life.info()"
      ]
    },
    {
      "cell_type": "markdown",
      "metadata": {},
      "source": [
        "## Cleaning Data Agendas:\n",
        "\n",
        "- Proper = Country, Year, Status\n",
        "- Life expectancy, Adult Mortality = 2928 non-null, 10 values are null\n",
        "- Alcohol, HepatitisB, BMI, Polio, Total Expenditure, Diphttheria, GDP, Population, thinness1-19years, thinness5-9years, Incomecompositionofresources, Schooling.\n",
        "- Above HepatitisB, Polio, Diphtheria, Population, AdultMortality = float -> int;\n",
        "- 'nan' spotted in lifeexpectancy column\n",
        "- check BMI values like 6.1, 1.0, 4.3 are these values are valid"
      ]
    },
    {
      "cell_type": "code",
      "execution_count": 9,
      "metadata": {
        "trusted": true
      },
      "outputs": [
        {
          "data": {
            "text/plain": [
              "array(['Developing', 'Developed'], dtype=object)"
            ]
          },
          "execution_count": 9,
          "metadata": {},
          "output_type": "execute_result"
        }
      ],
      "source": [
        "life['Status'].unique()"
      ]
    },
    {
      "cell_type": "code",
      "execution_count": 10,
      "metadata": {
        "trusted": true
      },
      "outputs": [
        {
          "data": {
            "text/plain": [
              "array([33736494.,   327582., 31731688., ...,   125525., 12366165.,\n",
              "       12222251.])"
            ]
          },
          "execution_count": 10,
          "metadata": {},
          "output_type": "execute_result"
        }
      ],
      "source": [
        "life['Population'].unique()"
      ]
    },
    {
      "cell_type": "code",
      "execution_count": 11,
      "metadata": {
        "trusted": true
      },
      "outputs": [
        {
          "data": {
            "text/plain": [
              "array([2015, 2014, 2013, 2012, 2011, 2010, 2009, 2008, 2007, 2006, 2005,\n",
              "       2004, 2003, 2002, 2001, 2000])"
            ]
          },
          "execution_count": 11,
          "metadata": {},
          "output_type": "execute_result"
        }
      ],
      "source": [
        "life['Year'].unique()"
      ]
    },
    {
      "cell_type": "code",
      "execution_count": 12,
      "metadata": {
        "trusted": true
      },
      "outputs": [],
      "source": [
        "life.columns=life.columns.str.replace(' ','')"
      ]
    },
    {
      "cell_type": "code",
      "execution_count": 13,
      "metadata": {
        "trusted": true
      },
      "outputs": [
        {
          "data": {
            "text/html": [
              "<div>\n",
              "<style scoped>\n",
              "    .dataframe tbody tr th:only-of-type {\n",
              "        vertical-align: middle;\n",
              "    }\n",
              "\n",
              "    .dataframe tbody tr th {\n",
              "        vertical-align: top;\n",
              "    }\n",
              "\n",
              "    .dataframe thead th {\n",
              "        text-align: right;\n",
              "    }\n",
              "</style>\n",
              "<table border=\"1\" class=\"dataframe\">\n",
              "  <thead>\n",
              "    <tr style=\"text-align: right;\">\n",
              "      <th></th>\n",
              "      <th>Country</th>\n",
              "      <th>Year</th>\n",
              "      <th>Status</th>\n",
              "      <th>Lifeexpectancy</th>\n",
              "      <th>AdultMortality</th>\n",
              "      <th>infantdeaths</th>\n",
              "      <th>Alcohol</th>\n",
              "      <th>percentageexpenditure</th>\n",
              "      <th>HepatitisB</th>\n",
              "      <th>Measles</th>\n",
              "      <th>...</th>\n",
              "      <th>Polio</th>\n",
              "      <th>Totalexpenditure</th>\n",
              "      <th>Diphtheria</th>\n",
              "      <th>HIV/AIDS</th>\n",
              "      <th>GDP</th>\n",
              "      <th>Population</th>\n",
              "      <th>thinness1-19years</th>\n",
              "      <th>thinness5-9years</th>\n",
              "      <th>Incomecompositionofresources</th>\n",
              "      <th>Schooling</th>\n",
              "    </tr>\n",
              "  </thead>\n",
              "  <tbody>\n",
              "    <tr>\n",
              "      <th>0</th>\n",
              "      <td>Afghanistan</td>\n",
              "      <td>2015</td>\n",
              "      <td>Developing</td>\n",
              "      <td>65.0</td>\n",
              "      <td>263.0</td>\n",
              "      <td>62</td>\n",
              "      <td>0.01</td>\n",
              "      <td>71.279624</td>\n",
              "      <td>65.0</td>\n",
              "      <td>1154</td>\n",
              "      <td>...</td>\n",
              "      <td>6.0</td>\n",
              "      <td>8.16</td>\n",
              "      <td>65.0</td>\n",
              "      <td>0.1</td>\n",
              "      <td>584.259210</td>\n",
              "      <td>33736494.0</td>\n",
              "      <td>17.2</td>\n",
              "      <td>17.3</td>\n",
              "      <td>0.479</td>\n",
              "      <td>10.1</td>\n",
              "    </tr>\n",
              "    <tr>\n",
              "      <th>1</th>\n",
              "      <td>Afghanistan</td>\n",
              "      <td>2014</td>\n",
              "      <td>Developing</td>\n",
              "      <td>59.9</td>\n",
              "      <td>271.0</td>\n",
              "      <td>64</td>\n",
              "      <td>0.01</td>\n",
              "      <td>73.523582</td>\n",
              "      <td>62.0</td>\n",
              "      <td>492</td>\n",
              "      <td>...</td>\n",
              "      <td>58.0</td>\n",
              "      <td>8.18</td>\n",
              "      <td>62.0</td>\n",
              "      <td>0.1</td>\n",
              "      <td>612.696514</td>\n",
              "      <td>327582.0</td>\n",
              "      <td>17.5</td>\n",
              "      <td>17.5</td>\n",
              "      <td>0.476</td>\n",
              "      <td>10.0</td>\n",
              "    </tr>\n",
              "    <tr>\n",
              "      <th>2</th>\n",
              "      <td>Afghanistan</td>\n",
              "      <td>2013</td>\n",
              "      <td>Developing</td>\n",
              "      <td>59.9</td>\n",
              "      <td>268.0</td>\n",
              "      <td>66</td>\n",
              "      <td>0.01</td>\n",
              "      <td>73.219243</td>\n",
              "      <td>64.0</td>\n",
              "      <td>430</td>\n",
              "      <td>...</td>\n",
              "      <td>62.0</td>\n",
              "      <td>8.13</td>\n",
              "      <td>64.0</td>\n",
              "      <td>0.1</td>\n",
              "      <td>631.744976</td>\n",
              "      <td>31731688.0</td>\n",
              "      <td>17.7</td>\n",
              "      <td>17.7</td>\n",
              "      <td>0.470</td>\n",
              "      <td>9.9</td>\n",
              "    </tr>\n",
              "    <tr>\n",
              "      <th>3</th>\n",
              "      <td>Afghanistan</td>\n",
              "      <td>2012</td>\n",
              "      <td>Developing</td>\n",
              "      <td>59.5</td>\n",
              "      <td>272.0</td>\n",
              "      <td>69</td>\n",
              "      <td>0.01</td>\n",
              "      <td>78.184215</td>\n",
              "      <td>67.0</td>\n",
              "      <td>2787</td>\n",
              "      <td>...</td>\n",
              "      <td>67.0</td>\n",
              "      <td>8.52</td>\n",
              "      <td>67.0</td>\n",
              "      <td>0.1</td>\n",
              "      <td>669.959000</td>\n",
              "      <td>3696958.0</td>\n",
              "      <td>17.9</td>\n",
              "      <td>18.0</td>\n",
              "      <td>0.463</td>\n",
              "      <td>9.8</td>\n",
              "    </tr>\n",
              "    <tr>\n",
              "      <th>4</th>\n",
              "      <td>Afghanistan</td>\n",
              "      <td>2011</td>\n",
              "      <td>Developing</td>\n",
              "      <td>59.2</td>\n",
              "      <td>275.0</td>\n",
              "      <td>71</td>\n",
              "      <td>0.01</td>\n",
              "      <td>7.097109</td>\n",
              "      <td>68.0</td>\n",
              "      <td>3013</td>\n",
              "      <td>...</td>\n",
              "      <td>68.0</td>\n",
              "      <td>7.87</td>\n",
              "      <td>68.0</td>\n",
              "      <td>0.1</td>\n",
              "      <td>63.537231</td>\n",
              "      <td>2978599.0</td>\n",
              "      <td>18.2</td>\n",
              "      <td>18.2</td>\n",
              "      <td>0.454</td>\n",
              "      <td>9.5</td>\n",
              "    </tr>\n",
              "    <tr>\n",
              "      <th>...</th>\n",
              "      <td>...</td>\n",
              "      <td>...</td>\n",
              "      <td>...</td>\n",
              "      <td>...</td>\n",
              "      <td>...</td>\n",
              "      <td>...</td>\n",
              "      <td>...</td>\n",
              "      <td>...</td>\n",
              "      <td>...</td>\n",
              "      <td>...</td>\n",
              "      <td>...</td>\n",
              "      <td>...</td>\n",
              "      <td>...</td>\n",
              "      <td>...</td>\n",
              "      <td>...</td>\n",
              "      <td>...</td>\n",
              "      <td>...</td>\n",
              "      <td>...</td>\n",
              "      <td>...</td>\n",
              "      <td>...</td>\n",
              "      <td>...</td>\n",
              "    </tr>\n",
              "    <tr>\n",
              "      <th>2933</th>\n",
              "      <td>Zimbabwe</td>\n",
              "      <td>2004</td>\n",
              "      <td>Developing</td>\n",
              "      <td>44.3</td>\n",
              "      <td>723.0</td>\n",
              "      <td>27</td>\n",
              "      <td>4.36</td>\n",
              "      <td>0.000000</td>\n",
              "      <td>68.0</td>\n",
              "      <td>31</td>\n",
              "      <td>...</td>\n",
              "      <td>67.0</td>\n",
              "      <td>7.13</td>\n",
              "      <td>65.0</td>\n",
              "      <td>33.6</td>\n",
              "      <td>454.366654</td>\n",
              "      <td>12777511.0</td>\n",
              "      <td>9.4</td>\n",
              "      <td>9.4</td>\n",
              "      <td>0.407</td>\n",
              "      <td>9.2</td>\n",
              "    </tr>\n",
              "    <tr>\n",
              "      <th>2934</th>\n",
              "      <td>Zimbabwe</td>\n",
              "      <td>2003</td>\n",
              "      <td>Developing</td>\n",
              "      <td>44.5</td>\n",
              "      <td>715.0</td>\n",
              "      <td>26</td>\n",
              "      <td>4.06</td>\n",
              "      <td>0.000000</td>\n",
              "      <td>7.0</td>\n",
              "      <td>998</td>\n",
              "      <td>...</td>\n",
              "      <td>7.0</td>\n",
              "      <td>6.52</td>\n",
              "      <td>68.0</td>\n",
              "      <td>36.7</td>\n",
              "      <td>453.351155</td>\n",
              "      <td>12633897.0</td>\n",
              "      <td>9.8</td>\n",
              "      <td>9.9</td>\n",
              "      <td>0.418</td>\n",
              "      <td>9.5</td>\n",
              "    </tr>\n",
              "    <tr>\n",
              "      <th>2935</th>\n",
              "      <td>Zimbabwe</td>\n",
              "      <td>2002</td>\n",
              "      <td>Developing</td>\n",
              "      <td>44.8</td>\n",
              "      <td>73.0</td>\n",
              "      <td>25</td>\n",
              "      <td>4.43</td>\n",
              "      <td>0.000000</td>\n",
              "      <td>73.0</td>\n",
              "      <td>304</td>\n",
              "      <td>...</td>\n",
              "      <td>73.0</td>\n",
              "      <td>6.53</td>\n",
              "      <td>71.0</td>\n",
              "      <td>39.8</td>\n",
              "      <td>57.348340</td>\n",
              "      <td>125525.0</td>\n",
              "      <td>1.2</td>\n",
              "      <td>1.3</td>\n",
              "      <td>0.427</td>\n",
              "      <td>10.0</td>\n",
              "    </tr>\n",
              "    <tr>\n",
              "      <th>2936</th>\n",
              "      <td>Zimbabwe</td>\n",
              "      <td>2001</td>\n",
              "      <td>Developing</td>\n",
              "      <td>45.3</td>\n",
              "      <td>686.0</td>\n",
              "      <td>25</td>\n",
              "      <td>1.72</td>\n",
              "      <td>0.000000</td>\n",
              "      <td>76.0</td>\n",
              "      <td>529</td>\n",
              "      <td>...</td>\n",
              "      <td>76.0</td>\n",
              "      <td>6.16</td>\n",
              "      <td>75.0</td>\n",
              "      <td>42.1</td>\n",
              "      <td>548.587312</td>\n",
              "      <td>12366165.0</td>\n",
              "      <td>1.6</td>\n",
              "      <td>1.7</td>\n",
              "      <td>0.427</td>\n",
              "      <td>9.8</td>\n",
              "    </tr>\n",
              "    <tr>\n",
              "      <th>2937</th>\n",
              "      <td>Zimbabwe</td>\n",
              "      <td>2000</td>\n",
              "      <td>Developing</td>\n",
              "      <td>46.0</td>\n",
              "      <td>665.0</td>\n",
              "      <td>24</td>\n",
              "      <td>1.68</td>\n",
              "      <td>0.000000</td>\n",
              "      <td>79.0</td>\n",
              "      <td>1483</td>\n",
              "      <td>...</td>\n",
              "      <td>78.0</td>\n",
              "      <td>7.10</td>\n",
              "      <td>78.0</td>\n",
              "      <td>43.5</td>\n",
              "      <td>547.358878</td>\n",
              "      <td>12222251.0</td>\n",
              "      <td>11.0</td>\n",
              "      <td>11.2</td>\n",
              "      <td>0.434</td>\n",
              "      <td>9.8</td>\n",
              "    </tr>\n",
              "  </tbody>\n",
              "</table>\n",
              "<p>2938 rows × 22 columns</p>\n",
              "</div>"
            ],
            "text/plain": [
              "          Country  Year      Status  Lifeexpectancy  AdultMortality  \\\n",
              "0     Afghanistan  2015  Developing            65.0           263.0   \n",
              "1     Afghanistan  2014  Developing            59.9           271.0   \n",
              "2     Afghanistan  2013  Developing            59.9           268.0   \n",
              "3     Afghanistan  2012  Developing            59.5           272.0   \n",
              "4     Afghanistan  2011  Developing            59.2           275.0   \n",
              "...           ...   ...         ...             ...             ...   \n",
              "2933     Zimbabwe  2004  Developing            44.3           723.0   \n",
              "2934     Zimbabwe  2003  Developing            44.5           715.0   \n",
              "2935     Zimbabwe  2002  Developing            44.8            73.0   \n",
              "2936     Zimbabwe  2001  Developing            45.3           686.0   \n",
              "2937     Zimbabwe  2000  Developing            46.0           665.0   \n",
              "\n",
              "      infantdeaths  Alcohol  percentageexpenditure  HepatitisB  Measles  ...  \\\n",
              "0               62     0.01              71.279624        65.0     1154  ...   \n",
              "1               64     0.01              73.523582        62.0      492  ...   \n",
              "2               66     0.01              73.219243        64.0      430  ...   \n",
              "3               69     0.01              78.184215        67.0     2787  ...   \n",
              "4               71     0.01               7.097109        68.0     3013  ...   \n",
              "...            ...      ...                    ...         ...      ...  ...   \n",
              "2933            27     4.36               0.000000        68.0       31  ...   \n",
              "2934            26     4.06               0.000000         7.0      998  ...   \n",
              "2935            25     4.43               0.000000        73.0      304  ...   \n",
              "2936            25     1.72               0.000000        76.0      529  ...   \n",
              "2937            24     1.68               0.000000        79.0     1483  ...   \n",
              "\n",
              "      Polio  Totalexpenditure  Diphtheria  HIV/AIDS         GDP  Population  \\\n",
              "0       6.0              8.16        65.0       0.1  584.259210  33736494.0   \n",
              "1      58.0              8.18        62.0       0.1  612.696514    327582.0   \n",
              "2      62.0              8.13        64.0       0.1  631.744976  31731688.0   \n",
              "3      67.0              8.52        67.0       0.1  669.959000   3696958.0   \n",
              "4      68.0              7.87        68.0       0.1   63.537231   2978599.0   \n",
              "...     ...               ...         ...       ...         ...         ...   \n",
              "2933   67.0              7.13        65.0      33.6  454.366654  12777511.0   \n",
              "2934    7.0              6.52        68.0      36.7  453.351155  12633897.0   \n",
              "2935   73.0              6.53        71.0      39.8   57.348340    125525.0   \n",
              "2936   76.0              6.16        75.0      42.1  548.587312  12366165.0   \n",
              "2937   78.0              7.10        78.0      43.5  547.358878  12222251.0   \n",
              "\n",
              "      thinness1-19years  thinness5-9years  Incomecompositionofresources  \\\n",
              "0                  17.2              17.3                         0.479   \n",
              "1                  17.5              17.5                         0.476   \n",
              "2                  17.7              17.7                         0.470   \n",
              "3                  17.9              18.0                         0.463   \n",
              "4                  18.2              18.2                         0.454   \n",
              "...                 ...               ...                           ...   \n",
              "2933                9.4               9.4                         0.407   \n",
              "2934                9.8               9.9                         0.418   \n",
              "2935                1.2               1.3                         0.427   \n",
              "2936                1.6               1.7                         0.427   \n",
              "2937               11.0              11.2                         0.434   \n",
              "\n",
              "      Schooling  \n",
              "0          10.1  \n",
              "1          10.0  \n",
              "2           9.9  \n",
              "3           9.8  \n",
              "4           9.5  \n",
              "...         ...  \n",
              "2933        9.2  \n",
              "2934        9.5  \n",
              "2935       10.0  \n",
              "2936        9.8  \n",
              "2937        9.8  \n",
              "\n",
              "[2938 rows x 22 columns]"
            ]
          },
          "execution_count": 13,
          "metadata": {},
          "output_type": "execute_result"
        }
      ],
      "source": [
        "life"
      ]
    },
    {
      "cell_type": "code",
      "execution_count": 14,
      "metadata": {
        "trusted": true
      },
      "outputs": [
        {
          "data": {
            "text/plain": [
              "array([65. , 59.9, 59.5, 59.2, 58.8, 58.6, 58.1, 57.5, 57.3, 57. , 56.7,\n",
              "       56.2, 55.3, 54.8, 77.8, 77.5, 77.2, 76.9, 76.6, 76.2, 76.1, 75.3,\n",
              "       75.9, 74.2, 73.5, 73. , 72.8, 73.3, 73.6, 72.6, 75.6, 75.4, 75.1,\n",
              "       74.9, 74.7, 74.4, 74.1, 73.8, 73.4, 72.9, 72.3, 71.7, 71.6, 71.4,\n",
              "       71.3, 52.4, 51.7, 51.1, 56. , 51. , 49.6, 49.1, 48.7, 48.2, 47.7,\n",
              "       47.4, 47.1, 46.8, 46.5, 45.7, 45.3, 76.4, 75.7, 75.2, 75. , 74.8,\n",
              "       74.6, 74. , 76.3, 76. , 75.5, 73.9, 73.2, 72.7, 72. , 82.8, 82.7,\n",
              "       82.5, 82.3, 82. , 81.9, 81.7, 81.3, 81.2, 81. , 86. , 83. , 79.9,\n",
              "       79.5, 81.5, 81.4, 81.1, 88. , 84. , 79.8, 79.4, 79.3, 78.8, 78.7,\n",
              "       78.6, 78.1, 72.5, 72.2, 71.9, 71.1, 78. , 69.2, 68.4, 67.8, 67.5,\n",
              "       66.6, 74.5, 73.1, 76.8, 76.7, 76.5, 75.8, 71.8, 71. , 77. , 69.9,\n",
              "       69.5, 69.1, 68.6, 68.2, 67.3, 66.8, 66.3, 65.8, 65.3, 73.7, 70. ,\n",
              "       69.8, 68.9, 68.1, 67.7, 67.2, 68. , 89. , 87. , 80. , 78.9, 78.3,\n",
              "       77.6, 69.4, 69.6, 69. , 68.7, 68.5, 68.3, 60. , 59.7, 59.3, 59.1,\n",
              "       58.7, 58.4, 57.6, 57.1, 56.8, 56.5, 56.1, 55.8, 55.6, 55.5, 55.4,\n",
              "       67.9, 67.4, 67. , 66.5, 64.2, 63.3, 62.5, 61.7, 62. , 69.3, 66.2,\n",
              "       65.7, 65.1, 64.5, 63.9, 62.6, 77.4, 63.4, 62.2, 61.1, 56.9, 48.1,\n",
              "       46.4, 46. , 46.7, 47.8, 77.7, 77.1, 74.3, 72.1, 59. , 54.3, 53.3,\n",
              "       51.6, 59.6, 58. , 57.4, 54.1, 53.4, 52.6, 51.9, 51.5, 51.3, 52.8,\n",
              "       52.3, 52. , 54. , 49.9, 49.4, 48. , 47.9, 72.4, 66.1, 65.6, 64.1,\n",
              "       62.9, 61.5, 63. , 58.5, 57.7, 56.4, 55.9, 54.2, 53.6, 52.1, 51.8,\n",
              "       51.4, 82.2, 81.8, 81.6, 85. , 79.7, 79.1, 52.5, 53. , 49.8, 49.2,\n",
              "       48.6, 47.6, 46.3, 45.9, 45.6, 53.1, 52.2, 51.2, 48.5, 48.4, 79.6,\n",
              "       78.4, 77.9, 77.3, 71.5, 63.5, 63.2, 61.8, 61.3, 61. , 66. , 59.8,\n",
              "       64.7, 63.7, 59.4, 58.2, 53.2, 52.7, 52.9,  nan, 79.2, 79. , 78.5,\n",
              "       78.2, 67.6, 65.4, 58.3, 57.9, 56.3, 55.7, 55. , 53.5, 62.7, 69.7,\n",
              "       71.2, 68.8, 54.4, 53.8, 64.4, 64. , 63.6, 62.1, 61.4, 64.8, 57.2,\n",
              "       82.4, 65.5, 64.6, 62.8, 62.3, 61.6, 56.6, 62.4, 61.9, 61.2, 58.9,\n",
              "       57.8, 54.7, 53.9, 65.9, 65.2, 63.1, 36.3, 82.1, 66.4, 66.9, 66.7,\n",
              "       83.7, 83.5, 83.3, 82.6, 64.9, 64.3, 67.1, 53.7, 46.2, 44.5, 44.8,\n",
              "       45.5, 49.3, 50. , 63.8, 45.1, 44.6, 44. , 43.5, 43.1, 49.5, 49. ,\n",
              "       55.1, 55.2, 54.5, 48.3, 49.7, 48.9, 44.3, 43.3, 42.3, 41.5, 41. ,\n",
              "       39. , 83.1, 82.9, 54.9, 83.4, 83.2, 54.6, 48.8, 46.6, 43.8, 45.4])"
            ]
          },
          "execution_count": 14,
          "metadata": {},
          "output_type": "execute_result"
        }
      ],
      "source": [
        "life['Lifeexpectancy'].unique()"
      ]
    },
    {
      "cell_type": "code",
      "execution_count": 15,
      "metadata": {
        "trusted": true
      },
      "outputs": [
        {
          "data": {
            "text/plain": [
              "array([263., 271., 268., 272., 275., 279., 281., 287., 295., 291., 293.,\n",
              "         3., 316., 321.,  74.,   8.,  84.,  86.,  88.,  91.,   1.,   9.,\n",
              "        99.,  15.,  17.,  18.,  14.,  11.,  19., 112., 113., 116., 119.,\n",
              "       123., 126., 129., 132., 136., 146., 145., 335., 348., 355., 358.,\n",
              "       361., 365., 369., 371., 375., 381., 382., 386., 388., 391.,  44.,\n",
              "        48.,  13., 131., 133., 134., 138., 142., 144., 147., 149., 151.,\n",
              "       153., 154., 156., 118.,  12., 121., 127., 137., 128., 141.,  59.,\n",
              "         6.,  61.,  63.,  64.,  66.,  67.,  69.,  71.,  73.,  75.,  78.,\n",
              "        65.,  68.,   7.,  77.,  76.,  81.,  85.,  92.,  96., 125., 162.,\n",
              "        16., 172., 167., 161., 168., 171., 174., 189., 192.,  79.,  83.,\n",
              "        87., 135., 152., 155., 158., 164., 173.,  98., 111., 115., 117.,\n",
              "       196., 199.,  23., 194., 232., 222., 226., 224., 243., 252., 247.,\n",
              "       253., 262., 254.,  89.,  95., 175., 177., 188., 186., 184., 181.,\n",
              "       191., 197.,  21., 249., 251., 259., 278., 283., 284., 285., 211.,\n",
              "       216., 219., 223., 225., 228., 234., 238., 245., 273., 282.,  29.,\n",
              "       312., 198.,  22.,  27.,  94.,  97., 256., 286., 325., 349., 393.,\n",
              "       427., 436., 491., 566., 652., 693., 699., 679., 647., 148., 157.,\n",
              "       159., 163., 176., 179., 183.,  93., 139.,  26., 288.,  32., 313.,\n",
              "       323., 332., 338., 344., 297.,  33.,  35., 378., 387., 385., 397.,\n",
              "        47., 412., 415., 419., 417., 426., 437., 443., 452., 466., 472.,\n",
              "       473., 467., 461., 114., 122., 124., 195.,  24., 274., 357., 366.,\n",
              "       364.,  37., 373., 395., 394.,   4.,  41.,  72.,  82., 451., 439.,\n",
              "       446., 453., 477., 495.,  56., 511., 512.,  51.,  58.,  54.,  49.,\n",
              "       356., 362., 367., 414.,  46.,  45.,  43., 143., 165., 227., 233.,\n",
              "       237., 241., 246., 255., 266., 269., 267., 298., 314., 354., 368.,\n",
              "       424., 416.,  nan,  52.,  53.,  57.,  62., 166., 258., 277., 292.,\n",
              "       299.,  36., 341.,  34., 346., 289., 296.,  39., 318., 326., 322.,\n",
              "       178.,  28., 214., 213., 215., 218., 327., 337., 339., 336., 334.,\n",
              "       261., 311., 329., 342., 343., 345., 593., 328., 363., 372.,   2.,\n",
              "       221., 229., 276., 294.,  31., 315., 257.,  38., 169., 187., 182.,\n",
              "       193., 317., 217., 244., 682., 185.,   5.,  55., 236., 235., 432.,\n",
              "       434., 428., 212., 265., 484., 522., 518., 513., 527., 592., 633.,\n",
              "       654., 675., 666., 648., 622., 586., 543.,  42., 333., 248., 377.,\n",
              "       441., 462., 525., 559., 587., 615., 613., 599., 588.,  25., 231.,\n",
              "       425., 429., 239., 242., 431., 483., 471., 374., 376., 396., 331.,\n",
              "       438., 413., 463., 411., 418., 433., 464., 496., 519., 533., 352.,\n",
              "       347., 449., 486., 498., 497., 485., 459., 359., 383., 564., 568.,\n",
              "       536., 351., 523., 539., 554., 454., 457., 487., 526., 578., 611.,\n",
              "       614., 399., 632., 717., 723., 715., 686., 665.])"
            ]
          },
          "execution_count": 15,
          "metadata": {},
          "output_type": "execute_result"
        }
      ],
      "source": [
        "life['AdultMortality'].unique()"
      ]
    },
    {
      "cell_type": "code",
      "execution_count": 16,
      "metadata": {
        "trusted": true
      },
      "outputs": [
        {
          "data": {
            "text/plain": [
              "array([  62,   64,   66,   69,   71,   74,   77,   80,   82,   84,   85,\n",
              "         87,   88,    0,    1,   21,   20,   19,   67,   72,   75,   78,\n",
              "         81,   90,   92,   94,   95,   96,   97,    8,    9,   10,   11,\n",
              "         12,    5,    6,    7,   98,  104,  111,  118,  126,  135,  144,\n",
              "        154,  164,  174,  185,  196,  207,  219,  231,   25,   13,   14,\n",
              "         15,    2,   42,   44,   46,   49,   51,   54,   57,   61,   65,\n",
              "         70,  103,   38,   39,   40,   41,   43,   45,   47,   48,   22,\n",
              "         23,   24,   58,   59,   60,   63,   16,   17,   18,   27,   50,\n",
              "         53,   56,  157,  171,  201,  215,  248,  266,  285,  307,  332,\n",
              "        360,  391,  422,  457,  490,  236,  237,  238,  239,  235,  233,\n",
              "        232,  229,  227,  226,   55,    3,    4,  136,  140,  145,  150,\n",
              "        156,  162,  169,  177,  186,  206,  217,  228,  246,  253,   37,\n",
              "         26,   28,   29,   30,   31,   32,   33,   34,   35,   36,  910,\n",
              "        957, 1000, 1100, 1200, 1300, 1400, 1500, 1600, 1700, 1800,  114,\n",
              "        119,  124,  129,  134,  138,  143,  149,  159,  163,  173,  182,\n",
              "        187,   68,   76,   52,   93,   73,  483,  498,  505,  513,  521,\n",
              "        527,  536,  542,  549,  556,  563,  567,  571,  574,  576,  352,\n",
              "        359,  365,  369,  371,  372,  367,  364,  366,  377,  385,   79,\n",
              "         99,  109,  112,  115,  116,   86,   89,   91,  100,  106,  110])"
            ]
          },
          "execution_count": 16,
          "metadata": {},
          "output_type": "execute_result"
        }
      ],
      "source": [
        "life['infantdeaths'].unique()"
      ]
    },
    {
      "cell_type": "code",
      "execution_count": 17,
      "metadata": {
        "trusted": true
      },
      "outputs": [
        {
          "data": {
            "text/plain": [
              "array([  1154,    492,    430,   2787,   3013,   1989,   2861,   1599,\n",
              "         1141,   1990,   1296,    466,    798,   2486,   8762,   6532,\n",
              "            0,      9,     28,     10,     22,     68,      6,      7,\n",
              "            8,     16,     18,    662,     63,     25,    112,    103,\n",
              "          107,    217,    944,   2302,   3289,  15374,   5862,   2686,\n",
              "          118,  11699,   8523,   4458,   1449,   1190,   2807,    265,\n",
              "         1014,    765,    258,     29,   1196,  11945,   9046,   2219,\n",
              "            1,      2,      3,     17,     33,     13,    137,   2281,\n",
              "         1783,      4,     40,     69,     15,     74,    340,    158,\n",
              "          199,    190,     70,    104,     65,     11,     91,     32,\n",
              "          141,    108,    309,    117,     36,     52,     49,    448,\n",
              "           20,     23,     90,    164,      5,    222,   1238,    827,\n",
              "         1978,   4353,    574,    210,     46,     12,    240,    289,\n",
              "          237,   1986,   5625,    788,    718,   2660,   2924,   6192,\n",
              "        25934,   9743,   4067,   3484,   4414,   5098,     64,     50,\n",
              "          149,     21,     14,     45,     47,     39,    109,    576,\n",
              "           98,     26,     61,     44,     83,     55,    786,    637,\n",
              "          288,    426,    392,   1461,    928,    341,    176,    262,\n",
              "         1588,   5859,   4244,     27,    756,    418,    122,   1677,\n",
              "         3000,    166,     43,    853,    184,     59,   2672,    214,\n",
              "          876,    220,     57,     24,     42,    157,  22004,   2249,\n",
              "           99,    343,    375,   7362,    860,   2511,  54118,    395,\n",
              "          125,    253,     77,   2946,   1744,   4174,   6074,    129,\n",
              "          495,    305,    173,    784,    224,   1016,  18363,     48,\n",
              "          628,    441,    183,    115,   3466,   4770,   5882,   5790,\n",
              "         5729,    722,   1156,   4779,   4211,    394,    188,    264,\n",
              "          352,    653,   1361,   3761,  12237,   1809,    831,    760,\n",
              "          609,    504,    251,    100,    196,    605,    358,    899,\n",
              "         1448,  23934,  14629,    195,    803,     62,    101,     34,\n",
              "          206,    150,    596,    679,    471,   1233,    652,    938,\n",
              "         2837,   3207,   1275,    226,    120,   8650,    194,    165,\n",
              "         1594,  10324,  15801,   7277,  24908,   3546,  42361,  52628,\n",
              "        26883,   6183,   9943,  38159,  52461, 131441, 109023,  99602,\n",
              "       124219,  70549,  71879,  58341,  88962,  71093,    139,     85,\n",
              "          912,   1359,     71,    124,    260,    315,     84,    126,\n",
              "          146,   3524,   3712,   2788,   2152,   1678,     51,     54,\n",
              "           19,     30,   3550,   5020,  33711,  88381,  72029, 133802,\n",
              "         5407,  12461,  55577,  80123, 182485,  44934,  21956,  30466,\n",
              "         8072,   8282,    709,    143,    298,     37,     79,    113,\n",
              "           72,    257,   5432,   1314,    405,    245,    608,    668,\n",
              "         1684,    953,     80,   2150,   2633,   1250,    321,     78,\n",
              "          436,     38,   1339,    198,    127,     82,    128,    376,\n",
              "          460,    204,    789,  17745,  12739,   5253,   4347,   3255,\n",
              "         4235,   1176,   3511,   1446,   1451,    357,     73,    228,\n",
              "         3332,   2366,   1660,    136,    304,    267,    272,  14949,\n",
              "         5048,   1541,    604,   4448,   5185,  10000,    110,   5129,\n",
              "          119,    336,    431,   3188,   7872,     31,     56,    334,\n",
              "         1356,   6847,    216,     35,   2464,    443,   1771,   1607,\n",
              "          780,    917,    567,   2307,    778,    121,    779,   4657,\n",
              "         6024,    319,   1613,    641,    420,    435,     60,   1939,\n",
              "        12289,  13476,  23068,    243,    175,     53,     89,   2497,\n",
              "         2151,   7408,  11294,    153,   3526,   1158,    159,    992,\n",
              "        90387,  79563,  13822,  18668,  33634,  31458,  56188,  44258,\n",
              "        41144,  64185,  36711,  55443,  47147,  40044,  51780,  38835,\n",
              "        15099,  12943,   8419,  15489,  21893,  18869,  20818,  15369,\n",
              "        19456,  20422,  15853,  29171,  24457,  14492,   3825,   3344,\n",
              "          615,    189,    332,    538,    133,  11644,   9554,   9582,\n",
              "        11874,   1433,   1317,    669,  30328,   5494,    230,    474,\n",
              "          908,   9081,   4088,    726,    285,     87,     95,    584,\n",
              "          241,    211,    931,    539,    116,   5189,    372,    351,\n",
              "         1617,    439,    135,    599,  10982,   9385,   1457,    462,\n",
              "          229,    434,    450,    741,  11015,    520,   8752,   8286,\n",
              "        33812,  22552,  22497,     41,     76,    526,  16118,   2204,\n",
              "           94,    354,   2395,   1218,   1282,   1516,   1847,    766,\n",
              "        11304,  21002,  17779,    318,    339,    174,     58,    295,\n",
              "         1491,   1810,   2070,   1761,    373,    956,    618,    213,\n",
              "          516,    179,    172,   2488,    660,   1060,    279,   2200,\n",
              "          142,    131,   1379,   5977,    320,    329,    292,   2771,\n",
              "         3890,    633,  35558,  62233,  10795,   9357,  35256, 118712,\n",
              "         1116,    167,     92,   1318,    221,   1868,   1569,    564,\n",
              "         1407,    632,    408,   2198,   6187,   1395,     75,    926,\n",
              "          215,    290,   1719,   2939,    232,    717,   4464,   1578,\n",
              "          234,   1292,    322,   5039,   3611,    883,   1398,    777,\n",
              "          140,  20359,   1205,  10677,    925,    982,    834,   1455,\n",
              "         2248,   1217,   6399,  10841,   6000,   2724,   7368,    145,\n",
              "          177,   2321,  12598,   9396,  28898,   7155,   7085,   7375,\n",
              "         1010,   2175,   2046,    333,   1088,    314,   1329,    830,\n",
              "          736,   2519,    845,    212,    477,   1028,     86,   3138,\n",
              "         4076,   1278,    416,    469,   1279,   1861,   3362,   2359,\n",
              "         2089,   1415,   2838,   5023,  12074,  13344,   6749,  10849,\n",
              "         9397,   2632,   1019,    280,    597,     66,   7693,   1142,\n",
              "         1224,    771,    801,    282,   2183,  63057,  54190,  31584,\n",
              "        61208,  21319,  12423,   6855,  52852,   6447,  18843,   8491,\n",
              "         1272,   9960,   2613,    704, 110927,  31521, 141258,  42007,\n",
              "       168107, 212183,    386,   1370,   8749,   8046,   4386,   4321,\n",
              "          863,   1129,   2801,   7641,   2981,   4248,   4740,   3903,\n",
              "         3849,   2064,   2299,   1222,   1385,   3863,  17620,   4023,\n",
              "         7135,    619,  58848,   2920,   1536,   6538,   6368,   1469,\n",
              "          530,   3025,  10511,   7003,   7360,   7120,    160,    361,\n",
              "          144,    442,    114,  23060,  32647,   4929,    457,    687,\n",
              "         1159,   7450,   4189,    193,    353,   3196,   5043,    843,\n",
              "         4711,   2339,   2123,    629,   1147,    454,   2444,   3291,\n",
              "          580,   2072,   4800,    494,   1064,   2738,    896,   2095,\n",
              "          219,    154,   1164,    294,    362,   4648,    807,   1880,\n",
              "         1208,    311,    155,    428,    999,   1519,  18184,  24789,\n",
              "         5839,    383,    370,    201,    607,   1006,    678,   1865,\n",
              "         1089,    586,    568,    649,   3575,    138,    148,     96,\n",
              "         7497,  10229,   3173,   9983,  17298,   1081,   1149,  12008,\n",
              "         8257,   9559,   3571,   3965,  12499,   5857,     81,    244,\n",
              "         1043,   1166,   1459,    878,    525,   1952,   1256,   1204,\n",
              "         3802,    302,    297,    256,     67,    152,   1568,   1686,\n",
              "         2107,  16527,   3585,    676,   2813,   5616,    680,    327,\n",
              "         1374,   9562,   4381,   4529,   4362,   2875,    313,    350,\n",
              "          621,    958,   2022,   1015,    700,    594,    740,    403,\n",
              "          517,   2144,    927,    192,   2641,   5197,   3156,   2583,\n",
              "         6071,   7790,   3893,   3588,   4165,   4519,  10315,   7319,\n",
              "         4074,    701,    763,    203,    577,    238,    187,    425,\n",
              "          363,   1833,   3578,    231,    342,    565,   7405,    349,\n",
              "          111,   6200,   8927,   5844,   7823,  30509,  16244,    478,\n",
              "         7878,   2027,   3312,   1313,   1601,   1319,   3776,   5736,\n",
              "        29429,  49871,  48543,  42554,    105,  12746,   1333,   1005,\n",
              "        42724,   2392,    411,   7587,  16970,    817,    347,    344,\n",
              "          132,   1919,   2092,   1112,   1212,   1445,   1022,    764,\n",
              "           88,    185,   1668,   1622,   1574,   3413,   7726,   2362,\n",
              "         1419,   1673,   5131,  11847,  14649,    667,    476,    823,\n",
              "          737,  15033,   1123,    578,    750,   2809,   6582,    410,\n",
              "         2297,   6755,  12058,  16512,    468,    815,    400,   2177,\n",
              "         2676,    510,    130,   8079,   6285,  12708,   8536,    890,\n",
              "          485,  13234,  15754,    535,    459,    881,  25036,  16997,\n",
              "        30930,   9696,    242,    998,    529,   1483])"
            ]
          },
          "execution_count": 17,
          "metadata": {},
          "output_type": "execute_result"
        }
      ],
      "source": [
        "life['Measles'].unique()"
      ]
    },
    {
      "cell_type": "code",
      "execution_count": 18,
      "metadata": {
        "trusted": true
      },
      "outputs": [
        {
          "data": {
            "text/plain": [
              "array([  83,   86,   89,   93,   97,  102,  106,  110,  113,  116,  118,\n",
              "        120,  122,    0,    1,   24,   23,   22,   25,   98,  101,  105,\n",
              "        115,  121,  127,  133,  138,  143,  148,  152,  155,  157,  159,\n",
              "        160,    9,   10,   11,   12,   13,   14,    2,    6,    7,    8,\n",
              "        130,  139,  150,  161,  173,  186,  201,  215,  231,  247,  264,\n",
              "        280,  298,  316,   39,   40,   15,   16,   17,   18,   19,   20,\n",
              "          3,    4,   47,   49,   52,   54,   57,   61,   64,   68,   73,\n",
              "         79,   85,  100,  109,   63,   66,   71,   74,   77,   80,   91,\n",
              "         92,   31,   32,   33,   34,   35,   36,   37,   38,   41,   81,\n",
              "         82,   84,   87,   90,   94,   95,   21,   26,   29,   76,   99,\n",
              "         78,   75,  183,  198,  216,  233,  251,  268,  288,  308,  332,\n",
              "        360,  392,  427,  467,  511,  558,  608,  312,  314,  317,  319,\n",
              "        321,  323,  324,  326,  327,  329,  330,  331,   60,   62,   65,\n",
              "         70,   72,    5,  194,  202,  211,  221,  243,  256,  270,  286,\n",
              "        304,  342,  377,  404,   55,   56,   58,   59,   42,   43,   44,\n",
              "         46,   48,   51,   53,   27,   28, 1100, 1200, 1300, 1400, 1500,\n",
              "       1600, 1700, 1800, 1900, 2000, 2100, 2200, 2300, 2400, 2500,  136,\n",
              "        142,  154,  167,  174,  181,  188,  237,  222,  229,   30,  104,\n",
              "        108,  112,   45,   50,   88,   96,  103,  111,  117,  124,  132,\n",
              "         69,  114,  128,  747,  759,  773,  788,  802,  817,  832,  848,\n",
              "        863,  879,  893,  907,  918,  928,  936,  943,  433,  442,  450,\n",
              "        456,  459,  461,  460,  458,  466,  474,  483,  495,  119,  137,\n",
              "        145,  164,  187,  191,  126,  131,  135,  141,  149,  166])"
            ]
          },
          "execution_count": 18,
          "metadata": {},
          "output_type": "execute_result"
        }
      ],
      "source": [
        "life['under-fivedeaths'].unique()"
      ]
    },
    {
      "cell_type": "code",
      "execution_count": 19,
      "metadata": {
        "trusted": true
      },
      "outputs": [
        {
          "data": {
            "text/plain": [
              "array([ 6., 58., 62., 67., 68., 66., 63., 64.,  5., 41., 36., 35., 24.,\n",
              "       99., 98., 97., 95., 94., 92., 88., 86., 87., 89.,  7., 75., 73.,\n",
              "       81., 65., 39.,  4., 37.,  3., 96., 93., 91., 85.,  9., 83., 84.,\n",
              "       82., 71.,  8., 79., 78., 77., 53., 74., 76., 69., 45., 72., 54.,\n",
              "       59., 61., 57., 47., 23., 46., 44., 42., 38., 52., 51., 43., 32.,\n",
              "       49., 31., 26., 17., 55., 48., 56., nan, 33.])"
            ]
          },
          "execution_count": 19,
          "metadata": {},
          "output_type": "execute_result"
        }
      ],
      "source": [
        "life['Polio'].unique()"
      ]
    },
    {
      "cell_type": "code",
      "execution_count": 20,
      "metadata": {
        "trusted": true
      },
      "outputs": [
        {
          "data": {
            "text/plain": [
              "array([ 8.16,  8.18,  8.13,  8.52,  7.87,  9.2 ,  9.42,  8.33,  6.73,\n",
              "        7.43,  8.7 ,  8.79,  8.82,  7.76,  7.8 ,  8.2 ,  6.  ,  5.88,\n",
              "        5.66,  5.59,  5.71,  5.34,  5.79,  5.87,  6.1 ,  5.86,  6.12,\n",
              "        6.38,  6.27,  6.3 ,  6.26,   nan,  7.21,  7.12,  6.14,  5.29,\n",
              "        5.12,  5.36,  4.2 ,  3.82,  3.36,  3.24,  3.54,  3.6 ,  3.73,\n",
              "        3.84,  3.49,  3.31,  4.26,  3.3 ,  3.38,  3.39,  4.37,  4.54,\n",
              "        4.1 ,  4.71,  4.41,  3.63,  5.38,  2.79,  5.54,  5.33,  5.39,\n",
              "        5.65,  5.63,  4.86,  4.69,  4.27,  4.34,  4.21,  4.53,  4.48,\n",
              "        4.13,  4.79,  4.99,  5.2 ,  5.89,  6.55,  7.63,  6.66,  6.49,\n",
              "        6.68,  6.85,  6.84,  8.22,  8.31,  9.38,  9.21,  4.55,  3.71,\n",
              "        4.56,  3.8 ,  4.31,  4.58,  5.25,  5.5 ,  5.56,  5.4 ,  5.94,\n",
              "        6.25,  9.36,  9.5 ,  8.78,  8.53,  8.49,  8.45,  8.57,  8.32,\n",
              "        8.39,  8.8 , 11.21, 11.14, 11.17,  1.94, 11.19,  1.6 ,  1.4 ,\n",
              "        1.35,  1.53,  1.56,  1.48,  1.27,  1.12,  6.4 ,  5.37,  5.1 ,\n",
              "        5.85,  6.17,  7.86,  7.92,  6.56,  4.47,  4.67,  7.74,  7.5 ,\n",
              "        7.44,  7.3 ,  6.93,  5.95,  6.2 ,  5.62,  5.26,  5.15,  5.21,\n",
              "        4.98,  3.4 ,  3.64,  3.79,  3.17,  3.16,  3.37,  3.74,  3.89,\n",
              "        3.51,  2.82,  2.88,  2.91,  2.85,  2.8 ,  2.68,  2.62,  2.51,\n",
              "        2.59,  2.47,  2.33,  7.47,  7.57,  6.67,  6.21,  5.64,  5.27,\n",
              "        5.82,  5.76,  5.47,  5.16,  5.69,  6.7 ,  4.92,  5.55,  6.9 ,\n",
              "        6.44,  6.34,  6.89,  6.59,  6.47,  6.62,  6.13,  1.59,  1.57,\n",
              "        1.54,  1.42,  1.17,  1.39,  9.6 ,  9.25,  9.17,  9.24,  9.32,\n",
              "        9.3 ,  8.46,  8.29,  8.12,  5.45,  5.61,  5.81,  5.9 ,  4.76,\n",
              "        4.4 ,  4.45,  4.39,  4.38,  4.5 ,  3.98,  4.59,  4.95,  4.46,\n",
              "        4.75,  4.73,  4.63,  3.57,  3.83,  3.7 ,  5.17,  6.58,  5.28,\n",
              "        4.9 ,  7.75,  5.91,  6.91,  6.33,  5.96,  5.49,  5.44,  5.  ,\n",
              "        4.96,  5.19,  5.67,  5.22,  5.3 ,  6.53,  6.31,  9.57,  9.46,\n",
              "        9.94,  9.71,  9.58,  9.64,  8.58,  8.37,  8.28,  8.5 ,  9.4 ,\n",
              "        7.94,  7.1 ,  7.16,  7.9 ,  5.41,  5.84,  6.39,  4.93,  4.65,\n",
              "        5.73,  4.64,  8.48,  8.26,  8.9 ,  8.27,  8.65,  8.24,  8.36,\n",
              "        7.7 ,  6.94,  7.13,  7.19,  2.65,  2.61,  2.3 ,  2.25,  2.73,\n",
              "        2.23,  2.32,  2.24,  3.1 ,  3.9 ,  3.5 ,  8.44,  7.93,  7.11,\n",
              "        6.88,  7.24,  6.78,  6.61,  6.41,  7.41,  7.23,  7.17,  6.77,\n",
              "        6.63,  6.87,  6.45,  4.85,  5.6 ,  7.54,  8.3 ,  8.21,  6.96,\n",
              "        1.3 , 11.49,  9.84,  5.72,  6.42,  6.32,  6.35,  5.24,  4.29,\n",
              "        4.61,  4.6 ,  4.83,  4.24,  3.96,  4.3 ,  5.11,  4.81,  5.68,\n",
              "        5.93,  6.24,  6.36,  3.75,  6.43,  6.74,  5.7 ,  5.18,  4.97,\n",
              "        4.7 ,  1.45,  1.67,  1.78,  1.82, 11.2 ,  9.83,  9.75,  9.56,\n",
              "        9.54,  9.37,  9.1 ,  8.67,  3.62,  3.58,  3.99,  4.16,  3.95,\n",
              "        3.42,  3.  ,  2.95,  2.92,  3.35,  3.32,  3.91,  6.28,  7.79,\n",
              "        7.53,  7.  ,  6.97,  7.39,  6.18,  6.69,  7.34,  6.48,  6.51,\n",
              "        4.89,  5.8 ,  4.32,  4.52,  4.66,  4.72,  4.82,  7.2 ,  6.64,\n",
              "        6.76,  6.11,  5.92,  6.75,  5.13,  4.57,  3.65,  2.86,  3.56,\n",
              "        2.29,  2.27,  2.9 ,  2.54,  2.37,  2.42,  2.56,  2.45,  2.44,\n",
              "        2.13,  9.31,  9.47,  9.73,  9.66,  9.69,  7.82,  8.23,  7.25,\n",
              "        7.83,  8.25,  6.95,  6.19,  7.66, 11.6 ,  9.48,  8.59,  1.19,\n",
              "       11.78,  1.79,  7.67,  9.39,  6.5 ,  7.37,  7.46,  7.4 ,  6.37,\n",
              "        6.83,  5.78,  5.77,  7.49,  7.55,  7.85,  6.82,  6.52,  6.8 ,\n",
              "        4.33,  3.77,  3.53,  3.61,  3.14,  3.34,  3.2 ,  2.67,  1.8 ,\n",
              "       11.25,  1.98,  1.87, 11.8 , 11.47,  1.18,  9.99,  9.92,  9.77,\n",
              "        9.67,  9.51,  9.33,  9.14,  8.95,  8.71,  8.84,  7.72,  6.22,\n",
              "        5.75,  5.58,  4.12,  4.22,  4.28,  5.53,  9.16,  7.29,  6.46,\n",
              "        4.62,  3.86,  5.46,  4.8 ,  5.97,  6.81,  7.61,  8.17,  4.  ,\n",
              "        3.29,  5.32,  2.31,  1.63,  2.4 ,  2.5 ,  2.98,  3.69,  2.97,\n",
              "        4.43,  5.83,  6.6 ,  4.84,  4.88,  6.86,  4.23,  4.36,  4.49,\n",
              "        3.68,  3.48,  3.28,  3.87,  9.68,  9.55,  8.35,  8.38,  8.43,\n",
              "        8.15,  7.81,  7.22, 11.54, 11.56, 11.44, 11.33, 11.28,  1.43,\n",
              "        1.22,  9.89,  3.44,  3.13,  3.12,  3.41,  3.43,  2.76,  3.26,\n",
              "        3.22,  3.23,  2.89,  5.52,  4.35,  7.42,  1.5 ,  8.99,  8.6 ,\n",
              "        8.72, 11.3 , 11.16,  1.99,  1.93, 11.4 ,  1.34,  1.52,  1.37,\n",
              "        1.62,  1.15,  1.1 ,  4.51,  9.26,  9.18,  9.76,  9.41,  9.34,\n",
              "        8.61,  8.47,  7.6 ,  6.15,  5.99,  6.79,  6.65,  6.71,  3.85,\n",
              "        3.21,  3.45,  3.76,  3.46,  4.94,  6.57,  7.32,  7.56,  8.1 ,\n",
              "        9.88,  1.41,  9.15,  9.78,  8.4 ,  7.89,  7.28,  7.84,  7.33,\n",
              "        7.51,  8.42,  8.86,  8.75,  8.68,  9.12,  8.96,  9.59,  1.7 ,\n",
              "        9.86,  9.28,  4.25,  2.93,  2.71,  2.74,  2.83,  2.81,  2.53,\n",
              "        6.98,  5.42,  3.93,  7.78,  8.76,  9.53,  8.64,  7.27,  7.73,\n",
              "        7.36,  7.38,  7.35,  9.22,  9.27,  8.89,  8.11,  7.91,  4.87,\n",
              "        1.23,  1.25,  8.19,  8.  ,  7.45,  8.88,  9.9 ,  9.65,  4.42,\n",
              "        3.19,  3.47,  5.57,  5.23,  3.97,  4.17,  4.68,  1.21, 12.24,\n",
              "       12.23, 13.66,  9.98,  9.  ,  2.57,  2.38,  5.43,  2.  ,  2.12,\n",
              "        2.2 ,  2.75,  2.77,  4.14,  4.91,  6.29,  6.99,  8.83,  8.91,\n",
              "        1.9 ,  1.86, 11.7 , 11.79,  9.8 ,  8.85,  6.92, 11.23, 11.87,\n",
              "       14.39, 11.83,  1.24,  8.77,  4.77,  2.63,  7.18,  7.68,  7.95,\n",
              "        7.48,  4.15, 11.38,  1.96, 12.6 , 11.67, 13.73,  9.52,  9.95,\n",
              "        8.93, 17.24,  2.87,  5.31,  3.78,  5.35, 13.71, 13.38, 12.77,\n",
              "       13.76, 13.83, 13.44, 12.94, 11.99, 11.92, 12.11,  1.64,  7.88,\n",
              "        5.48,  4.44,  4.18,  6.23,  6.16,  2.28,  2.16,  2.22,  1.92,\n",
              "        1.68,  1.83,  1.97,  1.84,  7.15, 11.1 ,  1.29,  8.34, 11.53,\n",
              "       11.24,  7.71,  7.58,  3.67,  3.66,  4.11,  2.43,  3.25,  2.84,\n",
              "        9.72,  9.49,  9.44,  9.85,  9.62,  3.55,  2.52,  2.49,  2.1 ,\n",
              "        3.18,  2.7 ,  2.94,  4.78,  7.69,  9.81,  1.49,  1.33,  3.94,\n",
              "        9.74,  1.44,  2.19,  2.15,  2.58,  2.18,  1.32,  1.61, 12.8 ,\n",
              "       12.49, 11.41,  1.88,  1.2 ,  6.72,  8.63,  3.92,  3.88,  3.72,\n",
              "       11.12,  1.28,  3.59,  2.64, 11.9 , 11.59, 11.98, 13.13, 12.25,\n",
              "       11.66, 11.69, 11.96, 13.63,  7.96,  8.51,  9.23,  9.29,  9.7 ,\n",
              "        7.98,  8.62,  7.77,  7.99,  3.81,  7.97,  2.96,  7.14, 11.93,\n",
              "       11.97,  8.92, 11.71, 11.  ,  9.91,  5.98,  0.76,  0.92,  0.74,\n",
              "        0.37,  0.65,  1.31,  2.48,  7.26,  6.54, 16.61,  2.46,  2.72,\n",
              "        7.31, 17.14, 16.9 , 17.2 , 17.6 , 17.  , 16.2 , 15.57, 15.27,\n",
              "       15.15, 15.14, 15.6 , 14.55, 13.7 ,  8.74,  8.55, 11.15,  3.52])"
            ]
          },
          "execution_count": 20,
          "metadata": {},
          "output_type": "execute_result"
        }
      ],
      "source": [
        "life['Totalexpenditure'].unique()"
      ]
    },
    {
      "cell_type": "code",
      "execution_count": 21,
      "metadata": {
        "trusted": true
      },
      "outputs": [
        {
          "data": {
            "text/plain": [
              "array([65., 62., 64., 67., 68., 66., 63., 58.,  5., 41., 36., 33., 24.,\n",
              "       99., 98., 97., 95., 93., 88., 86., 87., 89., 77., 75., 71.,  6.,\n",
              "       69., 73., 34., 38.,  4., 28., 94., 91., 96., 83.,  9., 92., 85.,\n",
              "       84., 81., 79., 78., 76., 82.,  8., 74.,  7., 72., 45., 61., 54.,\n",
              "       59., 47., 23., 42., 48., 51., 44., 37., 46., 39., 19., 25., 21.,\n",
              "       26., 31., 56.,  3., 53., 16.,  2., 43., 35., 32., 57., 49., 55.,\n",
              "       52., nan, 29., 27.])"
            ]
          },
          "execution_count": 21,
          "metadata": {},
          "output_type": "execute_result"
        }
      ],
      "source": [
        "life['Diphtheria'].unique()"
      ]
    },
    {
      "cell_type": "code",
      "execution_count": 22,
      "metadata": {
        "trusted": true
      },
      "outputs": [
        {
          "data": {
            "text/plain": [
              "array([ 0.1,  1.9,  2. ,  2.3,  2.6,  2.5,  2.4,  2.1,  0.2,  0.4,  0.8,\n",
              "        0.7,  0.9,  0.5,  0.3,  0.6,  1.5,  1. ,  1.1,  1.2,  1.3,  1.4,\n",
              "        1.6,  1.8,  2.2,  2.8,  4.4,  5.5,  6.2,  9. , 12.7, 13.4, 14.4,\n",
              "       20.6, 28.4, 31.9, 34.6, 37.2, 38.8,  1.7,  2.9,  3.2,  3.6,  4. ,\n",
              "        3.4,  3.8,  4.3,  4.8,  5.1,  5.2,  5.3,  3.3,  3.7,  4.1,  5.8,\n",
              "        6.1,  6.5,  6.7,  6.9,  7. ,  7.1,  3.5,  4.6,  4.9,  6.3,  7.2,\n",
              "        7.4,  7.5,  7.7,  7.8,  7.9,  4.5,  6.6,  7.3,  8.3, 10. , 11.2,\n",
              "       12. , 12.8, 13.9, 14.3,  3.1,  3.9,  4.7,  5. ,  3. ,  5.9,  6.8,\n",
              "        7.6,  2.7,  4.2,  5.7,  8.2,  6. ,  8. ,  8.9, 10.7, 10.9, 11.1,\n",
              "       11. , 10.1,  9.5,  5.6,  5.4,  6.4,  9.1, 10.3, 11.6, 13.2, 14.5,\n",
              "       15.7, 16.9, 18.1,  9.3,  9.4,  9.6, 10.5, 18.2, 27.3, 30. , 34.1,\n",
              "       34.8, 33.8, 32.5, 31.2, 29.8, 13.7, 14.9, 19.3, 21.1, 22.4, 23.4,\n",
              "       24.2, 24.7, 25.1, 25.5, 10.8, 11.3, 12.6, 14.1, 16.3, 16.2, 15.9,\n",
              "       15.3, 12.2,  8.7, 11.7, 15.2, 19.2, 22.1, 24. , 24.6, 23.9, 22.8,\n",
              "        8.1,  8.5, 19. , 23.5, 26.4, 28.1, 29.5, 29.7, 28.9, 26.6, 21.3,\n",
              "        9.8, 21.6, 33.7, 40.2, 40.7, 43.7, 49.1, 50.3, 50.6, 49.9, 48.8,\n",
              "       46.4,  8.4,  8.6, 11.5, 12.1, 12.5, 11.9, 13.6, 17. , 17.6, 18.4,\n",
              "       18.6, 18.7,  8.8, 13.3, 20.5, 23.7, 26.8, 30.3, 33.6, 36.7, 39.8,\n",
              "       42.1, 43.5])"
            ]
          },
          "execution_count": 22,
          "metadata": {},
          "output_type": "execute_result"
        }
      ],
      "source": [
        "life['HIV/AIDS'].unique()"
      ]
    },
    {
      "cell_type": "code",
      "execution_count": 23,
      "metadata": {
        "trusted": true
      },
      "outputs": [
        {
          "data": {
            "text/plain": [
              "array([584.25921  , 612.696514 , 631.744976 , ...,  57.34834  ,\n",
              "       548.587312 , 547.3588785])"
            ]
          },
          "execution_count": 23,
          "metadata": {},
          "output_type": "execute_result"
        }
      ],
      "source": [
        "life['GDP'].unique()"
      ]
    },
    {
      "cell_type": "code",
      "execution_count": 24,
      "metadata": {
        "trusted": true
      },
      "outputs": [
        {
          "data": {
            "text/plain": [
              "array([33736494.,   327582., 31731688., ...,   125525., 12366165.,\n",
              "       12222251.])"
            ]
          },
          "execution_count": 24,
          "metadata": {},
          "output_type": "execute_result"
        }
      ],
      "source": [
        "life['Population'].unique()"
      ]
    },
    {
      "cell_type": "code",
      "execution_count": 25,
      "metadata": {
        "trusted": true
      },
      "outputs": [
        {
          "data": {
            "text/plain": [
              "array([17.2, 17.5, 17.7, 17.9, 18.2, 18.4, 18.6, 18.8, 19. , 19.2, 19.3,\n",
              "       19.5, 19.7, 19.9,  2.1,  2.3,  1.2,  1.3,  1.4,  1.5,  1.6,  1.7,\n",
              "        1.8,  1.9,  2. ,  6. ,  5.9,  6.1,  6.2,  6.3,  6.4,  6.5,  8.3,\n",
              "        8.5,  8.6,  8.8,  8.9,  9.1,  9.3,  9.5,  9.6,  9.8,  1. ,  3.3,\n",
              "        3.4,  3.5,  3.6,  3.7,  1.1,  0.6,  0.7,  2.8,  2.9,  3. ,  3.1,\n",
              "        3.2,  2.5,  2.6,  2.7, 18.1, 18.3, 18.5, 18.7, 18.9, 19.1,  3.8,\n",
              "        3.9,  4. ,  4.1,  4.2,  4.3,  2.2,  2.4,  0.9,  0.8,  6.9,  7.1,\n",
              "        7.2,  7.4,  7.6,  7.8,  7.9,  8.1,  8.7,  9.7, 15.4, 15.7, 15.9,\n",
              "       16.1, 16.3, 16.6, 16.8, 17.1, 17.3, 17.8, 18. ,  6.7,  7. ,  7.3,\n",
              "        7.7,  8. ,  8.4,  9.2, 11.4, 11.8, 12.3,  5.7,  5.8,  6.6,  6.8,\n",
              "        8.2,  9. , 11. , 11.2,  7.5,  5.5,  5.6,  9.4, 11.1, 11.3, 11.5,\n",
              "       11.6,  0.5,  9.9,  4.4,  4.5,  4.7,  4.8,  5. ,  5.1,  5.3,  0.1,\n",
              "        4.9,  5.2,  5.4, 11.7, 11.9, 12.1, 12.2, 12.4,  4.6, 26.7, 26.8,\n",
              "       26.9, 27. , 27.1, 27.2, 27.3, 27.4, 27.5, 27.7,  0.3,  0.2, 13.6,\n",
              "       13.7, 13.8, 13.9, 14. , 14.1, 14.2, 14.3, 14.4, 14.5, 14.6, 14.7,\n",
              "       14.8,  nan, 12.8, 12.9, 13. , 13.1, 13.2, 13.3, 12. , 12.6, 15.2,\n",
              "       16.5, 16.7, 16.9, 17. , 17.4, 17.6,  0.4, 12.5, 12.7, 13.5, 19.4,\n",
              "       19.6, 19.8, 21. , 21.2, 21.4, 21.6, 21.8, 22. , 22.2, 15.1, 15.3,\n",
              "       14.9, 15.6, 15.8])"
            ]
          },
          "execution_count": 25,
          "metadata": {},
          "output_type": "execute_result"
        }
      ],
      "source": [
        "life['thinness1-19years'].unique()"
      ]
    },
    {
      "cell_type": "code",
      "execution_count": 26,
      "metadata": {
        "trusted": true
      },
      "outputs": [
        {
          "data": {
            "text/plain": [
              "array([17.3, 17.5, 17.7, 18. , 18.2, 18.4, 18.7, 18.9, 19.1, 19.3, 19.5,\n",
              "       19.7, 19.9,  2.2,  2.4,  2.5,  1.3,  1.4,  1.5,  1.6,  1.7,  1.8,\n",
              "        1.9,  2. ,  2.1,  5.8,  5.9,  6. ,  6.1,  6.2,  6.3,  6.4,  8.2,\n",
              "        8.3,  8.5,  8.6,  8.8,  9. ,  9.2,  9.4,  9.6,  9.7,  9.9,  1.1,\n",
              "        3.3,  3.4,  3.5,  3.6,  0.9,  1. ,  0.6,  0.7,  2.9,  2.8,  3. ,\n",
              "        3.1,  2.6, 18.3, 18.6, 18.8, 19. , 19.2, 19.4,  2.3,  2.7, 21.1,\n",
              "       21.3, 21.5,  3.7,  3.8,  3.9,  4. ,  4.1,  4.2,  0.8,  6.8,  6.9,\n",
              "        7.1,  7.3,  7.5,  7.6,  7.8,  8. ,  8.4, 16. , 16.2, 16.5, 16.7,\n",
              "       17. , 17.8, 18.1, 19.6,  1.2,  3.2,  6.7,  7. ,  7.4, 11.3, 11.8,\n",
              "       12.2,  5.1,  5.2,  5.3,  5.4,  5.5,  5.6,  5.7,  7.7,  7.9,  8.1,\n",
              "        9.1,  9.3,  9.8, 11.1,  7.2,  8.7,  8.9,  6.6,  9.5, 11. , 11.2,\n",
              "       11.4, 11.5, 11.6, 11.7, 11.9,  6.5,  0.5,  0.4,  4.3,  4.4,  4.6,\n",
              "        4.7,  4.9,  5. ,  0.1, 12.1, 12.3,  4.5,  4.8, 27.3, 27.4, 27.5,\n",
              "       27.6, 27.7, 27.8, 27.9, 28. , 28.1, 28.2, 28.3, 28.4, 28.5, 28.6,\n",
              "        0.2,  0.3, 13.6, 13.7, 13.8, 13.9, 14. , 14.1, 14.2, 14.3, 14.4,\n",
              "       14.5, 14.6, 14.7, 14.8,  nan, 13. , 13.1, 13.2, 13.3, 13.4, 13.5,\n",
              "       12. , 12.6, 15.4, 15.9, 16.1, 16.3, 16.9, 17.2, 17.4, 17.6, 12.5,\n",
              "       12.7, 12.9, 19.8, 21.7, 21.8, 22. , 22.2, 22.4, 22.6, 12.8, 15. ,\n",
              "       17.1, 15.1, 15.2, 15.3, 15.5, 15.6, 14.9, 15.7, 15.8, 16.4])"
            ]
          },
          "execution_count": 26,
          "metadata": {},
          "output_type": "execute_result"
        }
      ],
      "source": [
        "life['thinness5-9years'].unique()"
      ]
    },
    {
      "cell_type": "code",
      "execution_count": 27,
      "metadata": {
        "trusted": true
      },
      "outputs": [
        {
          "data": {
            "text/plain": [
              "array([0.479, 0.476, 0.47 , 0.463, 0.454, 0.448, 0.434, 0.433, 0.415,\n",
              "       0.405, 0.396, 0.381, 0.373, 0.341, 0.34 , 0.338, 0.762, 0.761,\n",
              "       0.759, 0.752, 0.738, 0.725, 0.721, 0.713, 0.703, 0.696, 0.685,\n",
              "       0.681, 0.674, 0.67 , 0.662, 0.656, 0.743, 0.741, 0.737, 0.732,\n",
              "       0.724, 0.714, 0.705, 0.697, 0.69 , 0.686, 0.68 , 0.673, 0.663,\n",
              "       0.653, 0.644, 0.636, 0.531, 0.527, 0.523, 0.508, 0.495, 0.488,\n",
              "       0.48 , 0.468, 0.439, 0.426, 0.406, 0.401, 0.391, 0.382, 0.784,\n",
              "       0.782, 0.781, 0.778, 0.783, 0.788, 0.786, 0.773, 0.   , 0.826,\n",
              "       0.825, 0.823, 0.822, 0.816, 0.802, 0.794, 0.792, 0.78 , 0.775,\n",
              "       0.77 , 0.776, 0.771, 0.764, 0.739, 0.736, 0.729, 0.72 , 0.707,\n",
              "       0.692, 0.679, 0.668, 0.657, 0.645, 0.639, 0.937, 0.936, 0.933,\n",
              "       0.93 , 0.927, 0.925, 0.921, 0.918, 0.915, 0.91 , 0.908, 0.905,\n",
              "       0.902, 0.899, 0.897, 0.892, 0.887, 0.884, 0.88 , 0.872, 0.87 ,\n",
              "       0.864, 0.86 , 0.854, 0.848, 0.841, 0.837, 0.847, 0.833, 0.758,\n",
              "       0.745, 0.742, 0.728, 0.719, 0.708, 0.682, 0.675, 0.659, 0.651,\n",
              "       0.642, 0.79 , 0.789, 0.791, 0.779, 0.82 , 0.815, 0.812, 0.81 ,\n",
              "       0.814, 0.813, 0.806, 0.803, 0.798, 0.796, 0.575, 0.57 , 0.565,\n",
              "       0.557, 0.545, 0.535, 0.52 , 0.513, 0.506, 0.499, 0.491, 0.484,\n",
              "       0.459, 0.793, 0.785, 0.766, 0.757, 0.753, 0.749, 0.75 , 0.787,\n",
              "       0.755, 0.723, 0.695, 0.687, 0.895, 0.89 , 0.889, 0.886, 0.878,\n",
              "       0.876, 0.874, 0.871, 0.865, 0.861, 0.875, 0.873, 0.869, 0.706,\n",
              "       0.702, 0.7  , 0.699, 0.691, 0.684, 0.678, 0.677, 0.481, 0.475,\n",
              "       0.466, 0.458, 0.451, 0.444, 0.438, 0.43 , 0.423, 0.416, 0.407,\n",
              "       0.395, 0.389, 0.604, 0.596, 0.589, 0.581, 0.572, 0.671, 0.666,\n",
              "       0.661, 0.655, 0.649, 0.643, 0.632, 0.626, 0.625, 0.622, 0.62 ,\n",
              "       0.617, 0.61 , 0.607, 0.6  , 0.747, 0.735, 0.711, 0.717, 0.716,\n",
              "       0.71 , 0.698, 0.693, 0.669, 0.646, 0.63 , 0.593, 0.58 , 0.567,\n",
              "       0.558, 0.56 , 0.559, 0.754, 0.734, 0.73 , 0.704, 0.694, 0.863,\n",
              "       0.852, 0.846, 0.845, 0.84 , 0.834, 0.828, 0.819, 0.818, 0.768,\n",
              "       0.709, 0.399, 0.398, 0.392, 0.384, 0.377, 0.365, 0.356, 0.345,\n",
              "       0.334, 0.325, 0.404, 0.393, 0.385, 0.361, 0.336, 0.319, 0.309,\n",
              "       0.29 , 0.286, 0.279, 0.276, 0.268,   nan, 0.627, 0.621, 0.615,\n",
              "       0.602, 0.582, 0.574, 0.569, 0.562, 0.553, 0.546, 0.54 , 0.533,\n",
              "       0.519, 0.511, 0.483, 0.445, 0.427, 0.412, 0.514, 0.507, 0.501,\n",
              "       0.496, 0.486, 0.473, 0.456, 0.455, 0.452, 0.437, 0.919, 0.912,\n",
              "       0.909, 0.907, 0.903, 0.898, 0.894, 0.891, 0.881, 0.877, 0.867,\n",
              "       0.347, 0.37 , 0.366, 0.352, 0.33 , 0.323, 0.315, 0.316, 0.314,\n",
              "       0.312, 0.394, 0.39 , 0.387, 0.36 , 0.343, 0.306, 0.303, 0.301,\n",
              "       0.284, 0.3  , 0.831, 0.804, 0.797, 0.672, 0.634, 0.592, 0.583,\n",
              "       0.712, 0.683, 0.658, 0.65 , 0.498, 0.497, 0.49 , 0.465, 0.461,\n",
              "       0.59 , 0.576, 0.548, 0.517, 0.492, 0.487, 0.74 , 0.727, 0.715,\n",
              "       0.817, 0.808, 0.8  , 0.777, 0.765, 0.772, 0.85 , 0.853, 0.849,\n",
              "       0.844, 0.836, 0.829, 0.805, 0.923, 0.926, 0.924, 0.922, 0.906,\n",
              "       0.904, 0.893, 0.882, 0.862, 0.467, 0.464, 0.46 , 0.441, 0.436,\n",
              "       0.388, 0.378, 0.372, 0.363, 0.718, 0.665, 0.66 , 0.688, 0.629,\n",
              "       0.623, 0.612, 0.606, 0.676, 0.628, 0.586, 0.587, 0.563, 0.554,\n",
              "       0.542, 0.418, 0.414, 0.41 , 0.402, 0.856, 0.838, 0.835, 0.435,\n",
              "       0.422, 0.411, 0.362, 0.346, 0.31 , 0.298, 0.283, 0.689, 0.866,\n",
              "       0.885, 0.879, 0.857, 0.851, 0.664, 0.652, 0.64 , 0.638, 0.633,\n",
              "       0.637, 0.45 , 0.449, 0.44 , 0.42 , 0.722, 0.92 , 0.916, 0.855,\n",
              "       0.547, 0.53 , 0.51 , 0.489, 0.485, 0.858, 0.859, 0.839, 0.83 ,\n",
              "       0.811, 0.801, 0.751, 0.746, 0.744, 0.614, 0.611, 0.616, 0.609,\n",
              "       0.578, 0.564, 0.539, 0.38 , 0.376, 0.371, 0.364, 0.329, 0.322,\n",
              "       0.421, 0.419, 0.624, 0.618, 0.619, 0.613, 0.477, 0.462, 0.447,\n",
              "       0.443, 0.603, 0.597, 0.577, 0.571, 0.566, 0.561, 0.551, 0.824,\n",
              "       0.821, 0.809, 0.795, 0.769, 0.901, 0.599, 0.556, 0.536, 0.526,\n",
              "       0.518, 0.505, 0.494, 0.641, 0.608, 0.774, 0.631, 0.896, 0.883,\n",
              "       0.868, 0.733, 0.763, 0.55 , 0.541, 0.474, 0.585, 0.584, 0.799,\n",
              "       0.647, 0.601, 0.573, 0.525, 0.509, 0.503, 0.807, 0.731, 0.469,\n",
              "       0.453, 0.446, 0.403, 0.4  , 0.383, 0.335, 0.386, 0.756, 0.748,\n",
              "       0.888, 0.504, 0.5  , 0.478, 0.457, 0.701, 0.35 , 0.333, 0.318,\n",
              "       0.308, 0.297, 0.291, 0.667, 0.588, 0.409, 0.397, 0.353, 0.332,\n",
              "       0.311, 0.552, 0.515, 0.493, 0.417, 0.598, 0.555, 0.538, 0.529,\n",
              "       0.502, 0.911, 0.913, 0.351, 0.331, 0.307, 0.293, 0.278, 0.27 ,\n",
              "       0.266, 0.261, 0.255, 0.253, 0.521, 0.948, 0.945, 0.942, 0.941,\n",
              "       0.939, 0.934, 0.931, 0.929, 0.917, 0.428, 0.654, 0.648, 0.827,\n",
              "       0.843, 0.424, 0.359, 0.767, 0.425, 0.408, 0.431, 0.413, 0.375,\n",
              "       0.367, 0.357, 0.348, 0.302, 0.292, 0.842, 0.512, 0.482, 0.442,\n",
              "       0.635, 0.429, 0.76 , 0.534, 0.516, 0.938, 0.932, 0.914, 0.579,\n",
              "       0.543, 0.432, 0.832, 0.594, 0.591])"
            ]
          },
          "execution_count": 27,
          "metadata": {},
          "output_type": "execute_result"
        }
      ],
      "source": [
        "life['Incomecompositionofresources'].unique()"
      ]
    },
    {
      "cell_type": "code",
      "execution_count": 28,
      "metadata": {
        "trusted": true
      },
      "outputs": [
        {
          "data": {
            "text/plain": [
              "array([10.1, 10. ,  9.9,  9.8,  9.5,  9.2,  8.9,  8.7,  8.4,  8.1,  7.9,\n",
              "        6.8,  6.5,  6.2,  5.9,  5.5, 14.2, 13.3, 12.5, 12.2, 12. , 11.6,\n",
              "       11.4, 10.8, 10.9, 10.7, 10.6, 14.4, 14. , 13.6, 13.1, 12.6, 12.3,\n",
              "       11.7, 11.5, 11.1, 10.3,  9.4,  9. ,  8.5,  7.7,  7.2,  6.4,  5.1,\n",
              "        4.6, 13.9, 13.8, 14.1, 14.5, 14.7,  0. , 17.3, 17.2, 17.1, 16.8,\n",
              "       16.5, 16.3, 16.1, 16.4, 15.6, 15. , 12.7, 11.9, 11.2, 20.4, 20.3,\n",
              "       20.1, 19.8, 19.5, 19.1, 19. , 20.7, 20.6, 20.5, 15.9, 15.7, 15.4,\n",
              "       15.3, 15.1, 15.2, 14.9, 15.5, 11.8, 11. , 10.4, 12.4, 12.1, 13.7,\n",
              "       13.5, 13.2, 10.2,  8.6,  8.2,  7.5,  7.3, 15.8, 14.8, 14.6, 16.6,\n",
              "       16.2, 18.8, 18.6, 18.2, 18. , 12.8, 12.9,  9.3,  9.1,  6.6, 10.5,\n",
              "        9.6,  8.8,  8. ,  7.6, 14.3, 13.4,  6.7,  6.3,  5.4,  4.9,  4.7,\n",
              "        4.3,  3.9,  3.8,  3.6,  3.5,  3.4,  5.6,  5.2,  4.4,  4.5,  nan,\n",
              "       11.3,  9.7,  8.3,  7.1,  6.9,  6. ,  5.7,  5.3, 13. , 17.6, 17.7,\n",
              "       16. , 19.2, 18.7, 18.4, 16.9, 16.7,  5. ,  4. ,  3.7,  3.3,  2.9,\n",
              "        5.8, 17. , 18.3, 18.1,  7.8,  7. ,  4.8,  7.4, 17.9, 18.5, 17.5,\n",
              "        6.1, 19.3, 19.7, 18.9, 17.4,  4.2,  3.1,  3. ,  2.8])"
            ]
          },
          "execution_count": 28,
          "metadata": {},
          "output_type": "execute_result"
        }
      ],
      "source": [
        "life['Schooling'].unique()"
      ]
    },
    {
      "cell_type": "code",
      "execution_count": 29,
      "metadata": {
        "trusted": true
      },
      "outputs": [
        {
          "name": "stdout",
          "output_type": "stream",
          "text": [
            "<class 'pandas.core.frame.DataFrame'>\n",
            "RangeIndex: 2938 entries, 0 to 2937\n",
            "Data columns (total 22 columns):\n",
            " #   Column                        Non-Null Count  Dtype  \n",
            "---  ------                        --------------  -----  \n",
            " 0   Country                       2938 non-null   object \n",
            " 1   Year                          2938 non-null   int64  \n",
            " 2   Status                        2938 non-null   object \n",
            " 3   Lifeexpectancy                2928 non-null   float64\n",
            " 4   AdultMortality                2928 non-null   float64\n",
            " 5   infantdeaths                  2938 non-null   int64  \n",
            " 6   Alcohol                       2744 non-null   float64\n",
            " 7   percentageexpenditure         2938 non-null   float64\n",
            " 8   HepatitisB                    2385 non-null   float64\n",
            " 9   Measles                       2938 non-null   int64  \n",
            " 10  BMI                           2904 non-null   float64\n",
            " 11  under-fivedeaths              2938 non-null   int64  \n",
            " 12  Polio                         2919 non-null   float64\n",
            " 13  Totalexpenditure              2712 non-null   float64\n",
            " 14  Diphtheria                    2919 non-null   float64\n",
            " 15  HIV/AIDS                      2938 non-null   float64\n",
            " 16  GDP                           2490 non-null   float64\n",
            " 17  Population                    2286 non-null   float64\n",
            " 18  thinness1-19years             2904 non-null   float64\n",
            " 19  thinness5-9years              2904 non-null   float64\n",
            " 20  Incomecompositionofresources  2771 non-null   float64\n",
            " 21  Schooling                     2775 non-null   float64\n",
            "dtypes: float64(16), int64(4), object(2)\n",
            "memory usage: 505.1+ KB\n"
          ]
        }
      ],
      "source": [
        "life.info()"
      ]
    },
    {
      "cell_type": "markdown",
      "metadata": {},
      "source": [
        "## Cleaning Data Agendas:\n",
        "\n",
        "- Proper = Country, Year, Status\n",
        "- Life expectancy, Adult Mortality = 2928 non-null, 10 values are null\n",
        "- Alcohol, HepatitisB, BMI, Polio, Total Expenditure, Diphttheria, GDP, Population, thinness1-19years, thinness5-9years, Incomecompositionofresources, Schooling.\n",
        "- Above HepatitisB, Polio, Diphtheria, Population, AdultMortality = float -> int;\n",
        "- 'nan' spotted in lifeexpectancy column\n",
        "- check BMI values like 6.1, 1.0, 4.3 are these values are valid"
      ]
    },
    {
      "cell_type": "markdown",
      "metadata": {},
      "source": [
        "## Cleaning:"
      ]
    },
    {
      "cell_type": "code",
      "execution_count": 30,
      "metadata": {
        "trusted": true
      },
      "outputs": [],
      "source": [
        "backup=life.copy()"
      ]
    },
    {
      "cell_type": "markdown",
      "metadata": {},
      "source": [
        "## Replacing NULL Values with mean values"
      ]
    },
    {
      "cell_type": "code",
      "execution_count": 31,
      "metadata": {
        "trusted": true
      },
      "outputs": [
        {
          "name": "stdout",
          "output_type": "stream",
          "text": [
            "69.22493169398908\n"
          ]
        }
      ],
      "source": [
        "mean_value=life['Lifeexpectancy'].mean()\n",
        "print(mean_value)"
      ]
    },
    {
      "cell_type": "code",
      "execution_count": 32,
      "metadata": {
        "trusted": true
      },
      "outputs": [],
      "source": [
        "life['Lifeexpectancy'].fillna(value=mean_value, inplace=True)"
      ]
    },
    {
      "cell_type": "code",
      "execution_count": 33,
      "metadata": {
        "trusted": true
      },
      "outputs": [
        {
          "name": "stdout",
          "output_type": "stream",
          "text": [
            "164.79644808743168\n"
          ]
        }
      ],
      "source": [
        "mean_value=life['AdultMortality'].mean()\n",
        "print(mean_value)"
      ]
    },
    {
      "cell_type": "code",
      "execution_count": 34,
      "metadata": {
        "trusted": true
      },
      "outputs": [],
      "source": [
        "life['AdultMortality'].fillna(value=mean_value, inplace=True)"
      ]
    },
    {
      "cell_type": "code",
      "execution_count": 35,
      "metadata": {
        "trusted": true
      },
      "outputs": [
        {
          "data": {
            "text/plain": [
              "0       263\n",
              "1       271\n",
              "2       268\n",
              "3       272\n",
              "4       275\n",
              "       ... \n",
              "2933    723\n",
              "2934    715\n",
              "2935     73\n",
              "2936    686\n",
              "2937    665\n",
              "Name: AdultMortality, Length: 2938, dtype: int64"
            ]
          },
          "execution_count": 35,
          "metadata": {},
          "output_type": "execute_result"
        }
      ],
      "source": [
        "life['AdultMortality'].astype(int)"
      ]
    },
    {
      "cell_type": "code",
      "execution_count": 36,
      "metadata": {
        "trusted": true
      },
      "outputs": [
        {
          "name": "stdout",
          "output_type": "stream",
          "text": [
            "4.602860787172012\n"
          ]
        }
      ],
      "source": [
        "mean_value=life['Alcohol'].mean()\n",
        "print(mean_value)\n",
        "life['Alcohol'].fillna(value=mean_value, inplace=True)"
      ]
    },
    {
      "cell_type": "code",
      "execution_count": 37,
      "metadata": {
        "trusted": true
      },
      "outputs": [
        {
          "name": "stdout",
          "output_type": "stream",
          "text": [
            "80.94046121593291\n"
          ]
        }
      ],
      "source": [
        "mean_value=life['HepatitisB'].mean()\n",
        "print(mean_value)\n",
        "life['HepatitisB'].fillna(value=mean_value, inplace=True)"
      ]
    },
    {
      "cell_type": "code",
      "execution_count": 38,
      "metadata": {
        "trusted": true
      },
      "outputs": [
        {
          "name": "stdout",
          "output_type": "stream",
          "text": [
            "38.321246556473824\n"
          ]
        }
      ],
      "source": [
        "mean_value=life['BMI'].mean()\n",
        "print(mean_value)\n",
        "life['BMI'].fillna(value=mean_value, inplace=True)"
      ]
    },
    {
      "cell_type": "code",
      "execution_count": 39,
      "metadata": {
        "trusted": true
      },
      "outputs": [
        {
          "name": "stdout",
          "output_type": "stream",
          "text": [
            "82.55018842069202\n"
          ]
        }
      ],
      "source": [
        "mean_value=life['Polio'].mean()\n",
        "print(mean_value)\n",
        "life['Polio'].fillna(value=mean_value, inplace=True)"
      ]
    },
    {
      "cell_type": "code",
      "execution_count": 40,
      "metadata": {
        "trusted": true
      },
      "outputs": [
        {
          "name": "stdout",
          "output_type": "stream",
          "text": [
            "5.9381895280235995\n"
          ]
        }
      ],
      "source": [
        "mean_value=life['Totalexpenditure'].mean()\n",
        "print(mean_value)\n",
        "life['Totalexpenditure'].fillna(value=mean_value, inplace=True)"
      ]
    },
    {
      "cell_type": "code",
      "execution_count": 41,
      "metadata": {
        "trusted": true
      },
      "outputs": [
        {
          "name": "stdout",
          "output_type": "stream",
          "text": [
            "82.32408359027065\n"
          ]
        }
      ],
      "source": [
        "mean_value=life['Diphtheria'].mean()\n",
        "print(mean_value)\n",
        "life['Diphtheria'].fillna(value=mean_value, inplace=True)"
      ]
    },
    {
      "cell_type": "code",
      "execution_count": 42,
      "metadata": {
        "trusted": true
      },
      "outputs": [
        {
          "name": "stdout",
          "output_type": "stream",
          "text": [
            "7483.158469138474\n"
          ]
        }
      ],
      "source": [
        "mean_value=life['GDP'].mean()\n",
        "print(mean_value)\n",
        "life['GDP'].fillna(value=mean_value, inplace=True)"
      ]
    },
    {
      "cell_type": "code",
      "execution_count": 43,
      "metadata": {
        "trusted": true
      },
      "outputs": [
        {
          "name": "stdout",
          "output_type": "stream",
          "text": [
            "12753375.120052494\n"
          ]
        }
      ],
      "source": [
        "mean_value=life['Population'].mean()\n",
        "print(mean_value)\n",
        "life['Population'].fillna(value=mean_value, inplace=True)"
      ]
    },
    {
      "cell_type": "code",
      "execution_count": 44,
      "metadata": {
        "trusted": true
      },
      "outputs": [
        {
          "name": "stdout",
          "output_type": "stream",
          "text": [
            "4.839703856749312\n"
          ]
        }
      ],
      "source": [
        "mean_value=life['thinness1-19years'].mean()\n",
        "print(mean_value)\n",
        "life['thinness1-19years'].fillna(value=mean_value, inplace=True)"
      ]
    },
    {
      "cell_type": "code",
      "execution_count": 45,
      "metadata": {
        "trusted": true
      },
      "outputs": [
        {
          "name": "stdout",
          "output_type": "stream",
          "text": [
            "4.870316804407714\n"
          ]
        }
      ],
      "source": [
        "mean_value=life['thinness5-9years'].mean()\n",
        "print(mean_value)\n",
        "life['thinness5-9years'].fillna(value=mean_value, inplace=True)"
      ]
    },
    {
      "cell_type": "code",
      "execution_count": 46,
      "metadata": {
        "trusted": true
      },
      "outputs": [
        {
          "name": "stdout",
          "output_type": "stream",
          "text": [
            "0.6275510645976182\n"
          ]
        }
      ],
      "source": [
        "mean_value=life['Incomecompositionofresources'].mean()\n",
        "print(mean_value)\n",
        "life['Incomecompositionofresources'].fillna(value=mean_value, inplace=True)"
      ]
    },
    {
      "cell_type": "code",
      "execution_count": 47,
      "metadata": {
        "trusted": true
      },
      "outputs": [
        {
          "name": "stdout",
          "output_type": "stream",
          "text": [
            "11.992792792792793\n"
          ]
        }
      ],
      "source": [
        "mean_value=life['Schooling'].mean()\n",
        "print(mean_value)\n",
        "life['Schooling'].fillna(value=mean_value, inplace=True)"
      ]
    },
    {
      "cell_type": "markdown",
      "metadata": {},
      "source": [
        "# Converting features into their original datatype - HepatitisB, Polio, Diphtheria, GDP, Population, AdultMortality"
      ]
    },
    {
      "cell_type": "code",
      "execution_count": 48,
      "metadata": {
        "trusted": true
      },
      "outputs": [],
      "source": [
        "life['HepatitisB']=life['HepatitisB'].astype(int)"
      ]
    },
    {
      "cell_type": "code",
      "execution_count": 49,
      "metadata": {
        "trusted": true
      },
      "outputs": [],
      "source": [
        "life['Polio']=life['Polio'].astype(int)"
      ]
    },
    {
      "cell_type": "code",
      "execution_count": 50,
      "metadata": {
        "trusted": true
      },
      "outputs": [],
      "source": [
        "life['Diphtheria']=life['Diphtheria'].astype(int)"
      ]
    },
    {
      "cell_type": "code",
      "execution_count": 51,
      "metadata": {
        "trusted": true
      },
      "outputs": [],
      "source": [
        "life['Population']=life['Population'].astype(int)"
      ]
    },
    {
      "cell_type": "code",
      "execution_count": 52,
      "metadata": {
        "trusted": true
      },
      "outputs": [],
      "source": [
        "life['AdultMortality']=life['AdultMortality'].astype(int)"
      ]
    },
    {
      "cell_type": "code",
      "execution_count": 53,
      "metadata": {
        "trusted": true
      },
      "outputs": [],
      "source": [
        "life['GDP']=life['AdultMortality'].astype(int)"
      ]
    },
    {
      "cell_type": "code",
      "execution_count": 54,
      "metadata": {
        "trusted": true
      },
      "outputs": [
        {
          "name": "stdout",
          "output_type": "stream",
          "text": [
            "<class 'pandas.core.frame.DataFrame'>\n",
            "RangeIndex: 2938 entries, 0 to 2937\n",
            "Data columns (total 22 columns):\n",
            " #   Column                        Non-Null Count  Dtype  \n",
            "---  ------                        --------------  -----  \n",
            " 0   Country                       2938 non-null   object \n",
            " 1   Year                          2938 non-null   int64  \n",
            " 2   Status                        2938 non-null   object \n",
            " 3   Lifeexpectancy                2938 non-null   float64\n",
            " 4   AdultMortality                2938 non-null   int64  \n",
            " 5   infantdeaths                  2938 non-null   int64  \n",
            " 6   Alcohol                       2938 non-null   float64\n",
            " 7   percentageexpenditure         2938 non-null   float64\n",
            " 8   HepatitisB                    2938 non-null   int64  \n",
            " 9   Measles                       2938 non-null   int64  \n",
            " 10  BMI                           2938 non-null   float64\n",
            " 11  under-fivedeaths              2938 non-null   int64  \n",
            " 12  Polio                         2938 non-null   int64  \n",
            " 13  Totalexpenditure              2938 non-null   float64\n",
            " 14  Diphtheria                    2938 non-null   int64  \n",
            " 15  HIV/AIDS                      2938 non-null   float64\n",
            " 16  GDP                           2938 non-null   int64  \n",
            " 17  Population                    2938 non-null   int64  \n",
            " 18  thinness1-19years             2938 non-null   float64\n",
            " 19  thinness5-9years              2938 non-null   float64\n",
            " 20  Incomecompositionofresources  2938 non-null   float64\n",
            " 21  Schooling                     2938 non-null   float64\n",
            "dtypes: float64(10), int64(10), object(2)\n",
            "memory usage: 505.1+ KB\n"
          ]
        }
      ],
      "source": [
        "life.info()"
      ]
    },
    {
      "cell_type": "code",
      "execution_count": 55,
      "metadata": {
        "trusted": true
      },
      "outputs": [
        {
          "data": {
            "text/html": [
              "<div>\n",
              "<style scoped>\n",
              "    .dataframe tbody tr th:only-of-type {\n",
              "        vertical-align: middle;\n",
              "    }\n",
              "\n",
              "    .dataframe tbody tr th {\n",
              "        vertical-align: top;\n",
              "    }\n",
              "\n",
              "    .dataframe thead th {\n",
              "        text-align: right;\n",
              "    }\n",
              "</style>\n",
              "<table border=\"1\" class=\"dataframe\">\n",
              "  <thead>\n",
              "    <tr style=\"text-align: right;\">\n",
              "      <th></th>\n",
              "      <th>Country</th>\n",
              "      <th>Year</th>\n",
              "      <th>Status</th>\n",
              "      <th>Lifeexpectancy</th>\n",
              "      <th>AdultMortality</th>\n",
              "      <th>infantdeaths</th>\n",
              "      <th>Alcohol</th>\n",
              "      <th>percentageexpenditure</th>\n",
              "      <th>HepatitisB</th>\n",
              "      <th>Measles</th>\n",
              "      <th>...</th>\n",
              "      <th>Polio</th>\n",
              "      <th>Totalexpenditure</th>\n",
              "      <th>Diphtheria</th>\n",
              "      <th>HIV/AIDS</th>\n",
              "      <th>GDP</th>\n",
              "      <th>Population</th>\n",
              "      <th>thinness1-19years</th>\n",
              "      <th>thinness5-9years</th>\n",
              "      <th>Incomecompositionofresources</th>\n",
              "      <th>Schooling</th>\n",
              "    </tr>\n",
              "  </thead>\n",
              "  <tbody>\n",
              "    <tr>\n",
              "      <th>0</th>\n",
              "      <td>Afghanistan</td>\n",
              "      <td>2015</td>\n",
              "      <td>Developing</td>\n",
              "      <td>65.0</td>\n",
              "      <td>263</td>\n",
              "      <td>62</td>\n",
              "      <td>0.01</td>\n",
              "      <td>71.279624</td>\n",
              "      <td>65</td>\n",
              "      <td>1154</td>\n",
              "      <td>...</td>\n",
              "      <td>6</td>\n",
              "      <td>8.16</td>\n",
              "      <td>65</td>\n",
              "      <td>0.1</td>\n",
              "      <td>263</td>\n",
              "      <td>33736494</td>\n",
              "      <td>17.2</td>\n",
              "      <td>17.3</td>\n",
              "      <td>0.479</td>\n",
              "      <td>10.1</td>\n",
              "    </tr>\n",
              "    <tr>\n",
              "      <th>1</th>\n",
              "      <td>Afghanistan</td>\n",
              "      <td>2014</td>\n",
              "      <td>Developing</td>\n",
              "      <td>59.9</td>\n",
              "      <td>271</td>\n",
              "      <td>64</td>\n",
              "      <td>0.01</td>\n",
              "      <td>73.523582</td>\n",
              "      <td>62</td>\n",
              "      <td>492</td>\n",
              "      <td>...</td>\n",
              "      <td>58</td>\n",
              "      <td>8.18</td>\n",
              "      <td>62</td>\n",
              "      <td>0.1</td>\n",
              "      <td>271</td>\n",
              "      <td>327582</td>\n",
              "      <td>17.5</td>\n",
              "      <td>17.5</td>\n",
              "      <td>0.476</td>\n",
              "      <td>10.0</td>\n",
              "    </tr>\n",
              "    <tr>\n",
              "      <th>2</th>\n",
              "      <td>Afghanistan</td>\n",
              "      <td>2013</td>\n",
              "      <td>Developing</td>\n",
              "      <td>59.9</td>\n",
              "      <td>268</td>\n",
              "      <td>66</td>\n",
              "      <td>0.01</td>\n",
              "      <td>73.219243</td>\n",
              "      <td>64</td>\n",
              "      <td>430</td>\n",
              "      <td>...</td>\n",
              "      <td>62</td>\n",
              "      <td>8.13</td>\n",
              "      <td>64</td>\n",
              "      <td>0.1</td>\n",
              "      <td>268</td>\n",
              "      <td>31731688</td>\n",
              "      <td>17.7</td>\n",
              "      <td>17.7</td>\n",
              "      <td>0.470</td>\n",
              "      <td>9.9</td>\n",
              "    </tr>\n",
              "    <tr>\n",
              "      <th>3</th>\n",
              "      <td>Afghanistan</td>\n",
              "      <td>2012</td>\n",
              "      <td>Developing</td>\n",
              "      <td>59.5</td>\n",
              "      <td>272</td>\n",
              "      <td>69</td>\n",
              "      <td>0.01</td>\n",
              "      <td>78.184215</td>\n",
              "      <td>67</td>\n",
              "      <td>2787</td>\n",
              "      <td>...</td>\n",
              "      <td>67</td>\n",
              "      <td>8.52</td>\n",
              "      <td>67</td>\n",
              "      <td>0.1</td>\n",
              "      <td>272</td>\n",
              "      <td>3696958</td>\n",
              "      <td>17.9</td>\n",
              "      <td>18.0</td>\n",
              "      <td>0.463</td>\n",
              "      <td>9.8</td>\n",
              "    </tr>\n",
              "    <tr>\n",
              "      <th>4</th>\n",
              "      <td>Afghanistan</td>\n",
              "      <td>2011</td>\n",
              "      <td>Developing</td>\n",
              "      <td>59.2</td>\n",
              "      <td>275</td>\n",
              "      <td>71</td>\n",
              "      <td>0.01</td>\n",
              "      <td>7.097109</td>\n",
              "      <td>68</td>\n",
              "      <td>3013</td>\n",
              "      <td>...</td>\n",
              "      <td>68</td>\n",
              "      <td>7.87</td>\n",
              "      <td>68</td>\n",
              "      <td>0.1</td>\n",
              "      <td>275</td>\n",
              "      <td>2978599</td>\n",
              "      <td>18.2</td>\n",
              "      <td>18.2</td>\n",
              "      <td>0.454</td>\n",
              "      <td>9.5</td>\n",
              "    </tr>\n",
              "    <tr>\n",
              "      <th>...</th>\n",
              "      <td>...</td>\n",
              "      <td>...</td>\n",
              "      <td>...</td>\n",
              "      <td>...</td>\n",
              "      <td>...</td>\n",
              "      <td>...</td>\n",
              "      <td>...</td>\n",
              "      <td>...</td>\n",
              "      <td>...</td>\n",
              "      <td>...</td>\n",
              "      <td>...</td>\n",
              "      <td>...</td>\n",
              "      <td>...</td>\n",
              "      <td>...</td>\n",
              "      <td>...</td>\n",
              "      <td>...</td>\n",
              "      <td>...</td>\n",
              "      <td>...</td>\n",
              "      <td>...</td>\n",
              "      <td>...</td>\n",
              "      <td>...</td>\n",
              "    </tr>\n",
              "    <tr>\n",
              "      <th>2933</th>\n",
              "      <td>Zimbabwe</td>\n",
              "      <td>2004</td>\n",
              "      <td>Developing</td>\n",
              "      <td>44.3</td>\n",
              "      <td>723</td>\n",
              "      <td>27</td>\n",
              "      <td>4.36</td>\n",
              "      <td>0.000000</td>\n",
              "      <td>68</td>\n",
              "      <td>31</td>\n",
              "      <td>...</td>\n",
              "      <td>67</td>\n",
              "      <td>7.13</td>\n",
              "      <td>65</td>\n",
              "      <td>33.6</td>\n",
              "      <td>723</td>\n",
              "      <td>12777511</td>\n",
              "      <td>9.4</td>\n",
              "      <td>9.4</td>\n",
              "      <td>0.407</td>\n",
              "      <td>9.2</td>\n",
              "    </tr>\n",
              "    <tr>\n",
              "      <th>2934</th>\n",
              "      <td>Zimbabwe</td>\n",
              "      <td>2003</td>\n",
              "      <td>Developing</td>\n",
              "      <td>44.5</td>\n",
              "      <td>715</td>\n",
              "      <td>26</td>\n",
              "      <td>4.06</td>\n",
              "      <td>0.000000</td>\n",
              "      <td>7</td>\n",
              "      <td>998</td>\n",
              "      <td>...</td>\n",
              "      <td>7</td>\n",
              "      <td>6.52</td>\n",
              "      <td>68</td>\n",
              "      <td>36.7</td>\n",
              "      <td>715</td>\n",
              "      <td>12633897</td>\n",
              "      <td>9.8</td>\n",
              "      <td>9.9</td>\n",
              "      <td>0.418</td>\n",
              "      <td>9.5</td>\n",
              "    </tr>\n",
              "    <tr>\n",
              "      <th>2935</th>\n",
              "      <td>Zimbabwe</td>\n",
              "      <td>2002</td>\n",
              "      <td>Developing</td>\n",
              "      <td>44.8</td>\n",
              "      <td>73</td>\n",
              "      <td>25</td>\n",
              "      <td>4.43</td>\n",
              "      <td>0.000000</td>\n",
              "      <td>73</td>\n",
              "      <td>304</td>\n",
              "      <td>...</td>\n",
              "      <td>73</td>\n",
              "      <td>6.53</td>\n",
              "      <td>71</td>\n",
              "      <td>39.8</td>\n",
              "      <td>73</td>\n",
              "      <td>125525</td>\n",
              "      <td>1.2</td>\n",
              "      <td>1.3</td>\n",
              "      <td>0.427</td>\n",
              "      <td>10.0</td>\n",
              "    </tr>\n",
              "    <tr>\n",
              "      <th>2936</th>\n",
              "      <td>Zimbabwe</td>\n",
              "      <td>2001</td>\n",
              "      <td>Developing</td>\n",
              "      <td>45.3</td>\n",
              "      <td>686</td>\n",
              "      <td>25</td>\n",
              "      <td>1.72</td>\n",
              "      <td>0.000000</td>\n",
              "      <td>76</td>\n",
              "      <td>529</td>\n",
              "      <td>...</td>\n",
              "      <td>76</td>\n",
              "      <td>6.16</td>\n",
              "      <td>75</td>\n",
              "      <td>42.1</td>\n",
              "      <td>686</td>\n",
              "      <td>12366165</td>\n",
              "      <td>1.6</td>\n",
              "      <td>1.7</td>\n",
              "      <td>0.427</td>\n",
              "      <td>9.8</td>\n",
              "    </tr>\n",
              "    <tr>\n",
              "      <th>2937</th>\n",
              "      <td>Zimbabwe</td>\n",
              "      <td>2000</td>\n",
              "      <td>Developing</td>\n",
              "      <td>46.0</td>\n",
              "      <td>665</td>\n",
              "      <td>24</td>\n",
              "      <td>1.68</td>\n",
              "      <td>0.000000</td>\n",
              "      <td>79</td>\n",
              "      <td>1483</td>\n",
              "      <td>...</td>\n",
              "      <td>78</td>\n",
              "      <td>7.10</td>\n",
              "      <td>78</td>\n",
              "      <td>43.5</td>\n",
              "      <td>665</td>\n",
              "      <td>12222251</td>\n",
              "      <td>11.0</td>\n",
              "      <td>11.2</td>\n",
              "      <td>0.434</td>\n",
              "      <td>9.8</td>\n",
              "    </tr>\n",
              "  </tbody>\n",
              "</table>\n",
              "<p>2938 rows × 22 columns</p>\n",
              "</div>"
            ],
            "text/plain": [
              "          Country  Year      Status  Lifeexpectancy  AdultMortality  \\\n",
              "0     Afghanistan  2015  Developing            65.0             263   \n",
              "1     Afghanistan  2014  Developing            59.9             271   \n",
              "2     Afghanistan  2013  Developing            59.9             268   \n",
              "3     Afghanistan  2012  Developing            59.5             272   \n",
              "4     Afghanistan  2011  Developing            59.2             275   \n",
              "...           ...   ...         ...             ...             ...   \n",
              "2933     Zimbabwe  2004  Developing            44.3             723   \n",
              "2934     Zimbabwe  2003  Developing            44.5             715   \n",
              "2935     Zimbabwe  2002  Developing            44.8              73   \n",
              "2936     Zimbabwe  2001  Developing            45.3             686   \n",
              "2937     Zimbabwe  2000  Developing            46.0             665   \n",
              "\n",
              "      infantdeaths  Alcohol  percentageexpenditure  HepatitisB  Measles  ...  \\\n",
              "0               62     0.01              71.279624          65     1154  ...   \n",
              "1               64     0.01              73.523582          62      492  ...   \n",
              "2               66     0.01              73.219243          64      430  ...   \n",
              "3               69     0.01              78.184215          67     2787  ...   \n",
              "4               71     0.01               7.097109          68     3013  ...   \n",
              "...            ...      ...                    ...         ...      ...  ...   \n",
              "2933            27     4.36               0.000000          68       31  ...   \n",
              "2934            26     4.06               0.000000           7      998  ...   \n",
              "2935            25     4.43               0.000000          73      304  ...   \n",
              "2936            25     1.72               0.000000          76      529  ...   \n",
              "2937            24     1.68               0.000000          79     1483  ...   \n",
              "\n",
              "      Polio  Totalexpenditure  Diphtheria  HIV/AIDS  GDP  Population  \\\n",
              "0         6              8.16          65       0.1  263    33736494   \n",
              "1        58              8.18          62       0.1  271      327582   \n",
              "2        62              8.13          64       0.1  268    31731688   \n",
              "3        67              8.52          67       0.1  272     3696958   \n",
              "4        68              7.87          68       0.1  275     2978599   \n",
              "...     ...               ...         ...       ...  ...         ...   \n",
              "2933     67              7.13          65      33.6  723    12777511   \n",
              "2934      7              6.52          68      36.7  715    12633897   \n",
              "2935     73              6.53          71      39.8   73      125525   \n",
              "2936     76              6.16          75      42.1  686    12366165   \n",
              "2937     78              7.10          78      43.5  665    12222251   \n",
              "\n",
              "      thinness1-19years  thinness5-9years  Incomecompositionofresources  \\\n",
              "0                  17.2              17.3                         0.479   \n",
              "1                  17.5              17.5                         0.476   \n",
              "2                  17.7              17.7                         0.470   \n",
              "3                  17.9              18.0                         0.463   \n",
              "4                  18.2              18.2                         0.454   \n",
              "...                 ...               ...                           ...   \n",
              "2933                9.4               9.4                         0.407   \n",
              "2934                9.8               9.9                         0.418   \n",
              "2935                1.2               1.3                         0.427   \n",
              "2936                1.6               1.7                         0.427   \n",
              "2937               11.0              11.2                         0.434   \n",
              "\n",
              "      Schooling  \n",
              "0          10.1  \n",
              "1          10.0  \n",
              "2           9.9  \n",
              "3           9.8  \n",
              "4           9.5  \n",
              "...         ...  \n",
              "2933        9.2  \n",
              "2934        9.5  \n",
              "2935       10.0  \n",
              "2936        9.8  \n",
              "2937        9.8  \n",
              "\n",
              "[2938 rows x 22 columns]"
            ]
          },
          "execution_count": 55,
          "metadata": {},
          "output_type": "execute_result"
        }
      ],
      "source": [
        "life"
      ]
    },
    {
      "cell_type": "code",
      "execution_count": 56,
      "metadata": {
        "trusted": true
      },
      "outputs": [
        {
          "data": {
            "text/html": [
              "<div>\n",
              "<style scoped>\n",
              "    .dataframe tbody tr th:only-of-type {\n",
              "        vertical-align: middle;\n",
              "    }\n",
              "\n",
              "    .dataframe tbody tr th {\n",
              "        vertical-align: top;\n",
              "    }\n",
              "\n",
              "    .dataframe thead th {\n",
              "        text-align: right;\n",
              "    }\n",
              "</style>\n",
              "<table border=\"1\" class=\"dataframe\">\n",
              "  <thead>\n",
              "    <tr style=\"text-align: right;\">\n",
              "      <th></th>\n",
              "      <th>Year</th>\n",
              "      <th>Lifeexpectancy</th>\n",
              "      <th>AdultMortality</th>\n",
              "      <th>infantdeaths</th>\n",
              "      <th>Alcohol</th>\n",
              "      <th>percentageexpenditure</th>\n",
              "      <th>HepatitisB</th>\n",
              "      <th>Measles</th>\n",
              "      <th>BMI</th>\n",
              "      <th>under-fivedeaths</th>\n",
              "      <th>Polio</th>\n",
              "      <th>Totalexpenditure</th>\n",
              "      <th>Diphtheria</th>\n",
              "      <th>HIV/AIDS</th>\n",
              "      <th>GDP</th>\n",
              "      <th>Population</th>\n",
              "      <th>thinness1-19years</th>\n",
              "      <th>thinness5-9years</th>\n",
              "      <th>Incomecompositionofresources</th>\n",
              "      <th>Schooling</th>\n",
              "    </tr>\n",
              "  </thead>\n",
              "  <tbody>\n",
              "    <tr>\n",
              "      <th>count</th>\n",
              "      <td>2938.000000</td>\n",
              "      <td>2938.000000</td>\n",
              "      <td>2938.000000</td>\n",
              "      <td>2938.000000</td>\n",
              "      <td>2938.000000</td>\n",
              "      <td>2938.000000</td>\n",
              "      <td>2938.000000</td>\n",
              "      <td>2938.000000</td>\n",
              "      <td>2938.000000</td>\n",
              "      <td>2938.000000</td>\n",
              "      <td>2938.000000</td>\n",
              "      <td>2938.000000</td>\n",
              "      <td>2938.000000</td>\n",
              "      <td>2938.000000</td>\n",
              "      <td>2938.000000</td>\n",
              "      <td>2.938000e+03</td>\n",
              "      <td>2938.000000</td>\n",
              "      <td>2938.000000</td>\n",
              "      <td>2938.000000</td>\n",
              "      <td>2938.000000</td>\n",
              "    </tr>\n",
              "    <tr>\n",
              "      <th>mean</th>\n",
              "      <td>2007.518720</td>\n",
              "      <td>69.224932</td>\n",
              "      <td>164.793737</td>\n",
              "      <td>30.303948</td>\n",
              "      <td>4.602861</td>\n",
              "      <td>738.251295</td>\n",
              "      <td>80.763445</td>\n",
              "      <td>2419.592240</td>\n",
              "      <td>38.321247</td>\n",
              "      <td>42.035739</td>\n",
              "      <td>82.546630</td>\n",
              "      <td>5.938190</td>\n",
              "      <td>82.321988</td>\n",
              "      <td>1.742103</td>\n",
              "      <td>164.793737</td>\n",
              "      <td>1.275338e+07</td>\n",
              "      <td>4.839704</td>\n",
              "      <td>4.870317</td>\n",
              "      <td>0.627551</td>\n",
              "      <td>11.992793</td>\n",
              "    </tr>\n",
              "    <tr>\n",
              "      <th>std</th>\n",
              "      <td>4.613841</td>\n",
              "      <td>9.507640</td>\n",
              "      <td>124.080310</td>\n",
              "      <td>117.926501</td>\n",
              "      <td>3.916288</td>\n",
              "      <td>1987.914858</td>\n",
              "      <td>22.589847</td>\n",
              "      <td>11467.272489</td>\n",
              "      <td>19.927677</td>\n",
              "      <td>160.445548</td>\n",
              "      <td>23.352184</td>\n",
              "      <td>2.400274</td>\n",
              "      <td>23.640087</td>\n",
              "      <td>5.077785</td>\n",
              "      <td>124.080310</td>\n",
              "      <td>5.381546e+07</td>\n",
              "      <td>4.394535</td>\n",
              "      <td>4.482708</td>\n",
              "      <td>0.204820</td>\n",
              "      <td>3.264381</td>\n",
              "    </tr>\n",
              "    <tr>\n",
              "      <th>min</th>\n",
              "      <td>2000.000000</td>\n",
              "      <td>36.300000</td>\n",
              "      <td>1.000000</td>\n",
              "      <td>0.000000</td>\n",
              "      <td>0.010000</td>\n",
              "      <td>0.000000</td>\n",
              "      <td>1.000000</td>\n",
              "      <td>0.000000</td>\n",
              "      <td>1.000000</td>\n",
              "      <td>0.000000</td>\n",
              "      <td>3.000000</td>\n",
              "      <td>0.370000</td>\n",
              "      <td>2.000000</td>\n",
              "      <td>0.100000</td>\n",
              "      <td>1.000000</td>\n",
              "      <td>3.400000e+01</td>\n",
              "      <td>0.100000</td>\n",
              "      <td>0.100000</td>\n",
              "      <td>0.000000</td>\n",
              "      <td>0.000000</td>\n",
              "    </tr>\n",
              "    <tr>\n",
              "      <th>25%</th>\n",
              "      <td>2004.000000</td>\n",
              "      <td>63.200000</td>\n",
              "      <td>74.000000</td>\n",
              "      <td>0.000000</td>\n",
              "      <td>1.092500</td>\n",
              "      <td>4.685343</td>\n",
              "      <td>80.000000</td>\n",
              "      <td>0.000000</td>\n",
              "      <td>19.400000</td>\n",
              "      <td>0.000000</td>\n",
              "      <td>78.000000</td>\n",
              "      <td>4.370000</td>\n",
              "      <td>78.000000</td>\n",
              "      <td>0.100000</td>\n",
              "      <td>74.000000</td>\n",
              "      <td>4.189172e+05</td>\n",
              "      <td>1.600000</td>\n",
              "      <td>1.600000</td>\n",
              "      <td>0.504250</td>\n",
              "      <td>10.300000</td>\n",
              "    </tr>\n",
              "    <tr>\n",
              "      <th>50%</th>\n",
              "      <td>2008.000000</td>\n",
              "      <td>72.000000</td>\n",
              "      <td>144.000000</td>\n",
              "      <td>3.000000</td>\n",
              "      <td>4.160000</td>\n",
              "      <td>64.912906</td>\n",
              "      <td>87.000000</td>\n",
              "      <td>17.000000</td>\n",
              "      <td>43.000000</td>\n",
              "      <td>4.000000</td>\n",
              "      <td>93.000000</td>\n",
              "      <td>5.938190</td>\n",
              "      <td>93.000000</td>\n",
              "      <td>0.100000</td>\n",
              "      <td>144.000000</td>\n",
              "      <td>3.675929e+06</td>\n",
              "      <td>3.400000</td>\n",
              "      <td>3.400000</td>\n",
              "      <td>0.662000</td>\n",
              "      <td>12.100000</td>\n",
              "    </tr>\n",
              "    <tr>\n",
              "      <th>75%</th>\n",
              "      <td>2012.000000</td>\n",
              "      <td>75.600000</td>\n",
              "      <td>227.000000</td>\n",
              "      <td>22.000000</td>\n",
              "      <td>7.390000</td>\n",
              "      <td>441.534144</td>\n",
              "      <td>96.000000</td>\n",
              "      <td>360.250000</td>\n",
              "      <td>56.100000</td>\n",
              "      <td>28.000000</td>\n",
              "      <td>97.000000</td>\n",
              "      <td>7.330000</td>\n",
              "      <td>97.000000</td>\n",
              "      <td>0.800000</td>\n",
              "      <td>227.000000</td>\n",
              "      <td>1.275338e+07</td>\n",
              "      <td>7.100000</td>\n",
              "      <td>7.200000</td>\n",
              "      <td>0.772000</td>\n",
              "      <td>14.100000</td>\n",
              "    </tr>\n",
              "    <tr>\n",
              "      <th>max</th>\n",
              "      <td>2015.000000</td>\n",
              "      <td>89.000000</td>\n",
              "      <td>723.000000</td>\n",
              "      <td>1800.000000</td>\n",
              "      <td>17.870000</td>\n",
              "      <td>19479.911610</td>\n",
              "      <td>99.000000</td>\n",
              "      <td>212183.000000</td>\n",
              "      <td>87.300000</td>\n",
              "      <td>2500.000000</td>\n",
              "      <td>99.000000</td>\n",
              "      <td>17.600000</td>\n",
              "      <td>99.000000</td>\n",
              "      <td>50.600000</td>\n",
              "      <td>723.000000</td>\n",
              "      <td>1.293859e+09</td>\n",
              "      <td>27.700000</td>\n",
              "      <td>28.600000</td>\n",
              "      <td>0.948000</td>\n",
              "      <td>20.700000</td>\n",
              "    </tr>\n",
              "  </tbody>\n",
              "</table>\n",
              "</div>"
            ],
            "text/plain": [
              "              Year  Lifeexpectancy  AdultMortality  infantdeaths      Alcohol  \\\n",
              "count  2938.000000     2938.000000     2938.000000   2938.000000  2938.000000   \n",
              "mean   2007.518720       69.224932      164.793737     30.303948     4.602861   \n",
              "std       4.613841        9.507640      124.080310    117.926501     3.916288   \n",
              "min    2000.000000       36.300000        1.000000      0.000000     0.010000   \n",
              "25%    2004.000000       63.200000       74.000000      0.000000     1.092500   \n",
              "50%    2008.000000       72.000000      144.000000      3.000000     4.160000   \n",
              "75%    2012.000000       75.600000      227.000000     22.000000     7.390000   \n",
              "max    2015.000000       89.000000      723.000000   1800.000000    17.870000   \n",
              "\n",
              "       percentageexpenditure   HepatitisB        Measles          BMI  \\\n",
              "count            2938.000000  2938.000000    2938.000000  2938.000000   \n",
              "mean              738.251295    80.763445    2419.592240    38.321247   \n",
              "std              1987.914858    22.589847   11467.272489    19.927677   \n",
              "min                 0.000000     1.000000       0.000000     1.000000   \n",
              "25%                 4.685343    80.000000       0.000000    19.400000   \n",
              "50%                64.912906    87.000000      17.000000    43.000000   \n",
              "75%               441.534144    96.000000     360.250000    56.100000   \n",
              "max             19479.911610    99.000000  212183.000000    87.300000   \n",
              "\n",
              "       under-fivedeaths        Polio  Totalexpenditure   Diphtheria  \\\n",
              "count       2938.000000  2938.000000       2938.000000  2938.000000   \n",
              "mean          42.035739    82.546630          5.938190    82.321988   \n",
              "std          160.445548    23.352184          2.400274    23.640087   \n",
              "min            0.000000     3.000000          0.370000     2.000000   \n",
              "25%            0.000000    78.000000          4.370000    78.000000   \n",
              "50%            4.000000    93.000000          5.938190    93.000000   \n",
              "75%           28.000000    97.000000          7.330000    97.000000   \n",
              "max         2500.000000    99.000000         17.600000    99.000000   \n",
              "\n",
              "          HIV/AIDS          GDP    Population  thinness1-19years  \\\n",
              "count  2938.000000  2938.000000  2.938000e+03        2938.000000   \n",
              "mean      1.742103   164.793737  1.275338e+07           4.839704   \n",
              "std       5.077785   124.080310  5.381546e+07           4.394535   \n",
              "min       0.100000     1.000000  3.400000e+01           0.100000   \n",
              "25%       0.100000    74.000000  4.189172e+05           1.600000   \n",
              "50%       0.100000   144.000000  3.675929e+06           3.400000   \n",
              "75%       0.800000   227.000000  1.275338e+07           7.100000   \n",
              "max      50.600000   723.000000  1.293859e+09          27.700000   \n",
              "\n",
              "       thinness5-9years  Incomecompositionofresources    Schooling  \n",
              "count       2938.000000                   2938.000000  2938.000000  \n",
              "mean           4.870317                      0.627551    11.992793  \n",
              "std            4.482708                      0.204820     3.264381  \n",
              "min            0.100000                      0.000000     0.000000  \n",
              "25%            1.600000                      0.504250    10.300000  \n",
              "50%            3.400000                      0.662000    12.100000  \n",
              "75%            7.200000                      0.772000    14.100000  \n",
              "max           28.600000                      0.948000    20.700000  "
            ]
          },
          "execution_count": 56,
          "metadata": {},
          "output_type": "execute_result"
        }
      ],
      "source": [
        "life.describe()"
      ]
    },
    {
      "cell_type": "code",
      "execution_count": 57,
      "metadata": {
        "trusted": true
      },
      "outputs": [
        {
          "data": {
            "text/html": [
              "<div>\n",
              "<style scoped>\n",
              "    .dataframe tbody tr th:only-of-type {\n",
              "        vertical-align: middle;\n",
              "    }\n",
              "\n",
              "    .dataframe tbody tr th {\n",
              "        vertical-align: top;\n",
              "    }\n",
              "\n",
              "    .dataframe thead th {\n",
              "        text-align: right;\n",
              "    }\n",
              "</style>\n",
              "<table border=\"1\" class=\"dataframe\">\n",
              "  <thead>\n",
              "    <tr style=\"text-align: right;\">\n",
              "      <th></th>\n",
              "      <th>Country</th>\n",
              "      <th>Year</th>\n",
              "      <th>Status</th>\n",
              "      <th>Lifeexpectancy</th>\n",
              "      <th>AdultMortality</th>\n",
              "      <th>infantdeaths</th>\n",
              "      <th>Alcohol</th>\n",
              "      <th>percentageexpenditure</th>\n",
              "      <th>HepatitisB</th>\n",
              "      <th>Measles</th>\n",
              "      <th>...</th>\n",
              "      <th>Polio</th>\n",
              "      <th>Totalexpenditure</th>\n",
              "      <th>Diphtheria</th>\n",
              "      <th>HIV/AIDS</th>\n",
              "      <th>GDP</th>\n",
              "      <th>Population</th>\n",
              "      <th>thinness1-19years</th>\n",
              "      <th>thinness5-9years</th>\n",
              "      <th>Incomecompositionofresources</th>\n",
              "      <th>Schooling</th>\n",
              "    </tr>\n",
              "  </thead>\n",
              "  <tbody>\n",
              "    <tr>\n",
              "      <th>16</th>\n",
              "      <td>Albania</td>\n",
              "      <td>2015</td>\n",
              "      <td>Developing</td>\n",
              "      <td>77.8</td>\n",
              "      <td>74</td>\n",
              "      <td>0</td>\n",
              "      <td>4.60</td>\n",
              "      <td>364.975229</td>\n",
              "      <td>99</td>\n",
              "      <td>0</td>\n",
              "      <td>...</td>\n",
              "      <td>99</td>\n",
              "      <td>6.00</td>\n",
              "      <td>99</td>\n",
              "      <td>0.1</td>\n",
              "      <td>74</td>\n",
              "      <td>28873</td>\n",
              "      <td>1.2</td>\n",
              "      <td>1.3</td>\n",
              "      <td>0.762</td>\n",
              "      <td>14.2</td>\n",
              "    </tr>\n",
              "    <tr>\n",
              "      <th>17</th>\n",
              "      <td>Albania</td>\n",
              "      <td>2014</td>\n",
              "      <td>Developing</td>\n",
              "      <td>77.5</td>\n",
              "      <td>8</td>\n",
              "      <td>0</td>\n",
              "      <td>4.51</td>\n",
              "      <td>428.749067</td>\n",
              "      <td>98</td>\n",
              "      <td>0</td>\n",
              "      <td>...</td>\n",
              "      <td>98</td>\n",
              "      <td>5.88</td>\n",
              "      <td>98</td>\n",
              "      <td>0.1</td>\n",
              "      <td>8</td>\n",
              "      <td>288914</td>\n",
              "      <td>1.2</td>\n",
              "      <td>1.3</td>\n",
              "      <td>0.761</td>\n",
              "      <td>14.2</td>\n",
              "    </tr>\n",
              "    <tr>\n",
              "      <th>18</th>\n",
              "      <td>Albania</td>\n",
              "      <td>2013</td>\n",
              "      <td>Developing</td>\n",
              "      <td>77.2</td>\n",
              "      <td>84</td>\n",
              "      <td>0</td>\n",
              "      <td>4.76</td>\n",
              "      <td>430.876979</td>\n",
              "      <td>99</td>\n",
              "      <td>0</td>\n",
              "      <td>...</td>\n",
              "      <td>99</td>\n",
              "      <td>5.66</td>\n",
              "      <td>99</td>\n",
              "      <td>0.1</td>\n",
              "      <td>84</td>\n",
              "      <td>289592</td>\n",
              "      <td>1.3</td>\n",
              "      <td>1.4</td>\n",
              "      <td>0.759</td>\n",
              "      <td>14.2</td>\n",
              "    </tr>\n",
              "    <tr>\n",
              "      <th>22</th>\n",
              "      <td>Albania</td>\n",
              "      <td>2009</td>\n",
              "      <td>Developing</td>\n",
              "      <td>76.1</td>\n",
              "      <td>91</td>\n",
              "      <td>1</td>\n",
              "      <td>5.79</td>\n",
              "      <td>348.055952</td>\n",
              "      <td>98</td>\n",
              "      <td>0</td>\n",
              "      <td>...</td>\n",
              "      <td>98</td>\n",
              "      <td>5.79</td>\n",
              "      <td>98</td>\n",
              "      <td>0.1</td>\n",
              "      <td>91</td>\n",
              "      <td>2927519</td>\n",
              "      <td>1.5</td>\n",
              "      <td>1.6</td>\n",
              "      <td>0.721</td>\n",
              "      <td>12.2</td>\n",
              "    </tr>\n",
              "    <tr>\n",
              "      <th>23</th>\n",
              "      <td>Albania</td>\n",
              "      <td>2008</td>\n",
              "      <td>Developing</td>\n",
              "      <td>75.3</td>\n",
              "      <td>1</td>\n",
              "      <td>1</td>\n",
              "      <td>5.61</td>\n",
              "      <td>36.622068</td>\n",
              "      <td>99</td>\n",
              "      <td>0</td>\n",
              "      <td>...</td>\n",
              "      <td>99</td>\n",
              "      <td>5.87</td>\n",
              "      <td>99</td>\n",
              "      <td>0.1</td>\n",
              "      <td>1</td>\n",
              "      <td>2947314</td>\n",
              "      <td>1.6</td>\n",
              "      <td>1.6</td>\n",
              "      <td>0.713</td>\n",
              "      <td>12.0</td>\n",
              "    </tr>\n",
              "    <tr>\n",
              "      <th>...</th>\n",
              "      <td>...</td>\n",
              "      <td>...</td>\n",
              "      <td>...</td>\n",
              "      <td>...</td>\n",
              "      <td>...</td>\n",
              "      <td>...</td>\n",
              "      <td>...</td>\n",
              "      <td>...</td>\n",
              "      <td>...</td>\n",
              "      <td>...</td>\n",
              "      <td>...</td>\n",
              "      <td>...</td>\n",
              "      <td>...</td>\n",
              "      <td>...</td>\n",
              "      <td>...</td>\n",
              "      <td>...</td>\n",
              "      <td>...</td>\n",
              "      <td>...</td>\n",
              "      <td>...</td>\n",
              "      <td>...</td>\n",
              "      <td>...</td>\n",
              "    </tr>\n",
              "    <tr>\n",
              "      <th>2923</th>\n",
              "      <td>Zimbabwe</td>\n",
              "      <td>2014</td>\n",
              "      <td>Developing</td>\n",
              "      <td>59.2</td>\n",
              "      <td>371</td>\n",
              "      <td>23</td>\n",
              "      <td>6.50</td>\n",
              "      <td>10.822595</td>\n",
              "      <td>91</td>\n",
              "      <td>0</td>\n",
              "      <td>...</td>\n",
              "      <td>92</td>\n",
              "      <td>6.44</td>\n",
              "      <td>91</td>\n",
              "      <td>6.3</td>\n",
              "      <td>371</td>\n",
              "      <td>15411675</td>\n",
              "      <td>5.9</td>\n",
              "      <td>5.7</td>\n",
              "      <td>0.498</td>\n",
              "      <td>10.3</td>\n",
              "    </tr>\n",
              "    <tr>\n",
              "      <th>2924</th>\n",
              "      <td>Zimbabwe</td>\n",
              "      <td>2013</td>\n",
              "      <td>Developing</td>\n",
              "      <td>58.0</td>\n",
              "      <td>399</td>\n",
              "      <td>25</td>\n",
              "      <td>6.39</td>\n",
              "      <td>10.666707</td>\n",
              "      <td>95</td>\n",
              "      <td>0</td>\n",
              "      <td>...</td>\n",
              "      <td>95</td>\n",
              "      <td>6.88</td>\n",
              "      <td>95</td>\n",
              "      <td>6.8</td>\n",
              "      <td>399</td>\n",
              "      <td>155456</td>\n",
              "      <td>6.2</td>\n",
              "      <td>6.0</td>\n",
              "      <td>0.488</td>\n",
              "      <td>10.4</td>\n",
              "    </tr>\n",
              "    <tr>\n",
              "      <th>2925</th>\n",
              "      <td>Zimbabwe</td>\n",
              "      <td>2012</td>\n",
              "      <td>Developing</td>\n",
              "      <td>56.6</td>\n",
              "      <td>429</td>\n",
              "      <td>26</td>\n",
              "      <td>6.09</td>\n",
              "      <td>92.602336</td>\n",
              "      <td>97</td>\n",
              "      <td>0</td>\n",
              "      <td>...</td>\n",
              "      <td>95</td>\n",
              "      <td>6.69</td>\n",
              "      <td>95</td>\n",
              "      <td>8.8</td>\n",
              "      <td>429</td>\n",
              "      <td>1471826</td>\n",
              "      <td>6.5</td>\n",
              "      <td>6.4</td>\n",
              "      <td>0.464</td>\n",
              "      <td>9.8</td>\n",
              "    </tr>\n",
              "    <tr>\n",
              "      <th>2926</th>\n",
              "      <td>Zimbabwe</td>\n",
              "      <td>2011</td>\n",
              "      <td>Developing</td>\n",
              "      <td>54.9</td>\n",
              "      <td>464</td>\n",
              "      <td>28</td>\n",
              "      <td>6.00</td>\n",
              "      <td>63.750530</td>\n",
              "      <td>94</td>\n",
              "      <td>0</td>\n",
              "      <td>...</td>\n",
              "      <td>93</td>\n",
              "      <td>6.31</td>\n",
              "      <td>93</td>\n",
              "      <td>13.3</td>\n",
              "      <td>464</td>\n",
              "      <td>14386649</td>\n",
              "      <td>6.8</td>\n",
              "      <td>6.7</td>\n",
              "      <td>0.452</td>\n",
              "      <td>10.1</td>\n",
              "    </tr>\n",
              "    <tr>\n",
              "      <th>2929</th>\n",
              "      <td>Zimbabwe</td>\n",
              "      <td>2008</td>\n",
              "      <td>Developing</td>\n",
              "      <td>48.2</td>\n",
              "      <td>632</td>\n",
              "      <td>30</td>\n",
              "      <td>3.56</td>\n",
              "      <td>20.843429</td>\n",
              "      <td>75</td>\n",
              "      <td>0</td>\n",
              "      <td>...</td>\n",
              "      <td>75</td>\n",
              "      <td>4.96</td>\n",
              "      <td>75</td>\n",
              "      <td>20.5</td>\n",
              "      <td>632</td>\n",
              "      <td>13558469</td>\n",
              "      <td>7.8</td>\n",
              "      <td>7.8</td>\n",
              "      <td>0.421</td>\n",
              "      <td>9.7</td>\n",
              "    </tr>\n",
              "  </tbody>\n",
              "</table>\n",
              "<p>983 rows × 22 columns</p>\n",
              "</div>"
            ],
            "text/plain": [
              "       Country  Year      Status  Lifeexpectancy  AdultMortality  \\\n",
              "16     Albania  2015  Developing            77.8              74   \n",
              "17     Albania  2014  Developing            77.5               8   \n",
              "18     Albania  2013  Developing            77.2              84   \n",
              "22     Albania  2009  Developing            76.1              91   \n",
              "23     Albania  2008  Developing            75.3               1   \n",
              "...        ...   ...         ...             ...             ...   \n",
              "2923  Zimbabwe  2014  Developing            59.2             371   \n",
              "2924  Zimbabwe  2013  Developing            58.0             399   \n",
              "2925  Zimbabwe  2012  Developing            56.6             429   \n",
              "2926  Zimbabwe  2011  Developing            54.9             464   \n",
              "2929  Zimbabwe  2008  Developing            48.2             632   \n",
              "\n",
              "      infantdeaths  Alcohol  percentageexpenditure  HepatitisB  Measles  ...  \\\n",
              "16               0     4.60             364.975229          99        0  ...   \n",
              "17               0     4.51             428.749067          98        0  ...   \n",
              "18               0     4.76             430.876979          99        0  ...   \n",
              "22               1     5.79             348.055952          98        0  ...   \n",
              "23               1     5.61              36.622068          99        0  ...   \n",
              "...            ...      ...                    ...         ...      ...  ...   \n",
              "2923            23     6.50              10.822595          91        0  ...   \n",
              "2924            25     6.39              10.666707          95        0  ...   \n",
              "2925            26     6.09              92.602336          97        0  ...   \n",
              "2926            28     6.00              63.750530          94        0  ...   \n",
              "2929            30     3.56              20.843429          75        0  ...   \n",
              "\n",
              "      Polio  Totalexpenditure  Diphtheria  HIV/AIDS  GDP  Population  \\\n",
              "16       99              6.00          99       0.1   74       28873   \n",
              "17       98              5.88          98       0.1    8      288914   \n",
              "18       99              5.66          99       0.1   84      289592   \n",
              "22       98              5.79          98       0.1   91     2927519   \n",
              "23       99              5.87          99       0.1    1     2947314   \n",
              "...     ...               ...         ...       ...  ...         ...   \n",
              "2923     92              6.44          91       6.3  371    15411675   \n",
              "2924     95              6.88          95       6.8  399      155456   \n",
              "2925     95              6.69          95       8.8  429     1471826   \n",
              "2926     93              6.31          93      13.3  464    14386649   \n",
              "2929     75              4.96          75      20.5  632    13558469   \n",
              "\n",
              "      thinness1-19years  thinness5-9years  Incomecompositionofresources  \\\n",
              "16                  1.2               1.3                         0.762   \n",
              "17                  1.2               1.3                         0.761   \n",
              "18                  1.3               1.4                         0.759   \n",
              "22                  1.5               1.6                         0.721   \n",
              "23                  1.6               1.6                         0.713   \n",
              "...                 ...               ...                           ...   \n",
              "2923                5.9               5.7                         0.498   \n",
              "2924                6.2               6.0                         0.488   \n",
              "2925                6.5               6.4                         0.464   \n",
              "2926                6.8               6.7                         0.452   \n",
              "2929                7.8               7.8                         0.421   \n",
              "\n",
              "      Schooling  \n",
              "16         14.2  \n",
              "17         14.2  \n",
              "18         14.2  \n",
              "22         12.2  \n",
              "23         12.0  \n",
              "...         ...  \n",
              "2923       10.3  \n",
              "2924       10.4  \n",
              "2925        9.8  \n",
              "2926       10.1  \n",
              "2929        9.7  \n",
              "\n",
              "[983 rows x 22 columns]"
            ]
          },
          "execution_count": 57,
          "metadata": {},
          "output_type": "execute_result"
        }
      ],
      "source": [
        "life[life['Measles']==0]"
      ]
    },
    {
      "cell_type": "markdown",
      "metadata": {},
      "source": [
        "# Save the cleaned dataset"
      ]
    },
    {
      "cell_type": "code",
      "execution_count": 58,
      "metadata": {
        "trusted": true
      },
      "outputs": [],
      "source": [
        "life.to_csv('CleanedLifeExpectancy.csv')"
      ]
    },
    {
      "cell_type": "markdown",
      "metadata": {},
      "source": [
        "## Model"
      ]
    },
    {
      "cell_type": "code",
      "execution_count": 59,
      "metadata": {
        "trusted": true
      },
      "outputs": [],
      "source": [
        "X=life.drop(columns='Lifeexpectancy')\n",
        "y=life['Lifeexpectancy']"
      ]
    },
    {
      "cell_type": "code",
      "execution_count": 60,
      "metadata": {
        "trusted": true
      },
      "outputs": [
        {
          "data": {
            "text/html": [
              "<div>\n",
              "<style scoped>\n",
              "    .dataframe tbody tr th:only-of-type {\n",
              "        vertical-align: middle;\n",
              "    }\n",
              "\n",
              "    .dataframe tbody tr th {\n",
              "        vertical-align: top;\n",
              "    }\n",
              "\n",
              "    .dataframe thead th {\n",
              "        text-align: right;\n",
              "    }\n",
              "</style>\n",
              "<table border=\"1\" class=\"dataframe\">\n",
              "  <thead>\n",
              "    <tr style=\"text-align: right;\">\n",
              "      <th></th>\n",
              "      <th>Country</th>\n",
              "      <th>Year</th>\n",
              "      <th>Status</th>\n",
              "      <th>AdultMortality</th>\n",
              "      <th>infantdeaths</th>\n",
              "      <th>Alcohol</th>\n",
              "      <th>percentageexpenditure</th>\n",
              "      <th>HepatitisB</th>\n",
              "      <th>Measles</th>\n",
              "      <th>BMI</th>\n",
              "      <th>...</th>\n",
              "      <th>Polio</th>\n",
              "      <th>Totalexpenditure</th>\n",
              "      <th>Diphtheria</th>\n",
              "      <th>HIV/AIDS</th>\n",
              "      <th>GDP</th>\n",
              "      <th>Population</th>\n",
              "      <th>thinness1-19years</th>\n",
              "      <th>thinness5-9years</th>\n",
              "      <th>Incomecompositionofresources</th>\n",
              "      <th>Schooling</th>\n",
              "    </tr>\n",
              "  </thead>\n",
              "  <tbody>\n",
              "    <tr>\n",
              "      <th>0</th>\n",
              "      <td>Afghanistan</td>\n",
              "      <td>2015</td>\n",
              "      <td>Developing</td>\n",
              "      <td>263</td>\n",
              "      <td>62</td>\n",
              "      <td>0.01</td>\n",
              "      <td>71.279624</td>\n",
              "      <td>65</td>\n",
              "      <td>1154</td>\n",
              "      <td>19.1</td>\n",
              "      <td>...</td>\n",
              "      <td>6</td>\n",
              "      <td>8.16</td>\n",
              "      <td>65</td>\n",
              "      <td>0.1</td>\n",
              "      <td>263</td>\n",
              "      <td>33736494</td>\n",
              "      <td>17.2</td>\n",
              "      <td>17.3</td>\n",
              "      <td>0.479</td>\n",
              "      <td>10.1</td>\n",
              "    </tr>\n",
              "    <tr>\n",
              "      <th>1</th>\n",
              "      <td>Afghanistan</td>\n",
              "      <td>2014</td>\n",
              "      <td>Developing</td>\n",
              "      <td>271</td>\n",
              "      <td>64</td>\n",
              "      <td>0.01</td>\n",
              "      <td>73.523582</td>\n",
              "      <td>62</td>\n",
              "      <td>492</td>\n",
              "      <td>18.6</td>\n",
              "      <td>...</td>\n",
              "      <td>58</td>\n",
              "      <td>8.18</td>\n",
              "      <td>62</td>\n",
              "      <td>0.1</td>\n",
              "      <td>271</td>\n",
              "      <td>327582</td>\n",
              "      <td>17.5</td>\n",
              "      <td>17.5</td>\n",
              "      <td>0.476</td>\n",
              "      <td>10.0</td>\n",
              "    </tr>\n",
              "    <tr>\n",
              "      <th>2</th>\n",
              "      <td>Afghanistan</td>\n",
              "      <td>2013</td>\n",
              "      <td>Developing</td>\n",
              "      <td>268</td>\n",
              "      <td>66</td>\n",
              "      <td>0.01</td>\n",
              "      <td>73.219243</td>\n",
              "      <td>64</td>\n",
              "      <td>430</td>\n",
              "      <td>18.1</td>\n",
              "      <td>...</td>\n",
              "      <td>62</td>\n",
              "      <td>8.13</td>\n",
              "      <td>64</td>\n",
              "      <td>0.1</td>\n",
              "      <td>268</td>\n",
              "      <td>31731688</td>\n",
              "      <td>17.7</td>\n",
              "      <td>17.7</td>\n",
              "      <td>0.470</td>\n",
              "      <td>9.9</td>\n",
              "    </tr>\n",
              "    <tr>\n",
              "      <th>3</th>\n",
              "      <td>Afghanistan</td>\n",
              "      <td>2012</td>\n",
              "      <td>Developing</td>\n",
              "      <td>272</td>\n",
              "      <td>69</td>\n",
              "      <td>0.01</td>\n",
              "      <td>78.184215</td>\n",
              "      <td>67</td>\n",
              "      <td>2787</td>\n",
              "      <td>17.6</td>\n",
              "      <td>...</td>\n",
              "      <td>67</td>\n",
              "      <td>8.52</td>\n",
              "      <td>67</td>\n",
              "      <td>0.1</td>\n",
              "      <td>272</td>\n",
              "      <td>3696958</td>\n",
              "      <td>17.9</td>\n",
              "      <td>18.0</td>\n",
              "      <td>0.463</td>\n",
              "      <td>9.8</td>\n",
              "    </tr>\n",
              "    <tr>\n",
              "      <th>4</th>\n",
              "      <td>Afghanistan</td>\n",
              "      <td>2011</td>\n",
              "      <td>Developing</td>\n",
              "      <td>275</td>\n",
              "      <td>71</td>\n",
              "      <td>0.01</td>\n",
              "      <td>7.097109</td>\n",
              "      <td>68</td>\n",
              "      <td>3013</td>\n",
              "      <td>17.2</td>\n",
              "      <td>...</td>\n",
              "      <td>68</td>\n",
              "      <td>7.87</td>\n",
              "      <td>68</td>\n",
              "      <td>0.1</td>\n",
              "      <td>275</td>\n",
              "      <td>2978599</td>\n",
              "      <td>18.2</td>\n",
              "      <td>18.2</td>\n",
              "      <td>0.454</td>\n",
              "      <td>9.5</td>\n",
              "    </tr>\n",
              "    <tr>\n",
              "      <th>...</th>\n",
              "      <td>...</td>\n",
              "      <td>...</td>\n",
              "      <td>...</td>\n",
              "      <td>...</td>\n",
              "      <td>...</td>\n",
              "      <td>...</td>\n",
              "      <td>...</td>\n",
              "      <td>...</td>\n",
              "      <td>...</td>\n",
              "      <td>...</td>\n",
              "      <td>...</td>\n",
              "      <td>...</td>\n",
              "      <td>...</td>\n",
              "      <td>...</td>\n",
              "      <td>...</td>\n",
              "      <td>...</td>\n",
              "      <td>...</td>\n",
              "      <td>...</td>\n",
              "      <td>...</td>\n",
              "      <td>...</td>\n",
              "      <td>...</td>\n",
              "    </tr>\n",
              "    <tr>\n",
              "      <th>2933</th>\n",
              "      <td>Zimbabwe</td>\n",
              "      <td>2004</td>\n",
              "      <td>Developing</td>\n",
              "      <td>723</td>\n",
              "      <td>27</td>\n",
              "      <td>4.36</td>\n",
              "      <td>0.000000</td>\n",
              "      <td>68</td>\n",
              "      <td>31</td>\n",
              "      <td>27.1</td>\n",
              "      <td>...</td>\n",
              "      <td>67</td>\n",
              "      <td>7.13</td>\n",
              "      <td>65</td>\n",
              "      <td>33.6</td>\n",
              "      <td>723</td>\n",
              "      <td>12777511</td>\n",
              "      <td>9.4</td>\n",
              "      <td>9.4</td>\n",
              "      <td>0.407</td>\n",
              "      <td>9.2</td>\n",
              "    </tr>\n",
              "    <tr>\n",
              "      <th>2934</th>\n",
              "      <td>Zimbabwe</td>\n",
              "      <td>2003</td>\n",
              "      <td>Developing</td>\n",
              "      <td>715</td>\n",
              "      <td>26</td>\n",
              "      <td>4.06</td>\n",
              "      <td>0.000000</td>\n",
              "      <td>7</td>\n",
              "      <td>998</td>\n",
              "      <td>26.7</td>\n",
              "      <td>...</td>\n",
              "      <td>7</td>\n",
              "      <td>6.52</td>\n",
              "      <td>68</td>\n",
              "      <td>36.7</td>\n",
              "      <td>715</td>\n",
              "      <td>12633897</td>\n",
              "      <td>9.8</td>\n",
              "      <td>9.9</td>\n",
              "      <td>0.418</td>\n",
              "      <td>9.5</td>\n",
              "    </tr>\n",
              "    <tr>\n",
              "      <th>2935</th>\n",
              "      <td>Zimbabwe</td>\n",
              "      <td>2002</td>\n",
              "      <td>Developing</td>\n",
              "      <td>73</td>\n",
              "      <td>25</td>\n",
              "      <td>4.43</td>\n",
              "      <td>0.000000</td>\n",
              "      <td>73</td>\n",
              "      <td>304</td>\n",
              "      <td>26.3</td>\n",
              "      <td>...</td>\n",
              "      <td>73</td>\n",
              "      <td>6.53</td>\n",
              "      <td>71</td>\n",
              "      <td>39.8</td>\n",
              "      <td>73</td>\n",
              "      <td>125525</td>\n",
              "      <td>1.2</td>\n",
              "      <td>1.3</td>\n",
              "      <td>0.427</td>\n",
              "      <td>10.0</td>\n",
              "    </tr>\n",
              "    <tr>\n",
              "      <th>2936</th>\n",
              "      <td>Zimbabwe</td>\n",
              "      <td>2001</td>\n",
              "      <td>Developing</td>\n",
              "      <td>686</td>\n",
              "      <td>25</td>\n",
              "      <td>1.72</td>\n",
              "      <td>0.000000</td>\n",
              "      <td>76</td>\n",
              "      <td>529</td>\n",
              "      <td>25.9</td>\n",
              "      <td>...</td>\n",
              "      <td>76</td>\n",
              "      <td>6.16</td>\n",
              "      <td>75</td>\n",
              "      <td>42.1</td>\n",
              "      <td>686</td>\n",
              "      <td>12366165</td>\n",
              "      <td>1.6</td>\n",
              "      <td>1.7</td>\n",
              "      <td>0.427</td>\n",
              "      <td>9.8</td>\n",
              "    </tr>\n",
              "    <tr>\n",
              "      <th>2937</th>\n",
              "      <td>Zimbabwe</td>\n",
              "      <td>2000</td>\n",
              "      <td>Developing</td>\n",
              "      <td>665</td>\n",
              "      <td>24</td>\n",
              "      <td>1.68</td>\n",
              "      <td>0.000000</td>\n",
              "      <td>79</td>\n",
              "      <td>1483</td>\n",
              "      <td>25.5</td>\n",
              "      <td>...</td>\n",
              "      <td>78</td>\n",
              "      <td>7.10</td>\n",
              "      <td>78</td>\n",
              "      <td>43.5</td>\n",
              "      <td>665</td>\n",
              "      <td>12222251</td>\n",
              "      <td>11.0</td>\n",
              "      <td>11.2</td>\n",
              "      <td>0.434</td>\n",
              "      <td>9.8</td>\n",
              "    </tr>\n",
              "  </tbody>\n",
              "</table>\n",
              "<p>2938 rows × 21 columns</p>\n",
              "</div>"
            ],
            "text/plain": [
              "          Country  Year      Status  AdultMortality  infantdeaths  Alcohol  \\\n",
              "0     Afghanistan  2015  Developing             263            62     0.01   \n",
              "1     Afghanistan  2014  Developing             271            64     0.01   \n",
              "2     Afghanistan  2013  Developing             268            66     0.01   \n",
              "3     Afghanistan  2012  Developing             272            69     0.01   \n",
              "4     Afghanistan  2011  Developing             275            71     0.01   \n",
              "...           ...   ...         ...             ...           ...      ...   \n",
              "2933     Zimbabwe  2004  Developing             723            27     4.36   \n",
              "2934     Zimbabwe  2003  Developing             715            26     4.06   \n",
              "2935     Zimbabwe  2002  Developing              73            25     4.43   \n",
              "2936     Zimbabwe  2001  Developing             686            25     1.72   \n",
              "2937     Zimbabwe  2000  Developing             665            24     1.68   \n",
              "\n",
              "      percentageexpenditure  HepatitisB  Measles   BMI  ...  Polio  \\\n",
              "0                 71.279624          65     1154  19.1  ...      6   \n",
              "1                 73.523582          62      492  18.6  ...     58   \n",
              "2                 73.219243          64      430  18.1  ...     62   \n",
              "3                 78.184215          67     2787  17.6  ...     67   \n",
              "4                  7.097109          68     3013  17.2  ...     68   \n",
              "...                     ...         ...      ...   ...  ...    ...   \n",
              "2933               0.000000          68       31  27.1  ...     67   \n",
              "2934               0.000000           7      998  26.7  ...      7   \n",
              "2935               0.000000          73      304  26.3  ...     73   \n",
              "2936               0.000000          76      529  25.9  ...     76   \n",
              "2937               0.000000          79     1483  25.5  ...     78   \n",
              "\n",
              "      Totalexpenditure  Diphtheria  HIV/AIDS  GDP  Population  \\\n",
              "0                 8.16          65       0.1  263    33736494   \n",
              "1                 8.18          62       0.1  271      327582   \n",
              "2                 8.13          64       0.1  268    31731688   \n",
              "3                 8.52          67       0.1  272     3696958   \n",
              "4                 7.87          68       0.1  275     2978599   \n",
              "...                ...         ...       ...  ...         ...   \n",
              "2933              7.13          65      33.6  723    12777511   \n",
              "2934              6.52          68      36.7  715    12633897   \n",
              "2935              6.53          71      39.8   73      125525   \n",
              "2936              6.16          75      42.1  686    12366165   \n",
              "2937              7.10          78      43.5  665    12222251   \n",
              "\n",
              "      thinness1-19years  thinness5-9years  Incomecompositionofresources  \\\n",
              "0                  17.2              17.3                         0.479   \n",
              "1                  17.5              17.5                         0.476   \n",
              "2                  17.7              17.7                         0.470   \n",
              "3                  17.9              18.0                         0.463   \n",
              "4                  18.2              18.2                         0.454   \n",
              "...                 ...               ...                           ...   \n",
              "2933                9.4               9.4                         0.407   \n",
              "2934                9.8               9.9                         0.418   \n",
              "2935                1.2               1.3                         0.427   \n",
              "2936                1.6               1.7                         0.427   \n",
              "2937               11.0              11.2                         0.434   \n",
              "\n",
              "      Schooling  \n",
              "0          10.1  \n",
              "1          10.0  \n",
              "2           9.9  \n",
              "3           9.8  \n",
              "4           9.5  \n",
              "...         ...  \n",
              "2933        9.2  \n",
              "2934        9.5  \n",
              "2935       10.0  \n",
              "2936        9.8  \n",
              "2937        9.8  \n",
              "\n",
              "[2938 rows x 21 columns]"
            ]
          },
          "execution_count": 60,
          "metadata": {},
          "output_type": "execute_result"
        }
      ],
      "source": [
        "X"
      ]
    },
    {
      "cell_type": "code",
      "execution_count": 61,
      "metadata": {
        "trusted": true
      },
      "outputs": [
        {
          "data": {
            "text/plain": [
              "0       65.0\n",
              "1       59.9\n",
              "2       59.9\n",
              "3       59.5\n",
              "4       59.2\n",
              "        ... \n",
              "2933    44.3\n",
              "2934    44.5\n",
              "2935    44.8\n",
              "2936    45.3\n",
              "2937    46.0\n",
              "Name: Lifeexpectancy, Length: 2938, dtype: float64"
            ]
          },
          "execution_count": 61,
          "metadata": {},
          "output_type": "execute_result"
        }
      ],
      "source": [
        "y"
      ]
    },
    {
      "cell_type": "code",
      "execution_count": 62,
      "metadata": {
        "trusted": true
      },
      "outputs": [],
      "source": [
        "from sklearn.model_selection import train_test_split\n",
        "from sklearn.linear_model import LinearRegression\n",
        "from sklearn.metrics import r2_score\n",
        "from sklearn.preprocessing import OneHotEncoder\n",
        "from sklearn.compose import make_column_transformer\n",
        "from sklearn.pipeline import make_pipeline"
      ]
    },
    {
      "cell_type": "code",
      "execution_count": 63,
      "metadata": {
        "trusted": true
      },
      "outputs": [],
      "source": [
        "X_train, X_test, y_train, y_test=train_test_split(X,y,test_size=0.2)"
      ]
    },
    {
      "cell_type": "code",
      "execution_count": 64,
      "metadata": {
        "trusted": true
      },
      "outputs": [
        {
          "data": {
            "text/html": [
              "<style>#sk-container-id-1 {color: black;background-color: white;}#sk-container-id-1 pre{padding: 0;}#sk-container-id-1 div.sk-toggleable {background-color: white;}#sk-container-id-1 label.sk-toggleable__label {cursor: pointer;display: block;width: 100%;margin-bottom: 0;padding: 0.3em;box-sizing: border-box;text-align: center;}#sk-container-id-1 label.sk-toggleable__label-arrow:before {content: \"▸\";float: left;margin-right: 0.25em;color: #696969;}#sk-container-id-1 label.sk-toggleable__label-arrow:hover:before {color: black;}#sk-container-id-1 div.sk-estimator:hover label.sk-toggleable__label-arrow:before {color: black;}#sk-container-id-1 div.sk-toggleable__content {max-height: 0;max-width: 0;overflow: hidden;text-align: left;background-color: #f0f8ff;}#sk-container-id-1 div.sk-toggleable__content pre {margin: 0.2em;color: black;border-radius: 0.25em;background-color: #f0f8ff;}#sk-container-id-1 input.sk-toggleable__control:checked~div.sk-toggleable__content {max-height: 200px;max-width: 100%;overflow: auto;}#sk-container-id-1 input.sk-toggleable__control:checked~label.sk-toggleable__label-arrow:before {content: \"▾\";}#sk-container-id-1 div.sk-estimator input.sk-toggleable__control:checked~label.sk-toggleable__label {background-color: #d4ebff;}#sk-container-id-1 div.sk-label input.sk-toggleable__control:checked~label.sk-toggleable__label {background-color: #d4ebff;}#sk-container-id-1 input.sk-hidden--visually {border: 0;clip: rect(1px 1px 1px 1px);clip: rect(1px, 1px, 1px, 1px);height: 1px;margin: -1px;overflow: hidden;padding: 0;position: absolute;width: 1px;}#sk-container-id-1 div.sk-estimator {font-family: monospace;background-color: #f0f8ff;border: 1px dotted black;border-radius: 0.25em;box-sizing: border-box;margin-bottom: 0.5em;}#sk-container-id-1 div.sk-estimator:hover {background-color: #d4ebff;}#sk-container-id-1 div.sk-parallel-item::after {content: \"\";width: 100%;border-bottom: 1px solid gray;flex-grow: 1;}#sk-container-id-1 div.sk-label:hover label.sk-toggleable__label {background-color: #d4ebff;}#sk-container-id-1 div.sk-serial::before {content: \"\";position: absolute;border-left: 1px solid gray;box-sizing: border-box;top: 0;bottom: 0;left: 50%;z-index: 0;}#sk-container-id-1 div.sk-serial {display: flex;flex-direction: column;align-items: center;background-color: white;padding-right: 0.2em;padding-left: 0.2em;position: relative;}#sk-container-id-1 div.sk-item {position: relative;z-index: 1;}#sk-container-id-1 div.sk-parallel {display: flex;align-items: stretch;justify-content: center;background-color: white;position: relative;}#sk-container-id-1 div.sk-item::before, #sk-container-id-1 div.sk-parallel-item::before {content: \"\";position: absolute;border-left: 1px solid gray;box-sizing: border-box;top: 0;bottom: 0;left: 50%;z-index: -1;}#sk-container-id-1 div.sk-parallel-item {display: flex;flex-direction: column;z-index: 1;position: relative;background-color: white;}#sk-container-id-1 div.sk-parallel-item:first-child::after {align-self: flex-end;width: 50%;}#sk-container-id-1 div.sk-parallel-item:last-child::after {align-self: flex-start;width: 50%;}#sk-container-id-1 div.sk-parallel-item:only-child::after {width: 0;}#sk-container-id-1 div.sk-dashed-wrapped {border: 1px dashed gray;margin: 0 0.4em 0.5em 0.4em;box-sizing: border-box;padding-bottom: 0.4em;background-color: white;}#sk-container-id-1 div.sk-label label {font-family: monospace;font-weight: bold;display: inline-block;line-height: 1.2em;}#sk-container-id-1 div.sk-label-container {text-align: center;}#sk-container-id-1 div.sk-container {/* jupyter's `normalize.less` sets `[hidden] { display: none; }` but bootstrap.min.css set `[hidden] { display: none !important; }` so we also need the `!important` here to be able to override the default hidden behavior on the sphinx rendered scikit-learn.org. See: https://github.com/scikit-learn/scikit-learn/issues/21755 */display: inline-block !important;position: relative;}#sk-container-id-1 div.sk-text-repr-fallback {display: none;}</style><div id=\"sk-container-id-1\" class=\"sk-top-container\"><div class=\"sk-text-repr-fallback\"><pre>OneHotEncoder()</pre><b>In a Jupyter environment, please rerun this cell to show the HTML representation or trust the notebook. <br />On GitHub, the HTML representation is unable to render, please try loading this page with nbviewer.org.</b></div><div class=\"sk-container\" hidden><div class=\"sk-item\"><div class=\"sk-estimator sk-toggleable\"><input class=\"sk-toggleable__control sk-hidden--visually\" id=\"sk-estimator-id-1\" type=\"checkbox\" checked><label for=\"sk-estimator-id-1\" class=\"sk-toggleable__label sk-toggleable__label-arrow\">OneHotEncoder</label><div class=\"sk-toggleable__content\"><pre>OneHotEncoder()</pre></div></div></div></div></div>"
            ],
            "text/plain": [
              "OneHotEncoder()"
            ]
          },
          "execution_count": 64,
          "metadata": {},
          "output_type": "execute_result"
        }
      ],
      "source": [
        "ohe=OneHotEncoder()\n",
        "ohe.fit(X[['Country','Status']])"
      ]
    },
    {
      "cell_type": "code",
      "execution_count": 65,
      "metadata": {
        "trusted": true
      },
      "outputs": [
        {
          "data": {
            "text/plain": [
              "[array(['Afghanistan', 'Albania', 'Algeria', 'Angola',\n",
              "        'Antigua and Barbuda', 'Argentina', 'Armenia', 'Australia',\n",
              "        'Austria', 'Azerbaijan', 'Bahamas', 'Bahrain', 'Bangladesh',\n",
              "        'Barbados', 'Belarus', 'Belgium', 'Belize', 'Benin', 'Bhutan',\n",
              "        'Bolivia (Plurinational State of)', 'Bosnia and Herzegovina',\n",
              "        'Botswana', 'Brazil', 'Brunei Darussalam', 'Bulgaria',\n",
              "        'Burkina Faso', 'Burundi', 'Cabo Verde', 'Cambodia', 'Cameroon',\n",
              "        'Canada', 'Central African Republic', 'Chad', 'Chile', 'China',\n",
              "        'Colombia', 'Comoros', 'Congo', 'Cook Islands', 'Costa Rica',\n",
              "        'Croatia', 'Cuba', 'Cyprus', 'Czechia', \"Côte d'Ivoire\",\n",
              "        \"Democratic People's Republic of Korea\",\n",
              "        'Democratic Republic of the Congo', 'Denmark', 'Djibouti',\n",
              "        'Dominica', 'Dominican Republic', 'Ecuador', 'Egypt',\n",
              "        'El Salvador', 'Equatorial Guinea', 'Eritrea', 'Estonia',\n",
              "        'Ethiopia', 'Fiji', 'Finland', 'France', 'Gabon', 'Gambia',\n",
              "        'Georgia', 'Germany', 'Ghana', 'Greece', 'Grenada', 'Guatemala',\n",
              "        'Guinea', 'Guinea-Bissau', 'Guyana', 'Haiti', 'Honduras',\n",
              "        'Hungary', 'Iceland', 'India', 'Indonesia',\n",
              "        'Iran (Islamic Republic of)', 'Iraq', 'Ireland', 'Israel', 'Italy',\n",
              "        'Jamaica', 'Japan', 'Jordan', 'Kazakhstan', 'Kenya', 'Kiribati',\n",
              "        'Kuwait', 'Kyrgyzstan', \"Lao People's Democratic Republic\",\n",
              "        'Latvia', 'Lebanon', 'Lesotho', 'Liberia', 'Libya', 'Lithuania',\n",
              "        'Luxembourg', 'Madagascar', 'Malawi', 'Malaysia', 'Maldives',\n",
              "        'Mali', 'Malta', 'Marshall Islands', 'Mauritania', 'Mauritius',\n",
              "        'Mexico', 'Micronesia (Federated States of)', 'Monaco', 'Mongolia',\n",
              "        'Montenegro', 'Morocco', 'Mozambique', 'Myanmar', 'Namibia',\n",
              "        'Nauru', 'Nepal', 'Netherlands', 'New Zealand', 'Nicaragua',\n",
              "        'Niger', 'Nigeria', 'Niue', 'Norway', 'Oman', 'Pakistan', 'Palau',\n",
              "        'Panama', 'Papua New Guinea', 'Paraguay', 'Peru', 'Philippines',\n",
              "        'Poland', 'Portugal', 'Qatar', 'Republic of Korea',\n",
              "        'Republic of Moldova', 'Romania', 'Russian Federation', 'Rwanda',\n",
              "        'Saint Kitts and Nevis', 'Saint Lucia',\n",
              "        'Saint Vincent and the Grenadines', 'Samoa', 'San Marino',\n",
              "        'Sao Tome and Principe', 'Saudi Arabia', 'Senegal', 'Serbia',\n",
              "        'Seychelles', 'Sierra Leone', 'Singapore', 'Slovakia', 'Slovenia',\n",
              "        'Solomon Islands', 'Somalia', 'South Africa', 'South Sudan',\n",
              "        'Spain', 'Sri Lanka', 'Sudan', 'Suriname', 'Swaziland', 'Sweden',\n",
              "        'Switzerland', 'Syrian Arab Republic', 'Tajikistan', 'Thailand',\n",
              "        'The former Yugoslav republic of Macedonia', 'Timor-Leste', 'Togo',\n",
              "        'Tonga', 'Trinidad and Tobago', 'Tunisia', 'Turkey',\n",
              "        'Turkmenistan', 'Tuvalu', 'Uganda', 'Ukraine',\n",
              "        'United Arab Emirates',\n",
              "        'United Kingdom of Great Britain and Northern Ireland',\n",
              "        'United Republic of Tanzania', 'United States of America',\n",
              "        'Uruguay', 'Uzbekistan', 'Vanuatu',\n",
              "        'Venezuela (Bolivarian Republic of)', 'Viet Nam', 'Yemen',\n",
              "        'Zambia', 'Zimbabwe'], dtype=object),\n",
              " array(['Developed', 'Developing'], dtype=object)]"
            ]
          },
          "execution_count": 65,
          "metadata": {},
          "output_type": "execute_result"
        }
      ],
      "source": [
        "ohe.categories_"
      ]
    },
    {
      "cell_type": "code",
      "execution_count": 66,
      "metadata": {
        "trusted": true
      },
      "outputs": [],
      "source": [
        "column_trans=make_column_transformer((OneHotEncoder(categories=ohe.categories_),['Country','Status']),\n",
        "                                     remainder='passthrough')"
      ]
    },
    {
      "cell_type": "code",
      "execution_count": 67,
      "metadata": {
        "trusted": true
      },
      "outputs": [],
      "source": [
        "lr=LinearRegression()"
      ]
    },
    {
      "cell_type": "code",
      "execution_count": 68,
      "metadata": {
        "trusted": true
      },
      "outputs": [],
      "source": [
        "pipe=make_pipeline(column_trans,lr)"
      ]
    },
    {
      "cell_type": "code",
      "execution_count": 69,
      "metadata": {
        "trusted": true
      },
      "outputs": [
        {
          "data": {
            "text/html": [
              "<style>#sk-container-id-2 {color: black;background-color: white;}#sk-container-id-2 pre{padding: 0;}#sk-container-id-2 div.sk-toggleable {background-color: white;}#sk-container-id-2 label.sk-toggleable__label {cursor: pointer;display: block;width: 100%;margin-bottom: 0;padding: 0.3em;box-sizing: border-box;text-align: center;}#sk-container-id-2 label.sk-toggleable__label-arrow:before {content: \"▸\";float: left;margin-right: 0.25em;color: #696969;}#sk-container-id-2 label.sk-toggleable__label-arrow:hover:before {color: black;}#sk-container-id-2 div.sk-estimator:hover label.sk-toggleable__label-arrow:before {color: black;}#sk-container-id-2 div.sk-toggleable__content {max-height: 0;max-width: 0;overflow: hidden;text-align: left;background-color: #f0f8ff;}#sk-container-id-2 div.sk-toggleable__content pre {margin: 0.2em;color: black;border-radius: 0.25em;background-color: #f0f8ff;}#sk-container-id-2 input.sk-toggleable__control:checked~div.sk-toggleable__content {max-height: 200px;max-width: 100%;overflow: auto;}#sk-container-id-2 input.sk-toggleable__control:checked~label.sk-toggleable__label-arrow:before {content: \"▾\";}#sk-container-id-2 div.sk-estimator input.sk-toggleable__control:checked~label.sk-toggleable__label {background-color: #d4ebff;}#sk-container-id-2 div.sk-label input.sk-toggleable__control:checked~label.sk-toggleable__label {background-color: #d4ebff;}#sk-container-id-2 input.sk-hidden--visually {border: 0;clip: rect(1px 1px 1px 1px);clip: rect(1px, 1px, 1px, 1px);height: 1px;margin: -1px;overflow: hidden;padding: 0;position: absolute;width: 1px;}#sk-container-id-2 div.sk-estimator {font-family: monospace;background-color: #f0f8ff;border: 1px dotted black;border-radius: 0.25em;box-sizing: border-box;margin-bottom: 0.5em;}#sk-container-id-2 div.sk-estimator:hover {background-color: #d4ebff;}#sk-container-id-2 div.sk-parallel-item::after {content: \"\";width: 100%;border-bottom: 1px solid gray;flex-grow: 1;}#sk-container-id-2 div.sk-label:hover label.sk-toggleable__label {background-color: #d4ebff;}#sk-container-id-2 div.sk-serial::before {content: \"\";position: absolute;border-left: 1px solid gray;box-sizing: border-box;top: 0;bottom: 0;left: 50%;z-index: 0;}#sk-container-id-2 div.sk-serial {display: flex;flex-direction: column;align-items: center;background-color: white;padding-right: 0.2em;padding-left: 0.2em;position: relative;}#sk-container-id-2 div.sk-item {position: relative;z-index: 1;}#sk-container-id-2 div.sk-parallel {display: flex;align-items: stretch;justify-content: center;background-color: white;position: relative;}#sk-container-id-2 div.sk-item::before, #sk-container-id-2 div.sk-parallel-item::before {content: \"\";position: absolute;border-left: 1px solid gray;box-sizing: border-box;top: 0;bottom: 0;left: 50%;z-index: -1;}#sk-container-id-2 div.sk-parallel-item {display: flex;flex-direction: column;z-index: 1;position: relative;background-color: white;}#sk-container-id-2 div.sk-parallel-item:first-child::after {align-self: flex-end;width: 50%;}#sk-container-id-2 div.sk-parallel-item:last-child::after {align-self: flex-start;width: 50%;}#sk-container-id-2 div.sk-parallel-item:only-child::after {width: 0;}#sk-container-id-2 div.sk-dashed-wrapped {border: 1px dashed gray;margin: 0 0.4em 0.5em 0.4em;box-sizing: border-box;padding-bottom: 0.4em;background-color: white;}#sk-container-id-2 div.sk-label label {font-family: monospace;font-weight: bold;display: inline-block;line-height: 1.2em;}#sk-container-id-2 div.sk-label-container {text-align: center;}#sk-container-id-2 div.sk-container {/* jupyter's `normalize.less` sets `[hidden] { display: none; }` but bootstrap.min.css set `[hidden] { display: none !important; }` so we also need the `!important` here to be able to override the default hidden behavior on the sphinx rendered scikit-learn.org. See: https://github.com/scikit-learn/scikit-learn/issues/21755 */display: inline-block !important;position: relative;}#sk-container-id-2 div.sk-text-repr-fallback {display: none;}</style><div id=\"sk-container-id-2\" class=\"sk-top-container\"><div class=\"sk-text-repr-fallback\"><pre>Pipeline(steps=[(&#x27;columntransformer&#x27;,\n",
              "                 ColumnTransformer(remainder=&#x27;passthrough&#x27;,\n",
              "                                   transformers=[(&#x27;onehotencoder&#x27;,\n",
              "                                                  OneHotEncoder(categories=[array([&#x27;Afghanistan&#x27;, &#x27;Albania&#x27;, &#x27;Algeria&#x27;, &#x27;Angola&#x27;,\n",
              "       &#x27;Antigua and Barbuda&#x27;, &#x27;Argentina&#x27;, &#x27;Armenia&#x27;, &#x27;Australia&#x27;,\n",
              "       &#x27;Austria&#x27;, &#x27;Azerbaijan&#x27;, &#x27;Bahamas&#x27;, &#x27;Bahrain&#x27;, &#x27;Bangladesh&#x27;,\n",
              "       &#x27;Barbados&#x27;, &#x27;Belarus&#x27;, &#x27;Belgium&#x27;, &#x27;Belize&#x27;, &#x27;Benin&#x27;, &#x27;Bhuta...\n",
              "       &#x27;United Arab Emirates&#x27;,\n",
              "       &#x27;United Kingdom of Great Britain and Northern Ireland&#x27;,\n",
              "       &#x27;United Republic of Tanzania&#x27;, &#x27;United States of America&#x27;,\n",
              "       &#x27;Uruguay&#x27;, &#x27;Uzbekistan&#x27;, &#x27;Vanuatu&#x27;,\n",
              "       &#x27;Venezuela (Bolivarian Republic of)&#x27;, &#x27;Viet Nam&#x27;, &#x27;Yemen&#x27;,\n",
              "       &#x27;Zambia&#x27;, &#x27;Zimbabwe&#x27;], dtype=object),\n",
              "                                                                            array([&#x27;Developed&#x27;, &#x27;Developing&#x27;], dtype=object)]),\n",
              "                                                  [&#x27;Country&#x27;, &#x27;Status&#x27;])])),\n",
              "                (&#x27;linearregression&#x27;, LinearRegression())])</pre><b>In a Jupyter environment, please rerun this cell to show the HTML representation or trust the notebook. <br />On GitHub, the HTML representation is unable to render, please try loading this page with nbviewer.org.</b></div><div class=\"sk-container\" hidden><div class=\"sk-item sk-dashed-wrapped\"><div class=\"sk-label-container\"><div class=\"sk-label sk-toggleable\"><input class=\"sk-toggleable__control sk-hidden--visually\" id=\"sk-estimator-id-2\" type=\"checkbox\" ><label for=\"sk-estimator-id-2\" class=\"sk-toggleable__label sk-toggleable__label-arrow\">Pipeline</label><div class=\"sk-toggleable__content\"><pre>Pipeline(steps=[(&#x27;columntransformer&#x27;,\n",
              "                 ColumnTransformer(remainder=&#x27;passthrough&#x27;,\n",
              "                                   transformers=[(&#x27;onehotencoder&#x27;,\n",
              "                                                  OneHotEncoder(categories=[array([&#x27;Afghanistan&#x27;, &#x27;Albania&#x27;, &#x27;Algeria&#x27;, &#x27;Angola&#x27;,\n",
              "       &#x27;Antigua and Barbuda&#x27;, &#x27;Argentina&#x27;, &#x27;Armenia&#x27;, &#x27;Australia&#x27;,\n",
              "       &#x27;Austria&#x27;, &#x27;Azerbaijan&#x27;, &#x27;Bahamas&#x27;, &#x27;Bahrain&#x27;, &#x27;Bangladesh&#x27;,\n",
              "       &#x27;Barbados&#x27;, &#x27;Belarus&#x27;, &#x27;Belgium&#x27;, &#x27;Belize&#x27;, &#x27;Benin&#x27;, &#x27;Bhuta...\n",
              "       &#x27;United Arab Emirates&#x27;,\n",
              "       &#x27;United Kingdom of Great Britain and Northern Ireland&#x27;,\n",
              "       &#x27;United Republic of Tanzania&#x27;, &#x27;United States of America&#x27;,\n",
              "       &#x27;Uruguay&#x27;, &#x27;Uzbekistan&#x27;, &#x27;Vanuatu&#x27;,\n",
              "       &#x27;Venezuela (Bolivarian Republic of)&#x27;, &#x27;Viet Nam&#x27;, &#x27;Yemen&#x27;,\n",
              "       &#x27;Zambia&#x27;, &#x27;Zimbabwe&#x27;], dtype=object),\n",
              "                                                                            array([&#x27;Developed&#x27;, &#x27;Developing&#x27;], dtype=object)]),\n",
              "                                                  [&#x27;Country&#x27;, &#x27;Status&#x27;])])),\n",
              "                (&#x27;linearregression&#x27;, LinearRegression())])</pre></div></div></div><div class=\"sk-serial\"><div class=\"sk-item sk-dashed-wrapped\"><div class=\"sk-label-container\"><div class=\"sk-label sk-toggleable\"><input class=\"sk-toggleable__control sk-hidden--visually\" id=\"sk-estimator-id-3\" type=\"checkbox\" ><label for=\"sk-estimator-id-3\" class=\"sk-toggleable__label sk-toggleable__label-arrow\">columntransformer: ColumnTransformer</label><div class=\"sk-toggleable__content\"><pre>ColumnTransformer(remainder=&#x27;passthrough&#x27;,\n",
              "                  transformers=[(&#x27;onehotencoder&#x27;,\n",
              "                                 OneHotEncoder(categories=[array([&#x27;Afghanistan&#x27;, &#x27;Albania&#x27;, &#x27;Algeria&#x27;, &#x27;Angola&#x27;,\n",
              "       &#x27;Antigua and Barbuda&#x27;, &#x27;Argentina&#x27;, &#x27;Armenia&#x27;, &#x27;Australia&#x27;,\n",
              "       &#x27;Austria&#x27;, &#x27;Azerbaijan&#x27;, &#x27;Bahamas&#x27;, &#x27;Bahrain&#x27;, &#x27;Bangladesh&#x27;,\n",
              "       &#x27;Barbados&#x27;, &#x27;Belarus&#x27;, &#x27;Belgium&#x27;, &#x27;Belize&#x27;, &#x27;Benin&#x27;, &#x27;Bhutan&#x27;,\n",
              "       &#x27;Bolivia (Plurinational State of)&#x27;, &#x27;B...\n",
              "       &#x27;Turkmenistan&#x27;, &#x27;Tuvalu&#x27;, &#x27;Uganda&#x27;, &#x27;Ukraine&#x27;,\n",
              "       &#x27;United Arab Emirates&#x27;,\n",
              "       &#x27;United Kingdom of Great Britain and Northern Ireland&#x27;,\n",
              "       &#x27;United Republic of Tanzania&#x27;, &#x27;United States of America&#x27;,\n",
              "       &#x27;Uruguay&#x27;, &#x27;Uzbekistan&#x27;, &#x27;Vanuatu&#x27;,\n",
              "       &#x27;Venezuela (Bolivarian Republic of)&#x27;, &#x27;Viet Nam&#x27;, &#x27;Yemen&#x27;,\n",
              "       &#x27;Zambia&#x27;, &#x27;Zimbabwe&#x27;], dtype=object),\n",
              "                                                           array([&#x27;Developed&#x27;, &#x27;Developing&#x27;], dtype=object)]),\n",
              "                                 [&#x27;Country&#x27;, &#x27;Status&#x27;])])</pre></div></div></div><div class=\"sk-parallel\"><div class=\"sk-parallel-item\"><div class=\"sk-item\"><div class=\"sk-label-container\"><div class=\"sk-label sk-toggleable\"><input class=\"sk-toggleable__control sk-hidden--visually\" id=\"sk-estimator-id-4\" type=\"checkbox\" ><label for=\"sk-estimator-id-4\" class=\"sk-toggleable__label sk-toggleable__label-arrow\">onehotencoder</label><div class=\"sk-toggleable__content\"><pre>[&#x27;Country&#x27;, &#x27;Status&#x27;]</pre></div></div></div><div class=\"sk-serial\"><div class=\"sk-item\"><div class=\"sk-estimator sk-toggleable\"><input class=\"sk-toggleable__control sk-hidden--visually\" id=\"sk-estimator-id-5\" type=\"checkbox\" ><label for=\"sk-estimator-id-5\" class=\"sk-toggleable__label sk-toggleable__label-arrow\">OneHotEncoder</label><div class=\"sk-toggleable__content\"><pre>OneHotEncoder(categories=[array([&#x27;Afghanistan&#x27;, &#x27;Albania&#x27;, &#x27;Algeria&#x27;, &#x27;Angola&#x27;,\n",
              "       &#x27;Antigua and Barbuda&#x27;, &#x27;Argentina&#x27;, &#x27;Armenia&#x27;, &#x27;Australia&#x27;,\n",
              "       &#x27;Austria&#x27;, &#x27;Azerbaijan&#x27;, &#x27;Bahamas&#x27;, &#x27;Bahrain&#x27;, &#x27;Bangladesh&#x27;,\n",
              "       &#x27;Barbados&#x27;, &#x27;Belarus&#x27;, &#x27;Belgium&#x27;, &#x27;Belize&#x27;, &#x27;Benin&#x27;, &#x27;Bhutan&#x27;,\n",
              "       &#x27;Bolivia (Plurinational State of)&#x27;, &#x27;Bosnia and Herzegovina&#x27;,\n",
              "       &#x27;Botswana&#x27;, &#x27;Brazil&#x27;, &#x27;Brunei Darussalam&#x27;, &#x27;Bulgaria&#x27;,\n",
              "       &#x27;B...\n",
              "       &#x27;Tonga&#x27;, &#x27;Trinidad and Tobago&#x27;, &#x27;Tunisia&#x27;, &#x27;Turkey&#x27;,\n",
              "       &#x27;Turkmenistan&#x27;, &#x27;Tuvalu&#x27;, &#x27;Uganda&#x27;, &#x27;Ukraine&#x27;,\n",
              "       &#x27;United Arab Emirates&#x27;,\n",
              "       &#x27;United Kingdom of Great Britain and Northern Ireland&#x27;,\n",
              "       &#x27;United Republic of Tanzania&#x27;, &#x27;United States of America&#x27;,\n",
              "       &#x27;Uruguay&#x27;, &#x27;Uzbekistan&#x27;, &#x27;Vanuatu&#x27;,\n",
              "       &#x27;Venezuela (Bolivarian Republic of)&#x27;, &#x27;Viet Nam&#x27;, &#x27;Yemen&#x27;,\n",
              "       &#x27;Zambia&#x27;, &#x27;Zimbabwe&#x27;], dtype=object),\n",
              "                          array([&#x27;Developed&#x27;, &#x27;Developing&#x27;], dtype=object)])</pre></div></div></div></div></div></div><div class=\"sk-parallel-item\"><div class=\"sk-item\"><div class=\"sk-label-container\"><div class=\"sk-label sk-toggleable\"><input class=\"sk-toggleable__control sk-hidden--visually\" id=\"sk-estimator-id-6\" type=\"checkbox\" ><label for=\"sk-estimator-id-6\" class=\"sk-toggleable__label sk-toggleable__label-arrow\">remainder</label><div class=\"sk-toggleable__content\"><pre>[&#x27;Year&#x27;, &#x27;AdultMortality&#x27;, &#x27;infantdeaths&#x27;, &#x27;Alcohol&#x27;, &#x27;percentageexpenditure&#x27;, &#x27;HepatitisB&#x27;, &#x27;Measles&#x27;, &#x27;BMI&#x27;, &#x27;under-fivedeaths&#x27;, &#x27;Polio&#x27;, &#x27;Totalexpenditure&#x27;, &#x27;Diphtheria&#x27;, &#x27;HIV/AIDS&#x27;, &#x27;GDP&#x27;, &#x27;Population&#x27;, &#x27;thinness1-19years&#x27;, &#x27;thinness5-9years&#x27;, &#x27;Incomecompositionofresources&#x27;, &#x27;Schooling&#x27;]</pre></div></div></div><div class=\"sk-serial\"><div class=\"sk-item\"><div class=\"sk-estimator sk-toggleable\"><input class=\"sk-toggleable__control sk-hidden--visually\" id=\"sk-estimator-id-7\" type=\"checkbox\" ><label for=\"sk-estimator-id-7\" class=\"sk-toggleable__label sk-toggleable__label-arrow\">passthrough</label><div class=\"sk-toggleable__content\"><pre>passthrough</pre></div></div></div></div></div></div></div></div><div class=\"sk-item\"><div class=\"sk-estimator sk-toggleable\"><input class=\"sk-toggleable__control sk-hidden--visually\" id=\"sk-estimator-id-8\" type=\"checkbox\" ><label for=\"sk-estimator-id-8\" class=\"sk-toggleable__label sk-toggleable__label-arrow\">LinearRegression</label><div class=\"sk-toggleable__content\"><pre>LinearRegression()</pre></div></div></div></div></div></div></div>"
            ],
            "text/plain": [
              "Pipeline(steps=[('columntransformer',\n",
              "                 ColumnTransformer(remainder='passthrough',\n",
              "                                   transformers=[('onehotencoder',\n",
              "                                                  OneHotEncoder(categories=[array(['Afghanistan', 'Albania', 'Algeria', 'Angola',\n",
              "       'Antigua and Barbuda', 'Argentina', 'Armenia', 'Australia',\n",
              "       'Austria', 'Azerbaijan', 'Bahamas', 'Bahrain', 'Bangladesh',\n",
              "       'Barbados', 'Belarus', 'Belgium', 'Belize', 'Benin', 'Bhuta...\n",
              "       'United Arab Emirates',\n",
              "       'United Kingdom of Great Britain and Northern Ireland',\n",
              "       'United Republic of Tanzania', 'United States of America',\n",
              "       'Uruguay', 'Uzbekistan', 'Vanuatu',\n",
              "       'Venezuela (Bolivarian Republic of)', 'Viet Nam', 'Yemen',\n",
              "       'Zambia', 'Zimbabwe'], dtype=object),\n",
              "                                                                            array(['Developed', 'Developing'], dtype=object)]),\n",
              "                                                  ['Country', 'Status'])])),\n",
              "                ('linearregression', LinearRegression())])"
            ]
          },
          "execution_count": 69,
          "metadata": {},
          "output_type": "execute_result"
        }
      ],
      "source": [
        "pipe.fit(X_train,y_train)"
      ]
    },
    {
      "cell_type": "code",
      "execution_count": 70,
      "metadata": {
        "trusted": true
      },
      "outputs": [],
      "source": [
        "y_pred=pipe.predict(X_test)"
      ]
    },
    {
      "cell_type": "code",
      "execution_count": 71,
      "metadata": {
        "trusted": true
      },
      "outputs": [
        {
          "data": {
            "text/plain": [
              "0.5942075933145716"
            ]
          },
          "execution_count": 71,
          "metadata": {},
          "output_type": "execute_result"
        }
      ],
      "source": [
        "r2_score(y_test,y_pred)"
      ]
    },
    {
      "cell_type": "code",
      "execution_count": 72,
      "metadata": {
        "trusted": true
      },
      "outputs": [],
      "source": [
        "scores=[]\n",
        "for i in range(1000):\n",
        "    X_train, X_test, y_train, y_test=train_test_split(X,y,test_size=0.2, random_state=i)\n",
        "    lr=LinearRegression()\n",
        "    pipe=make_pipeline(column_trans,lr)\n",
        "    pipe.fit(X_train,y_train)\n",
        "    y_pred=pipe.predict(X_test)\n",
        "    scores.append(r2_score(y_test,y_pred))\n",
        "   "
      ]
    },
    {
      "cell_type": "code",
      "execution_count": 73,
      "metadata": {
        "trusted": true
      },
      "outputs": [
        {
          "data": {
            "text/plain": [
              "945"
            ]
          },
          "execution_count": 73,
          "metadata": {},
          "output_type": "execute_result"
        }
      ],
      "source": [
        "np.argmax(scores)"
      ]
    },
    {
      "cell_type": "code",
      "execution_count": 74,
      "metadata": {
        "trusted": true
      },
      "outputs": [
        {
          "data": {
            "text/plain": [
              "0.6685569151702632"
            ]
          },
          "execution_count": 74,
          "metadata": {},
          "output_type": "execute_result"
        }
      ],
      "source": [
        "scores[np.argmax(scores)]"
      ]
    },
    {
      "cell_type": "code",
      "execution_count": 75,
      "metadata": {
        "trusted": true
      },
      "outputs": [
        {
          "data": {
            "text/plain": [
              "0.6685569151702632"
            ]
          },
          "execution_count": 75,
          "metadata": {},
          "output_type": "execute_result"
        }
      ],
      "source": [
        "X_train, X_test, y_train, y_test=train_test_split(X,y,test_size=0.2, random_state=np.argmax(scores))\n",
        "lr=LinearRegression()\n",
        "pipe=make_pipeline(column_trans,lr)\n",
        "pipe.fit(X_train,y_train)\n",
        "y_pred=pipe.predict(X_test)\n",
        "r2_score(y_test,y_pred)"
      ]
    },
    {
      "cell_type": "code",
      "execution_count": 76,
      "metadata": {
        "trusted": true
      },
      "outputs": [],
      "source": [
        "import pickle"
      ]
    },
    {
      "cell_type": "code",
      "execution_count": 77,
      "metadata": {
        "trusted": true
      },
      "outputs": [],
      "source": [
        "pickle.dump(pipe,open('LinearRegressionModel.pkl','wb'))"
      ]
    },
    {
      "cell_type": "markdown",
      "metadata": {},
      "source": [
        "# Prediction"
      ]
    },
    {
      "cell_type": "code",
      "execution_count": 78,
      "metadata": {
        "trusted": true
      },
      "outputs": [
        {
          "data": {
            "text/plain": [
              "array([48.55879138])"
            ]
          },
          "execution_count": 78,
          "metadata": {},
          "output_type": "execute_result"
        }
      ],
      "source": [
        "pipe.predict(pd.DataFrame([['India',2022,'Developing',100,1000,3.4,56.6,80,9000,19.1,800,90,5.9,90,0.3,1500.1,1324517250,20.1,26.5,0.643,10.1]],columns=['Country','Year','Status','AdultMortality','infantdeaths','Alcohol','percentageexpenditure','HepatitisB','Measles','BMI','under-fivedeaths','Polio','Totalexpenditure','Diphtheria','HIV/AIDS','GDP','Population','thinness1-19years','thinness5-9years','Incomecompositionofresources','Schooling']))"
      ]
    },
    {
      "cell_type": "code",
      "execution_count": null,
      "metadata": {
        "trusted": true
      },
      "outputs": [],
      "source": []
    },
    {
      "cell_type": "code",
      "execution_count": null,
      "metadata": {
        "trusted": true
      },
      "outputs": [],
      "source": []
    },
    {
      "cell_type": "code",
      "execution_count": null,
      "metadata": {
        "trusted": true
      },
      "outputs": [],
      "source": []
    },
    {
      "cell_type": "code",
      "execution_count": null,
      "metadata": {},
      "outputs": [],
      "source": []
    }
  ],
  "metadata": {
    "kernelspec": {
      "display_name": "Python 3.10.6 64-bit",
      "language": "python",
      "name": "python3"
    },
    "language_info": {
      "codemirror_mode": {
        "name": "ipython",
        "version": 3
      },
      "file_extension": ".py",
      "mimetype": "text/x-python",
      "name": "python",
      "nbconvert_exporter": "python",
      "pygments_lexer": "ipython3",
      "version": "3.10.6"
    },
    "vscode": {
      "interpreter": {
        "hash": "aee8b7b246df8f9039afb4144a1f6fd8d2ca17a180786b69acc140d282b71a49"
      }
    }
  },
  "nbformat": 4,
  "nbformat_minor": 4
}
